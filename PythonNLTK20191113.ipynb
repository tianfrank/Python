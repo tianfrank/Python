{
 "cells": [
  {
   "cell_type": "markdown",
   "metadata": {},
   "source": [
    "# Python笔记"
   ]
  },
  {
   "cell_type": "markdown",
   "metadata": {},
   "source": [
    "## Python文字处理"
   ]
  },
  {
   "cell_type": "markdown",
   "metadata": {},
   "source": [
    "用程序来处理办公文档。Python的标准库中虽然没有直接支持这些操作的模块，但我们可以通过Python的第三方模块来完成这些操作  \n",
    "\n",
    "利用Python-docx模块，Python可以创建和修改Word文档(这里的Word文档不仅仅是Microsoft Office Word，也包括其他字处理软件如LibreOffice Writer，OpenOffice Writer文档)  "
   ]
  },
  {
   "cell_type": "markdown",
   "metadata": {},
   "source": [
    "**安装python-docx库**"
   ]
  },
  {
   "cell_type": "markdown",
   "metadata": {},
   "source": [
    "1. cmd进入命令行模式\n",
    "2. 输入where pip，定位到pip.exe所在位置\n",
    "3. 进入pip.exe所在路径（cd ...）\n",
    "4. 输入pip install python-docx，完成安装"
   ]
  },
  {
   "cell_type": "markdown",
   "metadata": {},
   "source": [
    "* 也可以使用easy_install来安装，如下：easy_install python-docx"
   ]
  },
  {
   "cell_type": "markdown",
   "metadata": {},
   "source": [
    "* 在jupyter Notebook中安装"
   ]
  },
  {
   "cell_type": "code",
   "execution_count": 1,
   "metadata": {},
   "outputs": [
    {
     "name": "stdout",
     "output_type": "stream",
     "text": [
      "Collecting python-docx\n",
      "  Using cached https://files.pythonhosted.org/packages/e4/83/c66a1934ed5ed8ab1dbb9931f1779079f8bca0f6bbc5793c06c4b5e7d671/python-docx-0.8.10.tar.gz\n",
      "Requirement already satisfied: lxml>=2.3.2 in c:\\programdata\\anaconda3\\lib\\site-packages (from python-docx) (4.3.2)\n",
      "Building wheels for collected packages: python-docx\n",
      "  Building wheel for python-docx (setup.py): started\n",
      "  Building wheel for python-docx (setup.py): finished with status 'done'\n",
      "  Stored in directory: C:\\Users\\Kun\\AppData\\Local\\pip\\Cache\\wheels\\18\\0b\\a0\\1dd62ff812c857c9e487f27d80d53d2b40531bec1acecfa47b\n",
      "Successfully built python-docx\n",
      "Installing collected packages: python-docx\n",
      "Successfully installed python-docx-0.8.10\n"
     ]
    }
   ],
   "source": [
    "!pip install python-docx"
   ]
  },
  {
   "cell_type": "markdown",
   "metadata": {},
   "source": [
    "**导入docx模块，或者从docx模块中导入Document类**"
   ]
  },
  {
   "cell_type": "code",
   "execution_count": 4,
   "metadata": {},
   "outputs": [],
   "source": [
    "import docx\n",
    "from docx import Document"
   ]
  },
  {
   "cell_type": "markdown",
   "metadata": {},
   "source": [
    "对象的属性和方法"
   ]
  },
  {
   "cell_type": "raw",
   "metadata": {},
   "source": [
    "import turtle\n",
    "turtle.color(\"purple\")\n",
    "turtle.pensize(5)\n",
    "turtle.goto(0,0)\n",
    "turtle.speed(10)\n",
    "for i in range(50):\n",
    " turtle.forward(300)\n",
    " #turtle.right(140)\n",
    " turtle.right(136)"
   ]
  },
  {
   "cell_type": "markdown",
   "metadata": {},
   "source": [
    "画红心"
   ]
  },
  {
   "cell_type": "markdown",
   "metadata": {},
   "source": [
    "from turtle import *\n",
    "def curvemove():\n",
    "    for i in range(200):\n",
    "        right(1)\n",
    "        forward(1)\n",
    "color('red','pink')        \n",
    "begin_fill()\n",
    "left(140)\n",
    "forward(111.65)\n",
    "curvemove()\n",
    "left(120)\n",
    "curvemove()\n",
    "forward(111.65)\n",
    "end_fill()\n",
    "done()"
   ]
  },
  {
   "cell_type": "markdown",
   "metadata": {},
   "source": [
    "**创建或打开一个word文档**  "
   ]
  },
  {
   "cell_type": "raw",
   "metadata": {},
   "source": [
    "myDocument = Document() #创建一个word文档\n",
    "myDocument = Document(\"C:\\...\") #打开一个word文档"
   ]
  },
  {
   "cell_type": "markdown",
   "metadata": {},
   "source": [
    "**保存一个文档**"
   ]
  },
  {
   "cell_type": "raw",
   "metadata": {},
   "source": [
    "myDocument.save('E:\\wenji\\my1stDoc.docx')"
   ]
  },
  {
   "cell_type": "markdown",
   "metadata": {},
   "source": [
    "**在文档中插入内容**"
   ]
  },
  {
   "cell_type": "markdown",
   "metadata": {},
   "source": [
    "* 添加标题、段落"
   ]
  },
  {
   "cell_type": "raw",
   "metadata": {},
   "source": [
    "from docx import Document\n",
    "\n",
    "myDocument = Document()\n",
    "\n",
    "myDocument.add_heading(\"文科计算机基础\", level = 0)\n",
    "\n",
    "myDocument.add_heading(\"Python文字处理\", level = 1)\n",
    "myDocument.add_paragraph(\"利用Python-docx模块，Python可以创建和修改Word文档\")\n",
    "myDocument.add_paragraph(\"安装Python-docx模块\", style=\"ListNumber\")\n",
    "myDocument.add_paragraph(\"导入Python-docx模块\", style=\"ListNumber\")\n",
    "myDocument.add_paragraph(\"创建word文档\", style=\"ListNumber\")\n",
    "\n",
    "myDocument.save(\"C:\\myDocbyPython.docx\")"
   ]
  },
  {
   "cell_type": "markdown",
   "metadata": {},
   "source": [
    "* 设置文本属性（如大小、加粗、下划、居中等）"
   ]
  },
  {
   "cell_type": "markdown",
   "metadata": {},
   "source": [
    "word主要有两种文本格式等级：块等级(block-level)和内联等级(inline-level)  \n",
    "word中大部分内容都是由这两种等级的对象组成的  \n",
    "段落是word文件中主要的块对象，图片、表、标题、列表也是块对象  \n",
    "内联对象是块对象的组成部分"
   ]
  },
  {
   "cell_type": "markdown",
   "metadata": {},
   "source": [
    "可以在创建对象的同时定义样式，也可以在对象创建好之后再去应用样式"
   ]
  },
  {
   "cell_type": "code",
   "execution_count": 3,
   "metadata": {},
   "outputs": [
    {
     "ename": "SyntaxError",
     "evalue": "EOL while scanning string literal (<ipython-input-3-e53aa9208f79>, line 11)",
     "output_type": "error",
     "traceback": [
      "\u001b[1;36m  File \u001b[1;32m\"<ipython-input-3-e53aa9208f79>\"\u001b[1;36m, line \u001b[1;32m11\u001b[0m\n\u001b[1;33m    doc.save(style.docx')  #保存文档\u001b[0m\n\u001b[1;37m                                ^\u001b[0m\n\u001b[1;31mSyntaxError\u001b[0m\u001b[1;31m:\u001b[0m EOL while scanning string literal\n"
     ]
    }
   ],
   "source": [
    "import docx\n",
    "\n",
    "doc = docx.Document()#建立一个document对象\n",
    "\n",
    "para = doc.add_paragraph('Normal text, ')\n",
    "para.add_run('text with emphasis.', 'Emphasis') #创建对象同时定义样式\n",
    "\n",
    "run = para.add_run('text with emphasis 2.') #创建run对象\n",
    "run.style = 'Emphasis' #对run对象应用样式\n",
    "\n",
    "doc.save('style.docx')  #保存文档"
   ]
  },
  {
   "cell_type": "markdown",
   "metadata": {},
   "source": [
    "* 设置段落样式"
   ]
  },
  {
   "cell_type": "markdown",
   "metadata": {},
   "source": [
    "设置段落对齐方式： 左对齐 、 文字居中 、 右对齐 、 文本两端对齐等"
   ]
  },
  {
   "cell_type": "code",
   "execution_count": null,
   "metadata": {},
   "outputs": [],
   "source": []
  },
  {
   "cell_type": "markdown",
   "metadata": {},
   "source": [
    "设置段落缩进"
   ]
  },
  {
   "cell_type": "markdown",
   "metadata": {},
   "source": [
    "设置段落行距"
   ]
  },
  {
   "cell_type": "markdown",
   "metadata": {},
   "source": [
    "设置段落间距"
   ]
  },
  {
   "cell_type": "code",
   "execution_count": null,
   "metadata": {},
   "outputs": [],
   "source": []
  },
  {
   "cell_type": "markdown",
   "metadata": {},
   "source": [
    "* 插入图片"
   ]
  },
  {
   "cell_type": "raw",
   "metadata": {},
   "source": [
    "myDocument.add_picture('demo.png') "
   ]
  },
  {
   "cell_type": "markdown",
   "metadata": {},
   "source": [
    "调整图片大小"
   ]
  },
  {
   "cell_type": "raw",
   "metadata": {},
   "source": [
    "from docx.shared import Inches\n",
    "myDocument.add_picture('demo.png', width=Inches(1.0), height=Inches(1.0) "
   ]
  },
  {
   "cell_type": "markdown",
   "metadata": {},
   "source": [
    "若同时定义宽度和高度，则图片会被拉伸或压缩到指定大小；若仅定义宽度或高度，则图会自适应调整大小"
   ]
  },
  {
   "cell_type": "markdown",
   "metadata": {},
   "source": [
    "**创建与合并表格**"
   ]
  },
  {
   "cell_type": "raw",
   "metadata": {},
   "source": [
    "table = myDocument.add_table(rows = 37, cols = 13, style = \"Table Grid\")"
   ]
  },
  {
   "cell_type": "markdown",
   "metadata": {},
   "source": [
    "上述代码就在word里插入了一个37行、13列的表格。（有37*13=481个cell）  \n",
    "\n",
    "生成的每个cell都是有“坐标”的，比如上面的表格左上角cell为（0，0），右下角cell为（36，12）  \n",
    "\n",
    "通过合并一些cell，从而达到我们最终需要的表格"
   ]
  },
  {
   "cell_type": "code",
   "execution_count": 3,
   "metadata": {},
   "outputs": [
    {
     "name": "stdout",
     "output_type": "stream",
     "text": [
      "4\n",
      "3\n"
     ]
    }
   ],
   "source": [
    "import docx\n",
    "\n",
    "doc = docx.Document()#建立一个document对象\n",
    "\n",
    "records = (('Alice', 'Chinese', 87), ('Tim', 'EECS', 90),  ('Jack', 'SFL', 85))\n",
    "\n",
    "table = doc.add_table(rows=1, cols=3)\n",
    "rcells = table.rows[0].cells\n",
    "rcells[0].text = 'Name'\n",
    "rcells[1].text = 'Department'\n",
    "rcells[2].text = 'Score'\n",
    "\n",
    "for n, d, s in records:\n",
    "  rcells = table.add_row().cells\n",
    "  rcells[0].text = n\n",
    "  rcells[1].text = d\n",
    "  rcells[2].text = str(s)\n",
    "\n",
    "print(len(table.rows))\n",
    "print(len(table.columns))\n",
    "\n",
    "doc.save('helloworld.docx')  #保存文档"
   ]
  },
  {
   "cell_type": "code",
   "execution_count": 10,
   "metadata": {},
   "outputs": [
    {
     "ename": "NameError",
     "evalue": "name 'table' is not defined",
     "output_type": "error",
     "traceback": [
      "\u001b[1;31m---------------------------------------------------------------------------\u001b[0m",
      "\u001b[1;31mNameError\u001b[0m                                 Traceback (most recent call last)",
      "\u001b[1;32m<ipython-input-10-61d6384f1fc4>\u001b[0m in \u001b[0;36m<module>\u001b[1;34m\u001b[0m\n\u001b[0;32m      1\u001b[0m \u001b[1;33m\u001b[0m\u001b[0m\n\u001b[1;32m----> 2\u001b[1;33m \u001b[0mtable\u001b[0m\u001b[1;33m.\u001b[0m\u001b[0mcell\u001b[0m\u001b[1;33m(\u001b[0m\u001b[1;36m0\u001b[0m\u001b[1;33m,\u001b[0m\u001b[1;36m0\u001b[0m\u001b[1;33m)\u001b[0m\u001b[1;33m.\u001b[0m\u001b[0mmerge\u001b[0m\u001b[1;33m(\u001b[0m\u001b[0mtable\u001b[0m\u001b[1;33m.\u001b[0m\u001b[0mcell\u001b[0m\u001b[1;33m(\u001b[0m\u001b[1;36m2\u001b[0m\u001b[1;33m,\u001b[0m\u001b[1;36m2\u001b[0m\u001b[1;33m)\u001b[0m\u001b[1;33m)\u001b[0m\u001b[1;33m\u001b[0m\u001b[1;33m\u001b[0m\u001b[0m\n\u001b[0m\u001b[0;32m      3\u001b[0m \u001b[1;31m#将cell(0,0)到cell(2,2)之间的所有cell合并成一个cell\u001b[0m\u001b[1;33m\u001b[0m\u001b[1;33m\u001b[0m\u001b[1;33m\u001b[0m\u001b[0m\n\u001b[0;32m      4\u001b[0m \u001b[1;33m\u001b[0m\u001b[0m\n\u001b[0;32m      5\u001b[0m \u001b[0m向cell中添加文本\u001b[0m\u001b[1;33m\u001b[0m\u001b[1;33m\u001b[0m\u001b[0m\n",
      "\u001b[1;31mNameError\u001b[0m: name 'table' is not defined"
     ]
    }
   ],
   "source": [
    "\n",
    "table.cell(0,0).merge(table.cell(2,2)) \n",
    "#将cell(0,0)到cell(2,2)之间的所有cell合并成一个cell\n",
    "\n",
    "向cell中添加文本\n",
    "\n",
    "row0 = table.rows[0].cells\n",
    "row0[0].add_paragraph(\"姓名\")"
   ]
  },
  {
   "cell_type": "markdown",
   "metadata": {},
   "source": [
    "表格内容的遍历"
   ]
  },
  {
   "cell_type": "raw",
   "metadata": {},
   "source": [
    "for row in table.rows:\n",
    "    for cell in row.cells:\n",
    "        print(cell.text)"
   ]
  },
  {
   "cell_type": "markdown",
   "metadata": {},
   "source": [
    "### 添加run"
   ]
  },
  {
   "cell_type": "markdown",
   "metadata": {},
   "source": [
    "示例：如何批量生成邀请函"
   ]
  },
  {
   "cell_type": "code",
   "execution_count": 6,
   "metadata": {},
   "outputs": [],
   "source": [
    "import docx\n",
    "from docx.shared import Pt\n",
    "from docx.shared import RGBColor, Pt\n",
    "from docx.enum.text import WD_ALIGN_PARAGRAPH\n",
    "\n",
    "doc = docx.Document()\n",
    "\n",
    "name = [\"Harry Porter\", \"Lord Voldemort\", \"Sauron\", \"Frodo Baggins\"]\n",
    "\n",
    "for i in name:\n",
    "  p1 = doc.add_paragraph()\n",
    "  r1 = p1.add_run(\"It would be a pleasure to have the company of\")\n",
    "  r1.font.size = Pt(30)\n",
    "  \n",
    "  p2 = doc.add_paragraph()\n",
    "  p2.paragraph_format.alignment = WD_ALIGN_PARAGRAPH.CENTER\n",
    "  p2.add_run(i).font.size=Pt(20)\n",
    "\n",
    "  r3 = doc.add_paragraph().add_run(\"at 11010 Memory Lane on the Evening of\")\n",
    "  r3.font.size = Pt(20)\n",
    "  r3.font.color.rgb = RGBColor(54, 95, 145)\n",
    "  \n",
    "  doc.add_paragraph().add_run(\"April 1st\", \"Emphasis\").font.size = Pt(20)\n",
    "\n",
    "  doc.add_page_break()\n",
    "\n",
    "doc.save('hello.docx') "
   ]
  },
  {
   "cell_type": "markdown",
   "metadata": {},
   "source": [
    "**批处理所有文件**\n",
    "\n",
    "\n",
    "\n",
    "## Python电子表格处理"
   ]
  },
  {
   "cell_type": "markdown",
   "metadata": {},
   "source": [
    "Python的openpyxl模块让我们可以在Python程序中读取和修改Excel电子表格  \n",
    "\n",
    "关于openpyxl的使用手册和使用文档可以查看它的官方文档"
   ]
  },
  {
   "cell_type": "code",
   "execution_count": null,
   "metadata": {},
   "outputs": [],
   "source": []
  },
  {
   "cell_type": "markdown",
   "metadata": {},
   "source": [
    "## 绘图和可视化"
   ]
  },
  {
   "cell_type": "code",
   "execution_count": null,
   "metadata": {},
   "outputs": [],
   "source": []
  },
  {
   "cell_type": "markdown",
   "metadata": {},
   "source": [
    "## 计算机网络基础及网络编程入门"
   ]
  },
  {
   "cell_type": "markdown",
   "metadata": {},
   "source": [
    "计算机网络是独立自主的计算机互联而成的系统的总称，组建计算机网络最主要的目的是实现多台计算机之间的通信和资源共享"
   ]
  },
  {
   "cell_type": "markdown",
   "metadata": {},
   "source": [
    "Andrew S.Tanenbaum《计算机网络》  \n",
    "Kurose和Ross《计算机网络:自顶向下方法》"
   ]
  },
  {
   "cell_type": "markdown",
   "metadata": {},
   "source": [
    "**TCP/IP模型**"
   ]
  },
  {
   "cell_type": "markdown",
   "metadata": {},
   "source": [
    "## 作业题"
   ]
  },
  {
   "cell_type": "code",
   "execution_count": 11,
   "metadata": {},
   "outputs": [
    {
     "name": "stdout",
     "output_type": "stream",
     "text": [
      "-999814891\n",
      "814022\n",
      "8800\n",
      "101\n",
      "2000\n"
     ]
    }
   ],
   "source": [
    "voc = {'zero':0, 'one':1, 'two':2, 'three':3, 'four': 4, 'five': 5, 'six': 6, 'seven': 7, 'eight': 8, 'nine':9, 'ten':10, 'eleven':11, 'twelve':12, 'thirteen':13, 'fourteen':14, 'fifteen':15, 'sixteen':16, 'seventeen':17, 'eighteen':18, 'nineteen':19, 'twenty':20, 'thirty':30,'forty':40, 'fifty':50, 'sixty':60, 'seventy':70, 'eighty':80, 'ninety':90}\n",
    "\n",
    "def cal(numberStr):\n",
    "\n",
    "    neg = 1\n",
    "    sum = 0\n",
    "    hudSum = 0\n",
    "    \n",
    "    if \"negative\" in numberStr:\n",
    "        numberStr = numberStr[9:]\n",
    "        neg = -1\n",
    "    \n",
    "    if \"million\" in numberStr:\n",
    "        numberSplit = numberStr.split(\"million\")\n",
    "        sum += cal(numberSplit[0]) * 1000000\n",
    "        numberStr = numberSplit[1]\n",
    "        \n",
    "    if \"thousand\" in numberStr:\n",
    "        numberSplit = numberStr.split(\"thousand\")\n",
    "        sum += cal(numberSplit[0]) * 1000\n",
    "        numberStr = numberSplit[1]\n",
    "\n",
    "    numberList = numberStr.split()         \n",
    "    for i in numberList:\n",
    "        if i == \"hundred\":\n",
    "            hudSum *= 100\n",
    "        else:\n",
    "            hudSum += voc[i]\n",
    "\n",
    "    return neg * (sum + hudSum)\n",
    "        \n",
    "number1 = \"negative nine hundred ninety nine million eight hundred fourteen thousand eight hundred ninety one\"\n",
    "number2 = \"eight hundred fourteen thousand twenty two\"\n",
    "number3 = \"eight thousand eight hundred\"\n",
    "number4 = \"one hundred one\"\n",
    "number5 = \"two thousand\"\n",
    "print(cal(number1))\n",
    "print(cal(number2))\n",
    "print(cal(number3))\n",
    "print(cal(number4))\n",
    "print(cal(number5))"
   ]
  },
  {
   "cell_type": "code",
   "execution_count": 8,
   "metadata": {},
   "outputs": [
    {
     "name": "stdout",
     "output_type": "stream",
     "text": [
      "-999814891\n",
      "814022\n",
      "8800\n",
      "101\n",
      "2000\n"
     ]
    }
   ],
   "source": [
    "voc = {'zero':0, 'one':1, 'two':2, 'three':3, 'four': 4, 'five': 5, 'six': 6, 'seven': 7, 'eight': 8, 'nine':9, 'ten':10, 'eleven':11, 'twelve':12, 'thirteen':13, 'fourteen':14, 'fifteen':15, 'sixteen':16, 'seventeen':17, 'eighteen':18, 'nineteen':19, 'twenty':20, 'thirty':30,'forty':40, 'fifty':50, 'sixty':60, 'seventy':70, 'eighty':80, 'ninety':90}\n",
    "\n",
    "def cal(numberStr):\n",
    "\n",
    "    neg = 1\n",
    "    sum = 0\n",
    "    \n",
    "    if \"negative\" in numberStr:\n",
    "        numberStr = numberStr[9:]\n",
    "        neg = -1\n",
    "    \n",
    "    if \"million\" in numberStr:\n",
    "        numberSplit = numberStr.split(\"million\")\n",
    "        sum = cal(numberSplit[0]) * 1000000 + cal(numberSplit[1])\n",
    "        return neg * sum\n",
    "        \n",
    "    if \"thousand\" in numberStr:\n",
    "        numberSplit = numberStr.split(\"thousand\")\n",
    "        sum = cal(numberSplit[0]) * 1000 + cal(numberSplit[1])\n",
    "        return neg * sum\n",
    "\n",
    "    numberList = numberStr.split()         \n",
    "    for i in numberList:\n",
    "        if i == \"hundred\":\n",
    "            sum *= 100\n",
    "        else:\n",
    "            sum += voc[i]\n",
    "\n",
    "    return neg * sum\n",
    "        \n",
    "number1 = \"negative nine hundred ninety nine million eight hundred fourteen thousand eight hundred ninety one\"\n",
    "number2 = \"eight hundred fourteen thousand twenty two\"\n",
    "number3 = \"eight thousand eight hundred\"\n",
    "number4 = \"one hundred one\"\n",
    "number5 = \"two thousand\"\n",
    "print(cal(number1))\n",
    "print(cal(number2))\n",
    "print(cal(number3))\n",
    "print(cal(number4))\n",
    "print(cal(number5))"
   ]
  },
  {
   "cell_type": "code",
   "execution_count": 13,
   "metadata": {},
   "outputs": [
    {
     "name": "stdout",
     "output_type": "stream",
     "text": [
      "-999814891\n",
      "814022\n",
      "8800\n",
      "101\n",
      "2000\n"
     ]
    }
   ],
   "source": [
    "voc = {'zero':0, 'one':1, 'two':2, 'three':3, 'four': 4, 'five': 5, 'six': 6, 'seven': 7, 'eight': 8, 'nine':9, 'ten':10, 'eleven':11, 'twelve':12, 'thirteen':13, 'fourteen':14, 'fifteen':15, 'sixteen':16, 'seventeen':17, 'eighteen':18, 'nineteen':19, 'twenty':20, 'thirty':30,'forty':40, 'fifty':50, 'sixty':60, 'seventy':70, 'eighty':80, 'ninety':90}\n",
    "\n",
    "def cal(numberStr):\n",
    "\n",
    "    sum = 0\n",
    "    neg = 1\n",
    "    cur = 0\n",
    "    \n",
    "    numberList = numberStr.split()         \n",
    "    for i in numberList:\n",
    "        if i == \"negative\":\n",
    "            neg = -1\n",
    "        elif i == \"million\":\n",
    "            sum += cur * 1000000\n",
    "            cur = 0\n",
    "        elif i == \"thousand\":\n",
    "            sum += cur *1000\n",
    "            cur = 0 \n",
    "        elif i == \"hundred\":\n",
    "            cur *= 100\n",
    "        else:\n",
    "            cur += voc[i]\n",
    "\n",
    "    return neg * (sum + cur)\n",
    "        \n",
    "number1 = \"negative nine hundred ninety nine million eight hundred fourteen thousand eight hundred ninety one\"\n",
    "number2 = \"eight hundred fourteen thousand twenty two\"\n",
    "number3 = \"eight thousand eight hundred\"\n",
    "number4 = \"one hundred one\"\n",
    "number5 = \"two thousand\"\n",
    "print(cal(number1))\n",
    "print(cal(number2))\n",
    "print(cal(number3))\n",
    "print(cal(number4))\n",
    "print(cal(number5))"
   ]
  },
  {
   "cell_type": "code",
   "execution_count": 21,
   "metadata": {},
   "outputs": [
    {
     "data": {
      "text/plain": [
       "'C:\\\\ProgramData\\\\Anaconda3\\\\python.exe'"
      ]
     },
     "execution_count": 21,
     "metadata": {},
     "output_type": "execute_result"
    }
   ],
   "source": [
    "import sys\n",
    "sys.executable"
   ]
  },
  {
   "cell_type": "code",
   "execution_count": null,
   "metadata": {},
   "outputs": [],
   "source": []
  }
 ],
 "metadata": {
  "kernelspec": {
   "display_name": "Python 3",
   "language": "python",
   "name": "python3"
  },
  "language_info": {
   "codemirror_mode": {
    "name": "ipython",
    "version": 3
   },
   "file_extension": ".py",
   "mimetype": "text/x-python",
   "name": "python",
   "nbconvert_exporter": "python",
   "pygments_lexer": "ipython3",
   "version": "3.7.3"
  }
 },
 "nbformat": 4,
 "nbformat_minor": 2
}
