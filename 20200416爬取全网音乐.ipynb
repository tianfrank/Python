{
 "cells": [
  {
   "cell_type": "code",
   "execution_count": 28,
   "metadata": {},
   "outputs": [
    {
     "name": "stderr",
     "output_type": "stream",
     "text": [
      "IOPub data rate exceeded.\n",
      "The notebook server will temporarily stop sending output\n",
      "to the client in order to avoid crashing it.\n",
      "To change this limit, set the config variable\n",
      "`--NotebookApp.iopub_data_rate_limit`.\n",
      "\n",
      "Current values:\n",
      "NotebookApp.iopub_data_rate_limit=1000000.0 (bytes/sec)\n",
      "NotebookApp.rate_limit_window=3.0 (secs)\n",
      "\n"
     ]
    }
   ],
   "source": [
    "import requests\n",
    "from lxml import etree\n",
    "import time\n",
    "import json\n",
    "import os\n",
    "\n",
    "#获取url\n",
    "url = 'http://music.taihe.com/top'\n",
    "#result = requests.get(url).content.decode()\n",
    "base_url = 'http://music.taihe.com'\n",
    "song_base_url = 'http://musicapi.taihe.com/v1/restserver/ting?method=baidu.ting.song.playAAC&songid='\n",
    "#print(result)\n",
    "\n",
    "#请求\n",
    "\n",
    "result = requests.get(url).content.decode()\n",
    "\n",
    "#3删选数据（xpath,正则）\n",
    "dom = etree.HTML(result)\n",
    "song_ids = dom.xpath('//dd/a[@href]/@href')[:-2]\n",
    "song_names = dom.xpath('//dd/a[@href]/text()')[:-2]\n",
    "#print(song_ids)\n",
    "#print(song_names)\n",
    "\n",
    "for song_id,song_name in zip(song_ids,song_names):\n",
    "    \n",
    "    sub_url = base_url + song_id\n",
    "    #print(sub_url)\n",
    "    \n",
    "    sub_text=requests.get(sub_url).content.decode()\n",
    "    time.sleep(0.01)\n",
    "    \n",
    "    sub_dom=etree.HTML(sub_text)\n",
    "    sub_song_ids=sub_dom.xpath('//a[contains(@href,\"/song/\")]/@href')[1:]\n",
    "    sub_song_names=sub_dom.xpath('//a[contains(@href,\"/song/\")]/text()')[1:]\n",
    "#     print(sub_song_ids)\n",
    "#     print(sub_song_names)\n",
    "    \n",
    "    for sub_song_id,sub_song_name in zip(sub_song_ids,sub_song_names):\n",
    "        if '/' in sub_song_name:\n",
    "                sub_song_name = sub_song_name.replace('/','')\n",
    "        \n",
    "        sub_song_url=requests.get(song_base_url + '%s'%sub_song_id.split('/')[-1]).text\n",
    "            \n",
    "#         print(sub_song_url)\n",
    "        \n",
    "        dict_url=json.loads(sub_song_url)\n",
    "        result=dict_url['bitrate']['show_link']\n",
    "        song=requests.get(result).content\n",
    "        print(song)\n",
    "        \n",
    "        file_path = f'./Music/{song_name}'\n",
    "        if not os.path.exists(file_path):\n",
    "            os.makedirs(file_path)  #创建文件夹\n",
    "        \n",
    "        with open(f'{file_path}/%s.mp3'%sub_song_name,'wb') as file:\n",
    "            file.write(song)\n",
    "    \n",
    "    "
   ]
  },
  {
   "cell_type": "code",
   "execution_count": null,
   "metadata": {},
   "outputs": [],
   "source": [
    "# 技巧：1安装xpath\n",
    " #创建文件\n",
    "#"
   ]
  }
 ],
 "metadata": {
  "kernelspec": {
   "display_name": "Python 3",
   "language": "python",
   "name": "python3"
  },
  "language_info": {
   "codemirror_mode": {
    "name": "ipython",
    "version": 3
   },
   "file_extension": ".py",
   "mimetype": "text/x-python",
   "name": "python",
   "nbconvert_exporter": "python",
   "pygments_lexer": "ipython3",
   "version": "3.7.3"
  }
 },
 "nbformat": 4,
 "nbformat_minor": 2
}
