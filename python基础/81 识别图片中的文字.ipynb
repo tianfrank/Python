{
 "cells": [
  {
   "cell_type": "code",
   "execution_count": null,
   "metadata": {},
   "outputs": [],
   "source": [
    "from aip import AipOcr\n",
    "\n",
    "#这是我自己申请的一个百度api，识别图片的文字\n",
    "APP_ID = '18782573'\n",
    "API_KEY = ' 6nYTHKqaLHdnl7GxOTm9sFDl'\n",
    "SECRET_KEY = 'AXNuBRkBhmhZzlxX3Sv8IAdzhlb9RpL1'\n",
    "\n",
    "client = AipOcr(APP_ID, API_KEY, SECRET_KEY)\n",
    "\n",
    "#定义读取图片函数\n",
    "def get_file_content(filepath):\n",
    "    with open(filepath,'rb') as fp:\n",
    "        return fp.read()\n",
    "\n",
    "import os\n",
    "path = r'D:\\NLP\\爬虫\\results'\n",
    "folders = os.listdir((path))\n",
    "for folder in folders:\n",
    "    files_path = path + '\\\\' + folder\n",
    "    write_dir = r'D:\\NLP\\爬虫\\char_results'+'\\\\'+folder\n",
    "    if not os.path.exists(write_dir):\n",
    "        os.makedirs(write_dir)\n",
    "    files = os.listdir(files_path) #文件名称列表\n",
    "    for f in files:\n",
    "        read_path = files_path + '\\\\'+f\n",
    "        write_path = write_dir +'\\\\' + f\n",
    "\n",
    "list = []\n",
    "image = get_file_content(read_path)\n",
    "for i in list:\n",
    "    image.append(i)\n",
    "    \n",
    "#image = get_file_content('./results/图.jpg')\n",
    "content = client.basicAccurate(image)\n",
    "print(content)\n",
    "\n",
    "if isinstance(content,dict):\n",
    "    words = content['words_result']\n",
    "print(\"处理后：\"+str(words))\n",
    "#print(words)"
   ]
  }
 ],
 "metadata": {
  "kernelspec": {
   "display_name": "Python 3",
   "language": "python",
   "name": "python3"
  },
  "language_info": {
   "codemirror_mode": {
    "name": "ipython",
    "version": 3
   },
   "file_extension": ".py",
   "mimetype": "text/x-python",
   "name": "python",
   "nbconvert_exporter": "python",
   "pygments_lexer": "ipython3",
   "version": "3.7.3"
  }
 },
 "nbformat": 4,
 "nbformat_minor": 2
}
