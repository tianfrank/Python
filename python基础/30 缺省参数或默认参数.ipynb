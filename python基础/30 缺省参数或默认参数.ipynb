{
 "cells": [
  {
   "cell_type": "code",
   "execution_count": 2,
   "metadata": {},
   "outputs": [
    {
     "name": "stdout",
     "output_type": "stream",
     "text": [
      "5\n"
     ]
    }
   ],
   "source": [
    "#缺省参数：在函数定义的时候参数就有值（默认值）\n",
    "#那么这种参数就叫做缺省参数\n",
    "#如果不给缺省参数的参数传值，那么使用默认值\n",
    "#如果穿值，使用新传的值做计算\n",
    "#num1必选参数\n",
    "#提示一下：如果有必选参数和缺省参数，那么缺省参数必选放到必选参数的后面\n",
    "#关键字参数调用必须放在最后面\n",
    "\n",
    "def sum_num(num1, num2=1):  #num1为必传参数，num2=1为默认参数或缺省参数\n",
    "    result = num1+num2 \n",
    "    return result\n",
    "value = sum_num(3,2) #3传递给了必传参数num1,2传递给了默认参数num2\n",
    "print(value)"
   ]
  },
  {
   "cell_type": "code",
   "execution_count": 3,
   "metadata": {},
   "outputs": [
    {
     "name": "stdout",
     "output_type": "stream",
     "text": [
      "4\n"
     ]
    }
   ],
   "source": [
    "def sum_num(num1, num2=1):  #num1为必传参数，num2=1为默认参数或缺省参数\n",
    "    result = num1+num2\n",
    "    return result\n",
    "value = sum_num(3) #3传给了必传参数num2，num2默认为1\n",
    "print(value)"
   ]
  },
  {
   "cell_type": "code",
   "execution_count": null,
   "metadata": {},
   "outputs": [],
   "source": []
  }
 ],
 "metadata": {
  "kernelspec": {
   "display_name": "Python 3",
   "language": "python",
   "name": "python3"
  },
  "language_info": {
   "codemirror_mode": {
    "name": "ipython",
    "version": 3
   },
   "file_extension": ".py",
   "mimetype": "text/x-python",
   "name": "python",
   "nbconvert_exporter": "python",
   "pygments_lexer": "ipython3",
   "version": "3.7.3"
  }
 },
 "nbformat": 4,
 "nbformat_minor": 2
}
