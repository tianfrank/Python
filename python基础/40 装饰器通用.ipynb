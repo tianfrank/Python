{
 "cells": [
  {
   "cell_type": "code",
   "execution_count": 3,
   "metadata": {},
   "outputs": [
    {
     "name": "stdout",
     "output_type": "stream",
     "text": [
      "_______\n",
      "待到山花烂漫时\n"
     ]
    }
   ],
   "source": [
    "#装饰器函数(new_func,你给谁增加功能new_func就是谁)\n",
    "def decorator(new_func):\n",
    "    #给原来函数增加功能的函数\n",
    "    def inner():\n",
    "        print(\"_______\")\n",
    "        #调这里才是真正调用display\n",
    "        new_func()\n",
    "    #注意返回函数要是函数的名字，如果加括号等于调用函数\n",
    "    return inner\n",
    "#相当于修饰了show函数\n",
    "@decorator#语法糖show = decorator(show)\n",
    "def display():\n",
    "    print(\"待到山花烂漫时\")\n",
    "\n",
    "#调用inner函数\n",
    "display()\n"
   ]
  },
  {
   "cell_type": "code",
   "execution_count": null,
   "metadata": {},
   "outputs": [],
   "source": []
  }
 ],
 "metadata": {
  "kernelspec": {
   "display_name": "Python 3",
   "language": "python",
   "name": "python3"
  },
  "language_info": {
   "codemirror_mode": {
    "name": "ipython",
    "version": 3
   },
   "file_extension": ".py",
   "mimetype": "text/x-python",
   "name": "python",
   "nbconvert_exporter": "python",
   "pygments_lexer": "ipython3",
   "version": "3.7.3"
  }
 },
 "nbformat": 4,
 "nbformat_minor": 2
}
