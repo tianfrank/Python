{
 "cells": [
  {
   "cell_type": "code",
   "execution_count": 1,
   "metadata": {},
   "outputs": [],
   "source": [
    "#定义一个空列表\n",
    "my_list = []\n",
    "print(my_list)\n",
    "#列表增加数据（增删改查，数据库）\n",
    "#append这个方法不会有返回结果，直接操作原本的变量\n",
    "new_list = my_list.append(1)\n",
    "print(new_list)"
   ]
  },
  {
   "cell_type": "code",
   "execution_count": 2,
   "metadata": {},
   "outputs": [
    {
     "name": "stdout",
     "output_type": "stream",
     "text": [
      "[1, '大家好', True]\n"
     ]
    }
   ],
   "source": [
    "#append在列表最后增加数据\n",
    "my_list.append(\"大家好\")\n",
    "my_list.append(True)\n",
    "print(my_list)"
   ]
  },
  {
   "cell_type": "code",
   "execution_count": 6,
   "metadata": {},
   "outputs": [
    {
     "name": "stdout",
     "output_type": "stream",
     "text": [
      "[1, 'abc', 'abc', '大家好', True, ['西瓜', '芒果', '草莓'], '西瓜', '芒果', '草莓']\n"
     ]
    }
   ],
   "source": [
    "#插入指定数据（根据指定数据（下标、位置）插入对应数据）\n",
    "my_list.insert(1,\"abc\")\n",
    "print(my_list)"
   ]
  },
  {
   "cell_type": "code",
   "execution_count": 4,
   "metadata": {},
   "outputs": [
    {
     "name": "stdout",
     "output_type": "stream",
     "text": [
      "[1, 'abc', '大家好', True, ['西瓜', '芒果', '草莓']]\n"
     ]
    }
   ],
   "source": [
    "my_friut = [\"西瓜\",\"芒果\",\"草莓\"]\n",
    "my_list.append(my_friut)\n",
    "print(my_list)"
   ]
  },
  {
   "cell_type": "code",
   "execution_count": 5,
   "metadata": {},
   "outputs": [
    {
     "name": "stdout",
     "output_type": "stream",
     "text": [
      "[1, 'abc', '大家好', True, ['西瓜', '芒果', '草莓'], '西瓜', '芒果', '草莓']\n"
     ]
    }
   ],
   "source": [
    "#将列表的元素取出来，然后再拼接到原有的列表里面\n",
    "my_list.extend(my_friut)\n",
    "print(my_list)"
   ]
  },
  {
   "cell_type": "code",
   "execution_count": 1,
   "metadata": {},
   "outputs": [
    {
     "name": "stdout",
     "output_type": "stream",
     "text": [
      "['葡萄', 'abc', '大家好', '西瓜', '芒果', '草莓']\n"
     ]
    }
   ],
   "source": [
    "#修改元素\n",
    "my_list = [1,\"abc\",\"大家好\",\"西瓜\",\"芒果\",\"草莓\"]\n",
    "my_list[0] = \"葡萄\" #把第0个位置的改为“葡萄”\n",
    "print(my_list)\n"
   ]
  },
  {
   "cell_type": "code",
   "execution_count": 2,
   "metadata": {},
   "outputs": [
    {
     "name": "stdout",
     "output_type": "stream",
     "text": [
      "['葡萄', '大家好', '西瓜', '芒果', '草莓']\n"
     ]
    }
   ],
   "source": [
    "#删除列表中的元素\n",
    "#删除指定数据\n",
    "my_list.remove(\"abc\")\n",
    "print(my_list)"
   ]
  },
  {
   "cell_type": "code",
   "execution_count": 3,
   "metadata": {},
   "outputs": [
    {
     "name": "stdout",
     "output_type": "stream",
     "text": [
      "['大家好', '西瓜', '芒果', '草莓']\n"
     ]
    }
   ],
   "source": [
    "#根据下标删除元素（不能列表越界，删除的下标要合法）\n",
    "del my_list[0]\n",
    "print(my_list)"
   ]
  },
  {
   "cell_type": "code",
   "execution_count": 4,
   "metadata": {},
   "outputs": [
    {
     "name": "stdout",
     "output_type": "stream",
     "text": [
      "['大家好', '西瓜', '芒果'] 草莓\n"
     ]
    }
   ],
   "source": [
    "#使用pop的方式删除数据（pop如果不传任何参数，那么默认删除最后一个） \n",
    "#将删除的数据返回给我们\n",
    "result = my_list.pop()\n",
    "print(my_list,result)"
   ]
  },
  {
   "cell_type": "code",
   "execution_count": 5,
   "metadata": {},
   "outputs": [
    {
     "name": "stdout",
     "output_type": "stream",
     "text": [
      "False\n",
      "0\n"
     ]
    }
   ],
   "source": [
    "#判断知道数据是否在列表当中\n",
    "#如果有返回TRUE 没有返回False\n",
    "result = \"hh\" in my_list\n",
    "print(result)\n",
    "result = my_list.index(\"大家好\")\n",
    "print(result)\n"
   ]
  },
  {
   "cell_type": "code",
   "execution_count": 8,
   "metadata": {},
   "outputs": [
    {
     "name": "stdout",
     "output_type": "stream",
     "text": [
      "1\n"
     ]
    }
   ],
   "source": [
    "#根据指定数据获取数据在列表中的个数\n",
    "my_list = [1,1,1,1,2]\n",
    "result = my_list.count(2)\n",
    "print(result)"
   ]
  },
  {
   "cell_type": "code",
   "execution_count": null,
   "metadata": {},
   "outputs": [],
   "source": []
  }
 ],
 "metadata": {
  "kernelspec": {
   "display_name": "Python 3",
   "language": "python",
   "name": "python3"
  },
  "language_info": {
   "codemirror_mode": {
    "name": "ipython",
    "version": 3
   },
   "file_extension": ".py",
   "mimetype": "text/x-python",
   "name": "python",
   "nbconvert_exporter": "python",
   "pygments_lexer": "ipython3",
   "version": "3.7.3"
  }
 },
 "nbformat": 4,
 "nbformat_minor": 2
}
