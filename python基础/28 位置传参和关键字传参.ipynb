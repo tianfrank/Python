{
 "cells": [
  {
   "cell_type": "code",
   "execution_count": null,
   "metadata": {},
   "outputs": [],
   "source": [
    "#调用函数的传参方式：1.使用位置传参2.使用关键字传参"
   ]
  },
  {
   "cell_type": "code",
   "execution_count": 1,
   "metadata": {},
   "outputs": [
    {
     "name": "stdout",
     "output_type": "stream",
     "text": [
      "张三 18\n",
      "哈哈\n"
     ]
    }
   ],
   "source": [
    "def show(name,age):\n",
    "    print(name,age)\n",
    "    print(\"哈哈\")\n",
    "#使用位置参数方式传参：必须按照函数的参数顺序去传参\n",
    "show(\"张三\",18) #第一个位置代表name,第二个位置代表age,位置不能缺少参数    "
   ]
  },
  {
   "cell_type": "code",
   "execution_count": 2,
   "metadata": {},
   "outputs": [
    {
     "name": "stdout",
     "output_type": "stream",
     "text": [
      "李四 19\n",
      "哈哈\n"
     ]
    }
   ],
   "source": [
    "#使用关键字方式传参\n",
    "#使用关键字传参， 可以不按照函数参数的顺序去传参\n",
    "show(age=19,name=\"李四\")"
   ]
  },
  {
   "cell_type": "code",
   "execution_count": 4,
   "metadata": {},
   "outputs": [
    {
     "name": "stdout",
     "output_type": "stream",
     "text": [
      "冯七 10\n",
      "哈哈\n"
     ]
    }
   ],
   "source": [
    "#前面使用关键字传参，后面使用位置传参（不可以的）\n",
    "#show(age = 19,\"张三\")\n",
    "#前面使用位置传参，后面使用关键字传参可以使用\n",
    "#关键字传参，必须放在最后\n",
    "show(\"冯七\",age=10)"
   ]
  },
  {
   "cell_type": "code",
   "execution_count": null,
   "metadata": {},
   "outputs": [],
   "source": []
  }
 ],
 "metadata": {
  "kernelspec": {
   "display_name": "Python 3",
   "language": "python",
   "name": "python3"
  },
  "language_info": {
   "codemirror_mode": {
    "name": "ipython",
    "version": 3
   },
   "file_extension": ".py",
   "mimetype": "text/x-python",
   "name": "python",
   "nbconvert_exporter": "python",
   "pygments_lexer": "ipython3",
   "version": "3.7.3"
  }
 },
 "nbformat": 4,
 "nbformat_minor": 2
}
