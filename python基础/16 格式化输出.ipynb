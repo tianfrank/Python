{
 "cells": [
  {
   "cell_type": "code",
   "execution_count": 2,
   "metadata": {},
   "outputs": [
    {
     "name": "stdout",
     "output_type": "stream",
     "text": [
      "我叫周启红\n"
     ]
    }
   ],
   "source": [
    "#格式化符号：%s,%d,%f\n",
    "#%s：输出字符串\n",
    "#%f：输出float类型\n",
    "#%d：输出int类型\n",
    "\n",
    "name = \"周启红\"\n",
    "print(\"我叫%s\"%name)"
   ]
  },
  {
   "cell_type": "code",
   "execution_count": 3,
   "metadata": {},
   "outputs": [
    {
     "name": "stdout",
     "output_type": "stream",
     "text": [
      "python的考试分数100\n"
     ]
    }
   ],
   "source": [
    "score =100\n",
    "print(\"python的考试分数%d\" %score)"
   ]
  },
  {
   "cell_type": "code",
   "execution_count": 7,
   "metadata": {},
   "outputs": [
    {
     "name": "stdout",
     "output_type": "stream",
     "text": [
      "圆周率3.141593\n",
      "圆周率3.14\n"
     ]
    }
   ],
   "source": [
    "pi = 3.1415926\n",
    "#%f默认保留6位小数，会四舍五入\n",
    "print(\"圆周率%f\" % pi)\n",
    "#保留两位小数\n",
    "print(\"圆周率%.2f\" % pi)"
   ]
  },
  {
   "cell_type": "code",
   "execution_count": 9,
   "metadata": {},
   "outputs": [],
   "source": [
    "import wordcloud\n",
    "import jieba\n",
    "import requests\n",
    "from html.parser import HTMLParser\n",
    "import re\n",
    "import collections\n",
    "import numpy as np\n",
    "import matplotlib.pyplot as plt\n",
    "from PIL import Image"
   ]
  },
  {
   "cell_type": "code",
   "execution_count": 11,
   "metadata": {},
   "outputs": [],
   "source": [
    "cell_size = 10\n",
    "ms = 30"
   ]
  },
  {
   "cell_type": "code",
   "execution_count": 16,
   "metadata": {},
   "outputs": [
    {
     "name": "stdout",
     "output_type": "stream",
     "text": [
      "http://www.beijing.gov.cn/ywdt/t1618214.html\n",
      "网页长度:0字节\n",
      "\n"
     ]
    }
   ],
   "source": [
    "url = 'http://www.beijing.gov.cn/ywdt/t1618214.html'\n",
    "headers = {'User-Agent':'Mozilla/5.0 (Windows NT 10.0; WOW64) AppleWebKit/537.36 (KHTML, like Gecko) Chrome/63.0.3239.132 Safari/537.36'}\n",
    "result = requests.get(url,headers=headers)\n",
    "html = ''\n",
    "if (result.status_code == requests.codes.ok):\n",
    "    if 'ISO-8859-1' == result.encoding.upper():\n",
    "        html = result.text.encode('ISO-8859-1')\n",
    "        html = html.decode('UTF-8')\n",
    "    else:\n",
    "        html = result.content.decode(encoding=result.encoding, errors='ignore')\n",
    "print('网页长度:{0}字节'.format(len(html)))\n",
    "print('')"
   ]
  },
  {
   "cell_type": "code",
   "execution_count": null,
   "metadata": {},
   "outputs": [],
   "source": [
    "class MyHTMLParser(HTMLParser):\n",
    "    title = ''\n",
    "    tag_list = []\n",
    "    data = ''\n",
    "    \n",
    "    def handle_starttag (self,tag,attrs):\n",
    "        self.tag_list.append(tag)\n",
    "        "
   ]
  }
 ],
 "metadata": {
  "kernelspec": {
   "display_name": "Python 3",
   "language": "python",
   "name": "python3"
  },
  "language_info": {
   "codemirror_mode": {
    "name": "ipython",
    "version": 3
   },
   "file_extension": ".py",
   "mimetype": "text/x-python",
   "name": "python",
   "nbconvert_exporter": "python",
   "pygments_lexer": "ipython3",
   "version": "3.7.3"
  }
 },
 "nbformat": 4,
 "nbformat_minor": 2
}
