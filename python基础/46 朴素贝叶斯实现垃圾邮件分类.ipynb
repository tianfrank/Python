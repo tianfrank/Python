{
 "cells": [
  {
   "cell_type": "code",
   "execution_count": null,
   "metadata": {},
   "outputs": [],
   "source": [
    "#垃圾邮件分类步骤\n",
    "#1查看data\n",
    "#2分词\n",
    "#3向量化\n",
    "#4朴素贝叶斯算法描述\n",
    "#5结果，查看error"
   ]
  },
  {
   "cell_type": "code",
   "execution_count": null,
   "metadata": {},
   "outputs": [],
   "source": [
    "#朴素贝叶斯分类器训练函数\n",
    "\n",
    "def trainNBO(trainMatrix,trainCategory):\n",
    "    #总文件数\n",
    "    numTrainDocs = len(trainMatrix)\n",
    "    #总单词数\n",
    "    numWords = len(trainMatrix[0])\n",
    "    #侮辱性文件的出现概率\n",
    "    pAbusive = sum(trainCategory)/float(numTrainDocs)\n",
    "    #构造单词出现次数列表\n",
    "    #p0num 正常的统计\n",
    "    #P1Num 侮辱的统计\n",
    "    \n",
    "    p0num =np.ones(numWords) #全1的矩阵\n",
    "    p1Num = np.ones(numWords)\n",
    "    \n",
    "    #整个数据集单词出现的总数，根据样本/实际调查结果调整分母的值\n",
    "    global p0Denom\n",
    "    global p1Denom\n",
    "    p0Denom = 2.0\n",
    "    poDenom = 2.0\n",
    "    for i in range(numTrainDocs):\n",
    "        if trainCategory[i] == 1:\n",
    "            #累加辱骂词的频次\n",
    "            p1Num += trainMatrix[i]\n",
    "            #对每篇文章的辱骂的频次 进行统计汇总\n",
    "            p1Denom += sum(trainMaxtrix[i])\n",
    "        else:\n",
    "            p0Num += trainMatrix[i]\n",
    "            p0Denom += sum(trainMatrix[i])\n",
    "    \n",
    "    #类别1，即辱骂性文档\n",
    "    p1Vect = np.log(p1Num/p1Denom)\n",
    "    #类别0，即正常的文档\n",
    "    p0Vect = np.log(p0Num/p1Denom)\n",
    "    return p0Vect,p1Vect,pAbusive  \n",
    "    "
   ]
  },
  {
   "cell_type": "code",
   "execution_count": null,
   "metadata": {},
   "outputs": [],
   "source": [
    "#垃圾邮件分类email harm/spam"
   ]
  },
  {
   "cell_type": "code",
   "execution_count": null,
   "metadata": {},
   "outputs": [],
   "source": [
    "#切分文本\n",
    "def textParse(bigString):\n",
    "    import re\n",
    "    listOfTokens = re.split(r'\\W*',bigString)\n",
    "    return[tok.lower()for tok in listOfTokens if len(tok)> 2]\n",
    "    "
   ]
  },
  {
   "cell_type": "code",
   "execution_count": null,
   "metadata": {},
   "outputs": [],
   "source": [
    "def createVocablist(dataset):\n",
    "    vocabSet = set([])\n",
    "    for document in dataSet:\n",
    "        vocabSet = vocabSet | set(document)\n",
    "    return list(vocabSet)\n",
    "\n",
    "def setOfWords2Vec(vocabList,inputSet):\n",
    "    returnVec = [0] * len(vocabList)\n",
    "    for word in inputSet:\n",
    "        if word in vocabList:\n",
    "            returnVec[vocabList.index(word)] = 1\n",
    "        else:\n",
    "            print(\"the word:%s is not in my Vocabulary!\" % word)\n",
    "    return returnVec"
   ]
  },
  {
   "cell_type": "code",
   "execution_count": null,
   "metadata": {},
   "outputs": [],
   "source": [
    "#朴素贝叶斯分类函数"
   ]
  }
 ],
 "metadata": {
  "kernelspec": {
   "display_name": "Python 3",
   "language": "python",
   "name": "python3"
  },
  "language_info": {
   "codemirror_mode": {
    "name": "ipython",
    "version": 3
   },
   "file_extension": ".py",
   "mimetype": "text/x-python",
   "name": "python",
   "nbconvert_exporter": "python",
   "pygments_lexer": "ipython3",
   "version": "3.7.3"
  }
 },
 "nbformat": 4,
 "nbformat_minor": 2
}
