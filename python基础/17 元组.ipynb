{
 "cells": [
  {
   "cell_type": "code",
   "execution_count": 1,
   "metadata": {},
   "outputs": [
    {
     "name": "stdout",
     "output_type": "stream",
     "text": [
      "(1, 4, 'abc', True, 1.2) <class 'tuple'>\n"
     ]
    }
   ],
   "source": [
    "#元组：以小括号形式的数据结合(1,2,\"Abc\",True)\n",
    "#可以存储任意数据类型\n",
    "#注意：元组可以根据下标获取数据，但是不能对元组进行数据修改\n",
    "my_tuple = (1,4,\"abc\",True,1.2)\n",
    "\n",
    "print(my_tuple,type(my_tuple))"
   ]
  },
  {
   "cell_type": "code",
   "execution_count": 2,
   "metadata": {},
   "outputs": [
    {
     "name": "stdout",
     "output_type": "stream",
     "text": [
      "1.2\n"
     ]
    }
   ],
   "source": [
    "#根据下标取值\n",
    "value = my_tuple[-1]\n",
    "print(value)"
   ]
  },
  {
   "cell_type": "code",
   "execution_count": 5,
   "metadata": {},
   "outputs": [],
   "source": [
    "#元组不能根据下标删除数据\n",
    "# del my_tuple[2]\n",
    "# print(my_tuple)"
   ]
  },
  {
   "cell_type": "code",
   "execution_count": 6,
   "metadata": {},
   "outputs": [],
   "source": [
    "#修改数据\n",
    "# my_tuple[0] = 3\n",
    "# print(my_tuple)"
   ]
  },
  {
   "cell_type": "code",
   "execution_count": 8,
   "metadata": {},
   "outputs": [
    {
     "name": "stdout",
     "output_type": "stream",
     "text": [
      "(1, [2, 3])\n"
     ]
    }
   ],
   "source": [
    "#注意不论元组里面装什么数据类型都不可以修改\n",
    "my_tuple = (1,[2,3])\n",
    "#my_tuple[1] = [2,3]\n",
    "print(my_tuple)\n"
   ]
  },
  {
   "cell_type": "code",
   "execution_count": null,
   "metadata": {},
   "outputs": [],
   "source": [
    "#定义一个空的元组\n",
    "#坑：如果定义的元组，只有一个元素，那么元组的类型为元素的类型\n",
    "#如果指定只传一个元素，还想保证是元组类型，那么需要加上逗号\n"
   ]
  }
 ],
 "metadata": {
  "kernelspec": {
   "display_name": "Python 3",
   "language": "python",
   "name": "python3"
  },
  "language_info": {
   "codemirror_mode": {
    "name": "ipython",
    "version": 3
   },
   "file_extension": ".py",
   "mimetype": "text/x-python",
   "name": "python",
   "nbconvert_exporter": "python",
   "pygments_lexer": "ipython3",
   "version": "3.7.3"
  }
 },
 "nbformat": 4,
 "nbformat_minor": 2
}
