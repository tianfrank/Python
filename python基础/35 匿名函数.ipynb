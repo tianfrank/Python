{
 "cells": [
  {
   "cell_type": "code",
   "execution_count": 1,
   "metadata": {},
   "outputs": [
    {
     "name": "stdout",
     "output_type": "stream",
     "text": [
      "3\n"
     ]
    }
   ],
   "source": [
    "#匿名函数：没有名字的函数就是匿名函数\n",
    "#lambda:这个关键字修饰的就是匿名函数\n",
    "#匿名函数的应用场景：简化代码\n",
    "\n",
    "def sum(a,b):\n",
    "    result = a + b\n",
    "    return result\n",
    "result = sum(1,2)\n",
    "print(result)"
   ]
  },
  {
   "cell_type": "code",
   "execution_count": 2,
   "metadata": {},
   "outputs": [
    {
     "name": "stdout",
     "output_type": "stream",
     "text": [
      "3\n"
     ]
    }
   ],
   "source": [
    "#匿名函数的第一种写法\n",
    "result = (lambda x,y:x + y)(1,2)   :冒号的左边是定义的匿名函数，右边x+y表示实现相加的功能，（1,2）是传递的参数\n",
    "print(result)"
   ]
  },
  {
   "cell_type": "code",
   "execution_count": 5,
   "metadata": {},
   "outputs": [
    {
     "name": "stdout",
     "output_type": "stream",
     "text": [
      "15\n"
     ]
    }
   ],
   "source": [
    "#func是匿名的函数名字\n",
    "#系统给我们的方法（返回给我们一个函数）\n",
    "func = lambda x,y:x*y\n",
    "result = func(3,5)\n",
    "print(result)"
   ]
  },
  {
   "cell_type": "code",
   "execution_count": 8,
   "metadata": {},
   "outputs": [
    {
     "name": "stdout",
     "output_type": "stream",
     "text": [
      "True ----\n"
     ]
    }
   ],
   "source": [
    "#判断传入的是否是偶数\n",
    "\n",
    "def is_os(num):\n",
    "    if num % 2 == 0:\n",
    "        return True\n",
    "    else:\n",
    "        return False\n",
    "result = is_os(0)\n",
    "print(result,\"----\")"
   ]
  },
  {
   "cell_type": "code",
   "execution_count": 9,
   "metadata": {},
   "outputs": [
    {
     "name": "stdout",
     "output_type": "stream",
     "text": [
      "True\n"
     ]
    }
   ],
   "source": [
    "#返回一个函数，用变量来承接它\n",
    "new_func = lambda num:True if num % 2 ==0 else False\n",
    "result = new_func(2) #调用new_func，并传入参数2\n",
    "print(result)"
   ]
  },
  {
   "cell_type": "code",
   "execution_count": 10,
   "metadata": {},
   "outputs": [
    {
     "name": "stdout",
     "output_type": "stream",
     "text": [
      "[8, 4, 2]\n"
     ]
    }
   ],
   "source": [
    "my_list = [2,4,8]\n",
    "#对列表排序（默认从小到大排序）\n",
    "#reverse = True 从大到小排序\n",
    "my_list.sort(reverse=True)\n",
    "print(my_list)"
   ]
  },
  {
   "cell_type": "code",
   "execution_count": 12,
   "metadata": {},
   "outputs": [
    {
     "name": "stdout",
     "output_type": "stream",
     "text": [
      "[{'name': '周周', 'age': 20}, {'name': '启红', 'age': 18}]\n"
     ]
    }
   ],
   "source": [
    "#正常使用的函数\n",
    "my_list = [{\"name\":\"周周\",\"age\":20},{\"name\":\"启红\",\"age\":18}]\n",
    "def get_value(item):\n",
    "    return item['age']\n",
    "#默认从小到大\n",
    "my_list.sort(key=get_value,reverse=True)\n",
    "print(my_list)"
   ]
  },
  {
   "cell_type": "code",
   "execution_count": 14,
   "metadata": {},
   "outputs": [
    {
     "name": "stdout",
     "output_type": "stream",
     "text": [
      "[{'name': '启红', 'age': 18}, {'name': '周周', 'age': 20}]\n"
     ]
    }
   ],
   "source": [
    "my_list = [{\"name\":\"周周\",\"age\":20},{\"name\":\"启红\",\"age\":18}]\n",
    "\n",
    "#key = 函数（匿名函数使用方便）\n",
    "my_list.sort(key=lambda item:item[\"age\"]) #默认的是从小到大\n",
    "\n",
    "print(my_list)"
   ]
  },
  {
   "cell_type": "code",
   "execution_count": null,
   "metadata": {},
   "outputs": [],
   "source": [
    "#初学者不建议用匿名函数"
   ]
  }
 ],
 "metadata": {
  "kernelspec": {
   "display_name": "Python 3",
   "language": "python",
   "name": "python3"
  },
  "language_info": {
   "codemirror_mode": {
    "name": "ipython",
    "version": 3
   },
   "file_extension": ".py",
   "mimetype": "text/x-python",
   "name": "python",
   "nbconvert_exporter": "python",
   "pygments_lexer": "ipython3",
   "version": "3.7.3"
  }
 },
 "nbformat": 4,
 "nbformat_minor": 2
}
