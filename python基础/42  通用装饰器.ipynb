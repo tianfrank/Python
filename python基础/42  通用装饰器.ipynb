{
 "cells": [
  {
   "cell_type": "code",
   "execution_count": 1,
   "metadata": {},
   "outputs": [
    {
     "name": "stdout",
     "output_type": "stream",
     "text": [
      "打印结果如下\n",
      "3\n",
      "打印结果如下\n",
      "7\n"
     ]
    }
   ],
   "source": [
    "#通用的装饰器，可以修饰任何函数\n",
    "#定义一个带有参数的函数（2个，3个）\n",
    "\n",
    "def decorator(func):\n",
    "    def inner(*args,**kwargs):\n",
    "        print(\"打印结果如下\")\n",
    "        result=func(*args,**kwargs)\n",
    "        return result\n",
    "    return inner\n",
    "\n",
    "@decorator \n",
    "def sum(num1,num2):\n",
    "    result = num1+num2\n",
    "    return result\n",
    "result = sum(1,2)\n",
    "print(result)\n",
    "@decorator\n",
    "def sum1(num1,num2,num3):\n",
    "    result = num1 + num2 + num3\n",
    "    return result\n",
    "result = sum1(1,2,4)\n",
    "print(result)"
   ]
  },
  {
   "cell_type": "code",
   "execution_count": null,
   "metadata": {},
   "outputs": [],
   "source": []
  }
 ],
 "metadata": {
  "kernelspec": {
   "display_name": "Python 3",
   "language": "python",
   "name": "python3"
  },
  "language_info": {
   "codemirror_mode": {
    "name": "ipython",
    "version": 3
   },
   "file_extension": ".py",
   "mimetype": "text/x-python",
   "name": "python",
   "nbconvert_exporter": "python",
   "pygments_lexer": "ipython3",
   "version": "3.7.3"
  }
 },
 "nbformat": 4,
 "nbformat_minor": 2
}
