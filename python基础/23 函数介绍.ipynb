{
 "cells": [
  {
   "cell_type": "code",
   "execution_count": 2,
   "metadata": {},
   "outputs": [
    {
     "name": "stdout",
     "output_type": "stream",
     "text": [
      "夜空中最亮的星\n",
      "夜空中最亮的星\n",
      "夜空中最亮的星\n"
     ]
    }
   ],
   "source": [
    "#函数：通俗理解就是某一个“功能”的代码实现\n",
    "#使用函数的目的：就是降低挨骂的冗余，对代码的重复\n",
    "\n",
    "def show():\n",
    "    print(\"夜空中最亮的星\")\n",
    "    print(\"夜空中最亮的星\")\n",
    "    print(\"夜空中最亮的星\")\n",
    "    \n",
    "#调用函数：执行函数体的代码\n",
    "show() #必须要调用，函数才能执行\n",
    "    "
   ]
  },
  {
   "cell_type": "code",
   "execution_count": null,
   "metadata": {},
   "outputs": [],
   "source": []
  }
 ],
 "metadata": {
  "kernelspec": {
   "display_name": "Python 3",
   "language": "python",
   "name": "python3"
  },
  "language_info": {
   "codemirror_mode": {
    "name": "ipython",
    "version": 3
   },
   "file_extension": ".py",
   "mimetype": "text/x-python",
   "name": "python",
   "nbconvert_exporter": "python",
   "pygments_lexer": "ipython3",
   "version": "3.7.3"
  }
 },
 "nbformat": 4,
 "nbformat_minor": 2
}
