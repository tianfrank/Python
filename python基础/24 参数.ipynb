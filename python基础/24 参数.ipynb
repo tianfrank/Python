{
 "cells": [
  {
   "cell_type": "code",
   "execution_count": 2,
   "metadata": {},
   "outputs": [
    {
     "name": "stdout",
     "output_type": "stream",
     "text": [
      "张三 20\n"
     ]
    }
   ],
   "source": [
    "#定义带有参数的函数\n",
    "#name,age:形式参数（函数定义带有参数叫形式参数）形参\n",
    "def show_msg(name,age):\n",
    "    print(name,age)\n",
    "    \n",
    "#调用带有参数的函数“张三”，20：实际参数（实参）\n",
    "show_msg(\"张三\",20)"
   ]
  },
  {
   "cell_type": "code",
   "execution_count": 5,
   "metadata": {},
   "outputs": [
    {
     "name": "stdout",
     "output_type": "stream",
     "text": [
      "3\n"
     ]
    }
   ],
   "source": [
    "#定义计算和的函数\n",
    "def sum_result(a,b):\n",
    "    result = a + b\n",
    "    print(result)\n",
    "sum_result(1,2)"
   ]
  },
  {
   "cell_type": "code",
   "execution_count": null,
   "metadata": {},
   "outputs": [],
   "source": []
  }
 ],
 "metadata": {
  "kernelspec": {
   "display_name": "Python 3",
   "language": "python",
   "name": "python3"
  },
  "language_info": {
   "codemirror_mode": {
    "name": "ipython",
    "version": 3
   },
   "file_extension": ".py",
   "mimetype": "text/x-python",
   "name": "python",
   "nbconvert_exporter": "python",
   "pygments_lexer": "ipython3",
   "version": "3.7.3"
  }
 },
 "nbformat": 4,
 "nbformat_minor": 2
}
