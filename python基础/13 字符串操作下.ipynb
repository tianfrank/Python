{
 "cells": [
  {
   "cell_type": "code",
   "execution_count": 3,
   "metadata": {},
   "outputs": [
    {
     "name": "stdout",
     "output_type": "stream",
     "text": [
      "True\n"
     ]
    }
   ],
   "source": [
    "my_url = \"http://www.baidu.com\" #判断是否是网址\n",
    "#返回结果是bool类型\n",
    "result = my_url.startswith(\"http\") #判断是否以http开头\n",
    "print(result)"
   ]
  },
  {
   "cell_type": "code",
   "execution_count": 5,
   "metadata": {},
   "outputs": [
    {
     "name": "stdout",
     "output_type": "stream",
     "text": [
      "False\n"
     ]
    }
   ],
   "source": [
    "#判断是否以指定数据结尾\n",
    "result = my_url.endswith(\"xxx\")\n",
    "print(result)"
   ]
  },
  {
   "cell_type": "code",
   "execution_count": 8,
   "metadata": {},
   "outputs": [
    {
     "name": "stdout",
     "output_type": "stream",
     "text": [
      "('aaa', 'bb', 'ccc')\n",
      "a_b_c\n"
     ]
    }
   ],
   "source": [
    "#需要：把字符串以指定数据分割成三部分\n",
    "my_str = \"aaabbccc\"\n",
    "result = my_str.partition(\"bb\") #以bb的方式分割\n",
    "print(result)\n",
    "\n",
    "#自定义分割，用_分割\n",
    "flag_str = \"_\"\n",
    "my_str = \"abc\"\n",
    "result = flag_str.join(my_str) \n",
    "print(result)"
   ]
  },
  {
   "cell_type": "code",
   "execution_count": 10,
   "metadata": {},
   "outputs": [
    {
     "name": "stdout",
     "output_type": "stream",
     "text": [
      "1_2_3\n"
     ]
    }
   ],
   "source": [
    "#分割列表\n",
    "my_list = [\"1\",\"2\",\"3\"]\n",
    "result = flag_str.join(my_list)\n",
    "print(result)"
   ]
  },
  {
   "cell_type": "code",
   "execution_count": 14,
   "metadata": {},
   "outputs": [
    {
     "name": "stdout",
     "output_type": "stream",
     "text": [
      " hello\n",
      "hello\n"
     ]
    }
   ],
   "source": [
    "#去除空格\n",
    "my_str = \" hello\"\n",
    "\n",
    "print(my_str)\n",
    "#去除左右两侧的空格（注意只去除左右）\n",
    "result = my_str.strip()\n",
    "print(result)"
   ]
  },
  {
   "cell_type": "code",
   "execution_count": 17,
   "metadata": {},
   "outputs": [
    {
     "name": "stdout",
     "output_type": "stream",
     "text": [
      "hello\n",
      " hello\n"
     ]
    }
   ],
   "source": [
    "#去除左边的空格\n",
    "result = my_str.lstrip()\n",
    "print(result)\n",
    "#去除右边的空格\n",
    "result = my_str.rstrip()\n",
    "print(result)"
   ]
  },
  {
   "cell_type": "code",
   "execution_count": 20,
   "metadata": {},
   "outputs": [
    {
     "name": "stdout",
     "output_type": "stream",
     "text": [
      "hello\n"
     ]
    }
   ],
   "source": [
    "#去除指定数据\n",
    "my_str = \"bhelloa\"\n",
    "#注意点：默认不传参数，默认去除空格\n",
    "result = my_str.strip(\"b\"\"a\")\n",
    "print(result)"
   ]
  },
  {
   "cell_type": "code",
   "execution_count": null,
   "metadata": {},
   "outputs": [],
   "source": []
  }
 ],
 "metadata": {
  "kernelspec": {
   "display_name": "Python 3",
   "language": "python",
   "name": "python3"
  },
  "language_info": {
   "codemirror_mode": {
    "name": "ipython",
    "version": 3
   },
   "file_extension": ".py",
   "mimetype": "text/x-python",
   "name": "python",
   "nbconvert_exporter": "python",
   "pygments_lexer": "ipython3",
   "version": "3.7.3"
  }
 },
 "nbformat": 4,
 "nbformat_minor": 2
}
