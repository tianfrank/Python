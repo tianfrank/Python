{
 "cells": [
  {
   "cell_type": "code",
   "execution_count": 2,
   "metadata": {},
   "outputs": [
    {
     "name": "stdout",
     "output_type": "stream",
     "text": [
      "(1, 3, 5, 7, 9, 11) <class 'tuple'>\n",
      "36\n"
     ]
    }
   ],
   "source": [
    "#函数的不定长参数：1.不定长位置参数，2不定长关键字参数\n",
    "\n",
    "#不定参数：调用函数的时候不确定传入多少个参数\n",
    "#可能是0个或多个\n",
    "\n",
    "#——————————不定长位置参数的定义及调用——————————————-\n",
    "# *args代表不定长位置参数，约定俗称起的名字\n",
    "# \n",
    "\n",
    "def sum_num(*args):\n",
    "    #提示：args:会把调用函数传入的位置参数封装到一个元组里面\n",
    "    print(args,type(args))\n",
    "    \n",
    "    #计算结果变量\n",
    "    result = 0\n",
    "    for value in args:\n",
    "        \n",
    "        result += value\n",
    "    return result\n",
    "\n",
    "result = sum_num(1,3,5,7,9,11)\n",
    "print(result)"
   ]
  },
  {
   "cell_type": "code",
   "execution_count": 3,
   "metadata": {},
   "outputs": [
    {
     "name": "stdout",
     "output_type": "stream",
     "text": [
      "{'a': 1, 'b': 2} <class 'dict'>\n",
      "a 1\n",
      "b 2\n"
     ]
    }
   ],
   "source": [
    "#----------------------------不定长关键字子参数函数的定义及调用---------\n",
    "# **kwargs 代表不定长关键参数\n",
    "\n",
    "def show_msg(**kwargs):\n",
    "    print(kwargs, type(kwargs))  #字典\n",
    "    for key,value in kwargs.items():\n",
    "        print(key,value)\n",
    "#调用不定长位置参数的函数\n",
    "show_msg(a=1,b=2)   "
   ]
  },
  {
   "cell_type": "code",
   "execution_count": 4,
   "metadata": {},
   "outputs": [
    {
     "ename": "TypeError",
     "evalue": "show_msg() takes 0 positional arguments but 2 were given",
     "output_type": "error",
     "traceback": [
      "\u001b[1;31m---------------------------------------------------------------------------\u001b[0m",
      "\u001b[1;31mTypeError\u001b[0m                                 Traceback (most recent call last)",
      "\u001b[1;32m<ipython-input-4-485416d5697f>\u001b[0m in \u001b[0;36m<module>\u001b[1;34m\u001b[0m\n\u001b[0;32m      1\u001b[0m \u001b[1;31m#使用位置参数的方式调用不定长关键字参数的函数\u001b[0m\u001b[1;33m\u001b[0m\u001b[1;33m\u001b[0m\u001b[1;33m\u001b[0m\u001b[0m\n\u001b[1;32m----> 2\u001b[1;33m \u001b[0mshow_msg\u001b[0m\u001b[1;33m(\u001b[0m\u001b[1;36m1\u001b[0m\u001b[1;33m,\u001b[0m\u001b[1;36m2\u001b[0m\u001b[1;33m)\u001b[0m\u001b[1;33m\u001b[0m\u001b[1;33m\u001b[0m\u001b[0m\n\u001b[0m",
      "\u001b[1;31mTypeError\u001b[0m: show_msg() takes 0 positional arguments but 2 were given"
     ]
    }
   ],
   "source": [
    "#使用位置参数的方式调用不定长关键字参数的函数\n",
    "show_msg(1,2)  #必须要用关键字传参"
   ]
  },
  {
   "cell_type": "code",
   "execution_count": null,
   "metadata": {},
   "outputs": [],
   "source": []
  }
 ],
 "metadata": {
  "kernelspec": {
   "display_name": "Python 3",
   "language": "python",
   "name": "python3"
  },
  "language_info": {
   "codemirror_mode": {
    "name": "ipython",
    "version": 3
   },
   "file_extension": ".py",
   "mimetype": "text/x-python",
   "name": "python",
   "nbconvert_exporter": "python",
   "pygments_lexer": "ipython3",
   "version": "3.7.3"
  }
 },
 "nbformat": 4,
 "nbformat_minor": 2
}
