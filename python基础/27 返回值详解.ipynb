{
 "cells": [
  {
   "cell_type": "code",
   "execution_count": 3,
   "metadata": {},
   "outputs": [
    {
     "name": "stdout",
     "output_type": "stream",
     "text": [
      "3\n"
     ]
    }
   ],
   "source": [
    "def show(a,b):\n",
    "    #执行完毕函数体的代码会直接返回到函数调用处\n",
    "    print(a + b) #函数体，没有返回值，不需要承接\n",
    "    \n",
    "show(1,2)"
   ]
  },
  {
   "cell_type": "code",
   "execution_count": 5,
   "metadata": {},
   "outputs": [
    {
     "name": "stdout",
     "output_type": "stream",
     "text": [
      "3\n"
     ]
    }
   ],
   "source": [
    "def show(a,b):\n",
    "    result = a + b\n",
    "    return result #return回到函数的调用处\n",
    "    print(\"hello\") #因为有return,不执行这行代码\n",
    "result = show(1,2) #函数调用处\n",
    "print(result)"
   ]
  },
  {
   "cell_type": "code",
   "execution_count": 6,
   "metadata": {},
   "outputs": [
    {
     "name": "stdout",
     "output_type": "stream",
     "text": [
      "(10, 20)\n"
     ]
    }
   ],
   "source": [
    "#多个返回值的应用\n",
    "def show(a,b):\n",
    "    a = 10\n",
    "    b = 20\n",
    "    return a,b\n",
    "result = show(100,200)\n",
    "print(result) #以元组形式返回"
   ]
  },
  {
   "cell_type": "code",
   "execution_count": 1,
   "metadata": {},
   "outputs": [
    {
     "name": "stdout",
     "output_type": "stream",
     "text": [
      "10 20\n"
     ]
    }
   ],
   "source": [
    "def show(a,b):\n",
    "    a = 10\n",
    "    b = 20\n",
    "    return a,b\n",
    "a,b = show(100,200)\n",
    "print(a,b) #以单个值返回。若有多个，可以用遍历的方法"
   ]
  },
  {
   "cell_type": "code",
   "execution_count": 7,
   "metadata": {},
   "outputs": [
    {
     "name": "stdout",
     "output_type": "stream",
     "text": [
      "-1\n"
     ]
    }
   ],
   "source": [
    "#在函数里面调用函数，返回调用函数的返回值(比较复杂的函数)\n",
    "def show():\n",
    "    result = show_msg(1,2)\n",
    "    return result\n",
    "\n",
    "def show_msg(a,b):\n",
    "    result = a - b\n",
    "    return result\n",
    "\n",
    "result = show()\n",
    "print(result)"
   ]
  },
  {
   "cell_type": "code",
   "execution_count": null,
   "metadata": {},
   "outputs": [],
   "source": []
  }
 ],
 "metadata": {
  "kernelspec": {
   "display_name": "Python 3",
   "language": "python",
   "name": "python3"
  },
  "language_info": {
   "codemirror_mode": {
    "name": "ipython",
    "version": 3
   },
   "file_extension": ".py",
   "mimetype": "text/x-python",
   "name": "python",
   "nbconvert_exporter": "python",
   "pygments_lexer": "ipython3",
   "version": "3.7.3"
  }
 },
 "nbformat": 4,
 "nbformat_minor": 2
}
