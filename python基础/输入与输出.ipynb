{
 "cells": [
  {
   "cell_type": "code",
   "execution_count": 1,
   "metadata": {},
   "outputs": [
    {
     "name": "stdout",
     "output_type": "stream",
     "text": [
      "10\n",
      "helloword\n"
     ]
    }
   ],
   "source": [
    "#输出：print()打印出来的（控制台）\n",
    "a = 10\n",
    "print(a)\n",
    "print('helloword') #直接输出打印的内容"
   ]
  },
  {
   "cell_type": "code",
   "execution_count": 3,
   "metadata": {},
   "outputs": [
    {
     "name": "stdout",
     "output_type": "stream",
     "text": [
      "hello world\n",
      "hello&world\n"
     ]
    }
   ],
   "source": [
    "my_str1 = 'hello'\n",
    "my_str2 = 'world'\n",
    "print(my_str1,my_str2)\n",
    "#输出多个变量的时候，中间会有分隔符（默认是空格）\n",
    "#修改输出的分隔符\n",
    "print(my_str1,my_str2,sep=\"&\")"
   ]
  },
  {
   "cell_type": "code",
   "execution_count": 5,
   "metadata": {},
   "outputs": [
    {
     "name": "stdout",
     "output_type": "stream",
     "text": [
      "1\n",
      "2\n",
      "1zhangshan2\n",
      "\n",
      "3\n"
     ]
    }
   ],
   "source": [
    "#print函数默认输出之后会换行\n",
    "print(\"1\")\n",
    "print(\"2\")\n",
    "print(\"1\",end=\"zhangshan\") # 用zhangshan替换了换行符\n",
    "print(\"2\",end=\"\\n\\n\") #\\n\\n表示两个换行符\n",
    "print(\"3\")\n"
   ]
  },
  {
   "cell_type": "code",
   "execution_count": 6,
   "metadata": {},
   "outputs": [
    {
     "name": "stdout",
     "output_type": "stream",
     "text": [
      "12\n",
      "12\n"
     ]
    }
   ],
   "source": [
    "#输入：获取用户键盘输入的文字\n",
    "result = input()\n",
    "print(result)"
   ]
  },
  {
   "cell_type": "code",
   "execution_count": null,
   "metadata": {},
   "outputs": [],
   "source": []
  }
 ],
 "metadata": {
  "kernelspec": {
   "display_name": "Python 3",
   "language": "python",
   "name": "python3"
  },
  "language_info": {
   "codemirror_mode": {
    "name": "ipython",
    "version": 3
   },
   "file_extension": ".py",
   "mimetype": "text/x-python",
   "name": "python",
   "nbconvert_exporter": "python",
   "pygments_lexer": "ipython3",
   "version": "3.7.3"
  }
 },
 "nbformat": 4,
 "nbformat_minor": 2
}
