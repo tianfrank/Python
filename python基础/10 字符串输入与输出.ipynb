{
 "cells": [
  {
   "cell_type": "code",
   "execution_count": 1,
   "metadata": {},
   "outputs": [
    {
     "name": "stdout",
     "output_type": "stream",
     "text": [
      "Peking University\n",
      "Peking University\n",
      "Peking University\n"
     ]
    }
   ],
   "source": [
    "str = 'Peking University' #单引号定义字符串变量\n",
    "print(str)\n",
    "str = \"Peking University\" #双引号定义字符串变量\n",
    "print(str)\n",
    "str = \"\"\"Peking University\"\"\" #三引号定义字符串变量\n",
    "print(str)"
   ]
  },
  {
   "cell_type": "code",
   "execution_count": 2,
   "metadata": {},
   "outputs": [
    {
     "name": "stdout",
     "output_type": "stream",
     "text": [
      "__________\n",
      "姓名: 周启红\n",
      "职业: Student\n",
      "地址: CQ\n",
      "___________\n"
     ]
    }
   ],
   "source": [
    "name = '周启红'\n",
    "position = 'Student'\n",
    "address = 'CQ'\n",
    "\n",
    "print('__________')\n",
    "print(\"姓名: %s\" % name)\n",
    "print(\"职业: %s\" % position)\n",
    "print(\"地址: %s\" % address)\n",
    "print('___________')"
   ]
  },
  {
   "cell_type": "code",
   "execution_count": 3,
   "metadata": {},
   "outputs": [
    {
     "name": "stdout",
     "output_type": "stream",
     "text": [
      "请输入用户名：123\n",
      "用户名为：123\n",
      "请输入密码：888\n",
      "密码为: 888\n"
     ]
    }
   ],
   "source": [
    "userName = input('请输入用户名：')\n",
    "print(\"用户名为：%s\" % userName)\n",
    "\n",
    "password = input('请输入密码：')\n",
    "print(\"密码为: %s\" % password)"
   ]
  },
  {
   "cell_type": "markdown",
   "metadata": {},
   "source": [
    "# 下标和索引"
   ]
  },
  {
   "cell_type": "code",
   "execution_count": 6,
   "metadata": {},
   "outputs": [
    {
     "name": "stdout",
     "output_type": "stream",
     "text": [
      "k\n",
      "k\n"
     ]
    }
   ],
   "source": [
    "name = \"PekingUniversity\"\n",
    "print(name[2]) #从前往后取，下标从0开始，取出第三位的字母\n",
    "print(name[-14]) #从后往前取"
   ]
  },
  {
   "cell_type": "code",
   "execution_count": null,
   "metadata": {},
   "outputs": [],
   "source": []
  }
 ],
 "metadata": {
  "kernelspec": {
   "display_name": "Python 3",
   "language": "python",
   "name": "python3"
  },
  "language_info": {
   "codemirror_mode": {
    "name": "ipython",
    "version": 3
   },
   "file_extension": ".py",
   "mimetype": "text/x-python",
   "name": "python",
   "nbconvert_exporter": "python",
   "pygments_lexer": "ipython3",
   "version": "3.7.3"
  }
 },
 "nbformat": 4,
 "nbformat_minor": 2
}
