{
 "cells": [
  {
   "cell_type": "code",
   "execution_count": 1,
   "metadata": {},
   "outputs": [],
   "source": [
    "#list方式需要两个列表\n",
    "names = ['Michael','Tom','Geoffrey']\n",
    "scores = [95,75,85]"
   ]
  },
  {
   "cell_type": "code",
   "execution_count": 3,
   "metadata": {},
   "outputs": [
    {
     "name": "stdout",
     "output_type": "stream",
     "text": [
      "{'name': '张三', 'age': '18'} <class 'dict'>\n"
     ]
    }
   ],
   "source": [
    "#字典：以大括号形式的键值对数据组合，{'name':'张三','age':18\"\"}\n",
    "#提示：一般key(99%都是字符串类型)\n",
    "my_dict = {'name':'张三','age':'18'}\n",
    "print(my_dict,type(my_dict))"
   ]
  },
  {
   "cell_type": "code",
   "execution_count": 4,
   "metadata": {},
   "outputs": [
    {
     "name": "stdout",
     "output_type": "stream",
     "text": [
      "张三\n"
     ]
    }
   ],
   "source": [
    "#字典是无序的（没有下标概念）\n",
    "#通过key值来取value\n",
    "value = my_dict[\"name\"]\n",
    "print(value)"
   ]
  },
  {
   "cell_type": "code",
   "execution_count": 6,
   "metadata": {},
   "outputs": [],
   "source": [
    "#如果没有此键，使用[]会崩溃\n",
    "# value = my_dict['sex']\n",
    "# print(value)"
   ]
  },
  {
   "cell_type": "markdown",
   "metadata": {},
   "source": [
    "**my_dict.get()取值**"
   ]
  },
  {
   "cell_type": "code",
   "execution_count": 8,
   "metadata": {},
   "outputs": [
    {
     "name": "stdout",
     "output_type": "stream",
     "text": [
      "None\n",
      "{'name': '张三', 'age': '18'}\n"
     ]
    }
   ],
   "source": [
    "# 如果使用get方式取值不会崩溃，会返回None\n",
    "#get也可以设置字典的默认值，增加了一个元素\n",
    "result = my_dict.get(\"sex\")\n",
    "print(result)\n",
    "print(my_dict)"
   ]
  },
  {
   "cell_type": "code",
   "execution_count": null,
   "metadata": {},
   "outputs": [],
   "source": []
  }
 ],
 "metadata": {
  "kernelspec": {
   "display_name": "Python 3",
   "language": "python",
   "name": "python3"
  },
  "language_info": {
   "codemirror_mode": {
    "name": "ipython",
    "version": 3
   },
   "file_extension": ".py",
   "mimetype": "text/x-python",
   "name": "python",
   "nbconvert_exporter": "python",
   "pygments_lexer": "ipython3",
   "version": "3.7.3"
  }
 },
 "nbformat": 4,
 "nbformat_minor": 2
}
