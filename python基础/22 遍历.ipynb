{
 "cells": [
  {
   "cell_type": "code",
   "execution_count": 1,
   "metadata": {},
   "outputs": [
    {
     "name": "stdout",
     "output_type": "stream",
     "text": [
      "a\n",
      "b\n",
      "c\n"
     ]
    }
   ],
   "source": [
    "#for 循环最经常的使用方式就是遍历（所有容器类型）\n",
    "#获取所有容器类型里面的元素，就是遍历（字符串，列表，元组，字典，集合）\n",
    "\n",
    "#遍历字符串\n",
    "my_str = 'abc'\n",
    "for value in my_str:\n",
    "    print(value)"
   ]
  },
  {
   "cell_type": "code",
   "execution_count": 1,
   "metadata": {},
   "outputs": [
    {
     "name": "stdout",
     "output_type": "stream",
     "text": [
      "苹果\n",
      "草莓\n",
      "香蕉\n",
      "梨子\n"
     ]
    }
   ],
   "source": [
    "#遍历列表\n",
    "my_list = [\"苹果\",\"草莓\",\"香蕉\",\"梨子\"]\n",
    "for value in my_list:\n",
    "    print(value)"
   ]
  },
  {
   "cell_type": "code",
   "execution_count": 5,
   "metadata": {},
   "outputs": [
    {
     "name": "stdout",
     "output_type": "stream",
     "text": [
      "序号: 1 内容:苹果\n",
      "序号: 2 内容:草莓\n",
      "序号: 3 内容:香蕉\n",
      "序号: 4 内容:梨子\n"
     ]
    }
   ],
   "source": [
    "my_list = [\"苹果\",\"草莓\",\"香蕉\",\"梨子\"]\n",
    "for i in my_list:\n",
    "    print(\"序号: %s 内容:%s\"%(my_list.index(i)+1,i))"
   ]
  },
  {
   "cell_type": "code",
   "execution_count": 7,
   "metadata": {},
   "outputs": [
    {
     "name": "stdout",
     "output_type": "stream",
     "text": [
      "<class 'enumerate'>\n",
      "(0, '苹果') <class 'tuple'>\n",
      "(1, '草莓') <class 'tuple'>\n"
     ]
    }
   ],
   "source": [
    "#把列表中的元素都遍历出来，还想对应的下标\n",
    "my_list = enumerate([\"苹果\",\"草莓\"])\n",
    "print(type(my_list))\n",
    "for value in my_list:\n",
    "    print(value,type(value))\n"
   ]
  },
  {
   "cell_type": "code",
   "execution_count": 8,
   "metadata": {},
   "outputs": [
    {
     "name": "stdout",
     "output_type": "stream",
     "text": [
      "<class 'enumerate'>\n",
      "0 苹果\n",
      "1 草莓\n"
     ]
    }
   ],
   "source": [
    "#拆包：获取容器类型中所有元素和所有下标\n",
    "my_list = enumerate([\"苹果\",\"草莓\"])\n",
    "print(type(my_list))\n",
    "for index,value in my_list:\n",
    "    print(index,value)"
   ]
  },
  {
   "cell_type": "code",
   "execution_count": 13,
   "metadata": {},
   "outputs": [
    {
     "name": "stdout",
     "output_type": "stream",
     "text": [
      "1\n",
      "5\n",
      "(0, 1)\n",
      "(1, 5)\n"
     ]
    }
   ],
   "source": [
    "#元组\n",
    "for value in ((1,5)):\n",
    "    print(value)\n",
    "\n",
    "for value in enumerate((1,5)):\n",
    "    print(value)"
   ]
  },
  {
   "cell_type": "code",
   "execution_count": 11,
   "metadata": {},
   "outputs": [
    {
     "name": "stdout",
     "output_type": "stream",
     "text": [
      "0 1\n",
      "1 5\n"
     ]
    }
   ],
   "source": [
    "#元组拆包\n",
    "for index,value in enumerate((1,5)):\n",
    "    print(index,value)"
   ]
  },
  {
   "cell_type": "code",
   "execution_count": 14,
   "metadata": {},
   "outputs": [
    {
     "name": "stdout",
     "output_type": "stream",
     "text": [
      "name\n",
      "age\n"
     ]
    }
   ],
   "source": [
    "#字典遍历\n",
    "my_dict = {\"name\":\"·和春娇\",\"age\":6}\n",
    "#遍历（默认遍历出来的是key）\n",
    "for key in my_dict:\n",
    "    print(key)"
   ]
  },
  {
   "cell_type": "code",
   "execution_count": 19,
   "metadata": {},
   "outputs": [
    {
     "name": "stdout",
     "output_type": "stream",
     "text": [
      "·和春娇\n",
      "6\n"
     ]
    }
   ],
   "source": [
    "#遍历value\n",
    "my_dict = {\"name\":\"·和春娇\",\"age\":6}\n",
    "#遍历（默认遍历出来的是key）\n",
    "for value in my_dict.values():\n",
    "    print(value)"
   ]
  },
  {
   "cell_type": "code",
   "execution_count": 21,
   "metadata": {},
   "outputs": [
    {
     "name": "stdout",
     "output_type": "stream",
     "text": [
      "name 隔壁老王\n",
      "age 6\n"
     ]
    }
   ],
   "source": [
    "#将key和value全部都遍历出来\n",
    "my dict = {\"name\":\"隔壁老王\",\"age\":6}\n",
    "print(my_dict)\n",
    "for key,value in {\"name\":\"隔壁老王\",\"age\":6}.items():\n",
    "    print(key,value)"
   ]
  },
  {
   "cell_type": "code",
   "execution_count": 6,
   "metadata": {},
   "outputs": [
    {
     "name": "stdout",
     "output_type": "stream",
     "text": [
      "1\n",
      "3\n",
      "4\n"
     ]
    }
   ],
   "source": [
    "#集合\n",
    "my_set = {1,3,4}\n",
    "\n",
    "for value in my_set:\n",
    "    print(value)\n"
   ]
  },
  {
   "cell_type": "code",
   "execution_count": null,
   "metadata": {},
   "outputs": [],
   "source": []
  }
 ],
 "metadata": {
  "kernelspec": {
   "display_name": "Python 3",
   "language": "python",
   "name": "python3"
  },
  "language_info": {
   "codemirror_mode": {
    "name": "ipython",
    "version": 3
   },
   "file_extension": ".py",
   "mimetype": "text/x-python",
   "name": "python",
   "nbconvert_exporter": "python",
   "pygments_lexer": "ipython3",
   "version": "3.7.3"
  }
 },
 "nbformat": 4,
 "nbformat_minor": 2
}
