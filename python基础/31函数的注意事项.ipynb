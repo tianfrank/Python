{
 "cells": [
  {
   "cell_type": "code",
   "execution_count": 8,
   "metadata": {},
   "outputs": [
    {
     "name": "stdout",
     "output_type": "stream",
     "text": [
      "周周 20 (1, 2, 3, 4) {'a': '苹果', 'b': '香蕉'}\n",
      "(1, 2) 周启红 18 {'a1': 1, 'b1': 2}\n"
     ]
    }
   ],
   "source": [
    "def show_msg(name,age,*args,**kwargs):  #name,age为位置参数，*arg为不定长位置参数，**kwargs为不定长关键字参数\n",
    "    print(name,age,args,kwargs)\n",
    "    \n",
    "#不能使用下列方式调用，因为前面使用了关键字传参，后面不能使用位置传参\n",
    "#show_msg(name=\"周启红\",age=18,1,4,c=1,b=2)\n",
    "show_msg(\"周周\",20,1,2,3,4,a=\"苹果\",b=\"香蕉\")\n",
    "\n",
    "def show(*args,name,age,**kwargs):\n",
    "    print(args,name,age,kwargs)\n",
    "##kwargs必须放置在后面（不定长关键字参数放置在后面）\n",
    "show(1,2,name=\"周启红\",age=18,a1=1,b1=2)"
   ]
  },
  {
   "cell_type": "code",
   "execution_count": 10,
   "metadata": {},
   "outputs": [
    {
     "name": "stdout",
     "output_type": "stream",
     "text": [
      "春去秋来\n"
     ]
    }
   ],
   "source": [
    "#函数的注意事项：1.函数名不能相同\n",
    "\n",
    "def display():\n",
    "    print(\"春暖花开\")\n",
    "\n",
    "def display():\n",
    "    print(\"春去秋来\")\n",
    "\n",
    "#提示一下：如果定义了第二个函数和第一个函数名相同，那么第一个函数不能使用\n",
    "#被覆盖掉了\n",
    "\n",
    "display()"
   ]
  },
  {
   "cell_type": "code",
   "execution_count": 18,
   "metadata": {},
   "outputs": [
    {
     "name": "stdout",
     "output_type": "stream",
     "text": [
      "这是一个函数\n"
     ]
    }
   ],
   "source": [
    "#定义变量名和函数名相同\n",
    "#变量名覆盖了函数名，所有不能使用\n",
    "def display():\n",
    "    print(\"这是一个函数\")\n",
    "#dispaly = 10 #变量覆盖了函数\n",
    "#print(diplay)\n",
    "display() #\n"
   ]
  },
  {
   "cell_type": "code",
   "execution_count": 15,
   "metadata": {},
   "outputs": [],
   "source": [
    "#函数里面有可以使用pass\n",
    "def show():\n",
    "    pass"
   ]
  },
  {
   "cell_type": "code",
   "execution_count": null,
   "metadata": {},
   "outputs": [],
   "source": []
  }
 ],
 "metadata": {
  "kernelspec": {
   "display_name": "Python 3",
   "language": "python",
   "name": "python3"
  },
  "language_info": {
   "codemirror_mode": {
    "name": "ipython",
    "version": 3
   },
   "file_extension": ".py",
   "mimetype": "text/x-python",
   "name": "python",
   "nbconvert_exporter": "python",
   "pygments_lexer": "ipython3",
   "version": "3.7.3"
  }
 },
 "nbformat": 4,
 "nbformat_minor": 2
}
