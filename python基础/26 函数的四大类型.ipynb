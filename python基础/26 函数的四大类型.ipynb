{
 "cells": [
  {
   "cell_type": "code",
   "execution_count": 2,
   "metadata": {},
   "outputs": [
    {
     "name": "stdout",
     "output_type": "stream",
     "text": [
      "大家好，疫情已经结束了,穿暖花开，出来散步吧！\n"
     ]
    }
   ],
   "source": [
    "#无参数无返回值的函数\n",
    "\n",
    "def show():\n",
    "    #函数体里面的代码执行完毕，返回到函数的调用处\n",
    "    print(\"大家好，疫情已经结束了,穿暖花开，出来散步吧！\")\n",
    "#函数的调用\n",
    "show()"
   ]
  },
  {
   "cell_type": "code",
   "execution_count": 3,
   "metadata": {},
   "outputs": [
    {
     "name": "stdout",
     "output_type": "stream",
     "text": [
      "10\n"
     ]
    }
   ],
   "source": [
    "#无参数有返回值的函数\n",
    "def show():\n",
    "    result = 10\n",
    "    #带有数据返回到代码的调用处\n",
    "    return result #带着result返回到函数的调用处\n",
    "value = show()\n",
    "print(value)"
   ]
  },
  {
   "cell_type": "code",
   "execution_count": 6,
   "metadata": {},
   "outputs": [
    {
     "name": "stdout",
     "output_type": "stream",
     "text": [
      "我叫Geoffrey 年龄：18\n"
     ]
    }
   ],
   "source": [
    "#有参数无返回值的\n",
    "def show(name,age):\n",
    "    print(\"我叫%s 年龄：%d\" %(name,age))\n",
    "show(\"Geoffrey\",18)"
   ]
  },
  {
   "cell_type": "code",
   "execution_count": 9,
   "metadata": {},
   "outputs": [
    {
     "name": "stdout",
     "output_type": "stream",
     "text": [
      "我叫李四! 年龄:40\n"
     ]
    }
   ],
   "source": [
    "#有参数有返回值的\n",
    "def show_msg(name,age):\n",
    "    msg = \"我叫%s! 年龄:%d\" %(name,age)\n",
    "    return msg\n",
    "\n",
    "result = show_msg(\"李四\",40)\n",
    "print(result)"
   ]
  },
  {
   "cell_type": "code",
   "execution_count": null,
   "metadata": {},
   "outputs": [],
   "source": []
  }
 ],
 "metadata": {
  "kernelspec": {
   "display_name": "Python 3",
   "language": "python",
   "name": "python3"
  },
  "language_info": {
   "codemirror_mode": {
    "name": "ipython",
    "version": 3
   },
   "file_extension": ".py",
   "mimetype": "text/x-python",
   "name": "python",
   "nbconvert_exporter": "python",
   "pygments_lexer": "ipython3",
   "version": "3.7.3"
  }
 },
 "nbformat": 4,
 "nbformat_minor": 2
}
