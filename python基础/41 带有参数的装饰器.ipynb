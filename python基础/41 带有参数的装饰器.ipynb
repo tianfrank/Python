{
 "cells": [
  {
   "cell_type": "code",
   "execution_count": 2,
   "metadata": {},
   "outputs": [
    {
     "name": "stdout",
     "output_type": "stream",
     "text": [
      "计算结果如下:\n",
      "5\n"
     ]
    }
   ],
   "source": [
    "#定义一个装饰器\n",
    "\n",
    "def decorator(func):\n",
    "    def inner(num1,num2):\n",
    "        print(\"计算结果如下:\")\n",
    "        #调用的时候要知道真正调用的是哪个函数\n",
    "        #func才是真正的sum\n",
    "        result = func(num1,num2)\n",
    "        #返回结果\n",
    "        return result\n",
    "    return inner\n",
    "\n",
    "#定义了一个带有参数的函数，装饰器修饰他\n",
    "@decorator  #sum = decorator(sum) #语法糖的操作\n",
    "def sum(num1,num2):\n",
    "    \n",
    "    result = num1+num2\n",
    "    return result\n",
    "result = sum(2,3)\n",
    "print(result)\n",
    "    "
   ]
  },
  {
   "cell_type": "code",
   "execution_count": null,
   "metadata": {},
   "outputs": [],
   "source": []
  },
  {
   "cell_type": "code",
   "execution_count": null,
   "metadata": {},
   "outputs": [],
   "source": []
  }
 ],
 "metadata": {
  "kernelspec": {
   "display_name": "Python 3",
   "language": "python",
   "name": "python3"
  },
  "language_info": {
   "codemirror_mode": {
    "name": "ipython",
    "version": 3
   },
   "file_extension": ".py",
   "mimetype": "text/x-python",
   "name": "python",
   "nbconvert_exporter": "python",
   "pygments_lexer": "ipython3",
   "version": "3.7.3"
  }
 },
 "nbformat": 4,
 "nbformat_minor": 2
}
