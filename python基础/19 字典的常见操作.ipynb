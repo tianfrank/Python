{
 "cells": [
  {
   "cell_type": "code",
   "execution_count": 1,
   "metadata": {},
   "outputs": [
    {
     "name": "stdout",
     "output_type": "stream",
     "text": [
      "{} <class 'dict'>\n"
     ]
    }
   ],
   "source": [
    "#定义一个空的自动\n",
    "my_dict = {}\n",
    "print(my_dict,type(my_dict))"
   ]
  },
  {
   "cell_type": "code",
   "execution_count": 4,
   "metadata": {},
   "outputs": [
    {
     "name": "stdout",
     "output_type": "stream",
     "text": [
      "{'name': '张三'}\n",
      "{'name': '李四', 'age': 19, 'sex': '女', 'address': '上海'}\n"
     ]
    }
   ],
   "source": [
    "#给字典增加键值对\n",
    "my_dict[\"name\"] = \"张三\"\n",
    "print(my_dict)\n",
    "#key是唯一的（如果增加重复，会更新value）\n",
    "my_dict[\"name\"] = \"李四\"\n",
    "my_dict[\"age\"] = 19\n",
    "my_dict[\"sex\"] = \"女\"\n",
    "my_dict[\"address\"] = \"上海\"\n",
    "print(my_dict)"
   ]
  },
  {
   "cell_type": "code",
   "execution_count": 5,
   "metadata": {},
   "outputs": [
    {
     "name": "stdout",
     "output_type": "stream",
     "text": [
      "{'name': '李四', 'age': 66, 'sex': '女', 'address': '上海'}\n"
     ]
    }
   ],
   "source": [
    "#修改键值对\n",
    "my_dict [\"age\"] = 66\n",
    "print(my_dict)"
   ]
  },
  {
   "cell_type": "code",
   "execution_count": 6,
   "metadata": {},
   "outputs": [
    {
     "name": "stdout",
     "output_type": "stream",
     "text": [
      "{'name': '李四', 'sex': '女', 'address': '上海'}\n"
     ]
    }
   ],
   "source": [
    "#删除（删除整个字典）\n",
    "# a = 10\n",
    "# del a\n",
    "# print(a) #会报错，因为已经删除了a\n",
    "\n",
    "#del my_dict\n",
    "#print(my_dict)\n",
    "\n",
    "del my_dict[\"age\"]\n",
    "print(my_dict)"
   ]
  },
  {
   "cell_type": "code",
   "execution_count": 8,
   "metadata": {},
   "outputs": [
    {
     "name": "stdout",
     "output_type": "stream",
     "text": [
      "{'name': '李四', 'age': 19, 'sex': '女'} ('address', '上海')\n"
     ]
    }
   ],
   "source": [
    "#字典还是无序的\n",
    "my_dict={'name': '李四', 'age': 19, 'sex': '女', 'address': '上海'}\n",
    "#随机删除\n",
    "value = my_dict.popitem()\n",
    "print(my_dict,value)\n"
   ]
  },
  {
   "cell_type": "code",
   "execution_count": 9,
   "metadata": {},
   "outputs": [
    {
     "name": "stdout",
     "output_type": "stream",
     "text": [
      "{'name': '李四', 'sex': '女'} 19\n"
     ]
    }
   ],
   "source": [
    "#指定数据删除（返回值是删除数据的value）\n",
    "value = my_dict.pop(\"age\")\n",
    "print(my_dict,value)"
   ]
  },
  {
   "cell_type": "code",
   "execution_count": 11,
   "metadata": {},
   "outputs": [
    {
     "name": "stdout",
     "output_type": "stream",
     "text": [
      "dict_values(['李四', '女'])\n",
      "dict_keys(['name', 'sex'])\n"
     ]
    }
   ],
   "source": [
    "#获取所有的value\n",
    "result = my_dict.values()\n",
    "print(result)\n",
    "#获取所有的key\n",
    "keys = my_dict.keys()\n",
    "print(keys)"
   ]
  },
  {
   "cell_type": "code",
   "execution_count": 12,
   "metadata": {},
   "outputs": [
    {
     "name": "stdout",
     "output_type": "stream",
     "text": [
      "False\n"
     ]
    }
   ],
   "source": [
    "#判断key是否在字典里面\n",
    "result = \"age\" in my_dict\n",
    "print(result)"
   ]
  },
  {
   "cell_type": "code",
   "execution_count": 13,
   "metadata": {},
   "outputs": [
    {
     "name": "stdout",
     "output_type": "stream",
     "text": [
      "2\n"
     ]
    }
   ],
   "source": [
    "#查看键值对的个数,可以应用于字典、列表、元组\n",
    "result = len(my_dict)\n",
    "print(result)"
   ]
  },
  {
   "cell_type": "code",
   "execution_count": null,
   "metadata": {},
   "outputs": [],
   "source": []
  }
 ],
 "metadata": {
  "kernelspec": {
   "display_name": "Python 3",
   "language": "python",
   "name": "python3"
  },
  "language_info": {
   "codemirror_mode": {
    "name": "ipython",
    "version": 3
   },
   "file_extension": ".py",
   "mimetype": "text/x-python",
   "name": "python",
   "nbconvert_exporter": "python",
   "pygments_lexer": "ipython3",
   "version": "3.7.3"
  }
 },
 "nbformat": 4,
 "nbformat_minor": 2
}
