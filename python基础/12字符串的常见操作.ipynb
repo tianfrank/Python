{
 "cells": [
  {
   "cell_type": "code",
   "execution_count": 5,
   "metadata": {},
   "outputs": [
    {
     "name": "stdout",
     "output_type": "stream",
     "text": [
      "<class 'str'>\n",
      "2\n"
     ]
    }
   ],
   "source": [
    "my_str = \"PekingUniversity\"\n",
    "print(type(my_str))\n",
    "#根据指定数据查找对应的下标\n",
    "#下标(索引)是从0开始的\n",
    "result = my_str.index(\"k\")\n",
    "print(result)"
   ]
  },
  {
   "cell_type": "code",
   "execution_count": 3,
   "metadata": {},
   "outputs": [
    {
     "name": "stdout",
     "output_type": "stream",
     "text": [
      "-1\n"
     ]
    }
   ],
   "source": [
    "#find和index有区别:find如果没有找到数据返回的是-1\n",
    "#index如果没有找到数据，会崩溃\n",
    "result = my_str.find(\"a\")\n",
    "print(result)"
   ]
  },
  {
   "cell_type": "code",
   "execution_count": 7,
   "metadata": {},
   "outputs": [
    {
     "name": "stdout",
     "output_type": "stream",
     "text": [
      "16\n"
     ]
    }
   ],
   "source": [
    "#统计字符串的长度\n",
    "result = len(my_str)\n",
    "print(result)"
   ]
  },
  {
   "cell_type": "code",
   "execution_count": 8,
   "metadata": {},
   "outputs": [
    {
     "name": "stdout",
     "output_type": "stream",
     "text": [
      "2\n"
     ]
    }
   ],
   "source": [
    "#统计字符串中字符出现的次数\n",
    "my_str = \"PekingUniversity\"\n",
    "result = my_str.count(\"e\")\n",
    "print(result)"
   ]
  },
  {
   "cell_type": "code",
   "execution_count": 10,
   "metadata": {},
   "outputs": [
    {
     "name": "stdout",
     "output_type": "stream",
     "text": [
      "PxkingUnivxrsity\n"
     ]
    }
   ],
   "source": [
    "#替换字符串的指定数据\n",
    "result = my_str.replace(\"e\",\"x\")\n",
    "print(result)"
   ]
  },
  {
   "cell_type": "code",
   "execution_count": 11,
   "metadata": {},
   "outputs": [
    {
     "name": "stdout",
     "output_type": "stream",
     "text": [
      "苹果,橘子,香蕉\n"
     ]
    }
   ],
   "source": [
    "#字符串的分隔\n",
    "my_str = \"苹果,橘子,香蕉\"\n",
    "print(my_str)"
   ]
  },
  {
   "cell_type": "code",
   "execution_count": 13,
   "metadata": {},
   "outputs": [
    {
     "name": "stdout",
     "output_type": "stream",
     "text": [
      "['苹果,橘子,香蕉']\n"
     ]
    }
   ],
   "source": [
    "#以字符串分隔\n",
    "#result = my_str.split(\",\") #以逗号分隔，分割成列表\n",
    "result = my_str.split(\" \")\n",
    "print(result)"
   ]
  },
  {
   "cell_type": "code",
   "execution_count": null,
   "metadata": {},
   "outputs": [],
   "source": [
    "#判断字符串串是否以指定数据开头\n"
   ]
  }
 ],
 "metadata": {
  "kernelspec": {
   "display_name": "Python 3",
   "language": "python",
   "name": "python3"
  },
  "language_info": {
   "codemirror_mode": {
    "name": "ipython",
    "version": 3
   },
   "file_extension": ".py",
   "mimetype": "text/x-python",
   "name": "python",
   "nbconvert_exporter": "python",
   "pygments_lexer": "ipython3",
   "version": "3.7.3"
  }
 },
 "nbformat": 4,
 "nbformat_minor": 2
}
