{
 "cells": [
  {
   "cell_type": "code",
   "execution_count": 2,
   "metadata": {},
   "outputs": [
    {
     "name": "stdout",
     "output_type": "stream",
     "text": [
      "<function show.<locals>.inner at 0x0000016688EDF2F0>\n",
      "春暖花开 0\n"
     ]
    }
   ],
   "source": [
    "#闭包：闭包本质上也是一个函数（高阶函数）\n",
    "#在函数嵌套的前提下，内部函数使用了外部函数的参数或者变量\n",
    "#并且把这个内部函数返回，那么返回的函数就叫做闭包\n",
    "\n",
    "def show(msg):\n",
    "    #外部的变量\n",
    "    num = 0\n",
    "    def inner():\n",
    "        print(msg,num)\n",
    "    return inner\n",
    "\n",
    "new_func = show(\"春暖花开\")\n",
    "print(new_func)\n",
    "#调用闭包\n",
    "new_func()\n",
    "        "
   ]
  },
  {
   "cell_type": "code",
   "execution_count": 3,
   "metadata": {},
   "outputs": [
    {
     "name": "stdout",
     "output_type": "stream",
     "text": [
      "aaaaaaaaaa\n"
     ]
    }
   ],
   "source": [
    "#正常 \n",
    "#任务：打印10个a\n",
    "\n",
    "def hello(count): #打印10个a\n",
    "    result = 'a' * count\n",
    "    return result\n",
    "result = hello(10)\n",
    "print(result)"
   ]
  },
  {
   "cell_type": "code",
   "execution_count": 4,
   "metadata": {},
   "outputs": [
    {
     "name": "stdout",
     "output_type": "stream",
     "text": [
      "<function hello.<locals>.return_msg at 0x0000016688EE2950> <function hello.<locals>.return_msg at 0x0000016688EE2BF8> ___________________\n",
      "aaaaaaaaaa\n",
      "bbbbbbbbbb\n"
     ]
    }
   ],
   "source": [
    "#闭包的应用场景：可以根据参数生成不同的返回函数\n",
    "#通过闭包生成不同函数\n",
    "#任务：打印10个a,10个b\n",
    "\n",
    "#方法一：用闭包\n",
    "def hello(msg,count):\n",
    "    def return_msg():\n",
    "        result = msg*count\n",
    "        return result\n",
    "    return return_msg\n",
    "\n",
    "#\n",
    "new_func1 = hello(\"a\",10)\n",
    "new_func2 = hello(\"b\",10)\n",
    "\n",
    "#根据不同的参数返回不同的函数\n",
    "print(new_func1,new_func2,\"___________________\")\n",
    "\n",
    "value = new_func1()\n",
    "result = new_func2()\n",
    "print(value)\n",
    "print(result)\n"
   ]
  },
  {
   "cell_type": "code",
   "execution_count": 5,
   "metadata": {},
   "outputs": [
    {
     "name": "stdout",
     "output_type": "stream",
     "text": [
      "bbbbbbbbbb\n"
     ]
    }
   ],
   "source": [
    "#方法二，打印10个a，10个b\n",
    "\n",
    "def hello(msg,count) :#打印10个a\n",
    "    result = msg*count\n",
    "    return result\n",
    "result = hello(\"b\",10)\n",
    "print(result)"
   ]
  },
  {
   "cell_type": "code",
   "execution_count": null,
   "metadata": {},
   "outputs": [],
   "source": []
  }
 ],
 "metadata": {
  "kernelspec": {
   "display_name": "Python 3",
   "language": "python",
   "name": "python3"
  },
  "language_info": {
   "codemirror_mode": {
    "name": "ipython",
    "version": 3
   },
   "file_extension": ".py",
   "mimetype": "text/x-python",
   "name": "python",
   "nbconvert_exporter": "python",
   "pygments_lexer": "ipython3",
   "version": "3.7.3"
  }
 },
 "nbformat": 4,
 "nbformat_minor": 2
}
