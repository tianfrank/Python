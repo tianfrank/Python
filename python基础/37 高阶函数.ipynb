{
 "cells": [
  {
   "cell_type": "code",
   "execution_count": 2,
   "metadata": {},
   "outputs": [
    {
     "name": "stdout",
     "output_type": "stream",
     "text": [
      "4\n",
      "None\n"
     ]
    }
   ],
   "source": [
    "#高阶函数：当一个函数的参数可以接受另外一个函数\n",
    "#函数作为参数\n",
    "#或者，还可以返回一个函数，那么这个函数就叫做高阶函数\n",
    "\n",
    "#只有参数是函数的高阶函数\n",
    "def sum_num(num1,num2):\n",
    "    result = num1 + num2\n",
    "    return result\n",
    "\n",
    "#高阶函数，接受参数为韩\n",
    "def calc_num(new_func):\n",
    "    #new_func就是外部传来的函数\n",
    "    result = new_func(2,2)\n",
    "    print(result)\n",
    "#调用clac_num函数（参数为sum_num的函数）\n",
    "result = calc_num(sum_num)\n",
    "print(result)"
   ]
  },
  {
   "cell_type": "code",
   "execution_count": null,
   "metadata": {},
   "outputs": [],
   "source": [
    "#需要重新看，有点难"
   ]
  },
  {
   "cell_type": "code",
   "execution_count": 4,
   "metadata": {},
   "outputs": [
    {
     "name": "stdout",
     "output_type": "stream",
     "text": [
      "春暖花开\n"
     ]
    }
   ],
   "source": [
    "#高阶函数：还可以返回函数，既有参数是函数，又有返回值是函数\n",
    "\n",
    "def text(new_func):\n",
    "    #调用传入的外部函数\n",
    "    new_func()\n",
    "    #内部函数\n",
    "    def inner():\n",
    "        print(\"我是内部函数\")\n",
    "#需要传入参数函数\n",
    "def show_msg():\n",
    "    print(\"春暖花开\")\n",
    "\n",
    "#调用高阶函数\n",
    "#newfunc就是text函数里面的inner\n",
    "new_func = text(show_msg)\n",
    "# new_func()"
   ]
  },
  {
   "cell_type": "code",
   "execution_count": null,
   "metadata": {},
   "outputs": [],
   "source": [
    "#需要重新看一遍"
   ]
  }
 ],
 "metadata": {
  "kernelspec": {
   "display_name": "Python 3",
   "language": "python",
   "name": "python3"
  },
  "language_info": {
   "codemirror_mode": {
    "name": "ipython",
    "version": 3
   },
   "file_extension": ".py",
   "mimetype": "text/x-python",
   "name": "python",
   "nbconvert_exporter": "python",
   "pygments_lexer": "ipython3",
   "version": "3.7.3"
  }
 },
 "nbformat": 4,
 "nbformat_minor": 2
}
