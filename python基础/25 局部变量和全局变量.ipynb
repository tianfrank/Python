{
 "cells": [
  {
   "cell_type": "code",
   "execution_count": 7,
   "metadata": {},
   "outputs": [
    {
     "name": "stdout",
     "output_type": "stream",
     "text": [
      "100\n"
     ]
    }
   ],
   "source": [
    "#1局部变量：在函数内定义的变量叫作局部变量，局部变量智只能在函数体里使用\n",
    "\n",
    "def show():\n",
    "    #作用域\n",
    "    score = 100 #局部变量\n",
    "    print(score)\n",
    "show()\n",
    "#print(score)#不能打印会报错\n",
    "    \n",
    "# sef show_msg():\n",
    "#     print(score)\n",
    "    "
   ]
  },
  {
   "cell_type": "code",
   "execution_count": null,
   "metadata": {},
   "outputs": [],
   "source": []
  },
  {
   "cell_type": "code",
   "execution_count": 10,
   "metadata": {},
   "outputs": [
    {
     "name": "stdout",
     "output_type": "stream",
     "text": [
      "99\n",
      "100\n"
     ]
    }
   ],
   "source": [
    "#全局变量：在函数外定义的变量叫做全局变量\n",
    "#特点：全局变量可以在不同的函数里面使用，可以在任何地方使用\n",
    "score = 100 #全局变量\n",
    "\n",
    "def show():\n",
    "    #定义了一个局部变量，只不过这个局部变量和全局变量的名字一样\n",
    "    #score = 99  #局部变量\n",
    "      \n",
    "    score = 99\n",
    "    \n",
    "    print(score)\n",
    "show() #执行的是局部变量\n",
    "print(score) #打印的就是全局变量"
   ]
  },
  {
   "cell_type": "code",
   "execution_count": 11,
   "metadata": {},
   "outputs": [
    {
     "name": "stdout",
     "output_type": "stream",
     "text": [
      "99\n",
      "99\n"
     ]
    }
   ],
   "source": [
    "#全局变量：在函数外定义的变量叫做全局变量\n",
    "#特点：全局变量可以在不同的函数里面使用，可以在任何地方使用\n",
    "score = 100 #全局变量\n",
    "\n",
    "def show():\n",
    "    #定义了一个局部变量，只不过这个局部变量和全局变量的名字一样\n",
    "    #score = 99  #局部变量\n",
    "    #修改全局变量（在函数体）\n",
    "    global score\n",
    "    score = 99\n",
    "    \n",
    "    print(score)\n",
    "show()\n",
    "print(score) #修改成了全局变量，就打印了全局变量"
   ]
  },
  {
   "cell_type": "code",
   "execution_count": null,
   "metadata": {},
   "outputs": [],
   "source": []
  }
 ],
 "metadata": {
  "kernelspec": {
   "display_name": "Python 3",
   "language": "python",
   "name": "python3"
  },
  "language_info": {
   "codemirror_mode": {
    "name": "ipython",
    "version": 3
   },
   "file_extension": ".py",
   "mimetype": "text/x-python",
   "name": "python",
   "nbconvert_exporter": "python",
   "pygments_lexer": "ipython3",
   "version": "3.7.3"
  }
 },
 "nbformat": 4,
 "nbformat_minor": 2
}
