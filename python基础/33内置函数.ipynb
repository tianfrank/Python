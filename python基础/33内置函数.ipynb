{
 "cells": [
  {
   "cell_type": "code",
   "execution_count": 2,
   "metadata": {},
   "outputs": [
    {
     "name": "stdout",
     "output_type": "stream",
     "text": [
      "3\n",
      "2\n",
      "1\n"
     ]
    }
   ],
   "source": [
    "#内置函数：可以直接使用的函数（不不需要自己声明，python已经定义好了）\n",
    "#print,len,max,min,sort\n",
    "#api(接口)\n",
    "#len可以统计容器类型的长度（个数）（字符串，列表，元组，字典，集合）\n",
    "#统计字符串的个数\n",
    "\n",
    "my_str = \"abc\"\n",
    "result = len(my_str)\n",
    "print(result)\n",
    "\n",
    "#列表\n",
    "result = len([\"a\",\"b\"])\n",
    "print(result)\n",
    "\n",
    "#字典\n",
    "result = len({\"a\":\"b\"})\n",
    "print(result)"
   ]
  },
  {
   "cell_type": "code",
   "execution_count": 3,
   "metadata": {},
   "outputs": [
    {
     "name": "stdout",
     "output_type": "stream",
     "text": [
      "3\n",
      "2000\n",
      "10\n"
     ]
    }
   ],
   "source": [
    "#max函数  统计容器类型数据中的最大值\n",
    "result = max(\"13200\")\n",
    "print(result)\n",
    "\n",
    "#列表\n",
    "result = max([4,10,2000])\n",
    "print(result)\n",
    "\n",
    "#min统计容器类型数据中的最小值\n",
    "result = min([10,20,30])\n",
    "print(result)"
   ]
  },
  {
   "cell_type": "code",
   "execution_count": 4,
   "metadata": {},
   "outputs": [
    {
     "name": "stdout",
     "output_type": "stream",
     "text": [
      "[8, 7, 6]\n"
     ]
    }
   ],
   "source": [
    "#列表排序（会返回一个新的列表）\n",
    "#系统的内置函数\n",
    "new_list = sorted([8,6,7],reverse=True) #reverse = True表示倒序方式排序\n",
    "print(new_list)"
   ]
  },
  {
   "cell_type": "code",
   "execution_count": 5,
   "metadata": {},
   "outputs": [
    {
     "ename": "NameError",
     "evalue": "name 'new_list' is not defined",
     "output_type": "error",
     "traceback": [
      "\u001b[1;31m---------------------------------------------------------------------------\u001b[0m",
      "\u001b[1;31mNameError\u001b[0m                                 Traceback (most recent call last)",
      "\u001b[1;32m<ipython-input-5-6bbf2fc5f6ab>\u001b[0m in \u001b[0;36m<module>\u001b[1;34m\u001b[0m\n\u001b[0;32m      1\u001b[0m \u001b[1;31m#删除变量\u001b[0m\u001b[1;33m\u001b[0m\u001b[1;33m\u001b[0m\u001b[1;33m\u001b[0m\u001b[0m\n\u001b[0;32m      2\u001b[0m \u001b[1;32mdel\u001b[0m \u001b[0mnew_list\u001b[0m\u001b[1;33m\u001b[0m\u001b[1;33m\u001b[0m\u001b[0m\n\u001b[1;32m----> 3\u001b[1;33m \u001b[0mprint\u001b[0m\u001b[1;33m(\u001b[0m\u001b[0mnew_list\u001b[0m\u001b[1;33m)\u001b[0m\u001b[1;33m\u001b[0m\u001b[1;33m\u001b[0m\u001b[0m\n\u001b[0m",
      "\u001b[1;31mNameError\u001b[0m: name 'new_list' is not defined"
     ]
    }
   ],
   "source": [
    "#删除变量\n",
    "del new_list #删除变量，打印会报错\n",
    "print(new_list)"
   ]
  },
  {
   "cell_type": "code",
   "execution_count": null,
   "metadata": {},
   "outputs": [],
   "source": []
  }
 ],
 "metadata": {
  "kernelspec": {
   "display_name": "Python 3",
   "language": "python",
   "name": "python3"
  },
  "language_info": {
   "codemirror_mode": {
    "name": "ipython",
    "version": 3
   },
   "file_extension": ".py",
   "mimetype": "text/x-python",
   "name": "python",
   "nbconvert_exporter": "python",
   "pygments_lexer": "ipython3",
   "version": "3.7.3"
  }
 },
 "nbformat": 4,
 "nbformat_minor": 2
}
