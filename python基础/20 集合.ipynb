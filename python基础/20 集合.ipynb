{
 "cells": [
  {
   "cell_type": "code",
   "execution_count": 1,
   "metadata": {},
   "outputs": [
    {
     "name": "stdout",
     "output_type": "stream",
     "text": [
      "set() <class 'set'>\n"
     ]
    }
   ],
   "source": [
    "#集合：以大括号形式表现的数据集合，集合里面的数据不可以重复\n",
    "#不可以以此方式定义空的集合\n",
    "my_set = set()\n",
    "print(my_set,type(my_set))\n",
    "#第一一个集合\n",
    "my_set={1,4,\"Abc\",\"hello\"}"
   ]
  },
  {
   "cell_type": "code",
   "execution_count": 3,
   "metadata": {},
   "outputs": [
    {
     "name": "stdout",
     "output_type": "stream",
     "text": [
      "{'hello', 1, 4}\n"
     ]
    }
   ],
   "source": [
    "#删除数据（删除指定数据）（不能删除没有的数据）\n",
    "\n",
    "#del my_set 删除整个集合\n",
    "\n",
    "my_set.remove(\"Abc\")\n",
    "print(my_set)\n",
    "\n"
   ]
  },
  {
   "cell_type": "code",
   "execution_count": 4,
   "metadata": {},
   "outputs": [
    {
     "name": "stdout",
     "output_type": "stream",
     "text": [
      "{1, 4, '5', 'hello'}\n"
     ]
    }
   ],
   "source": [
    "#添加数据，集合也是无序的\n",
    "my_set.add(\"5\")\n",
    "#不可以添加重复的数据\n",
    "my_set.add(\"5\")\n",
    "my_set.add(\"5\")\n",
    "print(my_set)"
   ]
  },
  {
   "cell_type": "code",
   "execution_count": 5,
   "metadata": {},
   "outputs": [
    {
     "name": "stdout",
     "output_type": "stream",
     "text": [
      "{1, 4, '5', 'hello'}\n"
     ]
    }
   ],
   "source": [
    "#删除集合里面的数据（删除没有的数据不会崩溃）\n",
    "my_set.discard(2222)\n",
    "print(my_set)"
   ]
  },
  {
   "cell_type": "code",
   "execution_count": null,
   "metadata": {},
   "outputs": [],
   "source": [
    "#根据下标修改数据\n",
    "#my_set[0] = 2 #集合不允许根据下标修改\n",
    "#print(my_set)"
   ]
  },
  {
   "cell_type": "code",
   "execution_count": 8,
   "metadata": {},
   "outputs": [
    {
     "name": "stdout",
     "output_type": "stream",
     "text": [
      "set()\n"
     ]
    }
   ],
   "source": [
    "#清空集合\n",
    "my_set.clear()\n",
    "print(my_set)"
   ]
  },
  {
   "cell_type": "code",
   "execution_count": null,
   "metadata": {},
   "outputs": [],
   "source": []
  }
 ],
 "metadata": {
  "kernelspec": {
   "display_name": "Python 3",
   "language": "python",
   "name": "python3"
  },
  "language_info": {
   "codemirror_mode": {
    "name": "ipython",
    "version": 3
   },
   "file_extension": ".py",
   "mimetype": "text/x-python",
   "name": "python",
   "nbconvert_exporter": "python",
   "pygments_lexer": "ipython3",
   "version": "3.7.3"
  }
 },
 "nbformat": 4,
 "nbformat_minor": 2
}
