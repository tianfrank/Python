{
 "cells": [
  {
   "cell_type": "markdown",
   "metadata": {},
   "source": [
    "## 第七章 爬虫"
   ]
  },
  {
   "cell_type": "markdown",
   "metadata": {},
   "source": [
    "**学习爬虫可用于个人学习和研究数据,不可涉及违法使用.**\n",
    "\n",
    "本章主要介绍Python中的爬虫模块：Scrapy的使用。数据分析离不开数据，有许多数据是网上公开的数据，比如每日的天气数据、空气指数数据等。本讲将介绍如何利用Python程序有效地抓取自己需要的数据。"
   ]
  },
  {
   "cell_type": "markdown",
   "metadata": {},
   "source": [
    "本章通过对天气预报数据的抓取，介绍scrapy的使用\n",
    "\n",
    "本章主要内容包括:\n",
    "\n",
    "1、scrapy框架简介\n",
    "\n",
    "2、scrapy创建抓取项目\n",
    "\n",
    "3、scrapy对网页数据解析\n",
    "\n",
    "4、scrapy应对反爬机制\n",
    "\n",
    "5、scrapy存储数据\n",
    "\n",
    "6、 scrapy 爬取图片数据\n"
   ]
  },
  {
   "cell_type": "markdown",
   "metadata": {},
   "source": [
    "## 第一节 Scrapy 一览"
   ]
  },
  {
   "cell_type": "markdown",
   "metadata": {},
   "source": [
    "Scrapy 是一个用来爬网站并且抽取结构化数据的应用框架。抽取的数据可以进一步地用于数据分析和数据挖掘。\n"
   ]
  },
  {
   "cell_type": "markdown",
   "metadata": {},
   "source": [
    "首先通过一个简单的例子来认识Scrapy。"
   ]
  },
  {
   "cell_type": "code",
   "execution_count": 1,
   "metadata": {},
   "outputs": [],
   "source": [
    "import scrapy\n",
    "\n",
    "class MyFirstSpider(scrapy.Spider): #定义一个类，从scrapy.spider继承\n",
    "    name = 'quotes' \n",
    "    start_urls = [\n",
    "        'http://quotes.toscrape.com/tag/humor/',\n",
    "    ] #开始的链接\n",
    "\n",
    "    def parse(self, response): #定义parse解析网站，两个参数\n",
    "        for quote in response.css('div.quote'): #从里面提取text,和author\n",
    "            yield {\n",
    "                'text': quote.css('span.text::text').get(),\n",
    "                'author': quote.xpath('span/small/text()').get(),\n",
    "            } #把内容压缩到内容\n",
    "\n",
    "        next_page = response.css('li.next a::attr(\"href\")').get() #处理下一个页面\n",
    "        if next_page is not None:\n",
    "            yield response.follow(next_page, self.parse)"
   ]
  },
  {
   "cell_type": "markdown",
   "metadata": {},
   "source": [
    "scrapy runspider quotes_spider.py -o quotes.csv"
   ]
  },
  {
   "cell_type": "markdown",
   "metadata": {},
   "source": [
    "当你运行命令 scrapy runspider quotes_spider.py 时，Scrapy 在这段代码里寻找“爬虫”的定义，然后开始爬取数据。\n",
    "\n",
    "爬虫从start_urls里的链接（url）开始发送请求，并按照定义的方式抽取数据。\n",
    "\n",
    "这里使用CSS Slector 和 xpath 来选取有用的字段。这段代码自动寻找并跟踪其他页面。\n"
   ]
  },
  {
   "cell_type": "markdown",
   "metadata": {},
   "source": [
    "**安装 Scrapy**\n",
    "\n",
    "\n",
    "pip install Scrapy\n",
    "\n",
    "or\n",
    "\n",
    "conda install -c conda-forge scrapy"
   ]
  },
  {
   "cell_type": "markdown",
   "metadata": {},
   "source": [
    "接下来，我们简单从一下几个方面快速介绍scrapy"
   ]
  },
  {
   "cell_type": "markdown",
   "metadata": {},
   "source": [
    "1. Creating a new Scrapy project\n",
    "2. Writing a spider to crawl a site and extract data\n",
    "3. Exporting the scraped data using the command line\n",
    "4. Changing spider to recursively follow links\n",
    "5. Using spider arguments\n"
   ]
  },
  {
   "cell_type": "markdown",
   "metadata": {},
   "source": [
    "## Creating a new Scrapy project"
   ]
  },
  {
   "cell_type": "markdown",
   "metadata": {},
   "source": [
    "记住下面三个常用命令（创建项目、运行项目）：\n",
    "\n",
    "- scrapy startproject prjname     创建scrapy项目，命名为prjname（根据情况，自己取名）\n",
    "- [cd prjname] scrapy genspider spidername example.com 创建名为spidername的爬虫 （根据情况，自己取名）\n",
    "- scrapy crawl spidername   项目下的一个爬虫，其名字是 spidername（根据情况，自己取名）\n"
   ]
  },
  {
   "cell_type": "markdown",
   "metadata": {},
   "source": [
    "在爬取数据之前，首先要设置一个新的Scrapy 项目：进入一个文件夹， 然后运行下面的code"
   ]
  },
  {
   "cell_type": "code",
   "execution_count": 2,
   "metadata": {},
   "outputs": [
    {
     "data": {
      "text/plain": [
       "'D:\\\\NLP'"
      ]
     },
     "execution_count": 2,
     "metadata": {},
     "output_type": "execute_result"
    }
   ],
   "source": [
    "pwd #查看当前工作路径,present working directory"
   ]
  },
  {
   "cell_type": "code",
   "execution_count": 3,
   "metadata": {},
   "outputs": [],
   "source": [
    "import os\n",
    "os.mkdir('./crawler') #在当前文件目录下，创建文件夹"
   ]
  },
  {
   "cell_type": "code",
   "execution_count": 9,
   "metadata": {},
   "outputs": [
    {
     "name": "stdout",
     "output_type": "stream",
     "text": [
      " 驱动器 D 中的卷是 Data\n",
      " 卷的序列号是 A67C-A7B5\n",
      "\n",
      " D:\\NLP\\crawler 的目录\n",
      "\n",
      "\n",
      " D:\\NLP\\crawler 的目录\n",
      "\n",
      "\n",
      " D:\\NLP\\crawler 的目录\n",
      "\n",
      "\n",
      " D:\\NLP\\crawler 的目录\n",
      "\n"
     ]
    },
    {
     "name": "stderr",
     "output_type": "stream",
     "text": [
      "找不到文件\n"
     ]
    }
   ],
   "source": [
    "ls -t #ls=list, 按照时间排序查看当前目录文件"
   ]
  },
  {
   "cell_type": "code",
   "execution_count": 5,
   "metadata": {},
   "outputs": [
    {
     "name": "stdout",
     "output_type": "stream",
     "text": [
      "D:\\NLP\\crawler\n"
     ]
    }
   ],
   "source": [
    "cd crawler/"
   ]
  },
  {
   "cell_type": "code",
   "execution_count": 10,
   "metadata": {},
   "outputs": [
    {
     "data": {
      "text/plain": [
       "'D:\\\\NLP\\\\crawler'"
      ]
     },
     "execution_count": 10,
     "metadata": {},
     "output_type": "execute_result"
    }
   ],
   "source": [
    "pwd"
   ]
  },
  {
   "cell_type": "code",
   "execution_count": 11,
   "metadata": {},
   "outputs": [
    {
     "name": "stdout",
     "output_type": "stream",
     "text": [
      "Usage\n",
      "=====\n",
      "  scrapy startproject <project_name> [project_dir]\n",
      "\n",
      "Create new project\n",
      "\n",
      "Options\n",
      "=======\n",
      "--help, -h              show this help message and exit\n",
      "\n",
      "Global Options\n",
      "--------------\n",
      "--logfile=FILE          log file. if omitted stderr will be used\n",
      "--loglevel=LEVEL, -L LEVEL\n",
      "                        log level (default: DEBUG)\n",
      "--nolog                 disable logging completely\n",
      "--profile=FILE          write python cProfile stats to FILE\n",
      "--pidfile=FILE          write process ID to FILE\n",
      "--set=NAME=VALUE, -s NAME=VALUE\n",
      "                        set/override setting (may be repeated)\n",
      "--pdb                   enable pdb on failure\n"
     ]
    }
   ],
   "source": [
    "!scrapy startproject tutorial #开始一个项目，名称叫tutorial  ## 在terminal 中不需要加\"！\"\"\n",
    "\n",
    "##在mac没有问题，但是在windows有问题，解决办法如下图"
   ]
  },
  {
   "attachments": {
    "%E5%9C%A8%20terminal%E9%87%8C%E9%9D%A2%E8%BF%90%E8%A1%8C.png": {
     "image/png": "[encoded data removed]"
    }
   },
   "cell_type": "markdown",
   "metadata": {},
   "source": [
    "![%E5%9C%A8%20terminal%E9%87%8C%E9%9D%A2%E8%BF%90%E8%A1%8C.png](attachment:%E5%9C%A8%20terminal%E9%87%8C%E9%9D%A2%E8%BF%90%E8%A1%8C.png)\n",
    "#解决的办法 在anaconda Prompt里面运行，直接运行 d: cd →"
   ]
  },
  {
   "cell_type": "markdown",
   "metadata": {},
   "source": [
    "    这样，就会创建一个文件夹 tutorial ,其内容如下： "
   ]
  },
  {
   "cell_type": "markdown",
   "metadata": {},
   "source": [
    "tutorial/\n",
    "\n",
    "    scrapy.cfg            # deploy configuration file\n",
    "\n",
    "    tutorial/             # project's Python module, you'll import your code from here\n",
    "        __init__.py\n",
    "\n",
    "        items.py          # project items definition file\n",
    "\n",
    "        middlewares.py    # project middlewares file\n",
    "\n",
    "        pipelines.py      # project pipelines file\n",
    "\n",
    "        settings.py       # project settings file\n",
    "\n",
    "        spiders/          # a directory where you'll later put your spiders\n",
    "            __init__.py"
   ]
  },
  {
   "cell_type": "markdown",
   "metadata": {},
   "source": [
    "## Writing a spider to crawl a site and extract data"
   ]
  },
  {
   "cell_type": "markdown",
   "metadata": {},
   "source": [
    "Spiders(爬虫)是用户定义的类，你可以使用它来爬取网页并抽取信息。\n",
    "\n",
    "爬虫是由crapy.Spider继承而来。\n",
    "\n",
    "你必须定义爬虫的初始网页（initial requests）\n",
    "\n",
    "需要定义如何跟踪网页中的链接\n",
    "\n",
    "以及如何从下载的网页抽取数据。"
   ]
  },
  {
   "cell_type": "markdown",
   "metadata": {},
   "source": [
    "    在 tutorial/spiders 文件夹下面创建一个文件（我们的第一个spider）"
   ]
  },
  {
   "cell_type": "markdown",
   "metadata": {},
   "source": [
    "创建一个python 文件quotes_spider.py，在里面键入程序："
   ]
  },
  {
   "cell_type": "code",
   "execution_count": 7,
   "metadata": {},
   "outputs": [],
   "source": [
    "import scrapy\n",
    "\n",
    "\n",
    "class QuotesSpider(scrapy.Spider):  #从上面继承的\n",
    "    name = \"quotes\"  #名字叫quotes\n",
    "\n",
    "    def start_requests(self): #开始定义请求爬取的网页\n",
    "        urls = [\n",
    "            'http://quotes.toscrape.com/page/1/',\n",
    "            'http://quotes.toscrape.com/page/2/',\n",
    "        ]\n",
    "        for url in urls:\n",
    "            yield scrapy.Request(url=url, callback=self.parse) # Request两个参数，callback是对？\n",
    "\n",
    "    def parse(self, response): #解析网页\n",
    "        page = response.url.split(\"/\")[-2]\n",
    "        filename = 'quotes-%s.html' % page\n",
    "        with open(filename, 'wb') as f:\n",
    "            f.write(response.body)#存储 body是网页的内容\n",
    "        self.log('Saved file %s' % filename)"
   ]
  },
  {
   "cell_type": "markdown",
   "metadata": {},
   "source": [
    "从上面程序来看，我们的spider（QuotesSpider）继承其父类scrapy.Spider。这里用定义了一些属性和方法。"
   ]
  },
  {
   "cell_type": "markdown",
   "metadata": {},
   "source": [
    "**name**: identifies the Spider. It must be unique within a project, that is, you can’t set the same name for different Spiders.\n",
    "\n",
    "**start_requests()**: must return an iterable of Requests (you can return a list of requests or write a generator function)which the Spider will begin to crawl from. Subsequent requests will be generated successively from these initial requests.\n",
    "\n",
    "**parse():** a method that will be called to handle the response downloaded for each of the requests made. The response parameter is an instance of TextResponse that holds the page content and has further helpful methods to handle it.\n",
    "\n",
    "The parse() method usually parses the response, extracting the scraped data as dicts and also finding new URLs to follow and creating new requests (Request) from them.\n"
   ]
  },
  {
   "cell_type": "markdown",
   "metadata": {},
   "source": [
    "## 运行我们的爬虫"
   ]
  },
  {
   "cell_type": "markdown",
   "metadata": {},
   "source": [
    "在    scrapy.cfg    所在的文件夹下面，运行如下命令：\n"
   ]
  },
  {
   "cell_type": "code",
   "execution_count": null,
   "metadata": {
    "scrolled": true
   },
   "outputs": [],
   "source": [
    "scrapy crawl quotes"
   ]
  },
  {
   "cell_type": "markdown",
   "metadata": {},
   "source": [
    "**star_request 方法的简写方式：**\n",
    "\n",
    "把方法变成一个属性！"
   ]
  },
  {
   "cell_type": "code",
   "execution_count": 8,
   "metadata": {},
   "outputs": [],
   "source": [
    "import scrapy\n",
    "\n",
    "\n",
    "class QuotesSpider(scrapy.Spider):\n",
    "    name = \"quotes\"\n",
    "    start_urls = [\n",
    "        'http://quotes.toscrape.com/page/1/',\n",
    "        'http://quotes.toscrape.com/page/2/',\n",
    "    ]\n",
    "\n",
    "    def parse(self, response):\n",
    "        page = response.url.split(\"/\")[-2]\n",
    "        filename = 'quotes-%s.html' % page\n",
    "        with open(filename, 'wb') as f:\n",
    "            f.write(response.body)\n",
    "           # name,开始的网页，怎么处理网页"
   ]
  },
  {
   "cell_type": "markdown",
   "metadata": {},
   "source": [
    "**Extracting data**"
   ]
  },
  {
   "cell_type": "markdown",
   "metadata": {},
   "source": [
    "scrapy 可以使用很多网页处理工具，如BeautifulSoap，但最主要的抽取工具是CSS和Xpath。\n",
    "\n",
    "这里分别简介CSS 和 Xpath工具。"
   ]
  },
  {
   "cell_type": "markdown",
   "metadata": {},
   "source": [
    "**CSS 选择器**"
   ]
  },
  {
   "cell_type": "markdown",
   "metadata": {},
   "source": [
    "<html>\n",
    " <head>\n",
    "  <base href='http://example.com/' />\n",
    "  <title>Example website</title>\n",
    " </head>\n",
    " <body>\n",
    "  <div id='images'>\n",
    "   <a href='image1.html'>Name: My image 1 <br /><img src='image1_thumb.jpg' /></a>\n",
    "   <a href='image2.html'>Name: My image 2 <br /><img src='image2_thumb.jpg' /></a>\n",
    "   <a href='image3.html'>Name: My image 3 <br /><img src='image3_thumb.jpg' /></a>\n",
    "   <a href='image4.html'>Name: My image 4 <br /><img src='image4_thumb.jpg' /></a>\n",
    "   <a href='image5.html'>Name: My image 5 <br /><img src='image5_thumb.jpg' /></a>\n",
    "  </div>\n",
    " </body>\n",
    "</html>"
   ]
  },
  {
   "cell_type": "markdown",
   "metadata": {},
   "source": [
    "以上面的一段html code为例，我们开看CSS选择器的使用。"
   ]
  },
  {
   "cell_type": "code",
   "execution_count": null,
   "metadata": {},
   "outputs": [],
   "source": [
    "scrapy shell https://docs.scrapy.org/en/latest/_static/selectors-sample1.html #以scrapy开头 都是在terminal运行的，在ana promp里面运行"
   ]
  },
  {
   "attachments": {
    "%E5%BE%AE%E4%BF%A1%E5%9B%BE%E7%89%87_20191016201637.jpg": {
     "image/jpeg": "[encoded data removed]"
    }
   },
   "cell_type": "markdown",
   "metadata": {},
   "source": [
    "![%E5%BE%AE%E4%BF%A1%E5%9B%BE%E7%89%87_20191016201637.jpg](attachment:%E5%BE%AE%E4%BF%A1%E5%9B%BE%E7%89%87_20191016201637.jpg)\n"
   ]
  },
  {
   "cell_type": "markdown",
   "metadata": {},
   "source": [
    "response.css('*')#可以看到所有的节点\n",
    "response.css('#images')#在终端查找所有的图片\n",
    "response.css('a[herf]')\n",
    "response.css('a[herf^=\"image]\"')精确定位到图片"
   ]
  },
  {
   "cell_type": "code",
   "execution_count": null,
   "metadata": {},
   "outputs": [],
   "source": [
    "scrapy shell https://www.aqistudy.cn/historydata/daydata.php?city=%E4%B8%8A%E6%B5%B7&month=2014-01"
   ]
  },
  {
   "cell_type": "markdown",
   "metadata": {},
   "source": [
    "- 选择节点(element) response.css('title').get()/.getall()\n",
    "- 选择节点(element)的文本 response.css('title::text').get()/.getall()\n"
   ]
  },
  {
   "cell_type": "markdown",
   "metadata": {},
   "source": [
    "response.css('title')  返回一个list，里面的元素是Selector类型的"
   ]
  },
  {
   "cell_type": "code",
   "execution_count": 9,
   "metadata": {},
   "outputs": [
    {
     "ename": "NameError",
     "evalue": "name 'response' is not defined",
     "output_type": "error",
     "traceback": [
      "\u001b[0;31m---------------------------------------------------------------------------\u001b[0m",
      "\u001b[0;31mNameError\u001b[0m                                 Traceback (most recent call last)",
      "\u001b[0;32m<ipython-input-9-eacbdc78f69b>\u001b[0m in \u001b[0;36m<module>\u001b[0;34m\u001b[0m\n\u001b[0;32m----> 1\u001b[0;31m \u001b[0mresponse\u001b[0m\u001b[0;34m.\u001b[0m\u001b[0mcss\u001b[0m\u001b[0;34m(\u001b[0m\u001b[0;34m'html'\u001b[0m\u001b[0;34m)\u001b[0m\u001b[0;34m\u001b[0m\u001b[0;34m\u001b[0m\u001b[0m\n\u001b[0m",
      "\u001b[0;31mNameError\u001b[0m: name 'response' is not defined"
     ]
    }
   ],
   "source": [
    "response.css('html')"
   ]
  },
  {
   "cell_type": "code",
   "execution_count": null,
   "metadata": {},
   "outputs": [],
   "source": [
    "response.css('head')"
   ]
  },
  {
   "cell_type": "code",
   "execution_count": null,
   "metadata": {},
   "outputs": [],
   "source": [
    "response.css('title')"
   ]
  },
  {
   "cell_type": "code",
   "execution_count": null,
   "metadata": {},
   "outputs": [],
   "source": [
    "response.css('body')"
   ]
  },
  {
   "cell_type": "code",
   "execution_count": null,
   "metadata": {},
   "outputs": [],
   "source": [
    "response.css('div')"
   ]
  },
  {
   "cell_type": "code",
   "execution_count": null,
   "metadata": {},
   "outputs": [],
   "source": [
    "response.css('a')"
   ]
  },
  {
   "cell_type": "code",
   "execution_count": null,
   "metadata": {},
   "outputs": [],
   "source": [
    "response.css('a:nth-child(3)').getall() ## 第3个a节点"
   ]
  },
  {
   "cell_type": "code",
   "execution_count": null,
   "metadata": {},
   "outputs": [],
   "source": [
    "response.css('a:nth-child(2n)').getall() ## 第2n个a节点"
   ]
  },
  {
   "cell_type": "code",
   "execution_count": null,
   "metadata": {},
   "outputs": [],
   "source": [
    "response.css('*') ## 返回所有的节点"
   ]
  },
  {
   "cell_type": "code",
   "execution_count": null,
   "metadata": {},
   "outputs": [],
   "source": [
    "response.css('#images') ## 返回id 为images的节点"
   ]
  },
  {
   "cell_type": "code",
   "execution_count": null,
   "metadata": {},
   "outputs": [],
   "source": []
  },
  {
   "cell_type": "code",
   "execution_count": null,
   "metadata": {},
   "outputs": [],
   "source": [
    "response.css('div a').getall() ## div 下的所有a节点"
   ]
  },
  {
   "cell_type": "code",
   "execution_count": null,
   "metadata": {},
   "outputs": [],
   "source": [
    "response.css('a[href=\"image1.html\"]').getall() ## 选取href属性为image1.html 的 a 节点"
   ]
  },
  {
   "cell_type": "code",
   "execution_count": null,
   "metadata": {},
   "outputs": [],
   "source": [
    "response.css('a[href*=\"image\"]').getall()## 选取href属性包含image 的 a 节点"
   ]
  },
  {
   "cell_type": "code",
   "execution_count": null,
   "metadata": {},
   "outputs": [],
   "source": [
    "response.css('a[href^=\"image\"]').getall()## 选取href属性以image开头 的 a 节点"
   ]
  },
  {
   "cell_type": "code",
   "execution_count": null,
   "metadata": {},
   "outputs": [],
   "source": [
    "response.css('a[href$=\"html\"]').getall()## 选取href属性以html结尾 的 a 节点"
   ]
  },
  {
   "cell_type": "code",
   "execution_count": 10,
   "metadata": {},
   "outputs": [
    {
     "ename": "SyntaxError",
     "evalue": "invalid syntax (<ipython-input-10-1184f07fbc68>, line 1)",
     "output_type": "error",
     "traceback": [
      "\u001b[0;36m  File \u001b[0;32m\"<ipython-input-10-1184f07fbc68>\"\u001b[0;36m, line \u001b[0;32m1\u001b[0m\n\u001b[0;31m    <div class=\"quote\">\u001b[0m\n\u001b[0m    ^\u001b[0m\n\u001b[0;31mSyntaxError\u001b[0m\u001b[0;31m:\u001b[0m invalid syntax\n"
     ]
    }
   ],
   "source": [
    "<div class=\"quote\">\n",
    "    <span class=\"text\">“The world as we have created it is a process of our\n",
    "    thinking. It cannot be changed without changing our thinking.”</span>\n",
    "    <span>\n",
    "        by <small class=\"author\">Albert Einstein</small>\n",
    "        <a href=\"/author/Albert-Einstein\">(about)</a>\n",
    "    </span>\n",
    "    <div class=\"tags\">\n",
    "        Tags:\n",
    "        <a class=\"tag\" href=\"/tag/change/page/1/\">change</a>\n",
    "        <a class=\"tag\" href=\"/tag/deep-thoughts/page/1/\">deep-thoughts</a>\n",
    "        <a class=\"tag\" href=\"/tag/thinking/page/1/\">thinking</a>\n",
    "        <a class=\"tag\" href=\"/tag/world/page/1/\">world</a>\n",
    "    </div>\n",
    "</div>"
   ]
  },
  {
   "cell_type": "code",
   "execution_count": 12,
   "metadata": {},
   "outputs": [],
   "source": [
    "html  = r'''\n",
    "<div class=\"quote\">\n",
    "    <span class=\"text\">“The world as we have created it is a process of our\n",
    "    thinking. It cannot be changed without changing our thinking.”</span>\n",
    "    <span>\n",
    "        by <small class=\"author\">Albert Einstein</small>\n",
    "        <a href=\"/author/Albert-Einstein\">(about)</a>\n",
    "    </span>\n",
    "    <div class=\"tags\">\n",
    "        Tags:\n",
    "        <a class=\"tag\" href=\"/tag/change/page/1/\">change</a>\n",
    "        <a class=\"tag\" href=\"/tag/deep-thoughts/page/1/\">deep-thoughts</a>\n",
    "        <a class=\"tag\" href=\"/tag/thinking/page/1/\">thinking</a>\n",
    "        <a class=\"tag\" href=\"/tag/world/page/1/\">world</a>\n",
    "    </div>\n",
    "</div>\n",
    "'''"
   ]
  },
  {
   "cell_type": "code",
   "execution_count": 13,
   "metadata": {},
   "outputs": [
    {
     "data": {
      "text/plain": [
       "'\\n<div class=\"quote\">\\n    <span class=\"text\">“The world as we have created it is a process of our\\n    thinking. It cannot be changed without changing our thinking.”</span>\\n    <span>\\n        by <small class=\"author\">Albert Einstein</small>\\n        <a href=\"/author/Albert-Einstein\">(about)</a>\\n    </span>\\n    <div class=\"tags\">\\n        Tags:\\n        <a class=\"tag\" href=\"/tag/change/page/1/\">change</a>\\n        <a class=\"tag\" href=\"/tag/deep-thoughts/page/1/\">deep-thoughts</a>\\n        <a class=\"tag\" href=\"/tag/thinking/page/1/\">thinking</a>\\n        <a class=\"tag\" href=\"/tag/world/page/1/\">world</a>\\n    </div>\\n</div>\\n'"
      ]
     },
     "execution_count": 13,
     "metadata": {},
     "output_type": "execute_result"
    }
   ],
   "source": [
    "html"
   ]
  },
  {
   "cell_type": "code",
   "execution_count": 14,
   "metadata": {},
   "outputs": [
    {
     "name": "stdout",
     "output_type": "stream",
     "text": [
      "\n",
      "<div class=\"quote\">\n",
      "    <span class=\"text\">“The world as we have created it is a process of our\n",
      "    thinking. It cannot be changed without changing our thinking.”</span>\n",
      "    <span>\n",
      "        by <small class=\"author\">Albert Einstein</small>\n",
      "        <a href=\"/author/Albert-Einstein\">(about)</a>\n",
      "    </span>\n",
      "    <div class=\"tags\">\n",
      "        Tags:\n",
      "        <a class=\"tag\" href=\"/tag/change/page/1/\">change</a>\n",
      "        <a class=\"tag\" href=\"/tag/deep-thoughts/page/1/\">deep-thoughts</a>\n",
      "        <a class=\"tag\" href=\"/tag/thinking/page/1/\">thinking</a>\n",
      "        <a class=\"tag\" href=\"/tag/world/page/1/\">world</a>\n",
      "    </div>\n",
      "</div>\n",
      "\n"
     ]
    }
   ],
   "source": [
    "print(html)"
   ]
  },
  {
   "cell_type": "code",
   "execution_count": 15,
   "metadata": {},
   "outputs": [],
   "source": [
    "from scrapy.selector import Selector"
   ]
  },
  {
   "cell_type": "code",
   "execution_count": 16,
   "metadata": {},
   "outputs": [],
   "source": [
    "response = Selector(text=html)"
   ]
  },
  {
   "cell_type": "code",
   "execution_count": 17,
   "metadata": {},
   "outputs": [
    {
     "data": {
      "text/plain": [
       "['<div class=\"quote\">\\n    <span class=\"text\">“The world as we have created it is a process of our\\n    thinking. It cannot be changed without changing our thinking.”</span>\\n    <span>\\n        by <small class=\"author\">Albert Einstein</small>\\n        <a href=\"/author/Albert-Einstein\">(about)</a>\\n    </span>\\n    <div class=\"tags\">\\n        Tags:\\n        <a class=\"tag\" href=\"/tag/change/page/1/\">change</a>\\n        <a class=\"tag\" href=\"/tag/deep-thoughts/page/1/\">deep-thoughts</a>\\n        <a class=\"tag\" href=\"/tag/thinking/page/1/\">thinking</a>\\n        <a class=\"tag\" href=\"/tag/world/page/1/\">world</a>\\n    </div>\\n</div>']"
      ]
     },
     "execution_count": 17,
     "metadata": {},
     "output_type": "execute_result"
    }
   ],
   "source": [
    "response.css('div.quote').getall() #class 为quote的div节点"
   ]
  },
  {
   "cell_type": "code",
   "execution_count": 18,
   "metadata": {},
   "outputs": [
    {
     "data": {
      "text/plain": [
       "1"
      ]
     },
     "execution_count": 18,
     "metadata": {},
     "output_type": "execute_result"
    }
   ],
   "source": [
    "len(response.css('div.quote').getall()) #.代表是clss="
   ]
  },
  {
   "cell_type": "code",
   "execution_count": 19,
   "metadata": {},
   "outputs": [],
   "source": [
    "quotes = response.css('div.quote') #class 为quote的div节点"
   ]
  },
  {
   "cell_type": "code",
   "execution_count": 20,
   "metadata": {},
   "outputs": [
    {
     "data": {
      "text/plain": [
       "['Albert Einstein']"
      ]
     },
     "execution_count": 20,
     "metadata": {},
     "output_type": "execute_result"
    }
   ],
   "source": [
    "quotes.css('small.author::text').getall() #取出里面文本"
   ]
  },
  {
   "cell_type": "code",
   "execution_count": 25,
   "metadata": {},
   "outputs": [
    {
     "data": {
      "text/plain": [
       "['<small class=\"author\">Albert Einstein</small>']"
      ]
     },
     "execution_count": 25,
     "metadata": {},
     "output_type": "execute_result"
    }
   ],
   "source": [
    "#response.css('small.author').getall()"
   ]
  },
  {
   "cell_type": "code",
   "execution_count": 26,
   "metadata": {},
   "outputs": [],
   "source": [
    "#response.css('div.tags').getall()"
   ]
  },
  {
   "cell_type": "code",
   "execution_count": 28,
   "metadata": {},
   "outputs": [
    {
     "data": {
      "text/plain": [
       "['\\n        Tags:\\n        ',\n",
       " '\\n        ',\n",
       " '\\n        ',\n",
       " '\\n        ',\n",
       " '\\n    ']"
      ]
     },
     "execution_count": 28,
     "metadata": {},
     "output_type": "execute_result"
    }
   ],
   "source": [
    "#response.css('div.tags::text').getall() #以text文档返回"
   ]
  },
  {
   "cell_type": "code",
   "execution_count": 23,
   "metadata": {},
   "outputs": [
    {
     "data": {
      "text/plain": [
       "1"
      ]
     },
     "execution_count": 23,
     "metadata": {},
     "output_type": "execute_result"
    }
   ],
   "source": [
    "#len(response.css('div.tags').getall())"
   ]
  },
  {
   "cell_type": "code",
   "execution_count": 24,
   "metadata": {},
   "outputs": [],
   "source": [
    "#quotes=response.css('div.quote')"
   ]
  },
  {
   "cell_type": "code",
   "execution_count": 19,
   "metadata": {},
   "outputs": [],
   "source": [
    "text = quotes.css(\"span.text::text\").get() #找出所说名言"
   ]
  },
  {
   "cell_type": "code",
   "execution_count": 20,
   "metadata": {},
   "outputs": [
    {
     "data": {
      "text/plain": [
       "'“The world as we have created it is a process of our\\n    thinking. It cannot be changed without changing our thinking.”'"
      ]
     },
     "execution_count": 20,
     "metadata": {},
     "output_type": "execute_result"
    }
   ],
   "source": [
    "text"
   ]
  },
  {
   "cell_type": "code",
   "execution_count": 21,
   "metadata": {},
   "outputs": [],
   "source": [
    "tags = quotes.css(\"div.tags a.tag::text\").getall()"
   ]
  },
  {
   "cell_type": "code",
   "execution_count": 22,
   "metadata": {},
   "outputs": [
    {
     "data": {
      "text/plain": [
       "['change', 'deep-thoughts', 'thinking', 'world']"
      ]
     },
     "execution_count": 22,
     "metadata": {},
     "output_type": "execute_result"
    }
   ],
   "source": [
    "tags"
   ]
  },
  {
   "cell_type": "code",
   "execution_count": 23,
   "metadata": {},
   "outputs": [
    {
     "name": "stdout",
     "output_type": "stream",
     "text": [
      "{'text': '“The world as we have created it is a process of our\\n    thinking. It cannot be changed without changing our thinking.”', 'author': 'Albert Einstein', 'tags': ['change', 'deep-thoughts', 'thinking', 'world']}\n"
     ]
    }
   ],
   "source": [
    "for quote in response.css(\"div.quote\"):\n",
    "    text = quote.css(\"span.text::text\").get()\n",
    "    author = quote.css(\"small.author::text\").get()\n",
    "    tags = quote.css(\"div.tags a.tag::text\").getall()\n",
    "\n",
    "print(dict(text=text, author=author, tags=tags))"
   ]
  },
  {
   "cell_type": "markdown",
   "metadata": {},
   "source": [
    "**Xpath**"
   ]
  },
  {
   "cell_type": "markdown",
   "metadata": {},
   "source": [
    "在 XPath 中，有七种类型的节点：元素、属性、文本、命名空间、处理指令、注释以及文档节点（或称为根节点）\n",
    "\n",
    "我们看到的html（xml）文档，被看成是节点树\n",
    "\n",
    "树的根被称为跟节点，或文档节点。\n",
    "\n"
   ]
  },
  {
   "cell_type": "markdown",
   "metadata": {},
   "source": [
    "核心用法：Xpath 视response （html的内容）为一个路径（path，文件夹结构），\n",
    "\n",
    "因此起引用过程非常像寻找文件的过程\n",
    "\n",
    "以／开头的路径，是指绝对路径\n",
    "\n",
    "以 // 开头的路径，是搜索路径：即只要系统中存在该元素（节点），就可以把它找出来。"
   ]
  },
  {
   "cell_type": "code",
   "execution_count": 24,
   "metadata": {},
   "outputs": [
    {
     "name": "stdout",
     "output_type": "stream",
     "text": [
      "\n",
      "<div class=\"quote\">\n",
      "    <span class=\"text\">“The world as we have created it is a process of our\n",
      "    thinking. It cannot be changed without changing our thinking.”</span>\n",
      "    <span>\n",
      "        by <small class=\"author\">Albert Einstein</small>\n",
      "        <a href=\"/author/Albert-Einstein\">(about)</a>\n",
      "    </span>\n",
      "    <div class=\"tags\">\n",
      "        Tags:\n",
      "        <a class=\"tag\" href=\"/tag/change/page/1/\">change</a>\n",
      "        <a class=\"tag\" href=\"/tag/deep-thoughts/page/1/\">deep-thoughts</a>\n",
      "        <a class=\"tag\" href=\"/tag/thinking/page/1/\">thinking</a>\n",
      "        <a class=\"tag\" href=\"/tag/world/page/1/\">world</a>\n",
      "    </div>\n",
      "</div>\n",
      "\n"
     ]
    }
   ],
   "source": [
    "print(html)"
   ]
  },
  {
   "cell_type": "markdown",
   "metadata": {},
   "source": [
    "## / 的用法\n",
    "\n",
    "    / Document Root文档根.\n",
    "\n",
    "    /* 选择文档根下面的所有元素节点，即根节点（XML文档只有一个根节点）\n",
    "\n"
   ]
  },
  {
   "cell_type": "code",
   "execution_count": 25,
   "metadata": {},
   "outputs": [
    {
     "data": {
      "text/plain": [
       "[<Selector xpath='/*' data='<html><body><div class=\"quote\">\\n    <...'>]"
      ]
     },
     "execution_count": 25,
     "metadata": {},
     "output_type": "execute_result"
    }
   ],
   "source": [
    "response.xpath('/*')"
   ]
  },
  {
   "cell_type": "code",
   "execution_count": 26,
   "metadata": {},
   "outputs": [
    {
     "name": "stdout",
     "output_type": "stream",
     "text": [
      "<html><body><div class=\"quote\">\n",
      "    <span class=\"text\">“The world as we have created it is a process of our\n",
      "    thinking. It cannot be changed without changing our thinking.”</span>\n",
      "    <span>\n",
      "        by <small class=\"author\">Albert Einstein</small>\n",
      "        <a href=\"/author/Albert-Einstein\">(about)</a>\n",
      "    </span>\n",
      "    <div class=\"tags\">\n",
      "        Tags:\n",
      "        <a class=\"tag\" href=\"/tag/change/page/1/\">change</a>\n",
      "        <a class=\"tag\" href=\"/tag/deep-thoughts/page/1/\">deep-thoughts</a>\n",
      "        <a class=\"tag\" href=\"/tag/thinking/page/1/\">thinking</a>\n",
      "        <a class=\"tag\" href=\"/tag/world/page/1/\">world</a>\n",
      "    </div>\n",
      "</div></body></html>\n"
     ]
    }
   ],
   "source": [
    "print(response.xpath('/*').getall()[0])"
   ]
  },
  {
   "cell_type": "code",
   "execution_count": 27,
   "metadata": {},
   "outputs": [
    {
     "data": {
      "text/plain": [
       "[<Selector xpath='/html/body/div' data='<div class=\"quote\">\\n    <span class=\"...'>]"
      ]
     },
     "execution_count": 27,
     "metadata": {},
     "output_type": "execute_result"
    }
   ],
   "source": [
    "response.xpath('/html/body/div')"
   ]
  },
  {
   "cell_type": "markdown",
   "metadata": {},
   "source": [
    "## //的用法"
   ]
  },
  {
   "cell_type": "code",
   "execution_count": 28,
   "metadata": {},
   "outputs": [
    {
     "data": {
      "text/plain": [
       "[<Selector xpath='//div' data='<div class=\"quote\">\\n    <span class=\"...'>,\n",
       " <Selector xpath='//div' data='<div class=\"tags\">\\n        Tags:\\n    ...'>]"
      ]
     },
     "execution_count": 28,
     "metadata": {},
     "output_type": "execute_result"
    }
   ],
   "source": [
    "response.xpath('//div') #相对路径，//找到所有div节点"
   ]
  },
  {
   "cell_type": "markdown",
   "metadata": {},
   "source": [
    "## 匹配\n",
    "\n",
    "\\* -- **元素**节点\n",
    "\n",
    "@* --**属性**节点\n"
   ]
  },
  {
   "cell_type": "code",
   "execution_count": 29,
   "metadata": {},
   "outputs": [
    {
     "data": {
      "text/plain": [
       "[<Selector xpath='/html/body/div/*' data='<span class=\"text\">“The world as we h...'>,\n",
       " <Selector xpath='/html/body/div/*' data='<span>\\n        by <small class=\"autho...'>,\n",
       " <Selector xpath='/html/body/div/*' data='<div class=\"tags\">\\n        Tags:\\n    ...'>]"
      ]
     },
     "execution_count": 29,
     "metadata": {},
     "output_type": "execute_result"
    }
   ],
   "source": [
    "response.xpath('/html/body/div/*')"
   ]
  },
  {
   "cell_type": "code",
   "execution_count": 30,
   "metadata": {},
   "outputs": [
    {
     "data": {
      "text/plain": [
       "[<Selector xpath='/html/body/div/@*' data='quote'>]"
      ]
     },
     "execution_count": 30,
     "metadata": {},
     "output_type": "execute_result"
    }
   ],
   "source": [
    "response.xpath('/html/body/div/@*')"
   ]
  },
  {
   "cell_type": "code",
   "execution_count": 31,
   "metadata": {},
   "outputs": [
    {
     "data": {
      "text/plain": [
       "[<Selector xpath='/html/body/div/*[1]' data='<span class=\"text\">“The world as we h...'>]"
      ]
     },
     "execution_count": 31,
     "metadata": {},
     "output_type": "execute_result"
    }
   ],
   "source": [
    "response.xpath('/html/body/div/*[1]')"
   ]
  },
  {
   "cell_type": "code",
   "execution_count": 32,
   "metadata": {},
   "outputs": [
    {
     "data": {
      "text/plain": [
       "[<Selector xpath='/html/body/div/*[2]' data='<span>\\n        by <small class=\"autho...'>]"
      ]
     },
     "execution_count": 32,
     "metadata": {},
     "output_type": "execute_result"
    }
   ],
   "source": [
    "response.xpath('/html/body/div/*[2]')"
   ]
  },
  {
   "cell_type": "code",
   "execution_count": 33,
   "metadata": {},
   "outputs": [
    {
     "data": {
      "text/plain": [
       "<Selector xpath='/html/body/div/*' data='<span>\\n        by <small class=\"autho...'>"
      ]
     },
     "execution_count": 33,
     "metadata": {},
     "output_type": "execute_result"
    }
   ],
   "source": [
    "response.xpath('/html/body/div/*')[1] ## 注意两者的区别"
   ]
  },
  {
   "cell_type": "markdown",
   "metadata": {},
   "source": [
    "前面主要考查了元素节点，若查找属性节点用@"
   ]
  },
  {
   "cell_type": "code",
   "execution_count": 34,
   "metadata": {},
   "outputs": [
    {
     "data": {
      "text/plain": [
       "[<Selector xpath='/html/body/div/*' data='<span class=\"text\">“The world as we h...'>,\n",
       " <Selector xpath='/html/body/div/*' data='<span>\\n        by <small class=\"autho...'>,\n",
       " <Selector xpath='/html/body/div/*' data='<div class=\"tags\">\\n        Tags:\\n    ...'>]"
      ]
     },
     "execution_count": 34,
     "metadata": {},
     "output_type": "execute_result"
    }
   ],
   "source": [
    "response.xpath('/html/body/div/*')"
   ]
  },
  {
   "cell_type": "code",
   "execution_count": 35,
   "metadata": {},
   "outputs": [
    {
     "data": {
      "text/plain": [
       "[<Selector xpath='//div' data='<div class=\"quote\">\\n    <span class=\"...'>,\n",
       " <Selector xpath='//div' data='<div class=\"tags\">\\n        Tags:\\n    ...'>]"
      ]
     },
     "execution_count": 35,
     "metadata": {},
     "output_type": "execute_result"
    }
   ],
   "source": [
    "response.xpath('//div')"
   ]
  },
  {
   "cell_type": "code",
   "execution_count": 36,
   "metadata": {},
   "outputs": [
    {
     "data": {
      "text/plain": [
       "[<Selector xpath='//span' data='<span class=\"text\">“The world as we h...'>,\n",
       " <Selector xpath='//span' data='<span>\\n        by <small class=\"autho...'>]"
      ]
     },
     "execution_count": 36,
     "metadata": {},
     "output_type": "execute_result"
    }
   ],
   "source": [
    "response.xpath('//span')"
   ]
  },
  {
   "cell_type": "code",
   "execution_count": 37,
   "metadata": {},
   "outputs": [
    {
     "data": {
      "text/plain": [
       "[<Selector xpath='//span[@class]' data='<span class=\"text\">“The world as we h...'>]"
      ]
     },
     "execution_count": 37,
     "metadata": {},
     "output_type": "execute_result"
    }
   ],
   "source": [
    "response.xpath('//span[@class]')#只要span有属性就能找出"
   ]
  },
  {
   "cell_type": "code",
   "execution_count": 38,
   "metadata": {},
   "outputs": [
    {
     "data": {
      "text/plain": [
       "[<Selector xpath='//span[@*]' data='<span class=\"text\">“The world as we h...'>]"
      ]
     },
     "execution_count": 38,
     "metadata": {},
     "output_type": "execute_result"
    }
   ],
   "source": [
    "response.xpath('//span[@*]')"
   ]
  },
  {
   "cell_type": "code",
   "execution_count": 39,
   "metadata": {},
   "outputs": [
    {
     "data": {
      "text/plain": [
       "[<Selector xpath='//@*' data='quote'>,\n",
       " <Selector xpath='//@*' data='text'>,\n",
       " <Selector xpath='//@*' data='author'>,\n",
       " <Selector xpath='//@*' data='/author/Albert-Einstein'>,\n",
       " <Selector xpath='//@*' data='tags'>,\n",
       " <Selector xpath='//@*' data='tag'>,\n",
       " <Selector xpath='//@*' data='/tag/change/page/1/'>,\n",
       " <Selector xpath='//@*' data='tag'>,\n",
       " <Selector xpath='//@*' data='/tag/deep-thoughts/page/1/'>,\n",
       " <Selector xpath='//@*' data='tag'>,\n",
       " <Selector xpath='//@*' data='/tag/thinking/page/1/'>,\n",
       " <Selector xpath='//@*' data='tag'>,\n",
       " <Selector xpath='//@*' data='/tag/world/page/1/'>]"
      ]
     },
     "execution_count": 39,
     "metadata": {},
     "output_type": "execute_result"
    }
   ],
   "source": [
    "response.xpath('//@*') #找出所有属性的节点"
   ]
  },
  {
   "cell_type": "code",
   "execution_count": 40,
   "metadata": {},
   "outputs": [
    {
     "data": {
      "text/plain": [
       "[<Selector xpath='//*[@*]' data='<div class=\"quote\">\\n    <span class=\"...'>,\n",
       " <Selector xpath='//*[@*]' data='<span class=\"text\">“The world as we h...'>,\n",
       " <Selector xpath='//*[@*]' data='<small class=\"author\">Albert Einstein...'>,\n",
       " <Selector xpath='//*[@*]' data='<a href=\"/author/Albert-Einstein\">(ab...'>,\n",
       " <Selector xpath='//*[@*]' data='<div class=\"tags\">\\n        Tags:\\n    ...'>,\n",
       " <Selector xpath='//*[@*]' data='<a class=\"tag\" href=\"/tag/change/page...'>,\n",
       " <Selector xpath='//*[@*]' data='<a class=\"tag\" href=\"/tag/deep-though...'>,\n",
       " <Selector xpath='//*[@*]' data='<a class=\"tag\" href=\"/tag/thinking/pa...'>,\n",
       " <Selector xpath='//*[@*]' data='<a class=\"tag\" href=\"/tag/world/page/...'>]"
      ]
     },
     "execution_count": 40,
     "metadata": {},
     "output_type": "execute_result"
    }
   ],
   "source": [
    "response.xpath('//*[@*]')"
   ]
  },
  {
   "cell_type": "code",
   "execution_count": 29,
   "metadata": {},
   "outputs": [
    {
     "data": {
      "text/plain": [
       "['<div class=\"quote\">\\n    <span class=\"text\">“The world as we have created it is a process of our\\n    thinking. It cannot be changed without changing our thinking.”</span>\\n    <span>\\n        by <small class=\"author\">Albert Einstein</small>\\n        <a href=\"/author/Albert-Einstein\">(about)</a>\\n    </span>\\n    <div class=\"tags\">\\n        Tags:\\n        <a class=\"tag\" href=\"/tag/change/page/1/\">change</a>\\n        <a class=\"tag\" href=\"/tag/deep-thoughts/page/1/\">deep-thoughts</a>\\n        <a class=\"tag\" href=\"/tag/thinking/page/1/\">thinking</a>\\n        <a class=\"tag\" href=\"/tag/world/page/1/\">world</a>\\n    </div>\\n</div>',\n",
       " '<span class=\"text\">“The world as we have created it is a process of our\\n    thinking. It cannot be changed without changing our thinking.”</span>',\n",
       " '<small class=\"author\">Albert Einstein</small>',\n",
       " '<a href=\"/author/Albert-Einstein\">(about)</a>',\n",
       " '<div class=\"tags\">\\n        Tags:\\n        <a class=\"tag\" href=\"/tag/change/page/1/\">change</a>\\n        <a class=\"tag\" href=\"/tag/deep-thoughts/page/1/\">deep-thoughts</a>\\n        <a class=\"tag\" href=\"/tag/thinking/page/1/\">thinking</a>\\n        <a class=\"tag\" href=\"/tag/world/page/1/\">world</a>\\n    </div>',\n",
       " '<a class=\"tag\" href=\"/tag/change/page/1/\">change</a>',\n",
       " '<a class=\"tag\" href=\"/tag/deep-thoughts/page/1/\">deep-thoughts</a>',\n",
       " '<a class=\"tag\" href=\"/tag/thinking/page/1/\">thinking</a>',\n",
       " '<a class=\"tag\" href=\"/tag/world/page/1/\">world</a>']"
      ]
     },
     "execution_count": 29,
     "metadata": {},
     "output_type": "execute_result"
    },
    {
     "name": "stdout",
     "output_type": "stream",
     "text": [
      "The history saving thread hit an unexpected error (OperationalError('database or disk is full')).History will not be written to the database.\n"
     ]
    }
   ],
   "source": [
    "response.xpath('//*[@*]').getall()"
   ]
  },
  {
   "cell_type": "code",
   "execution_count": 41,
   "metadata": {},
   "outputs": [
    {
     "data": {
      "text/plain": [
       "[<Selector xpath='//a[@href]' data='<a href=\"/author/Albert-Einstein\">(ab...'>,\n",
       " <Selector xpath='//a[@href]' data='<a class=\"tag\" href=\"/tag/change/page...'>,\n",
       " <Selector xpath='//a[@href]' data='<a class=\"tag\" href=\"/tag/deep-though...'>,\n",
       " <Selector xpath='//a[@href]' data='<a class=\"tag\" href=\"/tag/thinking/pa...'>,\n",
       " <Selector xpath='//a[@href]' data='<a class=\"tag\" href=\"/tag/world/page/...'>]"
      ]
     },
     "execution_count": 41,
     "metadata": {},
     "output_type": "execute_result"
    }
   ],
   "source": [
    "response.xpath('//a[@href]') #找到a节点含有href属性"
   ]
  },
  {
   "cell_type": "code",
   "execution_count": 42,
   "metadata": {},
   "outputs": [
    {
     "data": {
      "text/plain": [
       "[<Selector xpath='//a[@href=\"/tag/change/page/1/\"]' data='<a class=\"tag\" href=\"/tag/change/page...'>]"
      ]
     },
     "execution_count": 42,
     "metadata": {},
     "output_type": "execute_result"
    }
   ],
   "source": [
    "response.xpath('//a[@href=\"/tag/change/page/1/\"]')#精确定位某一个href"
   ]
  },
  {
   "cell_type": "code",
   "execution_count": 43,
   "metadata": {},
   "outputs": [
    {
     "name": "stdout",
     "output_type": "stream",
     "text": [
      "<html><body><div class=\"quote\">\n",
      "    <span class=\"text\">“The world as we have created it is a process of our\n",
      "    thinking. It cannot be changed without changing our thinking.”</span>\n",
      "    <span>\n",
      "        by <small class=\"author\">Albert Einstein</small>\n",
      "        <a href=\"/author/Albert-Einstein\">(about)</a>\n",
      "    </span>\n",
      "    <div class=\"tags\">\n",
      "        Tags:\n",
      "        <a class=\"tag\" href=\"/tag/change/page/1/\">change</a>\n",
      "        <a class=\"tag\" href=\"/tag/deep-thoughts/page/1/\">deep-thoughts</a>\n",
      "        <a class=\"tag\" href=\"/tag/thinking/page/1/\">thinking</a>\n",
      "        <a class=\"tag\" href=\"/tag/world/page/1/\">world</a>\n",
      "    </div>\n",
      "</div></body></html>\n"
     ]
    }
   ],
   "source": [
    "print(response.xpath('/*').getall()[0])"
   ]
  },
  {
   "cell_type": "code",
   "execution_count": 44,
   "metadata": {},
   "outputs": [
    {
     "data": {
      "text/plain": [
       "[<Selector xpath='/html/body/div/span[@*]' data='<span class=\"text\">“The world as we h...'>]"
      ]
     },
     "execution_count": 44,
     "metadata": {},
     "output_type": "execute_result"
    }
   ],
   "source": [
    "response.xpath('/html/body/div/span[@*]')"
   ]
  },
  {
   "cell_type": "code",
   "execution_count": 45,
   "metadata": {},
   "outputs": [
    {
     "data": {
      "text/plain": [
       "[<Selector xpath='//div|//span' data='<div class=\"quote\">\\n    <span class=\"...'>,\n",
       " <Selector xpath='//div|//span' data='<span class=\"text\">“The world as we h...'>,\n",
       " <Selector xpath='//div|//span' data='<span>\\n        by <small class=\"autho...'>,\n",
       " <Selector xpath='//div|//span' data='<div class=\"tags\">\\n        Tags:\\n    ...'>]"
      ]
     },
     "execution_count": 45,
     "metadata": {},
     "output_type": "execute_result"
    }
   ],
   "source": [
    "response.xpath('//div|//span')"
   ]
  },
  {
   "cell_type": "code",
   "execution_count": 46,
   "metadata": {},
   "outputs": [
    {
     "data": {
      "text/plain": [
       "[<Selector xpath='//span' data='<span class=\"text\">“The world as we h...'>,\n",
       " <Selector xpath='//span' data='<span>\\n        by <small class=\"autho...'>]"
      ]
     },
     "execution_count": 46,
     "metadata": {},
     "output_type": "execute_result"
    }
   ],
   "source": [
    "response.xpath('//span')"
   ]
  },
  {
   "cell_type": "code",
   "execution_count": 30,
   "metadata": {},
   "outputs": [
    {
     "data": {
      "text/plain": [
       "[<Selector xpath='//span/text()' data='“The world as we have created it is a...'>,\n",
       " <Selector xpath='//span/text()' data='\\n        by '>,\n",
       " <Selector xpath='//span/text()' data='\\n        '>,\n",
       " <Selector xpath='//span/text()' data='\\n    '>]"
      ]
     },
     "execution_count": 30,
     "metadata": {},
     "output_type": "execute_result"
    }
   ],
   "source": [
    "response.xpath('//span/text()')"
   ]
  },
  {
   "cell_type": "code",
   "execution_count": 31,
   "metadata": {},
   "outputs": [
    {
     "data": {
      "text/plain": [
       "['“The world as we have created it is a process of our\\n    thinking. It cannot be changed without changing our thinking.”',\n",
       " '\\n        by ',\n",
       " '\\n        ',\n",
       " '\\n    ']"
      ]
     },
     "execution_count": 31,
     "metadata": {},
     "output_type": "execute_result"
    }
   ],
   "source": [
    "response.xpath('//span/text()').getall()"
   ]
  },
  {
   "cell_type": "code",
   "execution_count": 48,
   "metadata": {},
   "outputs": [
    {
     "data": {
      "text/plain": [
       "[<Selector xpath='//span/attribute::class' data='text'>]"
      ]
     },
     "execution_count": 48,
     "metadata": {},
     "output_type": "execute_result"
    }
   ],
   "source": [
    "response.xpath('//span/attribute::class')"
   ]
  },
  {
   "cell_type": "code",
   "execution_count": 49,
   "metadata": {},
   "outputs": [
    {
     "data": {
      "text/plain": [
       "[<Selector xpath='//span[@class]/@class' data='text'>]"
      ]
     },
     "execution_count": 49,
     "metadata": {},
     "output_type": "execute_result"
    }
   ],
   "source": [
    "response.xpath('//span[@class]/@class')##和上面等价"
   ]
  },
  {
   "cell_type": "code",
   "execution_count": 32,
   "metadata": {},
   "outputs": [
    {
     "data": {
      "text/plain": [
       "['text']"
      ]
     },
     "execution_count": 32,
     "metadata": {},
     "output_type": "execute_result"
    }
   ],
   "source": [
    "response.xpath('//span[@class]/@class').getall()##和上面等价"
   ]
  },
  {
   "cell_type": "markdown",
   "metadata": {},
   "source": [
    "接下来几节，将通过一个实例，来阐述爬虫项目的编写过程\n",
    "\n",
    "参考： https://www.jianshu.com/p/169b62a8a269"
   ]
  },
  {
   "cell_type": "markdown",
   "metadata": {},
   "source": [
    "## 第二节 scrapy创建抓取项目"
   ]
  },
  {
   "cell_type": "markdown",
   "metadata": {},
   "source": [
    "scrapy startproject weather\n",
    "\n",
    "cd weather\n",
    "\n",
    "scrapy genspider weatherspider example.com"
   ]
  },
  {
   "cell_type": "markdown",
   "metadata": {},
   "source": []
  },
  {
   "cell_type": "markdown",
   "metadata": {},
   "source": [
    "## 第三节 scrapy对网页数据解析"
   ]
  },
  {
   "cell_type": "markdown",
   "metadata": {},
   "source": [
    "首先分析网页"
   ]
  },
  {
   "cell_type": "markdown",
   "metadata": {},
   "source": [
    "https://lishi.tianqi.com/beijing/201908.html"
   ]
  },
  {
   "cell_type": "markdown",
   "metadata": {},
   "source": [
    "可以看到，url是一个通用主站[https://lishi.tianqi.com/] + [城市] + [月份.html] 构成的。\n",
    "\n",
    "这样的网址构成很简单，只需定义好城市和月份，即可直达网址，然后爬取数据即可。\n",
    "\n",
    "其实，网址也可以从[https://lishi.tianqi.com/] + [城市]+[/index.html]中爬取。\n",
    "\n",
    "有了前面的准备，我们开始准备解析网页数据。"
   ]
  },
  {
   "cell_type": "markdown",
   "metadata": {},
   "source": [
    "从网页看到，天气信息主要包含如下几个方面的信息：\n",
    "\n",
    "    日期\n",
    "    最高气温\n",
    "    最低气温\n",
    "    天气\n",
    "    风向\n",
    "    风力\n",
    " 再加上城市信息，我们构造如下的结构，写在 items.py 文件中：\n",
    " \n",
    " \n"
   ]
  },
  {
   "cell_type": "code",
   "execution_count": 50,
   "metadata": {},
   "outputs": [],
   "source": [
    "# -*- coding: utf-8 -*-\n",
    "\n",
    "# Define here the models for your scraped items\n",
    "#\n",
    "# See documentation in:\n",
    "# https://docs.scrapy.org/en/latest/topics/items.html\n",
    "\n",
    "import scrapy\n",
    "\n",
    "\n",
    "class WeatherItem(scrapy.Item):\n",
    "    # define the fields for your item here like:\n",
    "    # name = scrapy.Field()\n",
    "    #pass\n",
    "\n",
    "    # 城市\n",
    "    city = scrapy.Field()\n",
    "    # 日期\n",
    "    date = scrapy.Field()\n",
    "    # 最高气温\n",
    "    tempHigh = scrapy.Field()\n",
    "    # 最低气温\n",
    "    tempLow  = scrapy.Field()\n",
    "    # 天气\n",
    "    weather = scrapy.Field()\n",
    "    # 风向\n",
    "    windDirec = scrapy.Field()\n",
    "    # 风力\n",
    "    windLevel = scrapy.Field()\n",
    "    # 数据源\n",
    "    source = scrapy.Field()\n"
   ]
  },
  {
   "cell_type": "markdown",
   "metadata": {},
   "source": [
    "接下来，开始到我们程序的主体部分：spider的编写。\n",
    "\n",
    "我们编写在weatherspider.py中。\n",
    "\n",
    "回顾前面的简单例子，一个spider，主要是定义了两个操作。\n",
    "\n",
    "1. 从哪里开始爬取数据\n",
    "2. 处理完初始网页之后，还要干啥\n",
    "\n",
    "这两件事情定义好了，我们就定义好了spider！ So easy！\n",
    "\n",
    "So far so good！"
   ]
  },
  {
   "cell_type": "code",
   "execution_count": 51,
   "metadata": {},
   "outputs": [
    {
     "ename": "ModuleNotFoundError",
     "evalue": "No module named 'items'",
     "output_type": "error",
     "traceback": [
      "\u001b[0;31m---------------------------------------------------------------------------\u001b[0m",
      "\u001b[0;31mModuleNotFoundError\u001b[0m                       Traceback (most recent call last)",
      "\u001b[0;32m<ipython-input-51-39ac44924a25>\u001b[0m in \u001b[0;36m<module>\u001b[0;34m\u001b[0m\n\u001b[1;32m      1\u001b[0m \u001b[0;31m# -*- coding: utf-8 -*-\u001b[0m\u001b[0;34m\u001b[0m\u001b[0;34m\u001b[0m\u001b[0;34m\u001b[0m\u001b[0m\n\u001b[1;32m      2\u001b[0m \u001b[0;32mimport\u001b[0m \u001b[0mscrapy\u001b[0m\u001b[0;34m\u001b[0m\u001b[0;34m\u001b[0m\u001b[0m\n\u001b[0;32m----> 3\u001b[0;31m \u001b[0;32mfrom\u001b[0m \u001b[0mitems\u001b[0m \u001b[0;32mimport\u001b[0m \u001b[0mWeatherItem\u001b[0m\u001b[0;34m\u001b[0m\u001b[0;34m\u001b[0m\u001b[0m\n\u001b[0m\u001b[1;32m      4\u001b[0m \u001b[0;32mimport\u001b[0m \u001b[0mpandas\u001b[0m \u001b[0;32mas\u001b[0m \u001b[0mpd\u001b[0m\u001b[0;34m\u001b[0m\u001b[0;34m\u001b[0m\u001b[0m\n\u001b[1;32m      5\u001b[0m \u001b[0;34m\u001b[0m\u001b[0m\n",
      "\u001b[0;31mModuleNotFoundError\u001b[0m: No module named 'items'"
     ]
    }
   ],
   "source": [
    "# -*- coding: utf-8 -*-\n",
    "import scrapy\n",
    "from items import WeatherItem\n",
    "import pandas as pd\n",
    "\n",
    "class WeatherspiderSpider(scrapy.Spider):\n",
    "    name = 'weatherspider'\n",
    "    #allowed_domains = ['example.com']\n",
    "    base_url = 'https://lishi.tianqi.com/'\n",
    "    start_urls = [base_url]\n",
    "    cities  = ['beijing','shanghai','tianjin','chongqin','zhengzhou']\n",
    "    Dates = pd.date_range(start='1/2011',end='9/2019', freq='M')\n",
    "\n",
    "    def parse(self, response):\n",
    "        URLs = []\n",
    "        for city in self.cities:\n",
    "            for date in self.Dates:\n",
    "                url = self.base_url + city+'/'+date.strftime(\"%Y%m\")+'.html'\n",
    "                URLs.append(url)\n",
    "        for url in URLs:\n",
    "            yield scrapy.Request(url,callback = self.parse_data,meta={\"city\":city,'source':url})\n",
    "\n",
    "    def parse_data(self,response):\n",
    "        node_list = response.xpath('//div[@class=\"tqtongji2\"]/ul')\n",
    "        n0 = node_list.pop(0)\n",
    "\n",
    "        for node in node_list:\n",
    "            item = WeatherItem()\n",
    "            item['city'] = response.meta['city']\n",
    "            item['date'] = node.xpath('./li[1]/text()').extract_first()\n",
    "            item['tempHigh'] = node.xpath('./li[2]/text()').extract_first()\n",
    "            item['tempLow'] = node.xpath('./li[3]//text()').extract_first()\n",
    "            item['weather'] = node.xpath('./li[4]/text()').extract_first()\n",
    "            item['windDirec'] = node.xpath('./li[5]/text()').extract_first()\n",
    "            item['windLevel'] = node.xpath('./li[6]/text()').extract_first()\n",
    "            item['source'] = response.meta['source']\n",
    "            yield item\n"
   ]
  },
  {
   "cell_type": "markdown",
   "metadata": {},
   "source": [
    "## 第四节 scrapy应对反爬机制"
   ]
  },
  {
   "cell_type": "markdown",
   "metadata": {},
   "source": [
    "scrapy shell \"http://lishi.tianqi.com/guangzhou/201101.html\" "
   ]
  },
  {
   "cell_type": "markdown",
   "metadata": {},
   "source": [
    "scrapy shell -s USER_AGENT='Mozilla/5.0'\"http://lishi.tianqi.com/guangzhou/201101.html\" "
   ]
  },
  {
   "cell_type": "markdown",
   "metadata": {},
   "source": [
    "在运行爬虫代码时，也要设置USER_AGENT，打开settings.py,找到注释掉的USER_AGENT"
   ]
  },
  {
   "cell_type": "code",
   "execution_count": 52,
   "metadata": {},
   "outputs": [],
   "source": [
    "# Crawl responsibly by identifying yourself (and your website) on the user-agent\n",
    "#USER_AGENT = 'weather (+http://www.yourdomain.com)'\n",
    "USER_AGENT = 'Mozilla/5.0 (Macintosh; Intel Mac OS X 10.12; rv:69.0) Gecko/20100101 Firefox/69.0'"
   ]
  },
  {
   "cell_type": "markdown",
   "metadata": {},
   "source": [
    "这样是写死了USER_AGENT,为了更好地应对发爬机制，可以考虑随机使用一些USER_AGENT进行伪装：\n",
    "\n",
    "修改settings文件:"
   ]
  },
  {
   "cell_type": "code",
   "execution_count": null,
   "metadata": {},
   "outputs": [],
   "source": [
    "pip install scrapy_fake_useragent"
   ]
  },
  {
   "cell_type": "code",
   "execution_count": 53,
   "metadata": {},
   "outputs": [],
   "source": [
    "DOWNLOADER_MIDDLEWARES = {\n",
    "'scrapy.downloadermiddlewares.useragent.UserAgentMiddleware':None,# 关闭默认方法\n",
    "'scrapy_fake_useragent.middleware.RandomUserAgentMiddleware':400,# 开启\n",
    "}"
   ]
  },
  {
   "cell_type": "markdown",
   "metadata": {},
   "source": [
    "还有其他方法，可以设置不同的agent，请参阅：https://www.cnblogs.com/l520/p/10246528.html"
   ]
  },
  {
   "cell_type": "markdown",
   "metadata": {},
   "source": [
    "## 第五节 scrapy存储数据"
   ]
  },
  {
   "cell_type": "raw",
   "metadata": {},
   "source": [
    "scrapy crawl weatherspider -o filename.csv"
   ]
  },
  {
   "cell_type": "markdown",
   "metadata": {},
   "source": [
    "一些未涉及的内容：\n",
    "- 分布式爬虫\n",
    "- 动态网站爬取\n",
    "- 通过代理应对反爬虫机制"
   ]
  },
  {
   "cell_type": "markdown",
   "metadata": {},
   "source": [
    "## 第六节 对爬取的数据进行分析"
   ]
  },
  {
   "cell_type": "code",
   "execution_count": 55,
   "metadata": {},
   "outputs": [
    {
     "ename": "FileNotFoundError",
     "evalue": "[Errno 2] File b'./weather2.csv' does not exist: b'./weather2.csv'",
     "output_type": "error",
     "traceback": [
      "\u001b[0;31m---------------------------------------------------------------------------\u001b[0m",
      "\u001b[0;31mFileNotFoundError\u001b[0m                         Traceback (most recent call last)",
      "\u001b[0;32m<ipython-input-55-7124a64b3878>\u001b[0m in \u001b[0;36m<module>\u001b[0;34m\u001b[0m\n\u001b[1;32m      1\u001b[0m \u001b[0;32mimport\u001b[0m \u001b[0mpandas\u001b[0m \u001b[0;32mas\u001b[0m \u001b[0mpd\u001b[0m\u001b[0;34m\u001b[0m\u001b[0;34m\u001b[0m\u001b[0m\n\u001b[0;32m----> 2\u001b[0;31m \u001b[0mdata\u001b[0m \u001b[0;34m=\u001b[0m \u001b[0mpd\u001b[0m\u001b[0;34m.\u001b[0m\u001b[0mread_csv\u001b[0m\u001b[0;34m(\u001b[0m\u001b[0;34m'./weather2.csv'\u001b[0m\u001b[0;34m)\u001b[0m\u001b[0;34m\u001b[0m\u001b[0;34m\u001b[0m\u001b[0m\n\u001b[0m",
      "\u001b[0;32m~/anaconda3/lib/python3.7/site-packages/pandas/io/parsers.py\u001b[0m in \u001b[0;36mparser_f\u001b[0;34m(filepath_or_buffer, sep, delimiter, header, names, index_col, usecols, squeeze, prefix, mangle_dupe_cols, dtype, engine, converters, true_values, false_values, skipinitialspace, skiprows, skipfooter, nrows, na_values, keep_default_na, na_filter, verbose, skip_blank_lines, parse_dates, infer_datetime_format, keep_date_col, date_parser, dayfirst, iterator, chunksize, compression, thousands, decimal, lineterminator, quotechar, quoting, doublequote, escapechar, comment, encoding, dialect, tupleize_cols, error_bad_lines, warn_bad_lines, delim_whitespace, low_memory, memory_map, float_precision)\u001b[0m\n\u001b[1;32m    700\u001b[0m                     skip_blank_lines=skip_blank_lines)\n\u001b[1;32m    701\u001b[0m \u001b[0;34m\u001b[0m\u001b[0m\n\u001b[0;32m--> 702\u001b[0;31m         \u001b[0;32mreturn\u001b[0m \u001b[0m_read\u001b[0m\u001b[0;34m(\u001b[0m\u001b[0mfilepath_or_buffer\u001b[0m\u001b[0;34m,\u001b[0m \u001b[0mkwds\u001b[0m\u001b[0;34m)\u001b[0m\u001b[0;34m\u001b[0m\u001b[0;34m\u001b[0m\u001b[0m\n\u001b[0m\u001b[1;32m    703\u001b[0m \u001b[0;34m\u001b[0m\u001b[0m\n\u001b[1;32m    704\u001b[0m     \u001b[0mparser_f\u001b[0m\u001b[0;34m.\u001b[0m\u001b[0m__name__\u001b[0m \u001b[0;34m=\u001b[0m \u001b[0mname\u001b[0m\u001b[0;34m\u001b[0m\u001b[0;34m\u001b[0m\u001b[0m\n",
      "\u001b[0;32m~/anaconda3/lib/python3.7/site-packages/pandas/io/parsers.py\u001b[0m in \u001b[0;36m_read\u001b[0;34m(filepath_or_buffer, kwds)\u001b[0m\n\u001b[1;32m    427\u001b[0m \u001b[0;34m\u001b[0m\u001b[0m\n\u001b[1;32m    428\u001b[0m     \u001b[0;31m# Create the parser.\u001b[0m\u001b[0;34m\u001b[0m\u001b[0;34m\u001b[0m\u001b[0;34m\u001b[0m\u001b[0m\n\u001b[0;32m--> 429\u001b[0;31m     \u001b[0mparser\u001b[0m \u001b[0;34m=\u001b[0m \u001b[0mTextFileReader\u001b[0m\u001b[0;34m(\u001b[0m\u001b[0mfilepath_or_buffer\u001b[0m\u001b[0;34m,\u001b[0m \u001b[0;34m**\u001b[0m\u001b[0mkwds\u001b[0m\u001b[0;34m)\u001b[0m\u001b[0;34m\u001b[0m\u001b[0;34m\u001b[0m\u001b[0m\n\u001b[0m\u001b[1;32m    430\u001b[0m \u001b[0;34m\u001b[0m\u001b[0m\n\u001b[1;32m    431\u001b[0m     \u001b[0;32mif\u001b[0m \u001b[0mchunksize\u001b[0m \u001b[0;32mor\u001b[0m \u001b[0miterator\u001b[0m\u001b[0;34m:\u001b[0m\u001b[0;34m\u001b[0m\u001b[0;34m\u001b[0m\u001b[0m\n",
      "\u001b[0;32m~/anaconda3/lib/python3.7/site-packages/pandas/io/parsers.py\u001b[0m in \u001b[0;36m__init__\u001b[0;34m(self, f, engine, **kwds)\u001b[0m\n\u001b[1;32m    893\u001b[0m             \u001b[0mself\u001b[0m\u001b[0;34m.\u001b[0m\u001b[0moptions\u001b[0m\u001b[0;34m[\u001b[0m\u001b[0;34m'has_index_names'\u001b[0m\u001b[0;34m]\u001b[0m \u001b[0;34m=\u001b[0m \u001b[0mkwds\u001b[0m\u001b[0;34m[\u001b[0m\u001b[0;34m'has_index_names'\u001b[0m\u001b[0;34m]\u001b[0m\u001b[0;34m\u001b[0m\u001b[0;34m\u001b[0m\u001b[0m\n\u001b[1;32m    894\u001b[0m \u001b[0;34m\u001b[0m\u001b[0m\n\u001b[0;32m--> 895\u001b[0;31m         \u001b[0mself\u001b[0m\u001b[0;34m.\u001b[0m\u001b[0m_make_engine\u001b[0m\u001b[0;34m(\u001b[0m\u001b[0mself\u001b[0m\u001b[0;34m.\u001b[0m\u001b[0mengine\u001b[0m\u001b[0;34m)\u001b[0m\u001b[0;34m\u001b[0m\u001b[0;34m\u001b[0m\u001b[0m\n\u001b[0m\u001b[1;32m    896\u001b[0m \u001b[0;34m\u001b[0m\u001b[0m\n\u001b[1;32m    897\u001b[0m     \u001b[0;32mdef\u001b[0m \u001b[0mclose\u001b[0m\u001b[0;34m(\u001b[0m\u001b[0mself\u001b[0m\u001b[0;34m)\u001b[0m\u001b[0;34m:\u001b[0m\u001b[0;34m\u001b[0m\u001b[0;34m\u001b[0m\u001b[0m\n",
      "\u001b[0;32m~/anaconda3/lib/python3.7/site-packages/pandas/io/parsers.py\u001b[0m in \u001b[0;36m_make_engine\u001b[0;34m(self, engine)\u001b[0m\n\u001b[1;32m   1120\u001b[0m     \u001b[0;32mdef\u001b[0m \u001b[0m_make_engine\u001b[0m\u001b[0;34m(\u001b[0m\u001b[0mself\u001b[0m\u001b[0;34m,\u001b[0m \u001b[0mengine\u001b[0m\u001b[0;34m=\u001b[0m\u001b[0;34m'c'\u001b[0m\u001b[0;34m)\u001b[0m\u001b[0;34m:\u001b[0m\u001b[0;34m\u001b[0m\u001b[0;34m\u001b[0m\u001b[0m\n\u001b[1;32m   1121\u001b[0m         \u001b[0;32mif\u001b[0m \u001b[0mengine\u001b[0m \u001b[0;34m==\u001b[0m \u001b[0;34m'c'\u001b[0m\u001b[0;34m:\u001b[0m\u001b[0;34m\u001b[0m\u001b[0;34m\u001b[0m\u001b[0m\n\u001b[0;32m-> 1122\u001b[0;31m             \u001b[0mself\u001b[0m\u001b[0;34m.\u001b[0m\u001b[0m_engine\u001b[0m \u001b[0;34m=\u001b[0m \u001b[0mCParserWrapper\u001b[0m\u001b[0;34m(\u001b[0m\u001b[0mself\u001b[0m\u001b[0;34m.\u001b[0m\u001b[0mf\u001b[0m\u001b[0;34m,\u001b[0m \u001b[0;34m**\u001b[0m\u001b[0mself\u001b[0m\u001b[0;34m.\u001b[0m\u001b[0moptions\u001b[0m\u001b[0;34m)\u001b[0m\u001b[0;34m\u001b[0m\u001b[0;34m\u001b[0m\u001b[0m\n\u001b[0m\u001b[1;32m   1123\u001b[0m         \u001b[0;32melse\u001b[0m\u001b[0;34m:\u001b[0m\u001b[0;34m\u001b[0m\u001b[0;34m\u001b[0m\u001b[0m\n\u001b[1;32m   1124\u001b[0m             \u001b[0;32mif\u001b[0m \u001b[0mengine\u001b[0m \u001b[0;34m==\u001b[0m \u001b[0;34m'python'\u001b[0m\u001b[0;34m:\u001b[0m\u001b[0;34m\u001b[0m\u001b[0;34m\u001b[0m\u001b[0m\n",
      "\u001b[0;32m~/anaconda3/lib/python3.7/site-packages/pandas/io/parsers.py\u001b[0m in \u001b[0;36m__init__\u001b[0;34m(self, src, **kwds)\u001b[0m\n\u001b[1;32m   1851\u001b[0m         \u001b[0mkwds\u001b[0m\u001b[0;34m[\u001b[0m\u001b[0;34m'usecols'\u001b[0m\u001b[0;34m]\u001b[0m \u001b[0;34m=\u001b[0m \u001b[0mself\u001b[0m\u001b[0;34m.\u001b[0m\u001b[0musecols\u001b[0m\u001b[0;34m\u001b[0m\u001b[0;34m\u001b[0m\u001b[0m\n\u001b[1;32m   1852\u001b[0m \u001b[0;34m\u001b[0m\u001b[0m\n\u001b[0;32m-> 1853\u001b[0;31m         \u001b[0mself\u001b[0m\u001b[0;34m.\u001b[0m\u001b[0m_reader\u001b[0m \u001b[0;34m=\u001b[0m \u001b[0mparsers\u001b[0m\u001b[0;34m.\u001b[0m\u001b[0mTextReader\u001b[0m\u001b[0;34m(\u001b[0m\u001b[0msrc\u001b[0m\u001b[0;34m,\u001b[0m \u001b[0;34m**\u001b[0m\u001b[0mkwds\u001b[0m\u001b[0;34m)\u001b[0m\u001b[0;34m\u001b[0m\u001b[0;34m\u001b[0m\u001b[0m\n\u001b[0m\u001b[1;32m   1854\u001b[0m         \u001b[0mself\u001b[0m\u001b[0;34m.\u001b[0m\u001b[0munnamed_cols\u001b[0m \u001b[0;34m=\u001b[0m \u001b[0mself\u001b[0m\u001b[0;34m.\u001b[0m\u001b[0m_reader\u001b[0m\u001b[0;34m.\u001b[0m\u001b[0munnamed_cols\u001b[0m\u001b[0;34m\u001b[0m\u001b[0;34m\u001b[0m\u001b[0m\n\u001b[1;32m   1855\u001b[0m \u001b[0;34m\u001b[0m\u001b[0m\n",
      "\u001b[0;32mpandas/_libs/parsers.pyx\u001b[0m in \u001b[0;36mpandas._libs.parsers.TextReader.__cinit__\u001b[0;34m()\u001b[0m\n",
      "\u001b[0;32mpandas/_libs/parsers.pyx\u001b[0m in \u001b[0;36mpandas._libs.parsers.TextReader._setup_parser_source\u001b[0;34m()\u001b[0m\n",
      "\u001b[0;31mFileNotFoundError\u001b[0m: [Errno 2] File b'./weather2.csv' does not exist: b'./weather2.csv'"
     ]
    }
   ],
   "source": [
    "import pandas as pd\n",
    "data = pd.read_csv('./weather2.csv')"
   ]
  },
  {
   "cell_type": "code",
   "execution_count": null,
   "metadata": {},
   "outputs": [],
   "source": [
    "data.shape"
   ]
  },
  {
   "cell_type": "code",
   "execution_count": null,
   "metadata": {},
   "outputs": [],
   "source": [
    "data.head()"
   ]
  },
  {
   "cell_type": "code",
   "execution_count": null,
   "metadata": {},
   "outputs": [],
   "source": [
    "data_bj = data[data.city == 'beijing']"
   ]
  },
  {
   "cell_type": "code",
   "execution_count": null,
   "metadata": {},
   "outputs": [],
   "source": [
    "data_bj.shape"
   ]
  },
  {
   "cell_type": "code",
   "execution_count": null,
   "metadata": {},
   "outputs": [],
   "source": [
    "data_bj_sorted = data_bj.sort_values(by='date')"
   ]
  },
  {
   "cell_type": "code",
   "execution_count": null,
   "metadata": {},
   "outputs": [],
   "source": [
    "data_bj_sorted.head()"
   ]
  },
  {
   "cell_type": "code",
   "execution_count": null,
   "metadata": {
    "scrolled": false
   },
   "outputs": [],
   "source": [
    "import matplotlib.pyplot as plt\n",
    "import numpy as np\n",
    "import datetime\n",
    "xs = [datetime.datetime.strptime(d, '%Y-%m-%d').date() for d in data_bj_sorted.date]\n",
    "plt.plot(xs,np.array(data_bj_sorted.tempHigh),'.')\n",
    "plt.show()"
   ]
  },
  {
   "cell_type": "markdown",
   "metadata": {},
   "source": [
    "## 第七节 抓取并存储图片"
   ]
  },
  {
   "cell_type": "code",
   "execution_count": 2,
   "metadata": {},
   "outputs": [],
   "source": [
    "import urllib\n"
   ]
  },
  {
   "cell_type": "code",
   "execution_count": 34,
   "metadata": {},
   "outputs": [],
   "source": [
    "picurl = 'http://preview.qiantucdn.com/58pic/35/42/49/94Z58PICF04ZD58PICHub0YSe_PIC2018.jpg!qt324new_nowater'"
   ]
  },
  {
   "cell_type": "code",
   "execution_count": 35,
   "metadata": {},
   "outputs": [],
   "source": [
    "localpath = './example/pic/toy.jpg'"
   ]
  },
  {
   "cell_type": "code",
   "execution_count": 36,
   "metadata": {},
   "outputs": [
    {
     "ename": "FileNotFoundError",
     "evalue": "[Errno 2] No such file or directory: './example/pic/toy.jpg'",
     "output_type": "error",
     "traceback": [
      "\u001b[0;31m---------------------------------------------------------------------------\u001b[0m",
      "\u001b[0;31mFileNotFoundError\u001b[0m                         Traceback (most recent call last)",
      "\u001b[0;32m<ipython-input-36-bd58d2d7b5ce>\u001b[0m in \u001b[0;36m<module>\u001b[0;34m\u001b[0m\n\u001b[0;32m----> 1\u001b[0;31m \u001b[0murllib\u001b[0m\u001b[0;34m.\u001b[0m\u001b[0mrequest\u001b[0m\u001b[0;34m.\u001b[0m\u001b[0murlretrieve\u001b[0m\u001b[0;34m(\u001b[0m\u001b[0mpicurl\u001b[0m\u001b[0;34m,\u001b[0m\u001b[0mfilename\u001b[0m\u001b[0;34m=\u001b[0m\u001b[0mlocalpath\u001b[0m\u001b[0;34m)\u001b[0m\u001b[0;34m\u001b[0m\u001b[0;34m\u001b[0m\u001b[0m\n\u001b[0m",
      "\u001b[0;32m~/anaconda3/lib/python3.7/urllib/request.py\u001b[0m in \u001b[0;36murlretrieve\u001b[0;34m(url, filename, reporthook, data)\u001b[0m\n\u001b[1;32m    255\u001b[0m         \u001b[0;31m# Handle temporary file setup.\u001b[0m\u001b[0;34m\u001b[0m\u001b[0;34m\u001b[0m\u001b[0;34m\u001b[0m\u001b[0m\n\u001b[1;32m    256\u001b[0m         \u001b[0;32mif\u001b[0m \u001b[0mfilename\u001b[0m\u001b[0;34m:\u001b[0m\u001b[0;34m\u001b[0m\u001b[0;34m\u001b[0m\u001b[0m\n\u001b[0;32m--> 257\u001b[0;31m             \u001b[0mtfp\u001b[0m \u001b[0;34m=\u001b[0m \u001b[0mopen\u001b[0m\u001b[0;34m(\u001b[0m\u001b[0mfilename\u001b[0m\u001b[0;34m,\u001b[0m \u001b[0;34m'wb'\u001b[0m\u001b[0;34m)\u001b[0m\u001b[0;34m\u001b[0m\u001b[0;34m\u001b[0m\u001b[0m\n\u001b[0m\u001b[1;32m    258\u001b[0m         \u001b[0;32melse\u001b[0m\u001b[0;34m:\u001b[0m\u001b[0;34m\u001b[0m\u001b[0;34m\u001b[0m\u001b[0m\n\u001b[1;32m    259\u001b[0m             \u001b[0mtfp\u001b[0m \u001b[0;34m=\u001b[0m \u001b[0mtempfile\u001b[0m\u001b[0;34m.\u001b[0m\u001b[0mNamedTemporaryFile\u001b[0m\u001b[0;34m(\u001b[0m\u001b[0mdelete\u001b[0m\u001b[0;34m=\u001b[0m\u001b[0;32mFalse\u001b[0m\u001b[0;34m)\u001b[0m\u001b[0;34m\u001b[0m\u001b[0;34m\u001b[0m\u001b[0m\n",
      "\u001b[0;31mFileNotFoundError\u001b[0m: [Errno 2] No such file or directory: './example/pic/toy.jpg'"
     ]
    }
   ],
   "source": [
    "urllib.request.urlretrieve(picurl,filename=localpath)"
   ]
  },
  {
   "cell_type": "code",
   "execution_count": 39,
   "metadata": {},
   "outputs": [
    {
     "data": {
      "text/plain": [
       "True"
      ]
     },
     "execution_count": 39,
     "metadata": {},
     "output_type": "execute_result"
    }
   ],
   "source": [
    "os.path.isdir(localpath)"
   ]
  },
  {
   "cell_type": "code",
   "execution_count": 38,
   "metadata": {},
   "outputs": [],
   "source": [
    "if not os.path.isdir('./example/pic/'):\n",
    "    os.makedirs('./example/pic/')"
   ]
  },
  {
   "cell_type": "code",
   "execution_count": 41,
   "metadata": {},
   "outputs": [
    {
     "data": {
      "text/plain": [
       "('./example/pic/toy.jpg', <http.client.HTTPMessage at 0x1085a8ac8>)"
      ]
     },
     "execution_count": 41,
     "metadata": {},
     "output_type": "execute_result"
    }
   ],
   "source": [
    "urllib.request.urlretrieve(picurl,filename=localpath)"
   ]
  },
  {
   "cell_type": "code",
   "execution_count": 25,
   "metadata": {},
   "outputs": [
    {
     "data": {
      "text/plain": [
       "'/Users/jinzhu/Documents/Books/BookPython'"
      ]
     },
     "execution_count": 25,
     "metadata": {},
     "output_type": "execute_result"
    }
   ],
   "source": [
    "pwd"
   ]
  },
  {
   "cell_type": "code",
   "execution_count": 46,
   "metadata": {},
   "outputs": [
    {
     "data": {
      "text/plain": [
       "('./example/pic/toy.jpgexample.txt', <http.client.HTTPMessage at 0x1085a3dd8>)"
      ]
     },
     "execution_count": 46,
     "metadata": {},
     "output_type": "execute_result"
    }
   ],
   "source": [
    "url = \"http://www.gutenberg.org/files/2554/2554-0.txt\"\n",
    "\n",
    "\n",
    "urllib.request.urlretrieve(url,filename=localpath+ 'example.txt')"
   ]
  },
  {
   "cell_type": "markdown",
   "metadata": {},
   "source": [
    "实现思路及实现步骤：\n",
    "1. 对爬取的网页进行分析，总结出爬取内容的表达式，总结出网页之间的联系，实现网页的自动跳转\n",
    "2. 创建爬虫项目\n",
    "3. 编写对应的items.py, pipelines.py, settings.py\n",
    "4. 编写爬虫文件，实现**爬取当前列表页面的所有图片**\n"
   ]
  },
  {
   "cell_type": "markdown",
   "metadata": {},
   "source": [
    "首先分析入口网站：http://www.58pic.com/tb"
   ]
  },
  {
   "cell_type": "markdown",
   "metadata": {},
   "source": [
    "选择一个图片，比如万圣节海报，其对应的图片网址为： www.58pic.com/newpic/35424994.html\n",
    "\n",
    "再看一个网址：//preview.qiantucdn.com/58pic/35/42/49/94Z58PICF04ZD58PICHub0YSe_PIC2018.jpg!qt324new_nowater\n",
    "为其缩略图对应的网址！"
   ]
  },
  {
   "cell_type": "markdown",
   "metadata": {},
   "source": [
    "**1. 创建项目**"
   ]
  },
  {
   "cell_type": "code",
   "execution_count": null,
   "metadata": {},
   "outputs": [],
   "source": [
    "scrapy startproject pic_download\n",
    "\n",
    "cd pic_download\n"
   ]
  },
  {
   "cell_type": "code",
   "execution_count": null,
   "metadata": {},
   "outputs": [],
   "source": [
    "scrapy genspider pic example.com"
   ]
  },
  {
   "cell_type": "markdown",
   "metadata": {},
   "source": [
    "**2. 编写items.py**"
   ]
  },
  {
   "cell_type": "code",
   "execution_count": null,
   "metadata": {},
   "outputs": [],
   "source": [
    "# -*- coding: utf-8 -*-\n",
    "\n",
    "# Define here the models for your scraped items\n",
    "#\n",
    "# See documentation in:\n",
    "# https://docs.scrapy.org/en/latest/topics/items.html\n",
    "\n",
    "import scrapy\n",
    "\n",
    "\n",
    "class PicDownloadItem(scrapy.Item):\n",
    "    # define the fields for your item here like:\n",
    "    # name = scrapy.Field()\n",
    "\n",
    "    # 建立picurl 存储图片的网址\n",
    "    picurl = scrapy.Field()\n",
    "\n",
    "    ## 建立picid存储图片网址中的文件名，用于构造本地文件名\n",
    "    picid = scapy.Field()"
   ]
  },
  {
   "cell_type": "markdown",
   "metadata": {},
   "source": [
    "**3. 编写pipelines.py** 用于告诉spider 怎样存储图片"
   ]
  },
  {
   "cell_type": "code",
   "execution_count": 26,
   "metadata": {},
   "outputs": [],
   "source": [
    "class PicDownloadPipeline(object):\n",
    "    def process_item(self, item, spider):\n",
    "        #一个图片列表页中有多张图片时，通过for循环依次将图片存储到本地\n",
    "        for i in range(0,len(item['picurl'])):\n",
    "            thispic = item['picurl'][i]\n",
    "            localpath = \"./my_downloads/pic/\" + item['picid'][i] +'.jpg'\n",
    "            urllib.request.urlretrieve(thispic,filename=localpath)\n",
    "        return item"
   ]
  },
  {
   "cell_type": "markdown",
   "metadata": {},
   "source": [
    "**4. 配置 settings**"
   ]
  },
  {
   "cell_type": "code",
   "execution_count": 27,
   "metadata": {},
   "outputs": [],
   "source": [
    "# Configure item pipelines\n",
    "# See https://docs.scrapy.org/en/latest/topics/item-pipeline.html\n",
    "ITEM_PIPELINES = {\n",
    "    'pic_download.pipelines.PicDownloadPipeline': 300,\n",
    "}\n"
   ]
  },
  {
   "cell_type": "markdown",
   "metadata": {},
   "source": [
    "**4. 编写spider**"
   ]
  },
  {
   "cell_type": "code",
   "execution_count": null,
   "metadata": {},
   "outputs": [],
   "source": [
    "scrapy shell 'https://www.58pic.com/piccate/3-0-0.html'"
   ]
  },
  {
   "cell_type": "code",
   "execution_count": null,
   "metadata": {},
   "outputs": [],
   "source": []
  },
  {
   "cell_type": "markdown",
   "metadata": {},
   "source": [
    "**5. 运行 spider**"
   ]
  },
  {
   "cell_type": "code",
   "execution_count": null,
   "metadata": {},
   "outputs": [],
   "source": [
    "scrapy crawl pic"
   ]
  },
  {
   "cell_type": "markdown",
   "metadata": {},
   "source": [
    "## 作业\n",
    "1. 爬取雾霾数据\n",
    "2. 研究雾霾在最近5年的变化趋势\n",
    "3. 研究雾霾和风向、风力的关系"
   ]
  },
  {
   "cell_type": "code",
   "execution_count": null,
   "metadata": {},
   "outputs": [],
   "source": []
  }
 ],
 "metadata": {
  "kernelspec": {
   "display_name": "Python 3",
   "language": "python",
   "name": "python3"
  },
  "language_info": {
   "codemirror_mode": {
    "name": "ipython",
    "version": 3
   },
   "file_extension": ".py",
   "mimetype": "text/x-python",
   "name": "python",
   "nbconvert_exporter": "python",
   "pygments_lexer": "ipython3",
   "version": "3.7.3"
  }
 },
 "nbformat": 4,
 "nbformat_minor": 2
}
