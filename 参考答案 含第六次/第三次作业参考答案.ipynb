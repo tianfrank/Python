{
 "cells": [
  {
   "cell_type": "markdown",
   "metadata": {},
   "source": [
    "**作业**\n",
    "- 研究一些股票，找出相关系数大于0.8的股票,若没有，计算最大的相关系数\n",
    "- 假设初始资金100万，设计投资策略，并比较策略和大盘的收益\n",
    "- 画出资金每日增长／减少曲线[一条是投资策略的，一条是按大盘走势的]"
   ]
  },
  {
   "cell_type": "markdown",
   "metadata": {},
   "source": [
    "1.处于相同行业的股票通常具有较大的相关系数，为此选择了白酒行业、石油行业、银行业的代表性大盘股进行相关系数的分析。"
   ]
  },
  {
   "cell_type": "code",
   "execution_count": 1,
   "metadata": {
    "scrolled": true
   },
   "outputs": [
    {
     "name": "stdout",
     "output_type": "stream",
     "text": [
      "auth success \n"
     ]
    }
   ],
   "source": [
    "import tushare as ts\n",
    "import pandas as pd\n",
    "import numpy as np\n",
    "from jqdatasdk import *\n",
    "auth('18801231748','231748') #加载JoinQuant聚宽数据库"
   ]
  },
  {
   "cell_type": "code",
   "execution_count": 4,
   "metadata": {
    "collapsed": true
   },
   "outputs": [],
   "source": [
    "security_list=['000858.XSHE','600519.XSHG']\n",
    "#股票列表：000858五粮液，600519贵州茅台"
   ]
  },
  {
   "cell_type": "code",
   "execution_count": 5,
   "metadata": {
    "collapsed": true
   },
   "outputs": [],
   "source": [
    "data=get_price(security_list, start_date='2016-01-01', end_date='2019-08-30', \n",
    "               frequency='daily', fields=['close'], skip_paused=False, fq='pre')\n",
    "#使用2016年1月1日至2019年8月30日的每日收盘价数据，股价为前复权，且停牌时股价以停牌前计算"
   ]
  },
  {
   "cell_type": "code",
   "execution_count": 6,
   "metadata": {
    "collapsed": true,
    "scrolled": true
   },
   "outputs": [],
   "source": [
    "closeprice=data['close'] #closeprice为股票收盘价数据\n",
    "returns=closeprice.pct_change().dropna() #returns为股票日收益率数据"
   ]
  },
  {
   "cell_type": "code",
   "execution_count": 7,
   "metadata": {},
   "outputs": [
    {
     "data": {
      "text/html": [
       "<div>\n",
       "<style scoped>\n",
       "    .dataframe tbody tr th:only-of-type {\n",
       "        vertical-align: middle;\n",
       "    }\n",
       "\n",
       "    .dataframe tbody tr th {\n",
       "        vertical-align: top;\n",
       "    }\n",
       "\n",
       "    .dataframe thead th {\n",
       "        text-align: right;\n",
       "    }\n",
       "</style>\n",
       "<table border=\"1\" class=\"dataframe\">\n",
       "  <thead>\n",
       "    <tr style=\"text-align: right;\">\n",
       "      <th></th>\n",
       "      <th>000858.XSHE</th>\n",
       "      <th>600519.XSHG</th>\n",
       "    </tr>\n",
       "  </thead>\n",
       "  <tbody>\n",
       "    <tr>\n",
       "      <th>000858.XSHE</th>\n",
       "      <td>1.00000</td>\n",
       "      <td>0.78688</td>\n",
       "    </tr>\n",
       "    <tr>\n",
       "      <th>600519.XSHG</th>\n",
       "      <td>0.78688</td>\n",
       "      <td>1.00000</td>\n",
       "    </tr>\n",
       "  </tbody>\n",
       "</table>\n",
       "</div>"
      ],
      "text/plain": [
       "             000858.XSHE  600519.XSHG\n",
       "000858.XSHE      1.00000      0.78688\n",
       "600519.XSHG      0.78688      1.00000"
      ]
     },
     "execution_count": 7,
     "metadata": {},
     "output_type": "execute_result"
    }
   ],
   "source": [
    "returns.corr()"
   ]
  },
  {
   "cell_type": "markdown",
   "metadata": {},
   "source": [
    "可以发现，白酒行业龙头贵州茅台与五粮液的相关系数达到了0.78688，已经非常高了，但没有达到0.8"
   ]
  },
  {
   "cell_type": "code",
   "execution_count": 8,
   "metadata": {
    "collapsed": true
   },
   "outputs": [],
   "source": [
    "security_list=['600028.XSHG','601857.XSHG']\n",
    "#股票列表：600028中国石化，601857中国石油"
   ]
  },
  {
   "cell_type": "code",
   "execution_count": 9,
   "metadata": {
    "collapsed": true
   },
   "outputs": [],
   "source": [
    "data=get_price(security_list, start_date='2016-01-01', end_date='2019-08-30', \n",
    "               frequency='daily', fields=['close'], skip_paused=False, fq='pre')\n",
    "#使用2016年1月1日至2019年8月30日的每日收盘价数据，股价为前复权，且停牌时股价以停牌前计算"
   ]
  },
  {
   "cell_type": "code",
   "execution_count": 10,
   "metadata": {
    "collapsed": true
   },
   "outputs": [],
   "source": [
    "closeprice=data['close'] #closeprice为股票收盘价数据\n",
    "returns=closeprice.pct_change().dropna() #returns为股票日收益率数据"
   ]
  },
  {
   "cell_type": "code",
   "execution_count": 11,
   "metadata": {},
   "outputs": [
    {
     "data": {
      "text/html": [
       "<div>\n",
       "<style scoped>\n",
       "    .dataframe tbody tr th:only-of-type {\n",
       "        vertical-align: middle;\n",
       "    }\n",
       "\n",
       "    .dataframe tbody tr th {\n",
       "        vertical-align: top;\n",
       "    }\n",
       "\n",
       "    .dataframe thead th {\n",
       "        text-align: right;\n",
       "    }\n",
       "</style>\n",
       "<table border=\"1\" class=\"dataframe\">\n",
       "  <thead>\n",
       "    <tr style=\"text-align: right;\">\n",
       "      <th></th>\n",
       "      <th>600028.XSHG</th>\n",
       "      <th>601857.XSHG</th>\n",
       "    </tr>\n",
       "  </thead>\n",
       "  <tbody>\n",
       "    <tr>\n",
       "      <th>600028.XSHG</th>\n",
       "      <td>1.000000</td>\n",
       "      <td>0.761908</td>\n",
       "    </tr>\n",
       "    <tr>\n",
       "      <th>601857.XSHG</th>\n",
       "      <td>0.761908</td>\n",
       "      <td>1.000000</td>\n",
       "    </tr>\n",
       "  </tbody>\n",
       "</table>\n",
       "</div>"
      ],
      "text/plain": [
       "             600028.XSHG  601857.XSHG\n",
       "600028.XSHG     1.000000     0.761908\n",
       "601857.XSHG     0.761908     1.000000"
      ]
     },
     "execution_count": 11,
     "metadata": {},
     "output_type": "execute_result"
    }
   ],
   "source": [
    "returns.corr()"
   ]
  },
  {
   "cell_type": "markdown",
   "metadata": {},
   "source": [
    "可以发现，两桶油的相关系数达到了0.761908，也没有达到0.8"
   ]
  },
  {
   "cell_type": "code",
   "execution_count": 12,
   "metadata": {
    "collapsed": true
   },
   "outputs": [],
   "source": [
    "security_list=['601288.XSHG','601398.XSHG','601939.XSHG','601988.XSHG']\n",
    "#股票列表：601288农业银行，601398工商银行，601939建设银行，601988中国银行"
   ]
  },
  {
   "cell_type": "code",
   "execution_count": 13,
   "metadata": {
    "collapsed": true
   },
   "outputs": [],
   "source": [
    "data=get_price(security_list, start_date='2016-01-01', end_date='2019-08-30', \n",
    "               frequency='daily', fields=['close'], skip_paused=False, fq='pre')\n",
    "#使用2016年1月1日至2019年8月30日的每日收盘价数据，股价为前复权，且停牌时股价以停牌前计算"
   ]
  },
  {
   "cell_type": "code",
   "execution_count": 14,
   "metadata": {
    "collapsed": true
   },
   "outputs": [],
   "source": [
    "closeprice=data['close'] #closeprice为股票收盘价数据\n",
    "returns=closeprice.pct_change().dropna() #returns为股票日收益率数据"
   ]
  },
  {
   "cell_type": "code",
   "execution_count": 15,
   "metadata": {},
   "outputs": [
    {
     "data": {
      "text/html": [
       "<div>\n",
       "<style scoped>\n",
       "    .dataframe tbody tr th:only-of-type {\n",
       "        vertical-align: middle;\n",
       "    }\n",
       "\n",
       "    .dataframe tbody tr th {\n",
       "        vertical-align: top;\n",
       "    }\n",
       "\n",
       "    .dataframe thead th {\n",
       "        text-align: right;\n",
       "    }\n",
       "</style>\n",
       "<table border=\"1\" class=\"dataframe\">\n",
       "  <thead>\n",
       "    <tr style=\"text-align: right;\">\n",
       "      <th></th>\n",
       "      <th>601288.XSHG</th>\n",
       "      <th>601398.XSHG</th>\n",
       "      <th>601939.XSHG</th>\n",
       "      <th>601988.XSHG</th>\n",
       "    </tr>\n",
       "  </thead>\n",
       "  <tbody>\n",
       "    <tr>\n",
       "      <th>601288.XSHG</th>\n",
       "      <td>1.000000</td>\n",
       "      <td>0.845102</td>\n",
       "      <td>0.822104</td>\n",
       "      <td>0.834127</td>\n",
       "    </tr>\n",
       "    <tr>\n",
       "      <th>601398.XSHG</th>\n",
       "      <td>0.845102</td>\n",
       "      <td>1.000000</td>\n",
       "      <td>0.885784</td>\n",
       "      <td>0.832296</td>\n",
       "    </tr>\n",
       "    <tr>\n",
       "      <th>601939.XSHG</th>\n",
       "      <td>0.822104</td>\n",
       "      <td>0.885784</td>\n",
       "      <td>1.000000</td>\n",
       "      <td>0.834819</td>\n",
       "    </tr>\n",
       "    <tr>\n",
       "      <th>601988.XSHG</th>\n",
       "      <td>0.834127</td>\n",
       "      <td>0.832296</td>\n",
       "      <td>0.834819</td>\n",
       "      <td>1.000000</td>\n",
       "    </tr>\n",
       "  </tbody>\n",
       "</table>\n",
       "</div>"
      ],
      "text/plain": [
       "             601288.XSHG  601398.XSHG  601939.XSHG  601988.XSHG\n",
       "601288.XSHG     1.000000     0.845102     0.822104     0.834127\n",
       "601398.XSHG     0.845102     1.000000     0.885784     0.832296\n",
       "601939.XSHG     0.822104     0.885784     1.000000     0.834819\n",
       "601988.XSHG     0.834127     0.832296     0.834819     1.000000"
      ]
     },
     "execution_count": 15,
     "metadata": {},
     "output_type": "execute_result"
    }
   ],
   "source": [
    "returns.corr()"
   ]
  },
  {
   "cell_type": "markdown",
   "metadata": {},
   "source": [
    "可以发现，四大行之间的相关系数均超过了0.8。"
   ]
  },
  {
   "cell_type": "code",
   "execution_count": 16,
   "metadata": {},
   "outputs": [
    {
     "data": {
      "text/plain": [
       "{'total': 1000000, 'spare': 992848}"
      ]
     },
     "execution_count": 16,
     "metadata": {},
     "output_type": "execute_result"
    }
   ],
   "source": [
    "get_query_count()"
   ]
  },
  {
   "cell_type": "markdown",
   "metadata": {},
   "source": [
    "2.假设初始资金100万，设计投资策略，并比较策略和大盘的收益"
   ]
  },
  {
   "cell_type": "markdown",
   "metadata": {},
   "source": [
    "以市场常见的“追涨杀跌”现象作为投资策略，即股价上涨时加仓，股价下跌时减仓，为了进行量化，采用N日收盘均价与当日收盘价进行比较，若当日收盘价向上穿过N日收盘均价，代表上涨势头得到确认，进行加仓；若当日收盘价向下穿过N日收盘均价，代表下跌势头得到确认，进行减仓。投资的标的设置为沪深300指数。为简便起见，加仓视为全仓，减仓视为空仓。"
   ]
  },
  {
   "cell_type": "code",
   "execution_count": 17,
   "metadata": {
    "collapsed": true
   },
   "outputs": [],
   "source": [
    "HS300=get_price('000300.XSHG', start_date='2016-01-01', end_date='2019-08-30', \n",
    "               frequency='daily', fields=['close'], skip_paused=False, fq='pre')\n",
    "#使用2016年1月1日至2019年8月30日的每日收盘价数据，股价为前复权，且停牌时股价以停牌前计算"
   ]
  },
  {
   "cell_type": "code",
   "execution_count": 18,
   "metadata": {
    "collapsed": true,
    "scrolled": true
   },
   "outputs": [],
   "source": [
    "#计算沪深300收盘价的N日收盘均价\n",
    "N=20\n",
    "HS300MA=HS300.copy()\n",
    "for i in range(1,N):\n",
    "    HS300MA=HS300MA+HS300.shift(i)\n",
    "HS300MA=HS300MA/N "
   ]
  },
  {
   "cell_type": "code",
   "execution_count": 19,
   "metadata": {
    "collapsed": true,
    "scrolled": true
   },
   "outputs": [],
   "source": [
    "#sigh代表沪深300收盘价是否高于N日收盘均价\n",
    "sign=HS300>HS300MA\n",
    "sign=np.array(sign).T\n",
    "sign=sign.tolist()\n",
    "sign=sign[0]\n"
   ]
  },
  {
   "cell_type": "code",
   "execution_count": 20,
   "metadata": {
    "collapsed": true,
    "scrolled": true
   },
   "outputs": [],
   "source": [
    "#HS300returns代表沪深300指数的日收益率\n",
    "HS300returns=HS300.pct_change()\n",
    "HS300returns=np.array(HS300returns).T\n",
    "HS300returns=HS300returns.tolist()\n",
    "HS300returns=HS300returns[0]"
   ]
  },
  {
   "cell_type": "code",
   "execution_count": 21,
   "metadata": {
    "scrolled": true
   },
   "outputs": [
    {
     "name": "stdout",
     "output_type": "stream",
     "text": [
      "进行加仓操作 46 次，进行减仓操作 45 次\n"
     ]
    }
   ],
   "source": [
    "#初始时现金money持有100万元，初始股票价值stockvalue为0，总资产用allaseet表示，最初本金为initialasset\n",
    "initialasset=1000000\n",
    "money=[0 for _ in range(len(HS300))]\n",
    "stockvalue=[0 for _ in range(len(HS300))]\n",
    "allasset=[0 for _ in range(len(HS300))]\n",
    "for i in range(N):\n",
    "    money[i]=initialasset\n",
    "    stockvalue[i]=0\n",
    "    allasset[i]=stockvalue[i]+money[i]\n",
    "flag1=0\n",
    "flag2=0\n",
    "for i in range(N,len(HS300)):\n",
    "    if (sign[i]==True and sign[i-1]==False): #当日出现收盘价向上穿过N日收盘均价的买入信号\n",
    "        stockvalue[i]=money[i-1]\n",
    "        money[i]=0\n",
    "        allasset[i]=stockvalue[i]+money[i]\n",
    "        flag1+=1\n",
    "    elif (sign[i]==False and sign[i-1]==True): #当日出现收盘价向下穿过N日收盘价均价的卖出信号\n",
    "        money[i]=stockvalue[i-1]*(1+HS300returns[i])\n",
    "        stockvalue[i]=0\n",
    "        allasset[i]=stockvalue[i]+money[i]\n",
    "        flag2+=1\n",
    "    else:\n",
    "        money[i]=money[i-1]\n",
    "        stockvalue[i]=stockvalue[i-1]*(1+HS300returns[i])\n",
    "        allasset[i]=stockvalue[i]+money[i]\n",
    "print(\"进行加仓操作\",flag1,\"次，进行减仓操作\",flag2,\"次\")\n"
   ]
  },
  {
   "cell_type": "code",
   "execution_count": 22,
   "metadata": {
    "collapsed": true
   },
   "outputs": [],
   "source": [
    "#HS300asset代表一直持有沪深300指数，不进行加仓减仓\n",
    "HS300asset=[1000000]\n",
    "for i in range(1,len(HS300)):\n",
    "    HS300asset.append(HS300asset[i-1]*(1+HS300returns[i]))"
   ]
  },
  {
   "cell_type": "markdown",
   "metadata": {},
   "source": [
    "3.画出资金每日增长／减少曲线[一条是投资策略的，一条是按大盘走势的]"
   ]
  },
  {
   "cell_type": "code",
   "execution_count": 23,
   "metadata": {},
   "outputs": [
    {
     "data": {
      "image/png": "[encoded data removed]",
      "text/plain": [
       "<Figure size 1080x504 with 1 Axes>"
      ]
     },
     "metadata": {
      "needs_background": "light"
     },
     "output_type": "display_data"
    }
   ],
   "source": [
    "%matplotlib inline\n",
    "import matplotlib.pyplot as plt\n",
    "from pandas.plotting import register_matplotlib_converters\n",
    "register_matplotlib_converters()\n",
    "plt.rcParams['font.sans-serif'] = ['SimHei']\n",
    "plt.figure(figsize=(15,7))\n",
    "plt.plot(HS300.index,HS300asset,label='沪深300走势')\n",
    "plt.plot(HS300.index,allasset,label='策略走势')\n",
    "plt.ylabel('总资产', color='black',size=20)\n",
    "plt.tick_params(labelsize=15)\n",
    "plt.axis('tight') \n",
    "plt.legend(prop={'size': 15})\n",
    "plt.show()"
   ]
  },
  {
   "cell_type": "markdown",
   "metadata": {},
   "source": [
    "从图中可以看出，该策略在熊市中具有更小的回撤，能在下跌行情中起到及时止损的作用。"
   ]
  }
 ],
 "metadata": {
  "kernelspec": {
   "display_name": "Python 3",
   "language": "python",
   "name": "python3"
  },
  "language_info": {
   "codemirror_mode": {
    "name": "ipython",
    "version": 3
   },
   "file_extension": ".py",
   "mimetype": "text/x-python",
   "name": "python",
   "nbconvert_exporter": "python",
   "pygments_lexer": "ipython3",
   "version": "3.6.2"
  }
 },
 "nbformat": 4,
 "nbformat_minor": 2
}
