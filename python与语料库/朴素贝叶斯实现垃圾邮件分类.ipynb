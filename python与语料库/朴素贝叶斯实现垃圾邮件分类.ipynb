{
 "cells": [
  {
   "cell_type": "markdown",
   "metadata": {},
   "source": [
    "## 垃圾邮件分类步骤\n",
    "* 1查看data\n",
    "* 2分词\n",
    "* 3向量化\n",
    "* 4朴素贝叶斯算法描述\n",
    "* 5结果，查看error"
   ]
  },
  {
   "cell_type": "code",
   "execution_count": 34,
   "metadata": {},
   "outputs": [],
   "source": [
    "#朴素贝叶斯分类器训练函数\n",
    "\n",
    "def trainNBO(trainMatrix,trainCategory): #trainMatrix是训练文档列表，trainCategory是训练文档标签列表\n",
    "    #总文件数\n",
    "    numTrainDocs = len(trainMatrix)\n",
    "    #总单词数\n",
    "    numWords = len(trainMatrix[0]) ##？？0表示第一列吗？\n",
    "    #侮辱性文件的出现概率\n",
    "    pAbusive = sum(trainCategory)/float(numTrainDocs) #标签为abusive的文档占总文档的比例\n",
    "    #构造单词出现次数列表\n",
    "    #p0num 正常的统计\n",
    "    #P1Num 侮辱的统计\n",
    "    \n",
    "    p0Num =np.ones(numWords) #全1的矩阵\n",
    "    p1Num = np.ones(numWords)\n",
    "    \n",
    "    #整个数据集单词出现的总数，根据样本/实际调查结果调整分母的值\n",
    "    global p0Denom\n",
    "    global p1Denom\n",
    "    p0Denom = 2.0  ##？？？\n",
    "    p1Denom = 2.0\n",
    "    for i in range(numTrainDocs):\n",
    "        if trainCategory[i] == 1:\n",
    "            #累加辱骂词的频次\n",
    "            p1Num += trainMatrix[i]\n",
    "            #对每篇文章的辱骂的频次 进行统计汇总\n",
    "            p1Denom += sum(trainMatrix[i])\n",
    "        else:\n",
    "            p0Num += trainMatrix[i] #标签为normal的文档，单词表的单词出现过多少次\n",
    "            p0Denom += sum(trainMatrix[i]) #标签为normal的文档中出现过单词的总量\n",
    "    \n",
    "    #类别1，即辱骂性文档，词汇表的各个单词出现的概率[log(P(F1/C1)),log(P(F2/C1)),log(P(F3/C1)),...，log(P(Fn/C1))]\n",
    "    p1Vect = np.log(p1Num/p1Denom)\n",
    "    #类别0，即正常的文档，词汇表的各个单词出现的概率[log(P(F1/C0)),log(P(F2/C0)),log(P(F3/C0)),...，log(P(Fn/C0))]\n",
    "    p0Vect = np.log(p0Num/p1Denom)\n",
    "    return p0Vect,p1Vect,pAbusive  \n",
    "    "
   ]
  },
  {
   "cell_type": "code",
   "execution_count": 35,
   "metadata": {},
   "outputs": [],
   "source": [
    "#垃圾邮件分类email harm/spam"
   ]
  },
  {
   "cell_type": "code",
   "execution_count": 36,
   "metadata": {},
   "outputs": [],
   "source": [
    "#切分文本\n",
    "def textParse(bigString):\n",
    "    import re\n",
    "    #使用正则表达式来切分句子，其中分隔符是除单词、数字外的任意字符串\n",
    "    listOfTokens = re.split(r'\\W*',bigString)\n",
    "    return[tok.lower()for tok in listOfTokens if len(tok)> 2]\n",
    "    "
   ]
  },
  {
   "cell_type": "code",
   "execution_count": 37,
   "metadata": {},
   "outputs": [],
   "source": [
    "def createVocabList(dataSet):\n",
    "    \"\"\"    \n",
    "    获取所有单词的集合\n",
    "    ：param dataSet：数据集\n",
    "    return:所有单词的集合（即不含重复元素的单词列表）    \n",
    "    \"\"\"\n",
    "    vocabSet = set([])  #创建空集合\n",
    "    for document in dataSet:\n",
    "        #操作符|用于求两个集合的并集\n",
    "        vocabSet = vocabSet | set(document)\n",
    "    return list(vocabSet)\n",
    "\n",
    "def setOfWords2Vec(vocabList,inputSet): #对词语进行向量化处理\n",
    "    \"\"\"\n",
    "    遍历查看该单词是否出现，出现该单词则将该单词置1\n",
    "    :param vocabList：所有单词集合列表\n",
    "    :param inputSet:输入数据集\n",
    "    :return：匹配列表[0,1,0,1…],其中1与0表示词汇表中的单词是否出现在输入的数据集中\n",
    "    \"\"\"\n",
    "    #创建一个和词汇等长的向量，并将元素都设置为0\n",
    "    returnVec = [0] * len(vocabList) #[0,0,……]\n",
    "    #遍历文档中的所有单词，如果出现了词汇表中的单词，则将输出的文档向量中的对应值设为1\n",
    "    for word in inputSet:\n",
    "        if word in vocabList:\n",
    "            returnVec[vocabList.index(word)] = 1\n",
    "        else:\n",
    "            print(\"the word:%s is not in my Vocabulary!\" % word)\n",
    "    return returnVec"
   ]
  },
  {
   "cell_type": "code",
   "execution_count": 45,
   "metadata": {},
   "outputs": [],
   "source": [
    "#朴素贝叶斯分类函数\n",
    "def classifyNB(vec2Classify,p0Vec,p1Vec,pClass1):\n",
    "    p1 = sum(vec2Classify*p1Vec)+np.log(pClass1)\n",
    "    p0 = sum(vec2Classify*p0Vec)+np.log(1.0-pClass1)\n",
    "    if p1>p0:\n",
    "        return 1\n",
    "    else:\n",
    "        return 0"
   ]
  },
  {
   "cell_type": "code",
   "execution_count": 48,
   "metadata": {},
   "outputs": [],
   "source": [
    "def spamTest():\n",
    "    \"\"\"\n",
    "    Desc:\n",
    "    对贝叶斯垃圾邮件分类器进行自动化处理。\n",
    "    Args:\n",
    "    none\n",
    "    Returns:\n",
    "    对测试集中每封邮件进行分类，若邮件分类错误，则错误数加1，最后返回总的错误百分比。\n",
    "    \"\"\"\n",
    "    docList = []\n",
    "    classList = []\n",
    "    fullText = []\n",
    "    for i in range(1,26):  #取前26个文件\n",
    "        #切分，解析数据，并归类为1类别\n",
    "        wordList = textParse(r'../email/spam/%d.txt'%i)\n",
    "        docList.append(wordList)\n",
    "        classList.append(1)\n",
    "        #切分，解析数据，并归类为0类别\n",
    "        wordList = textParse(r'../email/ham/%d.txt'%i)\n",
    "        docList.append(wordList)\n",
    "        classList.append(0)\n",
    "    #创建词汇表\n",
    "    vocabList = createVocabList(docList)\n",
    "    trainingSet = list(range(50))\n",
    "    testSet = [] #建立一个空的测试集\n",
    "    #随机取 10个邮件用来测试\n",
    "    for i in range(10):\n",
    "        #random.uniform(x,y)随机生成一个范围x-y的实数\n",
    "        randIndex = int(random.uniform(0,len(trainingSet)))\n",
    "        testSet.append(trainingSet[randIndex])\n",
    "        del(trainingSet[randIndex])\n",
    "    trainMat = []\n",
    "    trainClasses = []\n",
    "    for docIndex in trainingSet:\n",
    "        trainMat.append(setOfWords2Vec(vocabList,docList[docIndex]))\n",
    "        trainClasses.append(classList[docIndex])\n",
    "    p0V,p1V,pSpam = trainNBO(np.array(trainMat),np.array(trainClasses))\n",
    "                \n",
    "    errorCount = 0\n",
    "    for docIndex in testSet:\n",
    "        wordVector = setOfWords2Vec(vocabList, docList[docIndex])\n",
    "        if classifyNB(np.array(wordVector),p0V,p1V,pSpam) != classList[docIndex]:\n",
    "            errorCount += 1\n",
    "\n",
    "    print('the errorCount is:',errorCount)\n",
    "    print('the testSet length is:',len(testSet))\n",
    "    print('the error rate is:',float(errorCount)/len(testSet))   \n",
    "        "
   ]
  },
  {
   "cell_type": "code",
   "execution_count": 49,
   "metadata": {},
   "outputs": [
    {
     "name": "stdout",
     "output_type": "stream",
     "text": [
      "the errorCount is: 6\n",
      "the testSet length is: 10\n",
      "the error rate is: 0.6\n"
     ]
    }
   ],
   "source": [
    "import random\n",
    "import numpy as np\n",
    "import math\n",
    "spamTest()"
   ]
  },
  {
   "cell_type": "code",
   "execution_count": null,
   "metadata": {},
   "outputs": [],
   "source": []
  }
 ],
 "metadata": {
  "kernelspec": {
   "display_name": "Python 3",
   "language": "python",
   "name": "python3"
  },
  "language_info": {
   "codemirror_mode": {
    "name": "ipython",
    "version": 3
   },
   "file_extension": ".py",
   "mimetype": "text/x-python",
   "name": "python",
   "nbconvert_exporter": "python",
   "pygments_lexer": "ipython3",
   "version": "3.7.3"
  },
  "toc": {
   "base_numbering": 1,
   "nav_menu": {},
   "number_sections": true,
   "sideBar": true,
   "skip_h1_title": false,
   "title_cell": "Table of Contents",
   "title_sidebar": "Contents",
   "toc_cell": false,
   "toc_position": {},
   "toc_section_display": true,
   "toc_window_display": false
  }
 },
 "nbformat": 4,
 "nbformat_minor": 2
}
