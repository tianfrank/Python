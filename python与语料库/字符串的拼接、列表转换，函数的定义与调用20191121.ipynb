{
 "cells": [
  {
   "cell_type": "markdown",
   "metadata": {},
   "source": [
    "**\"+=\" 右边表示相加后，然后赋值给左边**"
   ]
  },
  {
   "cell_type": "code",
   "execution_count": 15,
   "metadata": {},
   "outputs": [
    {
     "data": {
      "text/plain": [
       "'aaaaaaaaaa'"
      ]
     },
     "execution_count": 15,
     "metadata": {},
     "output_type": "execute_result"
    }
   ],
   "source": [
    "rstring = ''  #定义空字符串\n",
    "for i in range(10): #元素循环10次\n",
    "    rstring += 'a' #将a加起来赋值给rstring\n",
    "rstring #调用rsting函数"
   ]
  },
  {
   "cell_type": "markdown",
   "metadata": {},
   "source": [
    "**将列表变成字符串的拼接**\n",
    "\n",
    "调用：''.join()函数"
   ]
  },
  {
   "cell_type": "code",
   "execution_count": 1,
   "metadata": {},
   "outputs": [],
   "source": [
    "a = ['a','b','c']  #定义一个列表，里面有三个元素\n",
    "#b = ''.join(a) #将列表a拼接成字符串，用‘’链接，返回赋值给b\n",
    "#b = ' '.join(a)\n",
    "#b = '\\n'.join(a)\n",
    "#b = '+' .join(a) #将列表a拼接成字符串，中间用'+'拼接，返回赋值给b\n",
    "c"
   ]
  },
  {
   "cell_type": "code",
   "execution_count": 2,
   "metadata": {},
   "outputs": [
    {
     "name": "stdout",
     "output_type": "stream",
     "text": [
      "a\n",
      "*\n",
      "b\n",
      "*\n",
      "c\n"
     ]
    }
   ],
   "source": [
    "for i in b:  #在b里面做一个循环\n",
    "    print(i) #然后打印i\n",
    "    "
   ]
  },
  {
   "cell_type": "markdown",
   "metadata": {},
   "source": [
    "**将字符串转换成列表**\n",
    "\n",
    "调用str的split()函数"
   ]
  },
  {
   "cell_type": "code",
   "execution_count": 29,
   "metadata": {},
   "outputs": [
    {
     "name": "stdout",
     "output_type": "stream",
     "text": [
      "['a,b,c,d']\n"
     ]
    }
   ],
   "source": [
    "str1='a,b,c,d'  #定义字符串\n",
    "list1 = str.split(str1) #字符串转换为列表的函数\n",
    "print(list1)"
   ]
  },
  {
   "cell_type": "code",
   "execution_count": 43,
   "metadata": {},
   "outputs": [
    {
     "name": "stdout",
     "output_type": "stream",
     "text": [
      "['abdcddeeae']\n"
     ]
    }
   ],
   "source": [
    "str2= 'abdcddeeae'\n",
    "list2 = str2.split('')\n",
    "print(list2)"
   ]
  },
  {
   "cell_type": "code",
   "execution_count": null,
   "metadata": {},
   "outputs": [],
   "source": []
  },
  {
   "cell_type": "markdown",
   "metadata": {},
   "source": [
    "**全角转半角**"
   ]
  },
  {
   "cell_type": "code",
   "execution_count": 1,
   "metadata": {},
   "outputs": [
    {
     "data": {
      "text/plain": [
       "'你好pythonabdalduizxcvbnm'"
      ]
     },
     "execution_count": 1,
     "metadata": {},
     "output_type": "execute_result"
    }
   ],
   "source": [
    "\n",
    "\n",
    "input_string = '你好ｐｙｔｈｏｎａｂｄａｌｄｕｉｚｘｃｖｂｎｍ'\n",
    "# 输出：字符串对应半角\n",
    "def strB2Q(quanjiao):  #定义一个全角转半角的函数strbB2Q，参数为quanjiao\n",
    "    rstring = \"\"       #定义一个空字符串\n",
    "    for s in quanjiao:  #所有s在quanjiao里面循环,遍历quanjiao里面的所有s\n",
    "        char_code = ord(s)    # 定义一个参数char_code等于函数ord(s),ord(s)是将字符转数值\n",
    "        if char_code == 12288: # 如果char_code 等于 12288（全角对应的值）\n",
    "            char_code = 32  #那么char_code等于32（半角对应的值）\n",
    "        elif char_code >= 65281 and char_code <= 65374: #其他情况，如果char_code大于等于65281，或小于等于65374\n",
    "            char_code -= 65248  #那么就减去65248然后赋值给char_code\n",
    "        rstring += chr(char_code) #chr函数将数值转为为字符串，然后相加赋值给rstring\n",
    "    return rstring #返回给rstring\n",
    "\n",
    "strB2Q(input_string)   #调用函数strB2Q,传入参数input_string      "
   ]
  },
  {
   "cell_type": "code",
   "execution_count": 13,
   "metadata": {},
   "outputs": [],
   "source": [
    "import os\n",
    "path_1 = r'D:\\NLP\\project_1\\data\\新三年总2016-2018'  #读取文件路径\n",
    "path_2 = r'D:\\NLP\\project_1\\data\\半角文本'  #写文件路径\n",
    "#files_name = os.listdir(path_1) #把所有文件形成列表\n",
    "folder_names = os.listdir(path_1)  #os.listdir() 方法用于返回指定的文件夹包含的文件或文件夹的名字的列表。\n",
    "for folder in folder_names:  #将文件到文件夹做一个遍历\n",
    "    folder_path = path_1 + '\\\\' + folder  #文件夹的路径\n",
    "    files_name = os.listdir(folder_path)  #将folder_path里面的文件列表返赋值给files_name\n",
    "    \n",
    "    write_path = path_2 + '\\\\' + folder  #写文件夹的路径赋值给write_path,\n",
    "    if os.path.exists(write_path) == False: #如果os.path.exist里面不存在文件夹\n",
    "        os.makedirs(write_path) #在write_path里面创建文件夹\n",
    "        \n",
    "    for name in files_name:  #在files_name里面遍历name\n",
    "        read_path = folder_path + '\\\\' + name # 文件夹里面的文件名的路径赋值给read_path\n",
    "        with open(read_path,'r',encoding='gb18030',errors='ignore') as f: #读取文件夹（read_path表示路径，r表示读，用'gb18030'解码）\n",
    "            line_list = f.readlines()  #一行一行的读\n",
    "        text = [] #定义空列表用于存储line_list\n",
    "        for line in line_list: #将每一行在line_list里面循环\n",
    "            if line != '\\n': #如果line不等于\\n空行，目的去去掉空行\n",
    "                text.append(line) #用append函数，将line添加到text里面\n",
    "        text = ''.join(text)\n",
    "        transform_text = strB2Q(text)\n",
    "        \n",
    "        f_write_path = write_path + '\\\\' + name\n",
    "        with open(f_write_path, 'w',encoding='gb18030',errors='ignore') as f:\n",
    "            f.write(transform_text)"
   ]
  },
  {
   "cell_type": "code",
   "execution_count": null,
   "metadata": {},
   "outputs": [],
   "source": [
    "\n",
    "    "
   ]
  }
 ],
 "metadata": {
  "kernelspec": {
   "display_name": "Python 3",
   "language": "python",
   "name": "python3"
  },
  "language_info": {
   "codemirror_mode": {
    "name": "ipython",
    "version": 3
   },
   "file_extension": ".py",
   "mimetype": "text/x-python",
   "name": "python",
   "nbconvert_exporter": "python",
   "pygments_lexer": "ipython3",
   "version": "3.7.3"
  }
 },
 "nbformat": 4,
 "nbformat_minor": 2
}
