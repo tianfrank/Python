{
 "cells": [
  {
   "cell_type": "markdown",
   "metadata": {},
   "source": [
    "**3.2停用词的使用**"
   ]
  },
  {
   "cell_type": "markdown",
   "metadata": {},
   "source": [
    "3.2.1不同语种的停用词"
   ]
  },
  {
   "cell_type": "code",
   "execution_count": 1,
   "metadata": {},
   "outputs": [
    {
     "data": {
      "text/plain": [
       "['i',\n",
       " 'me',\n",
       " 'my',\n",
       " 'myself',\n",
       " 'we',\n",
       " 'our',\n",
       " 'ours',\n",
       " 'ourselves',\n",
       " 'you',\n",
       " \"you're\",\n",
       " \"you've\",\n",
       " \"you'll\",\n",
       " \"you'd\",\n",
       " 'your',\n",
       " 'yours',\n",
       " 'yourself',\n",
       " 'yourselves',\n",
       " 'he',\n",
       " 'him',\n",
       " 'his',\n",
       " 'himself',\n",
       " 'she',\n",
       " \"she's\",\n",
       " 'her',\n",
       " 'hers',\n",
       " 'herself',\n",
       " 'it',\n",
       " \"it's\",\n",
       " 'its',\n",
       " 'itself',\n",
       " 'they',\n",
       " 'them',\n",
       " 'their',\n",
       " 'theirs',\n",
       " 'themselves',\n",
       " 'what',\n",
       " 'which',\n",
       " 'who',\n",
       " 'whom',\n",
       " 'this',\n",
       " 'that',\n",
       " \"that'll\",\n",
       " 'these',\n",
       " 'those',\n",
       " 'am',\n",
       " 'is',\n",
       " 'are',\n",
       " 'was',\n",
       " 'were',\n",
       " 'be',\n",
       " 'been',\n",
       " 'being',\n",
       " 'have',\n",
       " 'has',\n",
       " 'had',\n",
       " 'having',\n",
       " 'do',\n",
       " 'does',\n",
       " 'did',\n",
       " 'doing',\n",
       " 'a',\n",
       " 'an',\n",
       " 'the',\n",
       " 'and',\n",
       " 'but',\n",
       " 'if',\n",
       " 'or',\n",
       " 'because',\n",
       " 'as',\n",
       " 'until',\n",
       " 'while',\n",
       " 'of',\n",
       " 'at',\n",
       " 'by',\n",
       " 'for',\n",
       " 'with',\n",
       " 'about',\n",
       " 'against',\n",
       " 'between',\n",
       " 'into',\n",
       " 'through',\n",
       " 'during',\n",
       " 'before',\n",
       " 'after',\n",
       " 'above',\n",
       " 'below',\n",
       " 'to',\n",
       " 'from',\n",
       " 'up',\n",
       " 'down',\n",
       " 'in',\n",
       " 'out',\n",
       " 'on',\n",
       " 'off',\n",
       " 'over',\n",
       " 'under',\n",
       " 'again',\n",
       " 'further',\n",
       " 'then',\n",
       " 'once',\n",
       " 'here',\n",
       " 'there',\n",
       " 'when',\n",
       " 'where',\n",
       " 'why',\n",
       " 'how',\n",
       " 'all',\n",
       " 'any',\n",
       " 'both',\n",
       " 'each',\n",
       " 'few',\n",
       " 'more',\n",
       " 'most',\n",
       " 'other',\n",
       " 'some',\n",
       " 'such',\n",
       " 'no',\n",
       " 'nor',\n",
       " 'not',\n",
       " 'only',\n",
       " 'own',\n",
       " 'same',\n",
       " 'so',\n",
       " 'than',\n",
       " 'too',\n",
       " 'very',\n",
       " 's',\n",
       " 't',\n",
       " 'can',\n",
       " 'will',\n",
       " 'just',\n",
       " 'don',\n",
       " \"don't\",\n",
       " 'should',\n",
       " \"should've\",\n",
       " 'now',\n",
       " 'd',\n",
       " 'll',\n",
       " 'm',\n",
       " 'o',\n",
       " 're',\n",
       " 've',\n",
       " 'y',\n",
       " 'ain',\n",
       " 'aren',\n",
       " \"aren't\",\n",
       " 'couldn',\n",
       " \"couldn't\",\n",
       " 'didn',\n",
       " \"didn't\",\n",
       " 'doesn',\n",
       " \"doesn't\",\n",
       " 'hadn',\n",
       " \"hadn't\",\n",
       " 'hasn',\n",
       " \"hasn't\",\n",
       " 'haven',\n",
       " \"haven't\",\n",
       " 'isn',\n",
       " \"isn't\",\n",
       " 'ma',\n",
       " 'mightn',\n",
       " \"mightn't\",\n",
       " 'mustn',\n",
       " \"mustn't\",\n",
       " 'needn',\n",
       " \"needn't\",\n",
       " 'shan',\n",
       " \"shan't\",\n",
       " 'shouldn',\n",
       " \"shouldn't\",\n",
       " 'wasn',\n",
       " \"wasn't\",\n",
       " 'weren',\n",
       " \"weren't\",\n",
       " 'won',\n",
       " \"won't\",\n",
       " 'wouldn',\n",
       " \"wouldn't\"]"
      ]
     },
     "execution_count": 1,
     "metadata": {},
     "output_type": "execute_result"
    }
   ],
   "source": [
    "from nltk.corpus import stopwords\n",
    "stopwords.words('english')#在启动停用词模块后调取英文停用词；从运行结果可见，英文固有停用词主要为代词、介词、冠词、某些词的否定形式等。\n"
   ]
  },
  {
   "cell_type": "code",
   "execution_count": 2,
   "metadata": {},
   "outputs": [
    {
     "ename": "OSError",
     "evalue": "No such file or directory: 'C:\\\\Users\\\\Geoffrey\\\\AppData\\\\Roaming\\\\nltk_data\\\\corpora\\\\stopwords\\\\chinese'",
     "output_type": "error",
     "traceback": [
      "\u001b[1;31m---------------------------------------------------------------------------\u001b[0m",
      "\u001b[1;31mOSError\u001b[0m                                   Traceback (most recent call last)",
      "\u001b[1;32m<ipython-input-2-ba1bed4545ef>\u001b[0m in \u001b[0;36m<module>\u001b[1;34m\u001b[0m\n\u001b[1;32m----> 1\u001b[1;33m \u001b[0mstopwords\u001b[0m\u001b[1;33m.\u001b[0m\u001b[0mwords\u001b[0m\u001b[1;33m(\u001b[0m\u001b[1;34m'chinese'\u001b[0m\u001b[1;33m)\u001b[0m\u001b[1;33m\u001b[0m\u001b[1;33m\u001b[0m\u001b[0m\n\u001b[0m",
      "\u001b[1;32mC:\\ProgramData\\Anaconda3\\lib\\site-packages\\nltk\\corpus\\reader\\wordlist.py\u001b[0m in \u001b[0;36mwords\u001b[1;34m(self, fileids, ignore_lines_startswith)\u001b[0m\n\u001b[0;32m     23\u001b[0m         return [\n\u001b[0;32m     24\u001b[0m             \u001b[0mline\u001b[0m\u001b[1;33m\u001b[0m\u001b[1;33m\u001b[0m\u001b[0m\n\u001b[1;32m---> 25\u001b[1;33m             \u001b[1;32mfor\u001b[0m \u001b[0mline\u001b[0m \u001b[1;32min\u001b[0m \u001b[0mline_tokenize\u001b[0m\u001b[1;33m(\u001b[0m\u001b[0mself\u001b[0m\u001b[1;33m.\u001b[0m\u001b[0mraw\u001b[0m\u001b[1;33m(\u001b[0m\u001b[0mfileids\u001b[0m\u001b[1;33m)\u001b[0m\u001b[1;33m)\u001b[0m\u001b[1;33m\u001b[0m\u001b[1;33m\u001b[0m\u001b[0m\n\u001b[0m\u001b[0;32m     26\u001b[0m             \u001b[1;32mif\u001b[0m \u001b[1;32mnot\u001b[0m \u001b[0mline\u001b[0m\u001b[1;33m.\u001b[0m\u001b[0mstartswith\u001b[0m\u001b[1;33m(\u001b[0m\u001b[0mignore_lines_startswith\u001b[0m\u001b[1;33m)\u001b[0m\u001b[1;33m\u001b[0m\u001b[1;33m\u001b[0m\u001b[0m\n\u001b[0;32m     27\u001b[0m         ]\n",
      "\u001b[1;32mC:\\ProgramData\\Anaconda3\\lib\\site-packages\\nltk\\corpus\\reader\\wordlist.py\u001b[0m in \u001b[0;36mraw\u001b[1;34m(self, fileids)\u001b[0m\n\u001b[0;32m     32\u001b[0m         \u001b[1;32melif\u001b[0m \u001b[0misinstance\u001b[0m\u001b[1;33m(\u001b[0m\u001b[0mfileids\u001b[0m\u001b[1;33m,\u001b[0m \u001b[0mstring_types\u001b[0m\u001b[1;33m)\u001b[0m\u001b[1;33m:\u001b[0m\u001b[1;33m\u001b[0m\u001b[1;33m\u001b[0m\u001b[0m\n\u001b[0;32m     33\u001b[0m             \u001b[0mfileids\u001b[0m \u001b[1;33m=\u001b[0m \u001b[1;33m[\u001b[0m\u001b[0mfileids\u001b[0m\u001b[1;33m]\u001b[0m\u001b[1;33m\u001b[0m\u001b[1;33m\u001b[0m\u001b[0m\n\u001b[1;32m---> 34\u001b[1;33m         \u001b[1;32mreturn\u001b[0m \u001b[0mconcat\u001b[0m\u001b[1;33m(\u001b[0m\u001b[1;33m[\u001b[0m\u001b[0mself\u001b[0m\u001b[1;33m.\u001b[0m\u001b[0mopen\u001b[0m\u001b[1;33m(\u001b[0m\u001b[0mf\u001b[0m\u001b[1;33m)\u001b[0m\u001b[1;33m.\u001b[0m\u001b[0mread\u001b[0m\u001b[1;33m(\u001b[0m\u001b[1;33m)\u001b[0m \u001b[1;32mfor\u001b[0m \u001b[0mf\u001b[0m \u001b[1;32min\u001b[0m \u001b[0mfileids\u001b[0m\u001b[1;33m]\u001b[0m\u001b[1;33m)\u001b[0m\u001b[1;33m\u001b[0m\u001b[1;33m\u001b[0m\u001b[0m\n\u001b[0m\u001b[0;32m     35\u001b[0m \u001b[1;33m\u001b[0m\u001b[0m\n\u001b[0;32m     36\u001b[0m \u001b[1;33m\u001b[0m\u001b[0m\n",
      "\u001b[1;32mC:\\ProgramData\\Anaconda3\\lib\\site-packages\\nltk\\corpus\\reader\\wordlist.py\u001b[0m in \u001b[0;36m<listcomp>\u001b[1;34m(.0)\u001b[0m\n\u001b[0;32m     32\u001b[0m         \u001b[1;32melif\u001b[0m \u001b[0misinstance\u001b[0m\u001b[1;33m(\u001b[0m\u001b[0mfileids\u001b[0m\u001b[1;33m,\u001b[0m \u001b[0mstring_types\u001b[0m\u001b[1;33m)\u001b[0m\u001b[1;33m:\u001b[0m\u001b[1;33m\u001b[0m\u001b[1;33m\u001b[0m\u001b[0m\n\u001b[0;32m     33\u001b[0m             \u001b[0mfileids\u001b[0m \u001b[1;33m=\u001b[0m \u001b[1;33m[\u001b[0m\u001b[0mfileids\u001b[0m\u001b[1;33m]\u001b[0m\u001b[1;33m\u001b[0m\u001b[1;33m\u001b[0m\u001b[0m\n\u001b[1;32m---> 34\u001b[1;33m         \u001b[1;32mreturn\u001b[0m \u001b[0mconcat\u001b[0m\u001b[1;33m(\u001b[0m\u001b[1;33m[\u001b[0m\u001b[0mself\u001b[0m\u001b[1;33m.\u001b[0m\u001b[0mopen\u001b[0m\u001b[1;33m(\u001b[0m\u001b[0mf\u001b[0m\u001b[1;33m)\u001b[0m\u001b[1;33m.\u001b[0m\u001b[0mread\u001b[0m\u001b[1;33m(\u001b[0m\u001b[1;33m)\u001b[0m \u001b[1;32mfor\u001b[0m \u001b[0mf\u001b[0m \u001b[1;32min\u001b[0m \u001b[0mfileids\u001b[0m\u001b[1;33m]\u001b[0m\u001b[1;33m)\u001b[0m\u001b[1;33m\u001b[0m\u001b[1;33m\u001b[0m\u001b[0m\n\u001b[0m\u001b[0;32m     35\u001b[0m \u001b[1;33m\u001b[0m\u001b[0m\n\u001b[0;32m     36\u001b[0m \u001b[1;33m\u001b[0m\u001b[0m\n",
      "\u001b[1;32mC:\\ProgramData\\Anaconda3\\lib\\site-packages\\nltk\\corpus\\reader\\api.py\u001b[0m in \u001b[0;36mopen\u001b[1;34m(self, file)\u001b[0m\n\u001b[0;32m    211\u001b[0m         \"\"\"\n\u001b[0;32m    212\u001b[0m         \u001b[0mencoding\u001b[0m \u001b[1;33m=\u001b[0m \u001b[0mself\u001b[0m\u001b[1;33m.\u001b[0m\u001b[0mencoding\u001b[0m\u001b[1;33m(\u001b[0m\u001b[0mfile\u001b[0m\u001b[1;33m)\u001b[0m\u001b[1;33m\u001b[0m\u001b[1;33m\u001b[0m\u001b[0m\n\u001b[1;32m--> 213\u001b[1;33m         \u001b[0mstream\u001b[0m \u001b[1;33m=\u001b[0m \u001b[0mself\u001b[0m\u001b[1;33m.\u001b[0m\u001b[0m_root\u001b[0m\u001b[1;33m.\u001b[0m\u001b[0mjoin\u001b[0m\u001b[1;33m(\u001b[0m\u001b[0mfile\u001b[0m\u001b[1;33m)\u001b[0m\u001b[1;33m.\u001b[0m\u001b[0mopen\u001b[0m\u001b[1;33m(\u001b[0m\u001b[0mencoding\u001b[0m\u001b[1;33m)\u001b[0m\u001b[1;33m\u001b[0m\u001b[1;33m\u001b[0m\u001b[0m\n\u001b[0m\u001b[0;32m    214\u001b[0m         \u001b[1;32mreturn\u001b[0m \u001b[0mstream\u001b[0m\u001b[1;33m\u001b[0m\u001b[1;33m\u001b[0m\u001b[0m\n\u001b[0;32m    215\u001b[0m \u001b[1;33m\u001b[0m\u001b[0m\n",
      "\u001b[1;32mC:\\ProgramData\\Anaconda3\\lib\\site-packages\\nltk\\data.py\u001b[0m in \u001b[0;36mjoin\u001b[1;34m(self, fileid)\u001b[0m\n\u001b[0;32m    353\u001b[0m     \u001b[1;32mdef\u001b[0m \u001b[0mjoin\u001b[0m\u001b[1;33m(\u001b[0m\u001b[0mself\u001b[0m\u001b[1;33m,\u001b[0m \u001b[0mfileid\u001b[0m\u001b[1;33m)\u001b[0m\u001b[1;33m:\u001b[0m\u001b[1;33m\u001b[0m\u001b[1;33m\u001b[0m\u001b[0m\n\u001b[0;32m    354\u001b[0m         \u001b[0m_path\u001b[0m \u001b[1;33m=\u001b[0m \u001b[0mos\u001b[0m\u001b[1;33m.\u001b[0m\u001b[0mpath\u001b[0m\u001b[1;33m.\u001b[0m\u001b[0mjoin\u001b[0m\u001b[1;33m(\u001b[0m\u001b[0mself\u001b[0m\u001b[1;33m.\u001b[0m\u001b[0m_path\u001b[0m\u001b[1;33m,\u001b[0m \u001b[0mfileid\u001b[0m\u001b[1;33m)\u001b[0m\u001b[1;33m\u001b[0m\u001b[1;33m\u001b[0m\u001b[0m\n\u001b[1;32m--> 355\u001b[1;33m         \u001b[1;32mreturn\u001b[0m \u001b[0mFileSystemPathPointer\u001b[0m\u001b[1;33m(\u001b[0m\u001b[0m_path\u001b[0m\u001b[1;33m)\u001b[0m\u001b[1;33m\u001b[0m\u001b[1;33m\u001b[0m\u001b[0m\n\u001b[0m\u001b[0;32m    356\u001b[0m \u001b[1;33m\u001b[0m\u001b[0m\n\u001b[0;32m    357\u001b[0m     \u001b[1;32mdef\u001b[0m \u001b[0m__repr__\u001b[0m\u001b[1;33m(\u001b[0m\u001b[0mself\u001b[0m\u001b[1;33m)\u001b[0m\u001b[1;33m:\u001b[0m\u001b[1;33m\u001b[0m\u001b[1;33m\u001b[0m\u001b[0m\n",
      "\u001b[1;32mC:\\ProgramData\\Anaconda3\\lib\\site-packages\\nltk\\compat.py\u001b[0m in \u001b[0;36m_decorator\u001b[1;34m(*args, **kwargs)\u001b[0m\n\u001b[0;32m    226\u001b[0m     \u001b[1;32mdef\u001b[0m \u001b[0m_decorator\u001b[0m\u001b[1;33m(\u001b[0m\u001b[1;33m*\u001b[0m\u001b[0margs\u001b[0m\u001b[1;33m,\u001b[0m \u001b[1;33m**\u001b[0m\u001b[0mkwargs\u001b[0m\u001b[1;33m)\u001b[0m\u001b[1;33m:\u001b[0m\u001b[1;33m\u001b[0m\u001b[1;33m\u001b[0m\u001b[0m\n\u001b[0;32m    227\u001b[0m         \u001b[0margs\u001b[0m \u001b[1;33m=\u001b[0m \u001b[1;33m(\u001b[0m\u001b[0margs\u001b[0m\u001b[1;33m[\u001b[0m\u001b[1;36m0\u001b[0m\u001b[1;33m]\u001b[0m\u001b[1;33m,\u001b[0m \u001b[0madd_py3_data\u001b[0m\u001b[1;33m(\u001b[0m\u001b[0margs\u001b[0m\u001b[1;33m[\u001b[0m\u001b[1;36m1\u001b[0m\u001b[1;33m]\u001b[0m\u001b[1;33m)\u001b[0m\u001b[1;33m)\u001b[0m \u001b[1;33m+\u001b[0m \u001b[0margs\u001b[0m\u001b[1;33m[\u001b[0m\u001b[1;36m2\u001b[0m\u001b[1;33m:\u001b[0m\u001b[1;33m]\u001b[0m\u001b[1;33m\u001b[0m\u001b[1;33m\u001b[0m\u001b[0m\n\u001b[1;32m--> 228\u001b[1;33m         \u001b[1;32mreturn\u001b[0m \u001b[0minit_func\u001b[0m\u001b[1;33m(\u001b[0m\u001b[1;33m*\u001b[0m\u001b[0margs\u001b[0m\u001b[1;33m,\u001b[0m \u001b[1;33m**\u001b[0m\u001b[0mkwargs\u001b[0m\u001b[1;33m)\u001b[0m\u001b[1;33m\u001b[0m\u001b[1;33m\u001b[0m\u001b[0m\n\u001b[0m\u001b[0;32m    229\u001b[0m \u001b[1;33m\u001b[0m\u001b[0m\n\u001b[0;32m    230\u001b[0m     \u001b[1;32mreturn\u001b[0m \u001b[0mwraps\u001b[0m\u001b[1;33m(\u001b[0m\u001b[0minit_func\u001b[0m\u001b[1;33m)\u001b[0m\u001b[1;33m(\u001b[0m\u001b[0m_decorator\u001b[0m\u001b[1;33m)\u001b[0m\u001b[1;33m\u001b[0m\u001b[1;33m\u001b[0m\u001b[0m\n",
      "\u001b[1;32mC:\\ProgramData\\Anaconda3\\lib\\site-packages\\nltk\\data.py\u001b[0m in \u001b[0;36m__init__\u001b[1;34m(self, _path)\u001b[0m\n\u001b[0;32m    331\u001b[0m         \u001b[0m_path\u001b[0m \u001b[1;33m=\u001b[0m \u001b[0mos\u001b[0m\u001b[1;33m.\u001b[0m\u001b[0mpath\u001b[0m\u001b[1;33m.\u001b[0m\u001b[0mabspath\u001b[0m\u001b[1;33m(\u001b[0m\u001b[0m_path\u001b[0m\u001b[1;33m)\u001b[0m\u001b[1;33m\u001b[0m\u001b[1;33m\u001b[0m\u001b[0m\n\u001b[0;32m    332\u001b[0m         \u001b[1;32mif\u001b[0m \u001b[1;32mnot\u001b[0m \u001b[0mos\u001b[0m\u001b[1;33m.\u001b[0m\u001b[0mpath\u001b[0m\u001b[1;33m.\u001b[0m\u001b[0mexists\u001b[0m\u001b[1;33m(\u001b[0m\u001b[0m_path\u001b[0m\u001b[1;33m)\u001b[0m\u001b[1;33m:\u001b[0m\u001b[1;33m\u001b[0m\u001b[1;33m\u001b[0m\u001b[0m\n\u001b[1;32m--> 333\u001b[1;33m             \u001b[1;32mraise\u001b[0m \u001b[0mIOError\u001b[0m\u001b[1;33m(\u001b[0m\u001b[1;34m'No such file or directory: %r'\u001b[0m \u001b[1;33m%\u001b[0m \u001b[0m_path\u001b[0m\u001b[1;33m)\u001b[0m\u001b[1;33m\u001b[0m\u001b[1;33m\u001b[0m\u001b[0m\n\u001b[0m\u001b[0;32m    334\u001b[0m         \u001b[0mself\u001b[0m\u001b[1;33m.\u001b[0m\u001b[0m_path\u001b[0m \u001b[1;33m=\u001b[0m \u001b[0m_path\u001b[0m\u001b[1;33m\u001b[0m\u001b[1;33m\u001b[0m\u001b[0m\n\u001b[0;32m    335\u001b[0m \u001b[1;33m\u001b[0m\u001b[0m\n",
      "\u001b[1;31mOSError\u001b[0m: No such file or directory: 'C:\\\\Users\\\\Geoffrey\\\\AppData\\\\Roaming\\\\nltk_data\\\\corpora\\\\stopwords\\\\chinese'"
     ]
    }
   ],
   "source": [
    "stopwords.words('chinese')"
   ]
  },
  {
   "cell_type": "code",
   "execution_count": 3,
   "metadata": {},
   "outputs": [
    {
     "data": {
      "text/plain": [
       "['aber',\n",
       " 'alle',\n",
       " 'allem',\n",
       " 'allen',\n",
       " 'aller',\n",
       " 'alles',\n",
       " 'als',\n",
       " 'also',\n",
       " 'am',\n",
       " 'an',\n",
       " 'ander',\n",
       " 'andere',\n",
       " 'anderem',\n",
       " 'anderen',\n",
       " 'anderer',\n",
       " 'anderes',\n",
       " 'anderm',\n",
       " 'andern',\n",
       " 'anderr',\n",
       " 'anders',\n",
       " 'auch',\n",
       " 'auf',\n",
       " 'aus',\n",
       " 'bei',\n",
       " 'bin',\n",
       " 'bis',\n",
       " 'bist',\n",
       " 'da',\n",
       " 'damit',\n",
       " 'dann',\n",
       " 'der',\n",
       " 'den',\n",
       " 'des',\n",
       " 'dem',\n",
       " 'die',\n",
       " 'das',\n",
       " 'dass',\n",
       " 'daß',\n",
       " 'derselbe',\n",
       " 'derselben',\n",
       " 'denselben',\n",
       " 'desselben',\n",
       " 'demselben',\n",
       " 'dieselbe',\n",
       " 'dieselben',\n",
       " 'dasselbe',\n",
       " 'dazu',\n",
       " 'dein',\n",
       " 'deine',\n",
       " 'deinem',\n",
       " 'deinen',\n",
       " 'deiner',\n",
       " 'deines',\n",
       " 'denn',\n",
       " 'derer',\n",
       " 'dessen',\n",
       " 'dich',\n",
       " 'dir',\n",
       " 'du',\n",
       " 'dies',\n",
       " 'diese',\n",
       " 'diesem',\n",
       " 'diesen',\n",
       " 'dieser',\n",
       " 'dieses',\n",
       " 'doch',\n",
       " 'dort',\n",
       " 'durch',\n",
       " 'ein',\n",
       " 'eine',\n",
       " 'einem',\n",
       " 'einen',\n",
       " 'einer',\n",
       " 'eines',\n",
       " 'einig',\n",
       " 'einige',\n",
       " 'einigem',\n",
       " 'einigen',\n",
       " 'einiger',\n",
       " 'einiges',\n",
       " 'einmal',\n",
       " 'er',\n",
       " 'ihn',\n",
       " 'ihm',\n",
       " 'es',\n",
       " 'etwas',\n",
       " 'euer',\n",
       " 'eure',\n",
       " 'eurem',\n",
       " 'euren',\n",
       " 'eurer',\n",
       " 'eures',\n",
       " 'für',\n",
       " 'gegen',\n",
       " 'gewesen',\n",
       " 'hab',\n",
       " 'habe',\n",
       " 'haben',\n",
       " 'hat',\n",
       " 'hatte',\n",
       " 'hatten',\n",
       " 'hier',\n",
       " 'hin',\n",
       " 'hinter',\n",
       " 'ich',\n",
       " 'mich',\n",
       " 'mir',\n",
       " 'ihr',\n",
       " 'ihre',\n",
       " 'ihrem',\n",
       " 'ihren',\n",
       " 'ihrer',\n",
       " 'ihres',\n",
       " 'euch',\n",
       " 'im',\n",
       " 'in',\n",
       " 'indem',\n",
       " 'ins',\n",
       " 'ist',\n",
       " 'jede',\n",
       " 'jedem',\n",
       " 'jeden',\n",
       " 'jeder',\n",
       " 'jedes',\n",
       " 'jene',\n",
       " 'jenem',\n",
       " 'jenen',\n",
       " 'jener',\n",
       " 'jenes',\n",
       " 'jetzt',\n",
       " 'kann',\n",
       " 'kein',\n",
       " 'keine',\n",
       " 'keinem',\n",
       " 'keinen',\n",
       " 'keiner',\n",
       " 'keines',\n",
       " 'können',\n",
       " 'könnte',\n",
       " 'machen',\n",
       " 'man',\n",
       " 'manche',\n",
       " 'manchem',\n",
       " 'manchen',\n",
       " 'mancher',\n",
       " 'manches',\n",
       " 'mein',\n",
       " 'meine',\n",
       " 'meinem',\n",
       " 'meinen',\n",
       " 'meiner',\n",
       " 'meines',\n",
       " 'mit',\n",
       " 'muss',\n",
       " 'musste',\n",
       " 'nach',\n",
       " 'nicht',\n",
       " 'nichts',\n",
       " 'noch',\n",
       " 'nun',\n",
       " 'nur',\n",
       " 'ob',\n",
       " 'oder',\n",
       " 'ohne',\n",
       " 'sehr',\n",
       " 'sein',\n",
       " 'seine',\n",
       " 'seinem',\n",
       " 'seinen',\n",
       " 'seiner',\n",
       " 'seines',\n",
       " 'selbst',\n",
       " 'sich',\n",
       " 'sie',\n",
       " 'ihnen',\n",
       " 'sind',\n",
       " 'so',\n",
       " 'solche',\n",
       " 'solchem',\n",
       " 'solchen',\n",
       " 'solcher',\n",
       " 'solches',\n",
       " 'soll',\n",
       " 'sollte',\n",
       " 'sondern',\n",
       " 'sonst',\n",
       " 'über',\n",
       " 'um',\n",
       " 'und',\n",
       " 'uns',\n",
       " 'unsere',\n",
       " 'unserem',\n",
       " 'unseren',\n",
       " 'unser',\n",
       " 'unseres',\n",
       " 'unter',\n",
       " 'viel',\n",
       " 'vom',\n",
       " 'von',\n",
       " 'vor',\n",
       " 'während',\n",
       " 'war',\n",
       " 'waren',\n",
       " 'warst',\n",
       " 'was',\n",
       " 'weg',\n",
       " 'weil',\n",
       " 'weiter',\n",
       " 'welche',\n",
       " 'welchem',\n",
       " 'welchen',\n",
       " 'welcher',\n",
       " 'welches',\n",
       " 'wenn',\n",
       " 'werde',\n",
       " 'werden',\n",
       " 'wie',\n",
       " 'wieder',\n",
       " 'will',\n",
       " 'wir',\n",
       " 'wird',\n",
       " 'wirst',\n",
       " 'wo',\n",
       " 'wollen',\n",
       " 'wollte',\n",
       " 'würde',\n",
       " 'würden',\n",
       " 'zu',\n",
       " 'zum',\n",
       " 'zur',\n",
       " 'zwar',\n",
       " 'zwischen']"
      ]
     },
     "execution_count": 3,
     "metadata": {},
     "output_type": "execute_result"
    }
   ],
   "source": [
    "stopwords.words('german') #调取德文停用词的代码；德文停用词共有231个"
   ]
  },
  {
   "cell_type": "code",
   "execution_count": 5,
   "metadata": {},
   "outputs": [
    {
     "data": {
      "text/plain": [
       "232"
      ]
     },
     "execution_count": 5,
     "metadata": {},
     "output_type": "execute_result"
    }
   ],
   "source": [
    "len(stopwords.words('german'))"
   ]
  },
  {
   "cell_type": "markdown",
   "metadata": {},
   "source": [
    "**3.2.2自有停用词的设置**"
   ]
  },
  {
   "cell_type": "code",
   "execution_count": 7,
   "metadata": {},
   "outputs": [],
   "source": [
    "from nltk.corpus import stopwords\n",
    "stop_words = set(stopwords.words('english'))\n",
    "stop_words.update(['thereto','thereon','therefor','thereof','therein','thereby'])\n",
    "stop_words.update(['one','two','three','four'])\n",
    "print"
   ]
  },
  {
   "cell_type": "markdown",
   "metadata": {},
   "source": [
    "**3.3文本降噪处理**"
   ]
  },
  {
   "cell_type": "markdown",
   "metadata": {},
   "source": [
    "**用于清除文本中的标点符号**"
   ]
  },
  {
   "cell_type": "code",
   "execution_count": 1,
   "metadata": {},
   "outputs": [
    {
     "data": {
      "text/plain": [
       "192413"
      ]
     },
     "execution_count": 1,
     "metadata": {},
     "output_type": "execute_result"
    }
   ],
   "source": [
    "from nltk.corpus import PlaintextCorpusReader\n",
    "corpus_root = r\"D:/NLP\"\n",
    "corpora = PlaintextCorpusReader(corpus_root,['Austen_Emma.txt'])\n",
    "corpora.fileids() #查看语料库中的文本名称\n",
    "myfile = corpora.words('Austen_Emma.txt')\n",
    "len(myfile)"
   ]
  },
  {
   "cell_type": "code",
   "execution_count": 3,
   "metadata": {},
   "outputs": [
    {
     "data": {
      "text/plain": [
       "167024"
      ]
     },
     "execution_count": 3,
     "metadata": {},
     "output_type": "execute_result"
    }
   ],
   "source": [
    "from string import punctuation\n",
    "x = [word.lower() for word in myfile if word not in punctuation] #降噪代码，word.lower()for word in myfiles，将文本myfiles中的单词均改为小写，if word not in punctuation表示清除包括括号在内的所有标点符号\n",
    "len(x)"
   ]
  },
  {
   "cell_type": "markdown",
   "metadata": {},
   "source": [
    "**用于清除文本中的数字**"
   ]
  },
  {
   "cell_type": "code",
   "execution_count": 4,
   "metadata": {},
   "outputs": [
    {
     "data": {
      "text/plain": [
       "192409"
      ]
     },
     "execution_count": 4,
     "metadata": {},
     "output_type": "execute_result"
    }
   ],
   "source": [
    "from nltk.corpus import PlaintextCorpusReader\n",
    "corpus_root = r\"D:/NLP\"\n",
    "corpora = PlaintextCorpusReader(corpus_root,['Austen_Emma.txt'])\n",
    "corpora.fileids() #查看语料库中的文本名称\n",
    "myfile = corpora.words('Austen_Emma.txt')\n",
    "len(myfile)\n",
    "x = [word for word in myfile if not word.isdigit()]#?????测试word中所有字符是否都是数字。\n",
    "len(x)"
   ]
  },
  {
   "cell_type": "markdown",
   "metadata": {},
   "source": [
    "**用于清除文本中的非字母字符**"
   ]
  },
  {
   "cell_type": "code",
   "execution_count": 5,
   "metadata": {},
   "outputs": [
    {
     "data": {
      "text/plain": [
       "161603"
      ]
     },
     "execution_count": 5,
     "metadata": {},
     "output_type": "execute_result"
    }
   ],
   "source": [
    "from nltk.corpus import PlaintextCorpusReader\n",
    "corpus_root = r\"D:/NLP\"\n",
    "corpora = PlaintextCorpusReader(corpus_root,['Austen_Emma.txt'])\n",
    "corpora.fileids() #查看语料库中的文本名称\n",
    "myfile = corpora.words('Austen_Emma.txt')\n",
    "len(myfile)\n",
    "x = [word.lower()for word in myfile if word.isalpha()] # isalpha()函数用于测试word中所有字符是否都是字母\n",
    "len(x)"
   ]
  },
  {
   "cell_type": "markdown",
   "metadata": {},
   "source": [
    "**3.3.2组合使用代码的功用**"
   ]
  },
  {
   "cell_type": "code",
   "execution_count": 7,
   "metadata": {},
   "outputs": [
    {
     "data": {
      "text/plain": [
       "167020"
      ]
     },
     "execution_count": 7,
     "metadata": {},
     "output_type": "execute_result"
    }
   ],
   "source": [
    "from nltk.corpus import PlaintextCorpusReader\n",
    "corpus_root = r\"D:/NLP\"\n",
    "corpora = PlaintextCorpusReader(corpus_root,['Austen_Emma.txt'])\n",
    "corpora.fileids() #查看语料库中的文本名称\n",
    "myfile = corpora.words('Austen_Emma.txt')\n",
    "len(myfile)\n",
    "from string import punctuation\n",
    "x = [word.lower() for word in myfile if word not in punctuation]\n",
    "y = [word for word in x if not word.isdigit()]\n",
    "len(y)"
   ]
  },
  {
   "cell_type": "code",
   "execution_count": 8,
   "metadata": {},
   "outputs": [
    {
     "data": {
      "text/plain": [
       "167024"
      ]
     },
     "execution_count": 8,
     "metadata": {},
     "output_type": "execute_result"
    }
   ],
   "source": [
    "len(x)"
   ]
  },
  {
   "cell_type": "markdown",
   "metadata": {},
   "source": [
    "**3.4语料文本的语言学处理代码**"
   ]
  },
  {
   "cell_type": "code",
   "execution_count": 10,
   "metadata": {},
   "outputs": [
    {
     "name": "stdout",
     "output_type": "stream",
     "text": [
      "Collecting titlecase\n",
      "  Downloading https://files.pythonhosted.org/packages/1c/6b/1af08c2d82cf3bad9caf764bca8c398c78f811d0638e5cb268952f45c917/titlecase-0.12.0-py3-none-any.whl\n",
      "Installing collected packages: titlecase\n",
      "Successfully installed titlecase-0.12.0\n",
      "Note: you may need to restart the kernel to use updated packages.\n"
     ]
    }
   ],
   "source": [
    "pip install titlecase"
   ]
  },
  {
   "cell_type": "code",
   "execution_count": 1,
   "metadata": {},
   "outputs": [
    {
     "data": {
      "text/plain": [
       "'beijing, nov. 3 -- chinese president xi jinping, also general secretary of the communist party of china central committee and chairman of the central military commission, will attend the opening ceremony of the second china international import expo (ciie) on tuesday in shanghai and deliver a keynote speech.\\nthe event will be broadcast live by major tv and radio channels of china media group and www.xinhuanet.com. a number of news websites and new media platforms will rebroadcast the event simultaneously. '"
      ]
     },
     "execution_count": 1,
     "metadata": {},
     "output_type": "execute_result"
    }
   ],
   "source": [
    "text = \"\"\"BEIJING, Nov. 3 -- Chinese President Xi Jinping, also general secretary of the Communist Party of China Central Committee and chairman of the Central Military Commission, will attend the opening ceremony of the second China International Import Expo (CIIE) on Tuesday in Shanghai and deliver a keynote speech.\n",
    "The event will be broadcast live by major TV and radio channels of China Media Group and www.xinhuanet.com. A number of news websites and new media platforms will rebroadcast the event simultaneously. \"\"\"\n",
    "text.lower()"
   ]
  },
  {
   "cell_type": "code",
   "execution_count": 2,
   "metadata": {},
   "outputs": [
    {
     "data": {
      "text/plain": [
       "'BEIJING, NOV. 3 -- CHINESE PRESIDENT XI JINPING, ALSO GENERAL SECRETARY OF THE COMMUNIST PARTY OF CHINA CENTRAL COMMITTEE AND CHAIRMAN OF THE CENTRAL MILITARY COMMISSION, WILL ATTEND THE OPENING CEREMONY OF THE SECOND CHINA INTERNATIONAL IMPORT EXPO (CIIE) ON TUESDAY IN SHANGHAI AND DELIVER A KEYNOTE SPEECH.\\nTHE EVENT WILL BE BROADCAST LIVE BY MAJOR TV AND RADIO CHANNELS OF CHINA MEDIA GROUP AND WWW.XINHUANET.COM. A NUMBER OF NEWS WEBSITES AND NEW MEDIA PLATFORMS WILL REBROADCAST THE EVENT SIMULTANEOUSLY. '"
      ]
     },
     "execution_count": 2,
     "metadata": {},
     "output_type": "execute_result"
    }
   ],
   "source": [
    "text.upper()"
   ]
  },
  {
   "cell_type": "code",
   "execution_count": 3,
   "metadata": {},
   "outputs": [
    {
     "data": {
      "text/plain": [
       "'BEIJING, Nov. 3 -- Chinese President Xi Jinping, Also General Secretary of the Communist Party of China Central Committee and Chairman of the Central Military Commission, Will Attend the Opening Ceremony of the Second China International Import Expo (CIIE) on Tuesday in Shanghai and Deliver a Keynote Speech.\\nThe Event Will Be Broadcast Live by Major TV and Radio Channels of China Media Group and www.xinhuanet.com. A Number of News Websites and New Media Platforms Will Rebroadcast the Event Simultaneously. '"
      ]
     },
     "execution_count": 3,
     "metadata": {},
     "output_type": "execute_result"
    }
   ],
   "source": [
    "from titlecase import titlecase\n",
    "titlecase(text) # titlecase()函数将text中的所有实义词首字母均转换成大写"
   ]
  },
  {
   "cell_type": "markdown",
   "metadata": {},
   "source": [
    "**提取文本内首字母大写的单词**"
   ]
  },
  {
   "cell_type": "code",
   "execution_count": 5,
   "metadata": {},
   "outputs": [
    {
     "data": {
      "text/plain": [
       "['BEIJING,',\n",
       " 'Nov.',\n",
       " '3',\n",
       " '--',\n",
       " 'Chinese',\n",
       " 'President',\n",
       " 'Xi',\n",
       " 'Jinping,',\n",
       " 'Communist',\n",
       " 'Party',\n",
       " 'China',\n",
       " 'Central',\n",
       " 'Committee',\n",
       " 'Central',\n",
       " 'Military',\n",
       " 'Commission,',\n",
       " 'China',\n",
       " 'International',\n",
       " 'Import',\n",
       " 'Expo',\n",
       " '(CIIE)',\n",
       " 'Tuesday',\n",
       " 'Shanghai',\n",
       " 'The',\n",
       " 'TV',\n",
       " 'China',\n",
       " 'Media',\n",
       " 'Group',\n",
       " 'A']"
      ]
     },
     "execution_count": 5,
     "metadata": {},
     "output_type": "execute_result"
    }
   ],
   "source": [
    "text = \"\"\"BEIJING, Nov. 3 -- Chinese President Xi Jinping, also general secretary of the Communist Party of China Central Committee and chairman of the Central Military Commission, will attend the opening ceremony of the second China International Import Expo (CIIE) on Tuesday in Shanghai and deliver a keynote speech.\n",
    "The event will be broadcast live by major TV and radio channels of China Media Group and www.xinhuanet.com. A number of news websites and new media platforms will rebroadcast the event simultaneously. \"\"\"\n",
    "aaa = text.split() #需要先将字符串text分割成链表，并定义为变量aaa\n",
    "[w for w in aaa if not w.islower()] #在变量aaa中逐一遍历每个单词，凡单词不是小写的即if not w.islower,就予提取。"
   ]
  },
  {
   "cell_type": "code",
   "execution_count": 6,
   "metadata": {},
   "outputs": [
    {
     "data": {
      "text/plain": [
       "['also',\n",
       " 'general',\n",
       " 'secretary',\n",
       " 'of',\n",
       " 'the',\n",
       " 'of',\n",
       " 'and',\n",
       " 'chairman',\n",
       " 'of',\n",
       " 'the',\n",
       " 'will',\n",
       " 'attend',\n",
       " 'the',\n",
       " 'opening',\n",
       " 'ceremony',\n",
       " 'of',\n",
       " 'the',\n",
       " 'second',\n",
       " 'on',\n",
       " 'in',\n",
       " 'and',\n",
       " 'deliver',\n",
       " 'a',\n",
       " 'keynote',\n",
       " 'speech.',\n",
       " 'event',\n",
       " 'will',\n",
       " 'be',\n",
       " 'broadcast',\n",
       " 'live',\n",
       " 'by',\n",
       " 'major',\n",
       " 'and',\n",
       " 'radio',\n",
       " 'channels',\n",
       " 'of',\n",
       " 'and',\n",
       " 'www.xinhuanet.com.',\n",
       " 'number',\n",
       " 'of',\n",
       " 'news',\n",
       " 'websites',\n",
       " 'and',\n",
       " 'new',\n",
       " 'media',\n",
       " 'platforms',\n",
       " 'will',\n",
       " 'rebroadcast',\n",
       " 'the',\n",
       " 'event',\n",
       " 'simultaneously.']"
      ]
     },
     "execution_count": 6,
     "metadata": {},
     "output_type": "execute_result"
    }
   ],
   "source": [
    "text = \"\"\"BEIJING, Nov. 3 -- Chinese President Xi Jinping, also general secretary of the Communist Party of China Central Committee and chairman of the Central Military Commission, will attend the opening ceremony of the second China International Import Expo (CIIE) on Tuesday in Shanghai and deliver a keynote speech.\n",
    "The event will be broadcast live by major TV and radio channels of China Media Group and www.xinhuanet.com. A number of news websites and new media platforms will rebroadcast the event simultaneously. \"\"\"\n",
    "aaa = text.split() #需要先将字符串text分割成链表，并定义为变量aaa\n",
    "[w for w in aaa if  w.islower()] #在变量aaa中逐一遍历每个单词，凡单词是小写的即if  w.islower,就予提取。"
   ]
  },
  {
   "cell_type": "markdown",
   "metadata": {},
   "source": [
    "**将文本转换成大写**"
   ]
  },
  {
   "cell_type": "code",
   "execution_count": 7,
   "metadata": {},
   "outputs": [
    {
     "data": {
      "text/plain": [
       "'BEIJING,NOV.3--CHINESEPRESIDENTXIJINPING,ALSOGENERALSECRETARYOFTHECOMMUNISTPARTYOFCHINACENTRALCOMMITTEEANDCHAIRMANOFTHECENTRALMILITARYCOMMISSION,WILLATTENDTHEOPENINGCEREMONYOFTHESECONDCHINAINTERNATIONALIMPORTEXPO(CIIE)ONTUESDAYINSHANGHAIANDDELIVERAKEYNOTESPEECH.THEEVENTWILLBEBROADCASTLIVEBYMAJORTVANDRADIOCHANNELSOFCHINAMEDIAGROUPANDWWW.XINHUANET.COM.ANUMBEROFNEWSWEBSITESANDNEWMEDIAPLATFORMSWILLREBROADCASTTHEEVENTSIMULTANEOUSLY.'"
      ]
     },
     "execution_count": 7,
     "metadata": {},
     "output_type": "execute_result"
    }
   ],
   "source": [
    "text = \"\"\"BEIJING, Nov. 3 -- Chinese President Xi Jinping, also general secretary of the Communist Party of China Central Committee and chairman of the Central Military Commission, will attend the opening ceremony of the second China International Import Expo (CIIE) on Tuesday in Shanghai and deliver a keynote speech.\n",
    "The event will be broadcast live by major TV and radio channels of China Media Group and www.xinhuanet.com. A number of news websites and new media platforms will rebroadcast the event simultaneously. \"\"\"\n",
    "aaa = text.split() \n",
    "bbb = [w.upper()for w in aaa] #遍历变量aaa中的每个单词后将其转换成大写，转换大写的函数为upper()/转换小写的函数为lower()\n",
    "''.join(bbb)"
   ]
  },
  {
   "cell_type": "markdown",
   "metadata": {},
   "source": [
    "**词形还原**"
   ]
  },
  {
   "cell_type": "code",
   "execution_count": 3,
   "metadata": {},
   "outputs": [
    {
     "data": {
      "text/plain": [
       "'university'"
      ]
     },
     "execution_count": 3,
     "metadata": {},
     "output_type": "execute_result"
    }
   ],
   "source": [
    "from nltk.stem import WordNetLemmatizer\n",
    "wnl = WordNetLemmatizer()\n",
    "wnl.lemmatize('universities')\n",
    "\n",
    "#nltk.stem 是NLTK的一个模块，用于字符串处理，其功能为“分解句子提取主干”\n",
    "#WordNetLemmatizer: NLTK词形还原器，用于词形还原。\n",
    "#wnl = WordNetLemmatizer()，将词形还原器WordNetLemmatizer（）定义为变量wnl,便于后续代码的文字表达"
   ]
  },
  {
   "cell_type": "code",
   "execution_count": 4,
   "metadata": {},
   "outputs": [
    {
     "data": {
      "text/plain": [
       "'be'"
      ]
     },
     "execution_count": 4,
     "metadata": {},
     "output_type": "execute_result"
    }
   ],
   "source": [
    "wnl.lemmatize('was','v')\n"
   ]
  },
  {
   "cell_type": "code",
   "execution_count": 5,
   "metadata": {},
   "outputs": [
    {
     "data": {
      "text/plain": [
       "'happy'"
      ]
     },
     "execution_count": 5,
     "metadata": {},
     "output_type": "execute_result"
    }
   ],
   "source": [
    "wnl.lemmatize('happier','a')"
   ]
  },
  {
   "cell_type": "markdown",
   "metadata": {},
   "source": [
    "**文本分句或分词**"
   ]
  },
  {
   "cell_type": "code",
   "execution_count": 6,
   "metadata": {},
   "outputs": [
    {
     "data": {
      "text/plain": [
       "['EMMA', 'BY', 'JANE', 'AUSTEN', 'VOLUME', 'I', ...]"
      ]
     },
     "execution_count": 6,
     "metadata": {},
     "output_type": "execute_result"
    }
   ],
   "source": [
    "from nltk.corpus import PlaintextCorpusReader\n",
    "corpus_root = r\"D:/NLP\"\n",
    "corpora = PlaintextCorpusReader(corpus_root,['Austen_Emma.txt'])\n",
    "corpora.fileids() #查看语料库中的文本名称\n",
    "corpora.words('Austen_Emma.txt') #对语料库中的相应文本做分词处理，成为一个有单词构成的链表"
   ]
  },
  {
   "cell_type": "code",
   "execution_count": 7,
   "metadata": {},
   "outputs": [
    {
     "data": {
      "text/plain": [
       "[['EMMA', 'BY', 'JANE', 'AUSTEN', 'VOLUME', 'I', 'CHAPTER', 'I', 'Emma', 'Woodhouse', ',', 'handsome', ',', 'clever', ',', 'and', 'rich', ',', 'with', 'a', 'comfortable', 'home', 'and', 'happy', 'disposition', ',', 'seemed', 'to', 'unite', 'some', 'of', 'the', 'best', 'blessings', 'of', 'existence', ';', 'and', 'had', 'lived', 'nearly', 'twenty', '-', 'one', 'years', 'in', 'the', 'world', 'with', 'very', 'little', 'to', 'distress', 'or', 'vex', 'her', '.'], ['She', 'was', 'the', 'youngest', 'of', 'the', 'two', 'daughters', 'of', 'a', 'most', 'affectionate', ',', 'indulgent', 'father', ';', 'and', 'had', ',', 'in', 'consequence', 'of', 'her', 'sister', \"'\", 's', 'marriage', ',', 'been', 'mistress', 'of', 'his', 'house', 'from', 'a', 'very', 'early', 'period', '.'], ...]"
      ]
     },
     "execution_count": 7,
     "metadata": {},
     "output_type": "execute_result"
    }
   ],
   "source": [
    "corpora.sents('Austen_Emma.txt')#大链表系由分词组成，小链表是由每一个分句中的单词组成"
   ]
  },
  {
   "cell_type": "code",
   "execution_count": 8,
   "metadata": {},
   "outputs": [
    {
     "data": {
      "text/plain": [
       "['Chinese president Xi Jinping has arrived back in Beijing, after the fourth nuclear security summit in Washington and a three-day visit to Prague.',\n",
       " 'During the summit, Xi urged all countries to increase national input and international cooperation against nuclear terrorism.',\n",
       " 'While he was in the Czech Republic, he and his counterpart Milos Zeman agreed to forge a strategic partnership, and oversaw the signing of a slew of business and investment deals.']"
      ]
     },
     "execution_count": 8,
     "metadata": {},
     "output_type": "execute_result"
    }
   ],
   "source": [
    "text = \"\"\"Chinese president Xi Jinping has arrived back in Beijing, after the fourth nuclear security summit in Washington and a three-day visit to Prague. \n",
    "During the summit, Xi urged all countries to increase national input and international cooperation against nuclear terrorism. While he was in the Czech Republic, he and his counterpart Milos Zeman agreed to forge a strategic partnership, and oversaw the signing of a slew of business and investment deals. \"\"\"\n",
    "import nltk\n",
    "from nltk import word_tokenize\n",
    "nltk.word_tokenize(text)\n",
    "nltk.sent_tokenize(text)"
   ]
  },
  {
   "cell_type": "markdown",
   "metadata": {},
   "source": [
    "**用于NLTK固有语料库**"
   ]
  },
  {
   "cell_type": "code",
   "execution_count": 9,
   "metadata": {},
   "outputs": [
    {
     "data": {
      "text/plain": [
       "['Chief', 'Justice', 'Roberts', ',', 'President', ...]"
      ]
     },
     "execution_count": 9,
     "metadata": {},
     "output_type": "execute_result"
    }
   ],
   "source": [
    "from nltk.corpus import inaugural\n",
    "inaugural.words('2017-Trump.txt')"
   ]
  },
  {
   "cell_type": "code",
   "execution_count": 10,
   "metadata": {},
   "outputs": [
    {
     "data": {
      "text/plain": [
       "[['Chief', 'Justice', 'Roberts', ',', 'President', 'Carter', ',', 'President', 'Clinton', ',', 'President', 'Bush', ',', 'President', 'Obama', ',', 'fellow', 'Americans', ',', 'and', 'people', 'of', 'the', 'world', ':', 'Thank', 'you', '.'], ['We', ',', 'the', 'citizens', 'of', 'America', ',', 'are', 'now', 'joined', 'in', 'a', 'great', 'national', 'effort', 'to', 'rebuild', 'our', 'country', 'and', 'restore', 'its', 'promise', 'for', 'all', 'of', 'our', 'people', '.'], ...]"
      ]
     },
     "execution_count": 10,
     "metadata": {},
     "output_type": "execute_result"
    }
   ],
   "source": [
    "inaugural.sents('2017-Trump.txt')"
   ]
  },
  {
   "cell_type": "markdown",
   "metadata": {},
   "source": [
    "**词性标注**"
   ]
  },
  {
   "cell_type": "code",
   "execution_count": 11,
   "metadata": {},
   "outputs": [
    {
     "data": {
      "text/plain": [
       "[('Chinese', 'JJ'),\n",
       " ('president', 'NN'),\n",
       " ('Xi', 'NNP'),\n",
       " ('Jinping', 'NNP'),\n",
       " ('has', 'VBZ'),\n",
       " ('arrived', 'VBN'),\n",
       " ('back', 'RP'),\n",
       " ('in', 'IN'),\n",
       " ('Beijing,', 'NNP'),\n",
       " ('after', 'IN'),\n",
       " ('the', 'DT'),\n",
       " ('fourth', 'JJ'),\n",
       " ('nuclear', 'JJ'),\n",
       " ('security', 'NN'),\n",
       " ('summit', 'NN'),\n",
       " ('in', 'IN'),\n",
       " ('Washington', 'NNP'),\n",
       " ('and', 'CC'),\n",
       " ('a', 'DT'),\n",
       " ('three-day', 'JJ'),\n",
       " ('visit', 'NN'),\n",
       " ('to', 'TO'),\n",
       " ('Prague.', 'NNP'),\n",
       " ('During', 'IN'),\n",
       " ('the', 'DT'),\n",
       " ('summit,', 'JJ'),\n",
       " ('Xi', 'NNP'),\n",
       " ('urged', 'VBD'),\n",
       " ('all', 'DT'),\n",
       " ('countries', 'NNS'),\n",
       " ('to', 'TO'),\n",
       " ('increase', 'VB'),\n",
       " ('national', 'JJ'),\n",
       " ('input', 'NN'),\n",
       " ('and', 'CC'),\n",
       " ('international', 'JJ'),\n",
       " ('cooperation', 'NN'),\n",
       " ('against', 'IN'),\n",
       " ('nuclear', 'JJ'),\n",
       " ('terrorism.', 'NN'),\n",
       " ('While', 'IN'),\n",
       " ('he', 'PRP'),\n",
       " ('was', 'VBD'),\n",
       " ('in', 'IN'),\n",
       " ('the', 'DT'),\n",
       " ('Czech', 'NNP'),\n",
       " ('Republic,', 'NNP'),\n",
       " ('he', 'PRP'),\n",
       " ('and', 'CC'),\n",
       " ('his', 'PRP$'),\n",
       " ('counterpart', 'NN'),\n",
       " ('Milos', 'NNP'),\n",
       " ('Zeman', 'NNP'),\n",
       " ('agreed', 'VBD'),\n",
       " ('to', 'TO'),\n",
       " ('forge', 'VB'),\n",
       " ('a', 'DT'),\n",
       " ('strategic', 'JJ'),\n",
       " ('partnership,', 'NN'),\n",
       " ('and', 'CC'),\n",
       " ('oversaw', 'VBD'),\n",
       " ('the', 'DT'),\n",
       " ('signing', 'NN'),\n",
       " ('of', 'IN'),\n",
       " ('a', 'DT'),\n",
       " ('slew', 'NN'),\n",
       " ('of', 'IN'),\n",
       " ('business', 'NN'),\n",
       " ('and', 'CC'),\n",
       " ('investment', 'NN'),\n",
       " ('deals.', 'NN')]"
      ]
     },
     "execution_count": 11,
     "metadata": {},
     "output_type": "execute_result"
    }
   ],
   "source": [
    "text = \"\"\"Chinese president Xi Jinping has arrived back in Beijing, after the fourth nuclear security summit in Washington and a three-day visit to Prague. \n",
    "During the summit, Xi urged all countries to increase national input and international cooperation against nuclear terrorism. While he was in the Czech Republic, he and his counterpart Milos Zeman agreed to forge a strategic partnership, and oversaw the signing of a slew of business and investment deals. \"\"\"\n",
    "import nltk\n",
    "text1 = text.split()\n",
    "nltk.pos_tag(text1)"
   ]
  },
  {
   "cell_type": "markdown",
   "metadata": {},
   "source": [
    "**词性标注提取词汇**"
   ]
  },
  {
   "cell_type": "code",
   "execution_count": 13,
   "metadata": {},
   "outputs": [
    {
     "name": "stdout",
     "output_type": "stream",
     "text": [
      "[('president', 'NN'), ('Xi', 'NNP'), ('Jinping', 'NNP'), ('Beijing,', 'NNP'), ('security', 'NN'), ('summit', 'NN')]\n"
     ]
    }
   ],
   "source": [
    "text = \"\"\"Chinese president Xi Jinping has arrived back in Beijing, after the fourth nuclear security summit in Washington and a three-day visit to Prague. \n",
    "During the summit, Xi urged all countries to increase national input and international cooperation against nuclear terrorism. While he was in the Czech Republic, he and his counterpart Milos Zeman agreed to forge a strategic partnership, and oversaw the signing of a slew of business and investment deals. \"\"\"\n",
    "import nltk\n",
    "text1 = text.split()\n",
    "nltk.pos_tag(text1)\n",
    "tagged_text = nltk.pos_tag(text1)\n",
    "noun = [(word,tag) for word, tag in tagged_text if any(pos_tag in tag for pos_tag in ['NNP','NN'])]\n",
    "print (noun[0:6])\n",
    "\n",
    "#(word,tag) for word, tag;遍历每一个已标注词性的单词本身和词性标注\n",
    "#word, tag in tagged_text：经词性标注后的文本tagged_text中的单词本身和词性标记。\n",
    "#if any(pos_tag in tag for pos_tag in ['NNP','NN']),凡是NNP和NN的词性标记皆符合要求"
   ]
  },
  {
   "cell_type": "markdown",
   "metadata": {},
   "source": [
    "**3.5语料库词频排序**\n",
    "\n",
    "**简单词频排序**"
   ]
  },
  {
   "cell_type": "code",
   "execution_count": 15,
   "metadata": {},
   "outputs": [
    {
     "data": {
      "text/plain": [
       "FreqDist({',': 11454, '.': 6928, 'to': 5183, 'the': 4844, 'and': 4672, 'of': 4279, 'I': 3178, 'a': 3004, 'was': 2385, 'her': 2381, ...})"
      ]
     },
     "execution_count": 15,
     "metadata": {},
     "output_type": "execute_result"
    }
   ],
   "source": [
    "from nltk.corpus import PlaintextCorpusReader\n",
    "corpus_root = r\"D:/NLP\"\n",
    "corpora = PlaintextCorpusReader(corpus_root,['Austen_Emma.txt'])\n",
    "corpora.fileids() #查看语料库中的文本名称\n",
    "myfiles = corpora.words('Austen_Emma.txt')\n",
    "from nltk import FreqDist #从NLTK模块中加载频率分布函数FreqDist\n",
    "fdist = FreqDist(myfiles)\n",
    "fdist"
   ]
  },
  {
   "cell_type": "code",
   "execution_count": 16,
   "metadata": {},
   "outputs": [
    {
     "data": {
      "text/plain": [
       "192413"
      ]
     },
     "execution_count": 16,
     "metadata": {},
     "output_type": "execute_result"
    }
   ],
   "source": [
    "fdist.N() #显示样本myfiles的总数，即总形符数"
   ]
  },
  {
   "cell_type": "markdown",
   "metadata": {},
   "source": [
    "**降噪处理后词频排序**"
   ]
  },
  {
   "cell_type": "code",
   "execution_count": 17,
   "metadata": {},
   "outputs": [
    {
     "data": {
      "text/plain": [
       "FreqDist({'to': 5239, 'the': 5201, 'and': 4896, 'of': 4291, 'i': 3178, 'a': 3129, 'it': 2528, 'her': 2469, 'was': 2398, 'she': 2340, ...})"
      ]
     },
     "execution_count": 17,
     "metadata": {},
     "output_type": "execute_result"
    }
   ],
   "source": [
    "from nltk.corpus import PlaintextCorpusReader\n",
    "corpus_root = r\"D:/NLP\"\n",
    "corpora = PlaintextCorpusReader(corpus_root,['Austen_Emma.txt'])\n",
    "corpora.fileids() #查看语料库中的文本名称\n",
    "myfiles = corpora.words('Austen_Emma.txt')\n",
    "\n",
    "from nltk import FreqDist #从NLTK模块中加载频率分布函数FreqDist\n",
    "x = [word.lower()for word in myfiles if word.isalpha()]\n",
    "fdist = FreqDist(x)\n",
    "fdist\n",
    "\n",
    "#x = [word.lower()for word in myfiles if word.isalpha()]变量x具有两个功能，一是word.lower()将所有字符转为小写，二是if word.isalpha（）清楚所有不是字母的字符\n"
   ]
  },
  {
   "cell_type": "code",
   "execution_count": 18,
   "metadata": {},
   "outputs": [
    {
     "data": {
      "text/plain": [
       "161603"
      ]
     },
     "execution_count": 18,
     "metadata": {},
     "output_type": "execute_result"
    }
   ],
   "source": [
    "fdist.N()"
   ]
  },
  {
   "cell_type": "markdown",
   "metadata": {},
   "source": [
    "**清除停用词后排序**"
   ]
  },
  {
   "cell_type": "code",
   "execution_count": 19,
   "metadata": {},
   "outputs": [
    {
     "data": {
      "text/plain": [
       "FreqDist({'mr': 1153, 'emma': 865, 'could': 837, 'would': 820, 'mrs': 699, 'miss': 599, 'must': 567, 'harriet': 506, 'much': 486, 'said': 484, ...})"
      ]
     },
     "execution_count": 19,
     "metadata": {},
     "output_type": "execute_result"
    }
   ],
   "source": [
    "from nltk.corpus import PlaintextCorpusReader\n",
    "corpus_root = r\"D:/NLP\"\n",
    "corpora = PlaintextCorpusReader(corpus_root,['Austen_Emma.txt'])\n",
    "corpora.fileids() #查看语料库中的文本名称\n",
    "myfiles = corpora.words('Austen_Emma.txt')\n",
    "from nltk.corpus import stopwords\n",
    "stop_words = nltk.corpus.stopwords.words('english')\n",
    "from nltk import FreqDist\n",
    "x =  [word.lower()for word in myfiles if word.isalpha()]\n",
    "y = [word for word in x if word not in stop_words]\n",
    "fdist = FreqDist(y)\n",
    "fdist"
   ]
  },
  {
   "cell_type": "code",
   "execution_count": 20,
   "metadata": {},
   "outputs": [
    {
     "data": {
      "text/plain": [
       "73154"
      ]
     },
     "execution_count": 20,
     "metadata": {},
     "output_type": "execute_result"
    }
   ],
   "source": [
    "fdist.N()"
   ]
  },
  {
   "cell_type": "markdown",
   "metadata": {},
   "source": [
    "**3.6语料库检索与统计**"
   ]
  },
  {
   "cell_type": "code",
   "execution_count": 26,
   "metadata": {},
   "outputs": [
    {
     "name": "stdout",
     "output_type": "stream",
     "text": [
      "Displaying 117 of 117 matches:\n",
      "Miss Churchill fell in love with him , nobody was \n",
      "t goodness of being in love with him ; but though \n",
      ": she did not cease to love her husband , but she \n",
      "o alarming symptoms of love . The young man had be\n",
      "r all you describe . I love to look at her ; and I\n",
      " \" I know that you all love her really too well to\n",
      "her to be very much in love with a proper object .\n",
      "ld like to see Emma in love , and in some doubt of\n",
      "rest way of falling in love , if not in love alrea\n",
      "ng in love , if not in love already . She had no s\n",
      "pect his eye , but his love and his complaisance w\n",
      "t too gallant to be in love ,\" thought Emma . \" I \n",
      "erent ways of being in love . He is an excellent y\n",
      "one thing -- Who is in love with her ? Who makes y\n",
      ". He is desperately in love and means to marry her\n",
      " reason so to a man in love , and was willing to t\n",
      "; till they do fall in love with well - informed m\n",
      "make no secret of your love of match - making , it\n",
      "n must be very much in love , indeed , to describe\n",
      " Hartfield which gives love exactly the right dire\n",
      "w . The course of true love never did run smooth -\n",
      "on should really be in love with me ,-- me , of al\n",
      "ow nicely you talk ; I love to hear you . You unde\n",
      "is passion . A poet in love must be encouraged in \n",
      " down a declaration of love . It seemed too precio\n",
      "ass it , as a proof of love , with Mr . Elton ' s \n",
      "ry . Were I to fall in love , indeed , it would be\n",
      "t I never have been in love ; it is not my way , o\n",
      " shall . And , without love , I am sure I should b\n",
      "children of a sister I love so much , to care abou\n",
      "ng a great increase of love on each side . I shoul\n",
      "ests between those who love ; and any thing will s\n",
      "higher ties , a warmer love might have seemed impo\n",
      "lways telling you , my love , that I had no idea o\n",
      "s she can .\" \" Me , my love ,\" cried his wife , he\n",
      " am sorry to find , my love , that my father does \n",
      "dly , and very much in love with Harriet ; but sti\n",
      ". What a strange thing love is ! he can see ready \n",
      "now .\" \" Mr . Elton in love with me !-- What an id\n",
      "e the \" Very true , my love ,\" which must have bee\n",
      "e pretence of being in love with her , instead of \n",
      "carriage directly , my love ,\" said she ; \" I dare\n",
      "ctually making violent love to her : availing hims\n",
      "achment and unequalled love and unexampled passion\n",
      "r , pretended to be in love ; but she was perfectl\n",
      " less allied with real love . She need not trouble\n",
      " he had fancied her in love with him ; that eviden\n",
      "hould not be really in love with her , or so parti\n",
      "elf more resolutely in love than Emma had foreseen\n",
      "all ashamed of it . My love for Mr . and Mrs . Wes\n",
      " at first . If it were love , it might be simple ,\n",
      ", single , successless love on her side alone . Sh\n",
      " Ambition , as well as love , had probably been mo\n",
      "he had talked her into love ; but , alas ! she was\n",
      "n , would be always in love . And now , poor girl \n",
      " of how much he was in love ! Had it been allowabl\n",
      "y musical man , and in love with another woman -- \n",
      "having more music than love -- more ear than eye -\n",
      "ttraction . One cannot love a reserved person .\" \"\n",
      "anity , extravagance , love of change , restlessne\n",
      "not of being really in love with her , of being at\n",
      "y at Hartfield . Their love of society , and their\n",
      "papa ?\" \" Oh ! no , my love ; but you will soon be\n",
      ", the kindest looks of love , the strongest of adm\n",
      " misfortune to fall in love with _her_ , or that h\n",
      "than as an offering of love .\" There was no occasi\n",
      "e , she could not only love the blooming sweetness\n",
      "airfax . In the way of love , I am sure he does no\n",
      " even without being in love .\" \" Then it can be no\n",
      "to prove that he is in love . But I do not think i\n",
      " on his side -- but no love . Alas ! there was soo\n",
      "sed .-- He was more in love with her than Emma had\n",
      " _must_ be a little in love with him , in spite of\n",
      "house !-- I must be in love ; I should be the odde\n",
      " doubt of her being in love . Her ideas only varie\n",
      "ld not be very much in love ; for in spite of her \n",
      ". I am quite enough in love . I should be sorry to\n",
      "doubtedly very much in love -- every thing denotes\n",
      "tes it -- very much in love indeed !-- and when he\n",
      "y say every body is in love once in their lives , \n",
      " should have fallen in love .\" \" Oh ! no -- there \n",
      "he used to be -- And I love an open temper . No --\n",
      "idea of _not_ being in love with her , that I shou\n",
      "ys so much the most in love of the two , were to b\n",
      "r thing he was less in love than he had been . Abs\n",
      "s to his being less in love -- but neither his agi\n",
      " . She wished he could love a ballroom better , an\n",
      "eorge Otway ; she will love to tell you all about \n",
      "vinced of his being in love with Harriet . It was \n",
      "rchill not too much in love , and Mr . Knightley n\n",
      "ng man , who seemed to love without feeling , and \n",
      "d I have done being in love with him . I should no\n",
      "ply , \" Very true , my love , very true . Exactly \n",
      "or say , besides the ' love ,' which nobody carrie\n",
      "ht not be making me in love with him ?-- very wron\n",
      "have patience . I must love him ; and now that I a\n",
      "tain friend of ours in love with the lady .\" \" Tru\n",
      "et , \" of his being in love with her ?-- You , per\n",
      "t Harriet should be in love with Mr . Knightley , \n",
      ".\" \" On your side , my love , it was very innocent\n",
      "him !-- Assured of the love of such a woman -- the\n",
      "n -- the disinterested love , for Jane Fairfax ' s\n",
      "ill .-- He had been in love with Emma , and jealou\n",
      "eply and as happily in love as myself .-- Whatever\n",
      "n which any picture of love must have for her at t\n",
      "eston , and so much in love with Miss Fairfax , an\n",
      "obation ; or merely of love , as the subject requi\n",
      "to the woman he was in love with , how to be able \n",
      ", that she could be in love with more than _three_\n",
      "if you knew how much I love every thing that is de\n",
      " errors , have been in love with you ever since yo\n",
      "me , except falling in love with her when she is t\n",
      "he idea .-- Did he not love Mr . Knightley very mu\n",
      "ot think him at all in love -- not in the least .-\n",
      "he added , \" Emma , my love , you said that this c\n",
      " to believe as much in love with her as ever ,) to\n",
      "that his continuing to love her had been irresisti\n"
     ]
    }
   ],
   "source": [
    "from nltk.corpus import PlaintextCorpusReader\n",
    "corpus_root = r\"D:/NLP\"\n",
    "corpora = PlaintextCorpusReader(corpus_root,['Austen_Emma.txt'])\n",
    "corpora.fileids() #查看语料库中的文本名称\n",
    "myfiles = nltk.Text(corpora.words('Austen_Emma.txt'))\n",
    "#myfiles.concordance('love')\n",
    "#myfiles.concordance('love',width =79, lines=25)\n",
    "myfiles.concordance('love', width = 50, lines = 117)"
   ]
  },
  {
   "cell_type": "code",
   "execution_count": null,
   "metadata": {},
   "outputs": [],
   "source": [
    "**类符形符比**"
   ]
  },
  {
   "cell_type": "markdown",
   "metadata": {},
   "source": [
    "**N连词提取**"
   ]
  },
  {
   "cell_type": "code",
   "execution_count": 28,
   "metadata": {},
   "outputs": [
    {
     "name": "stdout",
     "output_type": "stream",
     "text": [
      "*** Introductory Examples for the NLTK Book ***\n",
      "Loading text1, ..., text9 and sent1, ..., sent9\n",
      "Type the name of the text or sentence to view it.\n",
      "Type: 'texts()' or 'sents()' to list the materials.\n",
      "text1: Moby Dick by Herman Melville 1851\n",
      "text2: Sense and Sensibility by Jane Austen 1811\n",
      "text3: The Book of Genesis\n",
      "text4: Inaugural Address Corpus\n",
      "text5: Chat Corpus\n",
      "text6: Monty Python and the Holy Grail\n",
      "text7: Wall Street Journal\n",
      "text8: Personals Corpus\n",
      "text9: The Man Who Was Thursday by G . K . Chesterton 1908\n",
      "United States; fellow citizens; four years; years ago; Federal\n",
      "Government; General Government; American people; Vice President; God\n",
      "bless; Chief Justice; Old World; Almighty God; Fellow citizens; Chief\n",
      "Magistrate; every citizen; one another; fellow Americans; Indian\n",
      "tribes; public debt; foreign nations\n"
     ]
    }
   ],
   "source": [
    "from nltk.book import*\n",
    "text4.collocations()"
   ]
  },
  {
   "cell_type": "markdown",
   "metadata": {},
   "source": [
    "**三连词提取**  ？？？？？？？？中文三连词的提取"
   ]
  },
  {
   "cell_type": "code",
   "execution_count": 29,
   "metadata": {},
   "outputs": [
    {
     "name": "stdout",
     "output_type": "stream",
     "text": [
      "[('nuclear', 'security', 'summit'), ('president', 'xi', 'jinping'), ('a', 'slew', 'of'), ('partnership,', 'and', 'oversaw'), ('and', 'oversaw', 'the'), ('agreed', 'to', 'forge'), ('urged', 'all', 'countries'), ('xi', 'jinping', 'has'), ('the', 'summit,', 'xi'), ('forge', 'a', 'strategic'), ('of', 'a', 'slew'), ('summit', 'in', 'washington'), ('visit', 'to', 'prague.'), ('zeman', 'agreed', 'to'), ('in', 'beijing,', 'after'), ('strategic', 'partnership,', 'and'), ('back', 'in', 'beijing,'), ('he', 'was', 'in'), ('the', 'signing', 'of'), ('beijing,', 'after', 'the'), ('and', 'international', 'cooperation'), ('summit,', 'xi', 'urged'), ('signing', 'of', 'a'), ('and', 'his', 'counterpart'), ('international', 'cooperation', 'against'), ('input', 'and', 'international'), ('slew', 'of', 'business'), ('oversaw', 'the', 'signing'), ('a', 'three-day', 'visit'), ('xi', 'urged', 'all'), ('to', 'forge', 'a'), ('and', 'investment', 'deals.'), ('and', 'a', 'three-day'), ('in', 'the', 'czech'), ('against', 'nuclear', 'terrorism.'), ('arrived', 'back', 'in'), ('the', 'fourth', 'nuclear'), ('three-day', 'visit', 'to'), ('national', 'input', 'and'), ('cooperation', 'against', 'nuclear'), ('increase', 'national', 'input'), ('after', 'the', 'fourth'), ('jinping', 'has', 'arrived'), ('all', 'countries', 'to'), ('to', 'increase', 'national'), ('czech', 'republic,', 'he'), ('has', 'arrived', 'back'), ('he', 'and', 'his'), ('countries', 'to', 'increase'), ('was', 'in', 'the'), ('in', 'washington', 'and'), ('while', 'he', 'was'), ('of', 'business', 'and'), ('fourth', 'nuclear', 'security'), ('to', 'prague.', 'during'), ('washington', 'and', 'a'), ('republic,', 'he', 'and'), ('the', 'czech', 'republic,'), ('counterpart', 'milos', 'zeman'), ('his', 'counterpart', 'milos'), ('chinese', 'president', 'xi'), ('prague.', 'during', 'the'), ('a', 'strategic', 'partnership,'), ('nuclear', 'terrorism.', 'while'), ('terrorism.', 'while', 'he'), ('security', 'summit', 'in'), ('during', 'the', 'summit,'), ('business', 'and', 'investment'), ('milos', 'zeman', 'agreed')]\n"
     ]
    }
   ],
   "source": [
    "text = \"\"\"Chinese president Xi Jinping has arrived back in Beijing, after the fourth nuclear security summit in Washington and a three-day visit to Prague. \n",
    "During the summit, Xi urged all countries to increase national input and international cooperation against nuclear terrorism. While he was in the Czech Republic, he and his counterpart Milos Zeman agreed to forge a strategic partnership, and oversaw the signing of a slew of business and investment deals. \"\"\"\n",
    "\n",
    "text1 = text.split()\n",
    "from nltk import ngrams\n",
    "grams_3 = ngrams([word.lower()for word in text1],3)\n",
    "grams_3 = list(set(grams_3))\n",
    "print(grams_3)"
   ]
  },
  {
   "cell_type": "markdown",
   "metadata": {},
   "source": [
    "**改进三连词提取效果**"
   ]
  },
  {
   "cell_type": "code",
   "execution_count": 30,
   "metadata": {},
   "outputs": [
    {
     "name": "stdout",
     "output_type": "stream",
     "text": [
      "('nuclear', 'security', 'summit')\n",
      "('president', 'xi', 'jinping')\n",
      "('summit,', 'xi', 'urged')\n",
      "('increase', 'national', 'input')\n",
      "('fourth', 'nuclear', 'security')\n",
      "('counterpart', 'milos', 'zeman')\n",
      "('chinese', 'president', 'xi')\n",
      "('milos', 'zeman', 'agreed')\n"
     ]
    }
   ],
   "source": [
    "text = \"\"\"Chinese president Xi Jinping has arrived back in Beijing, after the fourth nuclear security summit in Washington and a three-day visit to Prague. \n",
    "During the summit, Xi urged all countries to increase national input and international cooperation against nuclear terrorism. While he was in the Czech Republic, he and his counterpart Milos Zeman agreed to forge a strategic partnership, and oversaw the signing of a slew of business and investment deals. \"\"\"\n",
    "\n",
    "text1 = text.split()\n",
    "from nltk import ngrams\n",
    "grams_3 = ngrams([word.lower()for word in text1],3)\n",
    "grams_3 = list(set(grams_3))\n",
    "from nltk.corpus import stopwords\n",
    "stop_words = set(stopwords.words('english'))\n",
    "for g in grams_3:\n",
    "    if len(set(g)&set(stop_words)) == 0:\n",
    "        print(g)\n",
    "\n",
    "#for g in grams_3：：遍历已分割成三连词链表grams_3中每一个三连词。\n",
    "#if len(set(g)&set(stop_words)) == 0: 若是三连词中包含有停用词的则予以去除，并做归并处理，然后是打印出结果"
   ]
  },
  {
   "cell_type": "code",
   "execution_count": 31,
   "metadata": {},
   "outputs": [
    {
     "name": "stdout",
     "output_type": "stream",
     "text": [
      "('chinese', 'president', 'xi')\n",
      "('president', 'xi', 'jinping')\n",
      "('fourth', 'nuclear', 'security')\n",
      "('nuclear', 'security', 'summit')\n",
      "('summit,', 'xi', 'urged')\n",
      "('increase', 'national', 'input')\n",
      "('counterpart', 'milos', 'zeman')\n",
      "('milos', 'zeman', 'agreed')\n"
     ]
    }
   ],
   "source": [
    "text = \"\"\"Chinese president Xi Jinping has arrived back in Beijing, after the fourth nuclear security summit in Washington and a three-day visit to Prague. \n",
    "During the summit, Xi urged all countries to increase national input and international cooperation against nuclear terrorism. While he was in the Czech Republic, he and his counterpart Milos Zeman agreed to forge a strategic partnership, and oversaw the signing of a slew of business and investment deals. \"\"\"\n",
    "\n",
    "text1 = text.split()\n",
    "from nltk import ngrams\n",
    "grams_3 = ngrams([word.lower()for word in text1],3)\n",
    "grams_3 = list(grams_3)\n",
    "from nltk.corpus import stopwords\n",
    "stop_words = set(stopwords.words('english'))\n",
    "for g in grams_3:\n",
    "    if len(set(g)&set(stop_words)) == 0:\n",
    "        print(g)"
   ]
  },
  {
   "cell_type": "markdown",
   "metadata": {},
   "source": [
    "**指定检索与统计**"
   ]
  },
  {
   "cell_type": "code",
   "execution_count": 39,
   "metadata": {},
   "outputs": [
    {
     "data": {
      "text/plain": [
       "3"
      ]
     },
     "execution_count": 39,
     "metadata": {},
     "output_type": "execute_result"
    }
   ],
   "source": [
    "import nltk\n",
    "from nltk import FreqDist \n",
    "text = \"\"\"Chinese president Xi Jinping has arrived back in Beijing, after the fourth nuclear security summit in Washington and a three-day visit to Prague. \n",
    "During the summit, Xi urged all countries to increase national input and international cooperation against nuclear terrorism. While he was in the Czech Republic, he and his counterpart Milos Zeman agreed to forge a strategic partnership, and oversaw the signing of a slew of business and investment deals. \"\"\"\n",
    "\n",
    "text1 = nltk.word_tokenize(text)\n",
    "fdist = nltk.FreqDist(text1)\n",
    "fdist['in']\n"
   ]
  },
  {
   "cell_type": "code",
   "execution_count": 40,
   "metadata": {},
   "outputs": [
    {
     "data": {
      "text/plain": [
       "0.038461538461538464"
      ]
     },
     "execution_count": 40,
     "metadata": {},
     "output_type": "execute_result"
    }
   ],
   "source": [
    "fdist.freq('in')"
   ]
  },
  {
   "cell_type": "code",
   "execution_count": 44,
   "metadata": {},
   "outputs": [
    {
     "data": {
      "image/png": "[encoded data removed]",
      "text/plain": [
       "<Figure size 432x288 with 1 Axes>"
      ]
     },
     "metadata": {
      "needs_background": "light"
     },
     "output_type": "display_data"
    }
   ],
   "source": [
    "fdist.N() #统计整个文本的字符数\n",
    "fdist.items() #给出每个字符数或形符数的频率\n",
    "fdist.plot()"
   ]
  },
  {
   "cell_type": "code",
   "execution_count": 45,
   "metadata": {},
   "outputs": [
    {
     "data": {
      "text/plain": [
       "[('and', 5), (',', 4)]"
      ]
     },
     "execution_count": 45,
     "metadata": {},
     "output_type": "execute_result"
    }
   ],
   "source": [
    "fdist.most_common(2) #列出最高配的"
   ]
  },
  {
   "cell_type": "code",
   "execution_count": 46,
   "metadata": {},
   "outputs": [
    {
     "data": {
      "text/plain": [
       "['Chinese',\n",
       " 'president',\n",
       " 'Jinping',\n",
       " 'has',\n",
       " 'arrived',\n",
       " 'back',\n",
       " 'Beijing',\n",
       " 'after',\n",
       " 'fourth',\n",
       " 'security',\n",
       " 'Washington',\n",
       " 'three-day',\n",
       " 'visit',\n",
       " 'Prague',\n",
       " 'During',\n",
       " 'urged',\n",
       " 'all',\n",
       " 'countries',\n",
       " 'increase',\n",
       " 'national',\n",
       " 'input',\n",
       " 'international',\n",
       " 'cooperation',\n",
       " 'against',\n",
       " 'terrorism',\n",
       " 'While',\n",
       " 'was',\n",
       " 'Czech',\n",
       " 'Republic',\n",
       " 'his',\n",
       " 'counterpart',\n",
       " 'Milos',\n",
       " 'Zeman',\n",
       " 'agreed',\n",
       " 'forge',\n",
       " 'strategic',\n",
       " 'partnership',\n",
       " 'oversaw',\n",
       " 'signing',\n",
       " 'slew',\n",
       " 'business',\n",
       " 'investment',\n",
       " 'deals']"
      ]
     },
     "execution_count": 46,
     "metadata": {},
     "output_type": "execute_result"
    }
   ],
   "source": [
    "fdist.hapaxes() #给出一个低频字符数或形符数的链表"
   ]
  },
  {
   "cell_type": "markdown",
   "metadata": {},
   "source": [
    "**3.7中文语料文本的处理**\n",
    "\n",
    "**上下文关键词检索**"
   ]
  },
  {
   "cell_type": "code",
   "execution_count": 54,
   "metadata": {},
   "outputs": [
    {
     "name": "stdout",
     "output_type": "stream",
     "text": [
      "Displaying 8 of 8 matches:\n",
      "志告 之 ， 云长 大喜 。 同 到 张飞 庄上 ， 共议 大事 。 飞 曰 ：\n",
      " 曰 ： “ 念 刘备 、 关羽 、 张飞 ， 虽然 异姓 ， 既 结为 兄弟 \n",
      " 拜 玄德为 兄 ， 关羽 次之 ， 张飞 为弟 。 祭 罢 天地 ， 复 宰牛\n",
      " 冷艳 锯 ” ， 重 八十二斤 。 张飞 造丈 八点 钢矛 。 各置 全身 铠\n",
      " 大怒 ， 遣 副将 邓茂 出战 。 张飞 挺 丈八蛇矛 直出 ， 手起 处 ，\n",
      " 了 邓茂 ， 拍 马舞刀 ， 直取 张飞 。 云长 舞动 大刀 ， 纵马 飞迎\n",
      " 兵 ， 取 我 回京 问罪 。 ” 张飞 听罢 ， 大怒 ， 要 斩 护送 军\n",
      "轻 之 ， 不为 礼 。 玄德出 ， 张飞 大怒 曰 ： “ 我 等 亲赴 血战\n"
     ]
    }
   ],
   "source": [
    "import nltk\n",
    "import jieba\n",
    "\n",
    "#f = open(r'《三国演义》.text,encoding='utf-8')\n",
    "#f = open(r'C:\\Users\\Geoffrey\\Desktop\\News.txt',encoding='ansi') ## 编码错误不是utf-8\n",
    "f = open(r'D:\\NLP\\《三国演义》.txt',encoding='utf-8')\n",
    "#f = open(r'test_sent.text')        \n",
    "text=f.read()\n",
    "\n",
    "text1=nltk.Text(jieba.lcut(text))\n",
    "text1.concordance('张飞',width = 40, lines = 10)\n"
   ]
  },
  {
   "cell_type": "code",
   "execution_count": 56,
   "metadata": {},
   "outputs": [
    {
     "data": {
      "text/plain": [
       "['\\ufeff',\n",
       " '#',\n",
       " '#',\n",
       " '三国演义',\n",
       " '作者',\n",
       " '：',\n",
       " '罗贯中',\n",
       " '#',\n",
       " '#',\n",
       " '#',\n",
       " '第一',\n",
       " '回',\n",
       " '宴桃园',\n",
       " '豪杰',\n",
       " '三结义',\n",
       " '斩',\n",
       " '黄巾',\n",
       " '英雄',\n",
       " '首',\n",
       " '立功',\n",
       " '>',\n",
       " '滚滚',\n",
       " '长江',\n",
       " '东',\n",
       " '逝水',\n",
       " '，',\n",
       " '浪花',\n",
       " '淘尽',\n",
       " '英雄',\n",
       " '。',\n",
       " '>',\n",
       " '是非',\n",
       " '成败',\n",
       " '转头空',\n",
       " '。',\n",
       " '>',\n",
       " '青山',\n",
       " '依旧',\n",
       " '在',\n",
       " '，',\n",
       " '几度',\n",
       " '夕阳红',\n",
       " '。',\n",
       " '>',\n",
       " '白发',\n",
       " '渔樵',\n",
       " '江渚',\n",
       " '上',\n",
       " '，',\n",
       " '惯',\n",
       " '看',\n",
       " '秋月春风',\n",
       " '。',\n",
       " '>',\n",
       " '一',\n",
       " '壶',\n",
       " '浊',\n",
       " '酒喜',\n",
       " '相逢',\n",
       " '。',\n",
       " '>',\n",
       " '古今',\n",
       " '多少',\n",
       " '事',\n",
       " '，',\n",
       " '都',\n",
       " '付',\n",
       " '笑谈',\n",
       " '中',\n",
       " '。',\n",
       " '>',\n",
       " '——',\n",
       " '调寄',\n",
       " '《',\n",
       " '临江仙',\n",
       " '》',\n",
       " '话说',\n",
       " '天下',\n",
       " '大势',\n",
       " '，',\n",
       " '分久必合',\n",
       " '，',\n",
       " '合久必分',\n",
       " '。',\n",
       " '周末',\n",
       " '七',\n",
       " '国',\n",
       " '分争',\n",
       " '，',\n",
       " '并入',\n",
       " '于',\n",
       " '秦',\n",
       " '。',\n",
       " '及',\n",
       " '秦灭',\n",
       " '之后',\n",
       " '，',\n",
       " '楚',\n",
       " '、',\n",
       " '汉分',\n",
       " '争',\n",
       " '，',\n",
       " '又',\n",
       " '并入',\n",
       " '于汉',\n",
       " '。',\n",
       " '汉朝',\n",
       " '自',\n",
       " '高',\n",
       " '祖斩',\n",
       " '白蛇而起义',\n",
       " '，',\n",
       " '一统天下',\n",
       " '，',\n",
       " '后来',\n",
       " '光武',\n",
       " '中兴',\n",
       " '，',\n",
       " '传至',\n",
       " '献帝',\n",
       " '，',\n",
       " '遂',\n",
       " '分为',\n",
       " '三国',\n",
       " '。',\n",
       " '推',\n",
       " '其',\n",
       " '致乱',\n",
       " '之',\n",
       " '由',\n",
       " '，',\n",
       " '殆始于桓',\n",
       " '、',\n",
       " '灵二帝',\n",
       " '。',\n",
       " '桓帝',\n",
       " '禁锢',\n",
       " '善类',\n",
       " '，',\n",
       " '崇信',\n",
       " '宦官',\n",
       " '。',\n",
       " '及',\n",
       " '桓帝崩',\n",
       " '，',\n",
       " '灵帝',\n",
       " '即位',\n",
       " '，',\n",
       " '大将军',\n",
       " '窦武',\n",
       " '、',\n",
       " '太傅',\n",
       " '陈',\n",
       " '蕃共',\n",
       " '相',\n",
       " '辅佐',\n",
       " '。',\n",
       " '时有',\n",
       " '宦官',\n",
       " '曹节',\n",
       " '等',\n",
       " '弄权',\n",
       " '，',\n",
       " '窦武',\n",
       " '、',\n",
       " '陈',\n",
       " '蕃谋',\n",
       " '诛之',\n",
       " '，',\n",
       " '机事不密',\n",
       " '，',\n",
       " '反为所害',\n",
       " '，',\n",
       " '中',\n",
       " '涓',\n",
       " '自此',\n",
       " '愈',\n",
       " '横',\n",
       " '。',\n",
       " '建宁',\n",
       " '二',\n",
       " '年',\n",
       " '四月',\n",
       " '望日',\n",
       " '，',\n",
       " '帝御',\n",
       " '温德殿',\n",
       " '。',\n",
       " '方',\n",
       " '升座',\n",
       " '，',\n",
       " '殿角',\n",
       " '狂风',\n",
       " '骤起',\n",
       " '。',\n",
       " '只见',\n",
       " '一',\n",
       " '条',\n",
       " '大青蛇',\n",
       " '，',\n",
       " '从',\n",
       " '梁',\n",
       " '上',\n",
       " '飞',\n",
       " '将',\n",
       " '下来',\n",
       " '，',\n",
       " '蟠于',\n",
       " '椅上',\n",
       " '。',\n",
       " '帝',\n",
       " '惊倒',\n",
       " '，',\n",
       " '左右',\n",
       " '急救',\n",
       " '入宫',\n",
       " '，',\n",
       " '百官俱奔避',\n",
       " '。',\n",
       " '须臾',\n",
       " '，',\n",
       " '蛇',\n",
       " '不见',\n",
       " '了',\n",
       " '。',\n",
       " '忽然',\n",
       " '大雷大雨',\n",
       " '，',\n",
       " '加以',\n",
       " '冰雹',\n",
       " '，',\n",
       " '落到',\n",
       " '半夜',\n",
       " '方止',\n",
       " '，',\n",
       " '坏',\n",
       " '却',\n",
       " '房屋',\n",
       " '无数',\n",
       " '。',\n",
       " '建宁',\n",
       " '四',\n",
       " '年',\n",
       " '二月',\n",
       " '，',\n",
       " '洛阳',\n",
       " '地震',\n",
       " '；',\n",
       " '又',\n",
       " '海水',\n",
       " '泛溢',\n",
       " '，',\n",
       " '沿海',\n",
       " '居民',\n",
       " '，',\n",
       " '尽',\n",
       " '被',\n",
       " '大浪',\n",
       " '卷入',\n",
       " '海',\n",
       " '中',\n",
       " '。',\n",
       " '光',\n",
       " '和',\n",
       " '元年',\n",
       " '，',\n",
       " '雌鸡化雄',\n",
       " '。',\n",
       " '六月',\n",
       " '朔',\n",
       " '，',\n",
       " '黑气',\n",
       " '十余',\n",
       " '丈',\n",
       " '，',\n",
       " '飞入',\n",
       " '温德殿',\n",
       " '中',\n",
       " '。',\n",
       " '秋',\n",
       " '七月',\n",
       " '，',\n",
       " '有',\n",
       " '虹现',\n",
       " '于',\n",
       " '玉堂',\n",
       " '；',\n",
       " '五原',\n",
       " '山岸',\n",
       " '，',\n",
       " '尽',\n",
       " '皆',\n",
       " '崩裂',\n",
       " '。',\n",
       " '种种',\n",
       " '不祥',\n",
       " '，',\n",
       " '非止',\n",
       " '一端',\n",
       " '。',\n",
       " '帝下',\n",
       " '诏问',\n",
       " '群臣',\n",
       " '以',\n",
       " '灾异',\n",
       " '之',\n",
       " '由',\n",
       " '，',\n",
       " '议郎',\n",
       " '蔡邕',\n",
       " '上疏',\n",
       " '，',\n",
       " '以为',\n",
       " '蜺堕',\n",
       " '鸡化',\n",
       " '，',\n",
       " '乃妇寺',\n",
       " '干政',\n",
       " '之',\n",
       " '所',\n",
       " '致',\n",
       " '，',\n",
       " '言',\n",
       " '颇',\n",
       " '切直',\n",
       " '。',\n",
       " '帝览奏',\n",
       " '叹息',\n",
       " '，',\n",
       " '因',\n",
       " '起',\n",
       " '更衣',\n",
       " '。',\n",
       " '曹',\n",
       " '节在',\n",
       " '后',\n",
       " '窃视',\n",
       " '，',\n",
       " '悉',\n",
       " '宣告',\n",
       " '左右',\n",
       " '；',\n",
       " '遂',\n",
       " '以',\n",
       " '他',\n",
       " '事陷',\n",
       " '邕于',\n",
       " '罪',\n",
       " '，',\n",
       " '放',\n",
       " '归田',\n",
       " '里',\n",
       " '。',\n",
       " '后',\n",
       " '张',\n",
       " '让',\n",
       " '、',\n",
       " '赵忠',\n",
       " '、',\n",
       " '封谞',\n",
       " '、',\n",
       " '段珪',\n",
       " '、',\n",
       " '曹节',\n",
       " '、',\n",
       " '侯览',\n",
       " '、',\n",
       " '蹇硕',\n",
       " '、',\n",
       " '程旷',\n",
       " '、',\n",
       " '夏恽',\n",
       " '、',\n",
       " '郭',\n",
       " '胜',\n",
       " '十',\n",
       " '人',\n",
       " '朋比为奸',\n",
       " '，',\n",
       " '号',\n",
       " '为',\n",
       " '“',\n",
       " '十常',\n",
       " '侍',\n",
       " '”',\n",
       " '。',\n",
       " '帝尊信',\n",
       " '张',\n",
       " '让',\n",
       " '，',\n",
       " '呼为',\n",
       " '“',\n",
       " '阿父',\n",
       " '”',\n",
       " '。',\n",
       " '朝政日非',\n",
       " '，',\n",
       " '以致',\n",
       " '天下人心思乱',\n",
       " '，',\n",
       " '盗贼',\n",
       " '蜂起',\n",
       " '。',\n",
       " '时',\n",
       " '巨鹿',\n",
       " '郡',\n",
       " '有',\n",
       " '兄弟',\n",
       " '三',\n",
       " '人',\n",
       " '，',\n",
       " '一',\n",
       " '名',\n",
       " '张角',\n",
       " '，',\n",
       " '一',\n",
       " '名',\n",
       " '张宝',\n",
       " '，',\n",
       " '一',\n",
       " '名',\n",
       " '张梁',\n",
       " '。',\n",
       " '那',\n",
       " '张角本',\n",
       " '是',\n",
       " '个',\n",
       " '不第秀才',\n",
       " '，',\n",
       " '因',\n",
       " '入山',\n",
       " '采药',\n",
       " '，',\n",
       " '遇',\n",
       " '一',\n",
       " '老人',\n",
       " '，',\n",
       " '碧眼',\n",
       " '童颜',\n",
       " '，',\n",
       " '手',\n",
       " '执',\n",
       " '藜杖',\n",
       " '，',\n",
       " '唤角',\n",
       " '至',\n",
       " '一',\n",
       " '洞',\n",
       " '中',\n",
       " '，',\n",
       " '以',\n",
       " '天书',\n",
       " '三',\n",
       " '卷',\n",
       " '授',\n",
       " '之',\n",
       " '，',\n",
       " '曰',\n",
       " '：',\n",
       " '“',\n",
       " '此',\n",
       " '名',\n",
       " '《',\n",
       " '太平',\n",
       " '要',\n",
       " '术',\n",
       " '》',\n",
       " '，',\n",
       " '汝',\n",
       " '得',\n",
       " '之',\n",
       " '，',\n",
       " '当代',\n",
       " '天宣化',\n",
       " '，',\n",
       " '普救',\n",
       " '世人',\n",
       " '；',\n",
       " '若',\n",
       " '萌',\n",
       " '异心',\n",
       " '，',\n",
       " '必',\n",
       " '获',\n",
       " '恶报',\n",
       " '。',\n",
       " '”',\n",
       " '角拜',\n",
       " '问',\n",
       " '姓名',\n",
       " '。',\n",
       " '老人',\n",
       " '曰',\n",
       " '：',\n",
       " '“',\n",
       " '吾',\n",
       " '乃',\n",
       " '南华老仙',\n",
       " '也',\n",
       " '。',\n",
       " '”',\n",
       " '言讫',\n",
       " '，',\n",
       " '化阵',\n",
       " '清风',\n",
       " '而',\n",
       " '去',\n",
       " '。',\n",
       " '角',\n",
       " '得',\n",
       " '此书',\n",
       " '，',\n",
       " '晓夜',\n",
       " '攻习',\n",
       " '，',\n",
       " '能',\n",
       " '呼风唤雨',\n",
       " '，',\n",
       " '号',\n",
       " '为',\n",
       " '“',\n",
       " '太平道人',\n",
       " '”',\n",
       " '。',\n",
       " '中',\n",
       " '平元年',\n",
       " '正月',\n",
       " '内',\n",
       " '，',\n",
       " '疫气',\n",
       " '流行',\n",
       " '，',\n",
       " '张角',\n",
       " '散施',\n",
       " '符水',\n",
       " '，',\n",
       " '为人',\n",
       " '治病',\n",
       " '，',\n",
       " '自称',\n",
       " '“',\n",
       " '大贤良师',\n",
       " '”',\n",
       " '。',\n",
       " '角有',\n",
       " '徒弟',\n",
       " '五百余',\n",
       " '人',\n",
       " '，',\n",
       " '云游',\n",
       " '四方',\n",
       " '，',\n",
       " '皆',\n",
       " '能',\n",
       " '书符',\n",
       " '念咒',\n",
       " '。',\n",
       " '次',\n",
       " '后',\n",
       " '徒众',\n",
       " '日',\n",
       " '多',\n",
       " '，',\n",
       " '角',\n",
       " '乃立',\n",
       " '三十六方',\n",
       " '，',\n",
       " '大方',\n",
       " '万余',\n",
       " '人',\n",
       " '，',\n",
       " '小方',\n",
       " '六七千',\n",
       " '，',\n",
       " '各立',\n",
       " '渠帅',\n",
       " '，',\n",
       " '称为',\n",
       " '将军',\n",
       " '；',\n",
       " '讹言',\n",
       " '：',\n",
       " '“',\n",
       " '苍天',\n",
       " '已',\n",
       " '死',\n",
       " '，',\n",
       " '黄天',\n",
       " '当立',\n",
       " '；',\n",
       " '岁',\n",
       " '在',\n",
       " '甲子',\n",
       " '，',\n",
       " '天下大吉',\n",
       " '。',\n",
       " '”',\n",
       " '令',\n",
       " '人',\n",
       " '各',\n",
       " '以',\n",
       " '白土书',\n",
       " '“',\n",
       " '甲子',\n",
       " '”',\n",
       " '二字于',\n",
       " '家中',\n",
       " '大门',\n",
       " '上',\n",
       " '。',\n",
       " '青',\n",
       " '、',\n",
       " '幽',\n",
       " '、',\n",
       " '徐',\n",
       " '、',\n",
       " '冀',\n",
       " '、',\n",
       " '荆',\n",
       " '、',\n",
       " '扬',\n",
       " '、',\n",
       " '兖',\n",
       " '、',\n",
       " '豫',\n",
       " '八州',\n",
       " '之',\n",
       " '人',\n",
       " '，',\n",
       " '家家',\n",
       " '侍奉',\n",
       " '大贤',\n",
       " '良师',\n",
       " '张角',\n",
       " '名字',\n",
       " '。',\n",
       " '角遣',\n",
       " '其',\n",
       " '党马元义',\n",
       " '，',\n",
       " '暗',\n",
       " '赍',\n",
       " '金帛',\n",
       " '，',\n",
       " '结交',\n",
       " '中涓',\n",
       " '封谞',\n",
       " '，',\n",
       " '以为',\n",
       " '内应',\n",
       " '。',\n",
       " '角',\n",
       " '与',\n",
       " '二弟',\n",
       " '商议',\n",
       " '曰',\n",
       " '：',\n",
       " '“',\n",
       " '至',\n",
       " '难得者',\n",
       " '，',\n",
       " '民心',\n",
       " '也',\n",
       " '。',\n",
       " '今',\n",
       " '民心',\n",
       " '已',\n",
       " '顺',\n",
       " '，',\n",
       " '若',\n",
       " '不',\n",
       " '乘',\n",
       " '势取',\n",
       " '天下',\n",
       " '，',\n",
       " '诚为',\n",
       " '可惜',\n",
       " '。',\n",
       " '”',\n",
       " '遂',\n",
       " '一面',\n",
       " '私造',\n",
       " '黄旗',\n",
       " '，',\n",
       " '约期',\n",
       " '举事',\n",
       " '；',\n",
       " '一面',\n",
       " '使',\n",
       " '弟子',\n",
       " '唐周',\n",
       " '，',\n",
       " '驰书报',\n",
       " '封谞',\n",
       " '。',\n",
       " '唐周',\n",
       " '乃径',\n",
       " '赴',\n",
       " '省',\n",
       " '中',\n",
       " '告变',\n",
       " '。',\n",
       " '帝召大',\n",
       " '将军',\n",
       " '何',\n",
       " '进',\n",
       " '调兵擒马',\n",
       " '元义',\n",
       " '，',\n",
       " '斩',\n",
       " '之',\n",
       " '；',\n",
       " '次',\n",
       " '收',\n",
       " '封谞',\n",
       " '等',\n",
       " '一',\n",
       " '干',\n",
       " '人',\n",
       " '下狱',\n",
       " '。',\n",
       " '张',\n",
       " '角闻',\n",
       " '知',\n",
       " '事露',\n",
       " '，',\n",
       " '星夜',\n",
       " '举兵',\n",
       " '，',\n",
       " '自称',\n",
       " '“',\n",
       " '天公',\n",
       " '将军',\n",
       " '”',\n",
       " '，',\n",
       " '张',\n",
       " '宝称',\n",
       " '“',\n",
       " '地公',\n",
       " '将军',\n",
       " '”',\n",
       " '，',\n",
       " '张梁',\n",
       " '称',\n",
       " '“',\n",
       " '人公',\n",
       " '将军',\n",
       " '”',\n",
       " '。',\n",
       " '申言于众',\n",
       " '曰',\n",
       " '：',\n",
       " '“',\n",
       " '今',\n",
       " '汉运',\n",
       " '将',\n",
       " '终',\n",
       " '，',\n",
       " '大',\n",
       " '圣人',\n",
       " '出',\n",
       " '。',\n",
       " '汝',\n",
       " '等',\n",
       " '皆',\n",
       " '宜',\n",
       " '顺天',\n",
       " '从',\n",
       " '正',\n",
       " '，',\n",
       " '以',\n",
       " '乐',\n",
       " '太平',\n",
       " '。',\n",
       " '”',\n",
       " '四方',\n",
       " '百姓',\n",
       " '，',\n",
       " '裹黄巾',\n",
       " '从',\n",
       " '张角',\n",
       " '反者',\n",
       " '四五十万',\n",
       " '。',\n",
       " '贼势',\n",
       " '浩大',\n",
       " '，',\n",
       " '官军',\n",
       " '望风而靡',\n",
       " '。',\n",
       " '何',\n",
       " '进',\n",
       " '奏帝',\n",
       " '火速',\n",
       " '降诏',\n",
       " '，',\n",
       " '令',\n",
       " '各处',\n",
       " '备御',\n",
       " '，',\n",
       " '讨贼',\n",
       " '立功',\n",
       " '。',\n",
       " '一面',\n",
       " '遣中',\n",
       " '郎将',\n",
       " '卢植',\n",
       " '、',\n",
       " '皇甫嵩',\n",
       " '、',\n",
       " '朱儁',\n",
       " '，',\n",
       " '各',\n",
       " '引',\n",
       " '精兵',\n",
       " '、',\n",
       " '分',\n",
       " '三',\n",
       " '路',\n",
       " '讨',\n",
       " '之',\n",
       " '。',\n",
       " '且',\n",
       " '说',\n",
       " '张角',\n",
       " '一军',\n",
       " '，',\n",
       " '前犯',\n",
       " '幽州',\n",
       " '界分',\n",
       " '。',\n",
       " '幽州',\n",
       " '太守',\n",
       " '刘焉',\n",
       " '，',\n",
       " '乃江',\n",
       " '夏',\n",
       " '竟陵',\n",
       " '人氏',\n",
       " '，',\n",
       " '汉鲁恭王',\n",
       " '之后',\n",
       " '也',\n",
       " '。',\n",
       " '当时',\n",
       " '闻',\n",
       " '得',\n",
       " '贼',\n",
       " '兵',\n",
       " '将',\n",
       " '至',\n",
       " '，',\n",
       " '召校',\n",
       " '尉',\n",
       " '邹靖',\n",
       " '计议',\n",
       " '。',\n",
       " '靖曰',\n",
       " '：',\n",
       " '“',\n",
       " '贼',\n",
       " '兵',\n",
       " '众',\n",
       " '，',\n",
       " '我',\n",
       " '兵寡',\n",
       " '，',\n",
       " '明',\n",
       " '公宜',\n",
       " '作速',\n",
       " '招军',\n",
       " '应敌',\n",
       " '。',\n",
       " '”',\n",
       " '刘',\n",
       " '焉然',\n",
       " '其',\n",
       " '说',\n",
       " '，',\n",
       " '随即',\n",
       " '出榜',\n",
       " '招募',\n",
       " '义兵',\n",
       " '。',\n",
       " '榜文行',\n",
       " '到',\n",
       " '涿县',\n",
       " '，',\n",
       " '引出',\n",
       " '涿县',\n",
       " '中',\n",
       " '一个',\n",
       " '英雄',\n",
       " '。',\n",
       " '那',\n",
       " '人',\n",
       " '不',\n",
       " '甚',\n",
       " '好',\n",
       " '读书',\n",
       " '；',\n",
       " '性宽',\n",
       " '和',\n",
       " '，',\n",
       " '寡言语',\n",
       " '，',\n",
       " '喜怒不形于色',\n",
       " '；',\n",
       " '素有',\n",
       " '大志',\n",
       " '，',\n",
       " '专',\n",
       " '好',\n",
       " '结交',\n",
       " '天下',\n",
       " '豪杰',\n",
       " '；',\n",
       " '生',\n",
       " '得',\n",
       " '身长',\n",
       " '七',\n",
       " '尺',\n",
       " '五',\n",
       " '寸',\n",
       " '，',\n",
       " '两',\n",
       " '耳',\n",
       " '垂肩',\n",
       " '，',\n",
       " '双手',\n",
       " '过',\n",
       " '膝',\n",
       " '，',\n",
       " '目能',\n",
       " '自顾其耳',\n",
       " '，',\n",
       " '面如冠玉',\n",
       " '，',\n",
       " '唇若涂脂',\n",
       " '；',\n",
       " '中山',\n",
       " '靖王',\n",
       " '刘胜',\n",
       " '之后',\n",
       " '，',\n",
       " '汉景帝',\n",
       " '阁下',\n",
       " '玄孙',\n",
       " '，',\n",
       " '姓',\n",
       " '刘',\n",
       " '名备',\n",
       " '，',\n",
       " '字玄德',\n",
       " '。',\n",
       " '昔',\n",
       " '刘',\n",
       " '胜',\n",
       " '之',\n",
       " '子',\n",
       " '刘贞',\n",
       " '，',\n",
       " '汉武',\n",
       " '时',\n",
       " '封涿',\n",
       " '鹿亭侯',\n",
       " '，',\n",
       " '后',\n",
       " '坐',\n",
       " '酎金',\n",
       " '失侯',\n",
       " '，',\n",
       " '因此',\n",
       " '遗',\n",
       " '这',\n",
       " '一',\n",
       " '枝',\n",
       " '在',\n",
       " '涿县',\n",
       " '。',\n",
       " '玄',\n",
       " '德祖',\n",
       " '刘雄',\n",
       " '，',\n",
       " '父',\n",
       " '刘',\n",
       " '弘',\n",
       " '。',\n",
       " '弘',\n",
       " '曾',\n",
       " '举',\n",
       " '孝廉',\n",
       " '，',\n",
       " '亦',\n",
       " '尝',\n",
       " '作吏',\n",
       " '，',\n",
       " '早丧',\n",
       " '。',\n",
       " '玄德幼孤',\n",
       " ...]"
      ]
     },
     "execution_count": 56,
     "metadata": {},
     "output_type": "execute_result"
    }
   ],
   "source": [
    "import nltk\n",
    "import pkuseg\n",
    "f = open(r'D:\\NLP\\《三国演义》.txt',encoding='utf-8')\n",
    "text=f.read()\n",
    "seg = pkuseg.pkuseg()\n",
    "text1 = seg.cut(text)\n"
   ]
  },
  {
   "cell_type": "markdown",
   "metadata": {},
   "source": [
    "**中文停用词**"
   ]
  },
  {
   "cell_type": "code",
   "execution_count": 21,
   "metadata": {},
   "outputs": [
    {
     "name": "stdout",
     "output_type": "stream",
     "text": [
      "这是 为什么 呢 ？ 笔者 认为 ， 背后 一个 共同 因素 就是 过去 40 年间 ， 替代 人工 脑力劳动 的 电脑 和 互联网 经济 ， 尤其 数字 技术 、 多维 数字 终端 以及 互联网 共享 技术 ， 让 美国 经济 、 事实上 也 让 世界 诸多 国家 的 经济 结构 发生 改变 。 一个 普遍 趋势 是 ， 过去 大 车间 流水线 和 模块化 的 制造 经济 ， 向 数字 技术支持 下 的 智能 智慧 经济 新 业态 、 新 模式 过渡 ， 区别 只是 有 的 国家 成分 多些 有些 少 些 而已 。 在 新 技术 条件 下 ， 第一 、 二 、 三 产业 对应 的 劳动就业 弹性 远远 高于 过去 。 \n"
     ]
    }
   ],
   "source": [
    "import jieba\n",
    "stop_words = {}.fromkeys(['一个','不同','可以','例如','不是','没有'])\n",
    "text = \"\"\"这是为什么呢？笔者认为，背后一个共同因素就是过去40年间，替代人工脑力劳动的电脑和互联网经济，尤其数字技术、多维数字终端以及互联网共享技术，让美国经济、事实上也让世界诸多国家的经济结构发生改变。一个普遍趋势是，过去大车间流水线和模块化的制造经济，向数字技术支持下的智能智慧经济新业态、新模式过渡，区别只是有的国家成分多些有些少些而已。在新技术条件下，第一、二、三产业对应的劳动就业弹性远远高于过去。\"\"\"\n",
    "seg_text = jieba.cut(text, cut_all=False)\n",
    "final = \"\"\n",
    "for i in seg_text:\n",
    "    if i.encode('utf-8') not in stop_words: ###\n",
    "            final += i + \" \" #遍历每一个不是停用词的词组之后将其添加入变量final中；+=用于递增计数\n",
    "print(final)"
   ]
  },
  {
   "cell_type": "code",
   "execution_count": null,
   "metadata": {},
   "outputs": [],
   "source": [
    "#写入文件内停用词"
   ]
  },
  {
   "cell_type": "code",
   "execution_count": 19,
   "metadata": {},
   "outputs": [
    {
     "name": "stdout",
     "output_type": "stream",
     "text": [
      "这是 为什么 呢 ？ 笔者 认为 ， 背后 一个 共同 因素 就是 过去 40 年间 ， 替代 人工 脑力劳动 的 电脑 和 互联网 经济 ， 尤其 数字 技术 、 多维 数字 终端 以及 互联网 共享 技术 ， 让 美国 经济 、 事实上 也 让 世界 诸多 国家 的 经济 结构 发生 改变 。 一个 普遍 趋势 是 ， 过去 大 车间 流水线 和 模块化 的 制造 经济 ， 向 数字 技术支持 下 的 智能 智慧 经济 新 业态 、 新 模式 过渡 ， 区别 只是 有 的 国家 成分 多些 有些 少 些 而已 。 在 新 技术 条件 下 ， 第一 、 二 、 三 产业 对应 的 劳动就业 弹性 远远 高于 过去 。 \n"
     ]
    }
   ],
   "source": [
    "import jieba\n",
    "stop_words = {}.fromkeys([line.strip()for line in open(r\"D:/NLP/stopword.txt\",encoding='utf-8')])\n",
    "text = \"\"\"这是为什么呢？笔者认为，背后一个共同因素就是过去40年间，替代人工脑力劳动的电脑和互联网经济，尤其数字技术、多维数字终端以及互联网共享技术，让美国经济、事实上也让世界诸多国家的经济结构发生改变。一个普遍趋势是，过去大车间流水线和模块化的制造经济，向数字技术支持下的智能智慧经济新业态、新模式过渡，区别只是有的国家成分多些有些少些而已。在新技术条件下，第一、二、三产业对应的劳动就业弹性远远高于过去。\"\"\"\n",
    "seg_text = jieba.cut(text, cut_all=False)\n",
    "result = \"\"\n",
    "for i in seg_text:\n",
    "    if i.encode('utf-8') not in stop_words:\n",
    "        result += i + \" \"\n",
    "print (result)"
   ]
  },
  {
   "cell_type": "code",
   "execution_count": null,
   "metadata": {},
   "outputs": [],
   "source": []
  }
 ],
 "metadata": {
  "kernelspec": {
   "display_name": "Python 3",
   "language": "python",
   "name": "python3"
  },
  "language_info": {
   "codemirror_mode": {
    "name": "ipython",
    "version": 3
   },
   "file_extension": ".py",
   "mimetype": "text/x-python",
   "name": "python",
   "nbconvert_exporter": "python",
   "pygments_lexer": "ipython3",
   "version": "3.7.3"
  }
 },
 "nbformat": 4,
 "nbformat_minor": 2
}
