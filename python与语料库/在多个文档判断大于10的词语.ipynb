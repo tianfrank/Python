{
 "cells": [
  {
   "cell_type": "code",
   "execution_count": 1,
   "metadata": {},
   "outputs": [
    {
     "data": {
      "text/plain": [
       "['打', '吃']"
      ]
     },
     "execution_count": 1,
     "metadata": {},
     "output_type": "execute_result"
    }
   ],
   "source": [
    "pos_dict = {'v':['打','吃'], 'n': ['名字']}\n",
    "pos_dict.get('v')   #get的返回值可以为0"
   ]
  },
  {
   "cell_type": "code",
   "execution_count": null,
   "metadata": {},
   "outputs": [],
   "source": [
    "#提取4个文档中频率超过10次的词语"
   ]
  },
  {
   "cell_type": "code",
   "execution_count": null,
   "metadata": {},
   "outputs": [],
   "source": [
    "#返回值为列表的写法\n",
    "word_dist1={'v':10}\n",
    "word_dict2={}\n",
    "word_dict3={}\n",
    "word_dict4={}\n",
    "#\n",
    "morethan10=[]\n",
    "\n",
    "for word,freq in wordlsit1.items():\n",
    "# if freq>10 and word_dict2.get(word,0)>10 and word_dict3.get(word,0)>10 and word_dict4.get(word,0)>10\n",
    "    if freq>10:\n",
    "        if word_dict2.get(word,0)>10:  #key是键，0为默认返回值\n",
    "            if word_dict3.get(word,0)>10:\n",
    "                if word_dict4.get(word,0)>10:\n",
    "                    morethan10.append(word)\n",
    "with open('morethan10.txt','w',encoding='utf-8') as f:\n",
    "    for word in morethan10:\n",
    "        f.write(word+'\\n')  "
   ]
  },
  {
   "cell_type": "code",
   "execution_count": null,
   "metadata": {},
   "outputs": [],
   "source": [
    "#返回值为字典的写法\n",
    "word_dist1={'v':10}\n",
    "word_dict2={}\n",
    "word_dict3={}\n",
    "word_dict4={}\n",
    "#\n",
    "morethan10={}    #{'词'：[10,20,30,40]，‘语’：[11,12,13,12]}\n",
    "for word,freq in wordlsit1.items():\n",
    "# if freq>10 and word_dict2.get(word,0)>10 and word_dict3.get(word,0)>10 and word_dict4.get(word,0)>10\n",
    "    if freq>10:\n",
    "        if word_dict2.get(word,0)>10:  #key是键，0为默认返回值\n",
    "            if word_dict3.get(word,0)>10:\n",
    "                if word_dict4.get(word,0)>10:\n",
    "                    morethan10[word]=[freq,word_dict2[word],word_dict3[word],word_dict4[word]]\n",
    "with open('morethan10.txt','w',encoding='utf-8') as f:\n",
    "    for word,freq in morethan10.items():\n",
    "        #f.write(word+','+str(freq)+'\\n') \n",
    "        f.write(word+':'+','.join(freq)+'\\n')  # '词':10,20,30,40 "
   ]
  }
 ],
 "metadata": {
  "kernelspec": {
   "display_name": "Python 3",
   "language": "python",
   "name": "python3"
  },
  "language_info": {
   "codemirror_mode": {
    "name": "ipython",
    "version": 3
   },
   "file_extension": ".py",
   "mimetype": "text/x-python",
   "name": "python",
   "nbconvert_exporter": "python",
   "pygments_lexer": "ipython3",
   "version": "3.7.3"
  },
  "toc": {
   "base_numbering": 1,
   "nav_menu": {},
   "number_sections": true,
   "sideBar": true,
   "skip_h1_title": false,
   "title_cell": "Table of Contents",
   "title_sidebar": "Contents",
   "toc_cell": false,
   "toc_position": {},
   "toc_section_display": true,
   "toc_window_display": false
  }
 },
 "nbformat": 4,
 "nbformat_minor": 2
}
