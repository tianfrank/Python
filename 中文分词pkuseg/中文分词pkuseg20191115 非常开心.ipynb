{
 "cells": [
  {
   "cell_type": "markdown",
   "metadata": {},
   "source": [
    "# 中文分词"
   ]
  },
  {
   "cell_type": "markdown",
   "metadata": {},
   "source": [
    "两个分词工具：\n",
    "\n",
    "jieba默认模式是基于词典的匹配方案，同时也支持基于隐马尔可夫的模型。\n",
    "pkuseg使用基于CRF的分词方案。\n",
    "\n",
    "首先需要使用pip安装两个工具包。"
   ]
  },
  {
   "cell_type": "code",
   "execution_count": null,
   "metadata": {},
   "outputs": [],
   "source": [
    "# jupyter中有很多魔法命令，可以在notebook内直接执行终端命令\n",
    "% pip install jieba "
   ]
  },
  {
   "cell_type": "code",
   "execution_count": 1,
   "metadata": {},
   "outputs": [],
   "source": [
    "import jieba\n",
    "import pkuseg"
   ]
  },
  {
   "cell_type": "markdown",
   "metadata": {},
   "source": [
    "## 普通分词模式"
   ]
  },
  {
   "cell_type": "code",
   "execution_count": 2,
   "metadata": {},
   "outputs": [],
   "source": [
    "# pkuseg 需要初始化实例才可以使用\n",
    "seg = pkuseg.pkuseg() # 以默认配置加载模型"
   ]
  },
  {
   "cell_type": "code",
   "execution_count": 3,
   "metadata": {},
   "outputs": [
    {
     "name": "stderr",
     "output_type": "stream",
     "text": [
      "Building prefix dict from the default dictionary ...\n",
      "Loading model from cache C:\\Users\\Geoffrey\\AppData\\Local\\Temp\\jieba.cache\n",
      "Loading model cost 0.748 seconds.\n",
      "Prefix dict has been built succesfully.\n"
     ]
    },
    {
     "name": "stdout",
     "output_type": "stream",
     "text": [
      "['我', '来到', '北京', '北京大学', '。']\n",
      "['我', '来到', '北京', '北京大学', '。']\n"
     ]
    }
   ],
   "source": [
    "example = \"我来到北京北京大学。\"\n",
    "print(jieba.lcut(example))\n",
    "print(seg.cut(example))"
   ]
  },
  {
   "cell_type": "code",
   "execution_count": 4,
   "metadata": {},
   "outputs": [],
   "source": [
    "def compare(example, j=None, s=None):\n",
    "    if j is None:  #？？\n",
    "        j = jieba\n",
    "    if s is None:  #？?\n",
    "        s = seg\n",
    "    print(\"input :\", example)\n",
    "    print(\"jieba :\", j.lcut(example))\n",
    "    print(\"pkuseg:\", s.cut(example))\n",
    "    print()"
   ]
  },
  {
   "cell_type": "code",
   "execution_count": 5,
   "metadata": {},
   "outputs": [
    {
     "name": "stdout",
     "output_type": "stream",
     "text": [
      "input : 我来到北京北京大学。\n",
      "jieba : ['我', '来到', '北京', '北京大学', '。']\n",
      "pkuseg: ['我', '来到', '北京', '北京大学', '。']\n",
      "\n",
      "input : 我爱北京天安门。\n",
      "jieba : ['我', '爱', '北京', '天安门', '。']\n",
      "pkuseg: ['我', '爱', '北京', '天安门', '。']\n",
      "\n"
     ]
    }
   ],
   "source": [
    "compare(example)\n",
    "compare('我爱北京天安门。')"
   ]
  },
  {
   "cell_type": "code",
   "execution_count": 6,
   "metadata": {},
   "outputs": [],
   "source": [
    "hard_examples = [\n",
    "    \"沿海南方向逃跑\",\n",
    "    \"他说的确实在理\",\n",
    "    \"谢霆锋和张柏芝离婚了\",\n",
    "    \"结婚的和尚未结婚的\",\n",
    "    \"提高产品质量\",\n",
    "    \"中外科学名著\",\n",
    "    \"北京大学生前来应聘\",\n",
    "    \"为人民服务\",\n",
    "    \"独立自主和平等互利的原则\",\n",
    "    \"为人民办公益\",\n",
    "    \"这事的确定不下来\",\n",
    "    \"这扇门把手\",\n",
    "    \"把手抬起来\",\n",
    "    \"学生会宣传部\",\n",
    "    \"学生会主动完成作业\",\n",
    "    \"学生会游戏\",\n",
    "    \"研究生活水平\",\n",
    "    \"中国有企业\",\n",
    "    \"我爱美国手球\",\n",
    "    \"中国喜欢狗\",\n",
    "    \"中国热爱狗\",\n",
    "    \"王军虎去广州了\",\n",
    "    \"王军虎头虎脑的\",\n",
    "    \"将军任命了一名中将\",\n",
    "    \"产量三年中将增长两倍\",\n",
    "    \"丰田太省了\",\n",
    "    \"我们中出了一个叛徒\",\n",
    "]"
   ]
  },
  {
   "cell_type": "code",
   "execution_count": 7,
   "metadata": {},
   "outputs": [],
   "source": [
    "long_examples=[\n",
    "    \"李小福是创新办主任也是云计算方面的专家; 什么是八一双鹿\",\n",
    "    \"例如我输入一个带“韩玉赏鉴”的标题，在自定义词库中也增加了此词为N类\",\n",
    "    \"我喜欢自然语言处理和句法学\"\n",
    "]"
   ]
  },
  {
   "cell_type": "code",
   "execution_count": 8,
   "metadata": {},
   "outputs": [],
   "source": [
    "def compare_many(examples, j=None, s=None):\n",
    "    for example in examples:\n",
    "        compare(example, j=j, s=s)  ###？？？？"
   ]
  },
  {
   "cell_type": "code",
   "execution_count": 9,
   "metadata": {},
   "outputs": [
    {
     "name": "stdout",
     "output_type": "stream",
     "text": [
      "input : 沿海南方向逃跑\n",
      "jieba : ['沿海', '南方', '向', '逃跑']\n",
      "pkuseg: ['沿海', '南方', '向', '逃跑']\n",
      "\n",
      "input : 他说的确实在理\n",
      "jieba : ['他', '说', '的', '确实', '在理']\n",
      "pkuseg: ['他', '说', '的', '确实', '在理']\n",
      "\n",
      "input : 谢霆锋和张柏芝离婚了\n",
      "jieba : ['谢霆锋', '和', '张柏芝', '离婚', '了']\n",
      "pkuseg: ['谢霆锋', '和', '张柏芝', '离婚', '了']\n",
      "\n",
      "input : 结婚的和尚未结婚的\n",
      "jieba : ['结婚', '的', '和', '尚未', '结婚', '的']\n",
      "pkuseg: ['结婚', '的', '和尚', '未', '结婚', '的']\n",
      "\n",
      "input : 提高产品质量\n",
      "jieba : ['提高', '产品质量']\n",
      "pkuseg: ['提高', '产品', '质量']\n",
      "\n",
      "input : 中外科学名著\n",
      "jieba : ['中外', '科学', '名著']\n",
      "pkuseg: ['中外', '科学', '名著']\n",
      "\n",
      "input : 北京大学生前来应聘\n",
      "jieba : ['北京', '大学生', '前来', '应聘']\n",
      "pkuseg: ['北京', '大学生', '前来', '应聘']\n",
      "\n",
      "input : 为人民服务\n",
      "jieba : ['为', '人民', '服务']\n",
      "pkuseg: ['为', '人民', '服务']\n",
      "\n",
      "input : 独立自主和平等互利的原则\n",
      "jieba : ['独立自主', '和', '平等互利', '的', '原则']\n",
      "pkuseg: ['独立自主', '和', '平等互利', '的', '原则']\n",
      "\n",
      "input : 为人民办公益\n",
      "jieba : ['为', '人民', '办', '公益']\n",
      "pkuseg: ['为', '人民', '办', '公益']\n",
      "\n",
      "input : 这事的确定不下来\n",
      "jieba : ['这事', '的', '确定', '不', '下来']\n",
      "pkuseg: ['这', '事', '的', '确定', '不', '下来']\n",
      "\n",
      "input : 这扇门把手\n",
      "jieba : ['这扇', '门把手']\n",
      "pkuseg: ['这', '扇', '门', '把手']\n",
      "\n",
      "input : 把手抬起来\n",
      "jieba : ['把手', '抬起', '来']\n",
      "pkuseg: ['把手', '抬', '起来']\n",
      "\n",
      "input : 学生会宣传部\n",
      "jieba : ['学生会', '宣传部']\n",
      "pkuseg: ['学生会', '宣传部']\n",
      "\n",
      "input : 学生会主动完成作业\n",
      "jieba : ['学生会', '主动', '完成', '作业']\n",
      "pkuseg: ['学生会', '主动', '完成', '作业']\n",
      "\n",
      "input : 学生会游戏\n",
      "jieba : ['学生会', '游戏']\n",
      "pkuseg: ['学生会', '游戏']\n",
      "\n",
      "input : 研究生活水平\n",
      "jieba : ['研究', '生活', '水平']\n",
      "pkuseg: ['研究', '生活', '水平']\n",
      "\n",
      "input : 中国有企业\n",
      "jieba : ['中国', '有', '企业']\n",
      "pkuseg: ['中国', '有', '企业']\n",
      "\n",
      "input : 我爱美国手球\n",
      "jieba : ['我', '爱', '美国', '手球']\n",
      "pkuseg: ['我', '爱', '美国', '手球']\n",
      "\n",
      "input : 中国喜欢狗\n",
      "jieba : ['中国', '喜欢', '狗']\n",
      "pkuseg: ['中国', '喜欢', '狗']\n",
      "\n",
      "input : 中国热爱狗\n",
      "jieba : ['中国', '热爱', '狗']\n",
      "pkuseg: ['中国', '热爱', '狗']\n",
      "\n",
      "input : 王军虎去广州了\n",
      "jieba : ['王军', '虎', '去', '广州', '了']\n",
      "pkuseg: ['王军虎', '去', '广州', '了']\n",
      "\n",
      "input : 王军虎头虎脑的\n",
      "jieba : ['王军', '虎头虎脑', '的']\n",
      "pkuseg: ['王军', '虎头虎脑', '的']\n",
      "\n",
      "input : 将军任命了一名中将\n",
      "jieba : ['将军', '任命', '了', '一名', '中将']\n",
      "pkuseg: ['将军', '任命', '了', '一', '名', '中将']\n",
      "\n",
      "input : 产量三年中将增长两倍\n",
      "jieba : ['产量', '三年', '中将', '增长', '两倍']\n",
      "pkuseg: ['产量', '三年', '中将', '增长', '两', '倍']\n",
      "\n",
      "input : 丰田太省了\n",
      "jieba : ['丰田', '太省', '了']\n",
      "pkuseg: ['丰田', '太', '省', '了']\n",
      "\n",
      "input : 我们中出了一个叛徒\n",
      "jieba : ['我们', '中出', '了', '一个', '叛徒']\n",
      "pkuseg: ['我们', '中', '出', '了', '一个', '叛徒']\n",
      "\n"
     ]
    }
   ],
   "source": [
    "compare_many(hard_examples)"
   ]
  },
  {
   "cell_type": "code",
   "execution_count": 10,
   "metadata": {},
   "outputs": [
    {
     "name": "stdout",
     "output_type": "stream",
     "text": [
      "input : 李小福是创新办主任也是云计算方面的专家; 什么是八一双鹿\n",
      "jieba : ['李小福', '是', '创新', '办', '主任', '也', '是', '云', '计算', '方面', '的', '专家', ';', ' ', '什么', '是', '八', '一双', '鹿']\n",
      "pkuseg: ['李小福', '是', '创新办', '主任', '也', '是', '云计算', '方面', '的', '专家', ';', '什么', '是', '八一', '双', '鹿']\n",
      "\n",
      "input : 例如我输入一个带“韩玉赏鉴”的标题，在自定义词库中也增加了此词为N类\n",
      "jieba : ['例如', '我', '输入', '一个', '带', '“', '韩玉', '赏鉴', '”', '的', '标题', '，', '在', '自定义词', '库中', '也', '增加', '了', '此', '词为', 'N', '类']\n",
      "pkuseg: ['例如', '我', '输入', '一个', '带', '“', '韩玉', '赏鉴', '”', '的', '标题', '，', '在', '自定义', '词库', '中', '也', '增加', '了', '此', '词', '为', 'N类']\n",
      "\n",
      "input : 我喜欢自然语言处理和句法学\n",
      "jieba : ['我', '喜欢', '自然语言', '处理', '和', '句', '法学']\n",
      "pkuseg: ['我', '喜欢', '自然', '语言', '处理', '和', '句', '法学']\n",
      "\n"
     ]
    }
   ],
   "source": [
    "compare_many(long_examples)"
   ]
  },
  {
   "cell_type": "markdown",
   "metadata": {},
   "source": [
    "# 切词同时词性标注¶"
   ]
  },
  {
   "cell_type": "code",
   "execution_count": 11,
   "metadata": {},
   "outputs": [
    {
     "name": "stdout",
     "output_type": "stream",
     "text": [
      "jieba:\n",
      "我 r\n",
      "来到 v\n",
      "北京 ns\n",
      "北京大学 nt\n",
      "。 x\n",
      "\n",
      "pkuseg:\n"
     ]
    },
    {
     "name": "stderr",
     "output_type": "stream",
     "text": [
      "Downloading: \"https://github.com/lancopku/pkuseg-python/releases/download/v0.0.16/postag.zip\" to C:\\Users\\Geoffrey/.pkuseg\\postag.zip\n",
      "100%|███████████████████████████████████████████████████████████████████| 41424981/41424981 [17:58<00:00, 38401.68it/s]\n"
     ]
    },
    {
     "name": "stdout",
     "output_type": "stream",
     "text": [
      "我 r\n",
      "来到 v\n",
      "北京 ns\n",
      "北京大学 nt\n",
      "。 w\n"
     ]
    }
   ],
   "source": [
    "import jieba.posseg as pseg\n",
    "\n",
    "words = pseg.cut(example)\n",
    "print('jieba:')\n",
    "for w in words:\n",
    "    print(w.word, w.flag)\n",
    "print()\n",
    "\n",
    "print('pkuseg:')\n",
    "pos_seg = pkuseg.pkuseg(postag=True)\n",
    "words = pos_seg.cut(example)\n",
    "for w in words:\n",
    "    print(w[0], w[1])"
   ]
  },
  {
   "cell_type": "markdown",
   "metadata": {},
   "source": [
    "## 自定义词典"
   ]
  },
  {
   "cell_type": "markdown",
   "metadata": {},
   "source": [
    "pkuseg的词典格式是每行一个词\n",
    "\n",
    "jieba的词典格式是每行三个部分，分别为 词 词频 词性，后两者可省略"
   ]
  },
  {
   "cell_type": "code",
   "execution_count": 12,
   "metadata": {},
   "outputs": [
    {
     "name": "stderr",
     "output_type": "stream",
     "text": [
      "Building prefix dict from the default dictionary ...\n",
      "Loading model from cache C:\\Users\\Geoffrey\\AppData\\Local\\Temp\\jieba.cache\n",
      "Loading model cost 0.750 seconds.\n",
      "Prefix dict has been built succesfully.\n"
     ]
    }
   ],
   "source": [
    "jieba_seg = jieba.Tokenizer()\n",
    "#jieba_seg.load_userdict('02 user_dict.txt')\n",
    "jieba_seg.add_word('海南')\n",
    "jieba_seg.add_word('王军虎')"
   ]
  },
  {
   "cell_type": "code",
   "execution_count": 13,
   "metadata": {},
   "outputs": [],
   "source": [
    "custom_seg = pkuseg.pkuseg(user_dict='02 user_dict.txt')"
   ]
  },
  {
   "cell_type": "code",
   "execution_count": 14,
   "metadata": {},
   "outputs": [
    {
     "name": "stdout",
     "output_type": "stream",
     "text": [
      "input : 沿海南方向逃跑\n",
      "jieba : ['沿海', '南方', '向', '逃跑']\n",
      "pkuseg: ['沿', '海南', '方向', '逃跑']\n",
      "\n",
      "input : 他说的确实在理\n",
      "jieba : ['他', '说', '的', '确实', '在理']\n",
      "pkuseg: ['他', '说', '的', '确实', '在理']\n",
      "\n",
      "input : 谢霆锋和张柏芝离婚了\n",
      "jieba : ['谢霆锋', '和', '张柏芝', '离婚', '了']\n",
      "pkuseg: ['谢霆锋', '和', '张柏芝', '离婚', '了']\n",
      "\n",
      "input : 结婚的和尚未结婚的\n",
      "jieba : ['结婚', '的', '和', '尚未', '结婚', '的']\n",
      "pkuseg: ['结婚', '的', '和尚', '未', '结婚', '的']\n",
      "\n",
      "input : 提高产品质量\n",
      "jieba : ['提高', '产品质量']\n",
      "pkuseg: ['提高', '产品', '质量']\n",
      "\n",
      "input : 中外科学名著\n",
      "jieba : ['中外', '科学', '名著']\n",
      "pkuseg: ['中外', '科学', '名著']\n",
      "\n",
      "input : 北京大学生前来应聘\n",
      "jieba : ['北京', '大学生', '前来', '应聘']\n",
      "pkuseg: ['北京', '大学生', '前来', '应聘']\n",
      "\n",
      "input : 为人民服务\n",
      "jieba : ['为', '人民', '服务']\n",
      "pkuseg: ['为', '人民', '服务']\n",
      "\n",
      "input : 独立自主和平等互利的原则\n",
      "jieba : ['独立自主', '和', '平等互利', '的', '原则']\n",
      "pkuseg: ['独立自主', '和', '平等互利', '的', '原则']\n",
      "\n",
      "input : 为人民办公益\n",
      "jieba : ['为', '人民', '办', '公益']\n",
      "pkuseg: ['为', '人民', '办', '公益']\n",
      "\n",
      "input : 这事的确定不下来\n",
      "jieba : ['这事', '的', '确定', '不', '下来']\n",
      "pkuseg: ['这', '事', '的', '确定', '不', '下来']\n",
      "\n",
      "input : 这扇门把手\n",
      "jieba : ['这扇', '门把手']\n",
      "pkuseg: ['这', '扇', '门', '把手']\n",
      "\n",
      "input : 把手抬起来\n",
      "jieba : ['把手', '抬起', '来']\n",
      "pkuseg: ['把手', '抬', '起来']\n",
      "\n",
      "input : 学生会宣传部\n",
      "jieba : ['学生会', '宣传部']\n",
      "pkuseg: ['学生会', '宣传部']\n",
      "\n",
      "input : 学生会主动完成作业\n",
      "jieba : ['学生会', '主动', '完成', '作业']\n",
      "pkuseg: ['学生会', '主动', '完成', '作业']\n",
      "\n",
      "input : 学生会游戏\n",
      "jieba : ['学生会', '游戏']\n",
      "pkuseg: ['学生会', '游戏']\n",
      "\n",
      "input : 研究生活水平\n",
      "jieba : ['研究', '生活', '水平']\n",
      "pkuseg: ['研究', '生活', '水平']\n",
      "\n",
      "input : 中国有企业\n",
      "jieba : ['中国', '有', '企业']\n",
      "pkuseg: ['中国', '有', '企业']\n",
      "\n",
      "input : 我爱美国手球\n",
      "jieba : ['我', '爱', '美国', '手球']\n",
      "pkuseg: ['我', '爱', '美国', '手球']\n",
      "\n",
      "input : 中国喜欢狗\n",
      "jieba : ['中国', '喜欢', '狗']\n",
      "pkuseg: ['中国', '喜欢', '狗']\n",
      "\n",
      "input : 中国热爱狗\n",
      "jieba : ['中国', '热爱', '狗']\n",
      "pkuseg: ['中国', '热爱', '狗']\n",
      "\n",
      "input : 王军虎去广州了\n",
      "jieba : ['王军虎', '去', '广州', '了']\n",
      "pkuseg: ['王军虎', '去', '广州', '了']\n",
      "\n",
      "input : 王军虎头虎脑的\n",
      "jieba : ['王军', '虎头虎脑', '的']\n",
      "pkuseg: ['王军虎', '头', '虎脑', '的']\n",
      "\n",
      "input : 将军任命了一名中将\n",
      "jieba : ['将军', '任命', '了', '一名', '中将']\n",
      "pkuseg: ['将军', '任命', '了', '一', '名', '中将']\n",
      "\n",
      "input : 产量三年中将增长两倍\n",
      "jieba : ['产量', '三年', '中将', '增长', '两倍']\n",
      "pkuseg: ['产量', '三年', '中将', '增长', '两', '倍']\n",
      "\n",
      "input : 丰田太省了\n",
      "jieba : ['丰田', '太省', '了']\n",
      "pkuseg: ['丰田', '太', '省', '了']\n",
      "\n",
      "input : 我们中出了一个叛徒\n",
      "jieba : ['我们', '中出', '了', '一个', '叛徒']\n",
      "pkuseg: ['我们', '中', '出', '了', '一个', '叛徒']\n",
      "\n"
     ]
    }
   ],
   "source": [
    "compare_many(hard_examples, j=jieba_seg, s=custom_seg) #结巴加了自定义词典“海南”，还是分成了“沿海”？"
   ]
  },
  {
   "cell_type": "markdown",
   "metadata": {},
   "source": [
    "## 细领域分词模式"
   ]
  },
  {
   "cell_type": "code",
   "execution_count": 16,
   "metadata": {},
   "outputs": [
    {
     "name": "stderr",
     "output_type": "stream",
     "text": [
      "Downloading: \"https://github.com/lancopku/pkuseg-python/releases/download/v0.0.16/news.zip\" to C:\\Users\\Geoffrey/.pkuseg\\news.zip\n",
      "100%|███████████████████████████████████████████████████████████████████| 43767759/43767759 [20:23<00:00, 35766.89it/s]\n"
     ]
    }
   ],
   "source": [
    "news_seg = pkuseg.pkuseg(model_name='news')"
   ]
  },
  {
   "cell_type": "code",
   "execution_count": 17,
   "metadata": {},
   "outputs": [
    {
     "name": "stdout",
     "output_type": "stream",
     "text": [
      "input : 沿海南方向逃跑\n",
      "jieba : ['沿海', '南方', '向', '逃跑']\n",
      "pkuseg: ['沿', '海南', '方向', '逃跑']\n",
      "\n",
      "input : 他说的确实在理\n",
      "jieba : ['他', '说', '的', '确实', '在理']\n",
      "pkuseg: ['他', '说', '的', '确实', '在理']\n",
      "\n",
      "input : 谢霆锋和张柏芝离婚了\n",
      "jieba : ['谢霆锋', '和', '张柏芝', '离婚', '了']\n",
      "pkuseg: ['谢霆锋', '和', '张柏芝', '离婚', '了']\n",
      "\n",
      "input : 结婚的和尚未结婚的\n",
      "jieba : ['结婚', '的', '和', '尚未', '结婚', '的']\n",
      "pkuseg: ['结婚', '的', '和', '尚未', '结婚', '的']\n",
      "\n",
      "input : 提高产品质量\n",
      "jieba : ['提高', '产品质量']\n",
      "pkuseg: ['提高', '产品', '质量']\n",
      "\n",
      "input : 中外科学名著\n",
      "jieba : ['中外', '科学', '名著']\n",
      "pkuseg: ['中外', '科学', '名著']\n",
      "\n",
      "input : 北京大学生前来应聘\n",
      "jieba : ['北京', '大学生', '前来', '应聘']\n",
      "pkuseg: ['北京大学生', '前来', '应聘']\n",
      "\n",
      "input : 为人民服务\n",
      "jieba : ['为', '人民', '服务']\n",
      "pkuseg: ['为人民服务']\n",
      "\n",
      "input : 独立自主和平等互利的原则\n",
      "jieba : ['独立自主', '和', '平等互利', '的', '原则']\n",
      "pkuseg: ['独立自主', '和', '平等互利', '的', '原则']\n",
      "\n",
      "input : 为人民办公益\n",
      "jieba : ['为', '人民', '办', '公益']\n",
      "pkuseg: ['为', '人民', '办', '公益']\n",
      "\n",
      "input : 这事的确定不下来\n",
      "jieba : ['这事', '的', '确定', '不', '下来']\n",
      "pkuseg: ['这', '事', '的', '确定', '不', '下来']\n",
      "\n",
      "input : 这扇门把手\n",
      "jieba : ['这扇', '门把手']\n",
      "pkuseg: ['这', '扇门', '把手']\n",
      "\n",
      "input : 把手抬起来\n",
      "jieba : ['把手', '抬起', '来']\n",
      "pkuseg: ['把手', '抬', '起来']\n",
      "\n",
      "input : 学生会宣传部\n",
      "jieba : ['学生会', '宣传部']\n",
      "pkuseg: ['学生会宣传部']\n",
      "\n",
      "input : 学生会主动完成作业\n",
      "jieba : ['学生会', '主动', '完成', '作业']\n",
      "pkuseg: ['学生会', '主动', '完成', '作业']\n",
      "\n",
      "input : 学生会游戏\n",
      "jieba : ['学生会', '游戏']\n",
      "pkuseg: ['学生会', '游戏']\n",
      "\n",
      "input : 研究生活水平\n",
      "jieba : ['研究', '生活', '水平']\n",
      "pkuseg: ['研究', '生活水平']\n",
      "\n",
      "input : 中国有企业\n",
      "jieba : ['中国', '有', '企业']\n",
      "pkuseg: ['中国', '有', '企业']\n",
      "\n",
      "input : 我爱美国手球\n",
      "jieba : ['我', '爱', '美国', '手球']\n",
      "pkuseg: ['我', '爱', '美国', '手球']\n",
      "\n",
      "input : 中国喜欢狗\n",
      "jieba : ['中国', '喜欢', '狗']\n",
      "pkuseg: ['中国', '喜欢', '狗']\n",
      "\n",
      "input : 中国热爱狗\n",
      "jieba : ['中国', '热爱', '狗']\n",
      "pkuseg: ['中国', '热爱', '狗']\n",
      "\n",
      "input : 王军虎去广州了\n",
      "jieba : ['王军', '虎', '去', '广州', '了']\n",
      "pkuseg: ['王军虎', '去', '广州', '了']\n",
      "\n",
      "input : 王军虎头虎脑的\n",
      "jieba : ['王军', '虎头虎脑', '的']\n",
      "pkuseg: ['王军虎头虎脑', '的']\n",
      "\n",
      "input : 将军任命了一名中将\n",
      "jieba : ['将军', '任命', '了', '一名', '中将']\n",
      "pkuseg: ['将军', '任命', '了', '一', '名', '中将']\n",
      "\n",
      "input : 产量三年中将增长两倍\n",
      "jieba : ['产量', '三年', '中将', '增长', '两倍']\n",
      "pkuseg: ['产量', '三年', '中将', '增长', '两倍']\n",
      "\n",
      "input : 丰田太省了\n",
      "jieba : ['丰田', '太省', '了']\n",
      "pkuseg: ['丰田', '太', '省', '了']\n",
      "\n",
      "input : 我们中出了一个叛徒\n",
      "jieba : ['我们', '中出', '了', '一个', '叛徒']\n",
      "pkuseg: ['我们', '中', '出', '了', '一个', '叛徒']\n",
      "\n"
     ]
    }
   ],
   "source": [
    "compare_many(hard_examples, s=news_seg)"
   ]
  },
  {
   "cell_type": "markdown",
   "metadata": {},
   "source": [
    "## 文件分词\n",
    "\n",
    "\n",
    "对于文件分词，有两种方式：\n",
    "\n",
    "读入文件中的内容，然后进行分词，最后写回文件\n",
    "使用工具包提供的文件分词接口，一般会提供多进程/线程分词的功能，提高效率"
   ]
  },
  {
   "cell_type": "code",
   "execution_count": 18,
   "metadata": {},
   "outputs": [],
   "source": [
    "def read_file_then_segment(filename, segfunc):\n",
    "    with open(filename, 'r', encoding='utf8') as fin:\n",
    "        with open(filename + '.seg.txt', 'w', encoding='utf8') as fout:\n",
    "            for line in fin:\n",
    "                words = segfunc(line.rstrip('\\n'))\n",
    "                print(' '.join(words))\n",
    "                fout.write(' '.join(words))"
   ]
  },
  {
   "cell_type": "code",
   "execution_count": 19,
   "metadata": {},
   "outputs": [
    {
     "name": "stdout",
     "output_type": "stream",
     "text": [
      "从 这里 ， 感受 中国 速度 和 中国 质量 — — 记 外国 驻华使节 参访 北京 大兴 国际 机场\n",
      "\n",
      "　 新华社 北京 11 月 12 日电 （ 记者 成欣 、 翟翔 ） 外交部 和 民航局 12 日 组织 驻华使节 和 国际 组织 驻华 代表 参观 新近 投运 的 北京 大兴 国际 机场 。 使节 们 纷纷表示 ， 大兴 国际 机场 向 世界 展现 了 中国 速度 和 中国 质量 ， 为 全球 绿色 机场 建设 贡献 了 中国 智慧 。\n",
      "\n",
      "　 　 9 月 25 日 ， 外观 宛如 金色 凤凰 的 大兴 国际 机场 正式 投入 运营 ， 自 2014 年 12 月 开工 建设 至 首航 投运 仅 耗时 不到 5 年 ， 被 英国 《 卫报 》 列为 “ 新世界 七大 奇迹 ” 之 首 。\n",
      "\n",
      "　 　 阿尔及利亚 驻华大使 布 哈利法 表示 ， 最近 投入使用 的 大兴 国际 机场 是 中国 的 一个 标志性 工程 ， 短短 5 年内 建造 全球 最大 单体 航站楼 ， 从 外观设计 到 软件 服务 都 是 高水平 ， 中国 速度 与 品质 再 一次 令 世界 惊艳 。\n",
      "\n",
      "　 　 使节 和 代表 们 参观 了 机场 航站楼 和 要 客 服务区 ， 详细 了解 航站楼 规划设计 理念 、 建筑 特点 及 各类 设施 及 功能 ， 亲身 体验 国际 旅客 出入境 全 流程 ， 并 现场 感受 无人 值机 、 自助 查验 证件 及 自助 采集 生物 特征 系统 等 新型 智能 科技成果 给 旅客 带来 的 出行 便利 。\n",
      "\n",
      "　 　 在 阿富汗 驻华 公使衔 参赞 阿雷菲 看来 ， 大兴 国际 机场 是 一个 将 “ 以人为本 ” 的 精细 考虑 贯穿 在 各个方面 的 人性化 机场 ， “ 这使 机场 成为 真正 意义 上 的 综合 交通枢纽 ” 。\n",
      "\n",
      "　 　 “ 航站楼 的 双进 双出 模式 使 换乘 效率 大大提高 ， 全 流程 自助 、 无纸化 通行 、 刷 脸 登机 、 智能 安检 等 高效 便捷 出行 服务 是 世界 上 许多 国际 机场 没有 的 ， 我 在 这里 感到 非常 自由 和 舒适 。 ” 阿雷菲 说 。\n",
      "\n",
      "　 　 令 黎巴嫩 驻华大使 贾 布尔 印象 最 深刻 的 ， 是 机场 的 绿色 设计 理念 。 整个 机场 中 ， 她 最 喜欢 的 部分 是 8 根 巨大 的 C 型柱 和 航站楼 庞大 的 屋盖 。\n",
      "\n",
      "　 　 “ 这里 就 像是 一座 明亮 宽敞 的 花园 ， 有 舒适 的 屋顶 自然 采光 和 大量 的 绿色植物 ， 还有 不少 节能 的 高科技 技术 ， 我 非常 期待 来 这个 机场 乘机 。 ” 贾 布尔 说 。\n",
      "\n",
      "　 　 步行 到 五条 指廊 的 尽头 ， 分别 是 中国 园 、 瓷园 、 田园 、 丝园 、 茶园 5 座 开放式 花园 ， 雕梁画栋 的 中式 大门 、 小桥流水 、 长廊 水榭 … … 浓郁 的 中华 风范 随处可见 。\n",
      "\n",
      "　 　 走过 一块 题为 《 雅境 》 的 匾额 ， 驻华使节 来到 一个 中式 花园 。 格林纳达 驻华大使 戴艾美 不时 拍照 留影 。 “ 真没想到 在 如此 现代化 的 一个 机场 里 还 能 有 这样 古色古香 的 ‘ 秘密 花园 ’ ， 旅客 既 能 得到 充分 休憩 ， 又 能 感受 中国 文化 的 魅力 。 ” 戴艾美笑 道 。\n",
      "\n",
      "　 　 戴艾美 说 ， 大兴 国际 机场 彰显 了 中国 传统 美学 。 “ 这里 有 假山 ， 有 游廊 ， 有花 窗 ， 我 从来 没 在 哪个 机场 体验 过 如此 多 的 文化 元素 。 这些 满满的 ‘ 中国 建筑 风 ’ 时刻 提醒 着 我 ， 这里 是 中国 的 机场 。 ”\n",
      "\n",
      "　 　 德国 驻华大使 葛策 认为 ， 大兴 国际 机场 正式 投运 ， 对于 推动 京津冀 协同 发展 、 打造 全球 航空 枢纽 意义 重大 。\n",
      "\n",
      "　 　 葛策 说 ， 这座 新 机场 位于 京津冀 区域 的 中心 位置 ， 可 为 来自 四面八方 的 旅客 提供 服务 。 外围 基础设施 建设 不仅 将 服务 大兴 国际 机场 ， 更 加强 了 京津冀 区域 的 互联互通 和 合作 共享 。 “ 这是 一个 令人 印象 深刻 的 例子 ， 对 世界 其他 国家 的 建筑师 都 有 启示 作用 。 ”\n",
      "\n",
      "　 　 来自 70 多个 国家 和 国际 组织 的 120 余位 驻华使节 和 代表 参加 了 此次 参访 活动 。\n"
     ]
    }
   ],
   "source": [
    "read_file_then_segment('02 test_doc.txt', jieba.lcut)"
   ]
  },
  {
   "cell_type": "code",
   "execution_count": 20,
   "metadata": {},
   "outputs": [
    {
     "name": "stdout",
     "output_type": "stream",
     "text": [
      "从 这里 ， 感受 中国 速度 和 中国 质量 —— 记 外国 驻华 使节 参访 北京 大兴 国际 机场\n",
      "\n",
      "新华社 北京 11月 12日 电 （ 记者 成 欣 、 翟翔 ） 外交部 和 民航局 12日 组织 驻华 使节 和 国际 组织 驻华 代表 参观 新近 投运 的 北京 大兴 国际 机场 。 使 节们 纷纷 表示 ， 大兴 国际 机场 向 世界 展现 了 中国 速度 和 中国 质量 ， 为 全球 绿色 机场 建设 贡献 了 中国 智慧 。\n",
      "\n",
      "9月 25日 ， 外观 宛如 金色 凤凰 的 大兴 国际 机场 正式 投入 运营 ， 自 2014年 12月 开工 建设 至 首航 投运 仅 耗时 不 到 5 年 ， 被 英国 《 卫报 》 列为 “ 新世界 七大 奇迹 ” 之 首 。\n",
      "\n",
      "阿尔及利亚 驻华 大使 布哈利法 表示 ， 最近 投入 使用 的 大兴 国际 机场 是 中国 的 一个 标志性 工程 ， 短短 5 年内 建造 全球 最 大 单体 航站楼 ， 从 外观 设计 到 软件 服务 都 是 高 水平 ， 中国 速度 与 品质 再 一 次 令 世界 惊艳 。\n",
      "\n",
      "使节 和 代表 们 参观 了 机场 航站楼 和 要客 服务区 ， 详细 了解 航站楼 规划 设计 理念 、 建筑 特点 及 各类 设施 及 功能 ， 亲身 体验 国际 旅客 出入境 全 流程 ， 并 现场 感受 无 人 值机 、 自助 查验 证件 及 自助 采集 生物 特征 系统 等 新型 智能 科技 成果 给 旅客 带来 的 出行 便利 。\n",
      "\n",
      "在 阿富汗 驻华 公使衔 参赞 阿雷菲 看来 ， 大兴 国际 机场 是 一个 将 “ 以人为本 ” 的 精细 考虑 贯穿 在 各个 方面 的 人性化 机场 ， “ 这 使 机场 成为 真正 意义 上 的 综合 交通 枢纽 ” 。\n",
      "\n",
      "“ 航站楼 的 双进 双出 模式 使 换乘 效率 大大 提高 ， 全 流程 自助 、 无纸化 通行 、 刷脸 登机 、 智能 安检 等 高效 便捷 出行 服务 是 世界 上 许多 国际 机场 没有 的 ， 我 在 这里 感到 非常 自由 和 舒适 。 ” 阿雷菲 说 。\n",
      "\n",
      "令 黎巴嫩 驻华 大使 贾布尔 印象 最 深刻 的 ， 是 机场 的 绿色 设计 理念 。 整个 机场 中 ， 她 最 喜欢 的 部分 是 8 根 巨大 的 C型柱 和 航站楼 庞大 的 屋盖 。\n",
      "\n",
      "“ 这里 就 像 是 一 座 明亮 宽敞 的 花园 ， 有 舒适 的 屋顶 自然 采光 和 大量 的 绿色 植物 ， 还有 不少 节能 的 高科技 技术 ， 我 非常 期待 来 这个 机场 乘机 。 ” 贾布尔 说 。\n",
      "\n",
      "步行 到 五 条 指廊 的 尽头 ， 分别 是 中国园 、 瓷园 、 田园 、 丝园 、 茶园 5 座 开放式 花园 ， 雕梁画栋 的 中式 大门 、 小桥 流水 、 长廊 水榭 …… 浓郁 的 中华 风范 随处可见 。\n",
      "\n",
      "走过 一块 题 为 《 雅境 》 的 匾额 ， 驻华 使节 来到 一个 中式 花园 。 格林纳达 驻华 大使 戴 艾美 不时 拍照 留影 。 “ 真 没 想到 在 如此 现代化 的 一个 机场 里 还 能 有 这样 古色古香 的 ‘ 秘密 花园 ’ ， 旅客 既 能 得到 充分 休憩 ， 又 能 感受 中国 文化 的 魅力 。 ” 戴艾美笑道 。\n",
      "\n",
      "戴艾美 说 ， 大兴 国际 机场 彰显 了 中国 传统 美学 。 “ 这里 有 假山 ， 有 游廊 ， 有 花窗 ， 我 从来 没 在 哪个 机场 体验 过 如此 多 的 文化 元素 。 这些 满满 的 ‘ 中国 建筑风 ’ 时刻 提醒 着 我 ， 这里 是 中国 的 机场 。 ”\n",
      "\n",
      "德国 驻华 大使 葛策 认为 ， 大兴 国际 机场 正式 投运 ， 对于 推动 京津冀 协同 发展 、 打造 全球 航空 枢纽 意义 重大 。\n",
      "\n",
      "葛策 说 ， 这 座 新 机场 位于 京津冀 区域 的 中心 位置 ， 可 为 来自 四面八方 的 旅客 提供 服务 。 外围 基础 设施 建设 不仅 将 服务 大兴 国际 机场 ， 更 加强 了 京津冀 区域 的 互联 互通 和 合作 共享 。 “ 这是 一个 令 人 印象 深刻 的 例子 ， 对 世界 其他 国家 的 建筑师 都 有 启示 作用 。 ”\n",
      "\n",
      "来自 70多 个 国家 和 国际 组织 的 120余 位 驻华 使节 和 代表 参加 了 此次 参访 活动 。\n"
     ]
    }
   ],
   "source": [
    "read_file_then_segment('02 test_doc.txt', seg.cut)"
   ]
  },
  {
   "cell_type": "code",
   "execution_count": 21,
   "metadata": {},
   "outputs": [
    {
     "name": "stdout",
     "output_type": "stream",
     "text": [
      "total_time:\t5.622\n"
     ]
    }
   ],
   "source": [
    "pkuseg.test('02 test_doc.txt', '02 test_doc.txt.seg.txt', nthread = 2)"
   ]
  },
  {
   "cell_type": "code",
   "execution_count": 22,
   "metadata": {},
   "outputs": [
    {
     "name": "stdout",
     "output_type": "stream",
     "text": [
      "length = 1 : 52\n",
      "length = 2 : 54\n",
      "length = 3 : 7\n",
      "length = 4 : 2\n",
      "\n",
      "start training...\n",
      "\n",
      "reading training & test data...\n",
      "done! train/test data sizes: 27/27\n",
      "\n",
      "r: 1\n",
      "iter0  diff=1.00e+100  train-time(sec)=0.04  f-score=59.81%\n",
      "iter1  diff=1.00e+100  train-time(sec)=0.04  f-score=72.73%\n",
      "iter2  diff=2.03e-01  train-time(sec)=0.03  f-score=77.13%\n",
      "iter3  diff=1.70e-01  train-time(sec)=0.04  f-score=82.30%\n",
      "iter4  diff=1.46e-01  train-time(sec)=0.03  f-score=86.84%\n",
      "iter5  diff=1.27e-01  train-time(sec)=0.03  f-score=89.47%\n",
      "iter6  diff=1.12e-01  train-time(sec)=0.03  f-score=89.47%\n",
      "iter7  diff=9.98e-02  train-time(sec)=0.03  f-score=89.47%\n",
      "iter8  diff=8.98e-02  train-time(sec)=0.04  f-score=90.83%\n",
      "iter9  diff=8.14e-02  train-time(sec)=0.04  f-score=90.83%\n",
      "iter10  diff=8.26e-02  train-time(sec)=0.03  f-score=92.17%\n",
      "iter11  diff=4.33e-02  train-time(sec)=0.03  f-score=92.17%\n",
      "iter12  diff=2.77e-02  train-time(sec)=0.04  f-score=92.17%\n",
      "iter13  diff=1.84e-02  train-time(sec)=0.03  f-score=92.17%\n",
      "iter14  diff=1.29e-02  train-time(sec)=0.03  f-score=92.17%\n",
      "iter15  diff=9.08e-03  train-time(sec)=0.03  f-score=92.17%\n",
      "iter16  diff=6.54e-03  train-time(sec)=0.03  f-score=92.17%\n",
      "iter17  diff=4.79e-03  train-time(sec)=0.03  f-score=92.17%\n",
      "iter18  diff=3.53e-03  train-time(sec)=0.03  f-score=92.17%\n",
      "iter19  diff=2.61e-03  train-time(sec)=0.03  f-score=92.17%\n",
      "finished.\n",
      "Total time: 0.8517324924468994\n"
     ]
    }
   ],
   "source": [
    "pkuseg.train('02 train_doc.txt', '02 train_doc.txt', '02 save', init_model=None)"
   ]
  },
  {
   "cell_type": "markdown",
   "metadata": {},
   "source": [
    "## diff?  f-score?"
   ]
  },
  {
   "cell_type": "code",
   "execution_count": 23,
   "metadata": {},
   "outputs": [],
   "source": [
    "my_seg = pkuseg.pkuseg(model_name = '02 save')"
   ]
  },
  {
   "cell_type": "code",
   "execution_count": 24,
   "metadata": {},
   "outputs": [
    {
     "name": "stdout",
     "output_type": "stream",
     "text": [
      "input : 沿海南方向逃跑\n",
      "jieba : ['沿海', '南方', '向', '逃跑']\n",
      "pkuseg: ['沿', '海南', '方向', '逃跑']\n",
      "\n",
      "input : 他说的确实在理\n",
      "jieba : ['他', '说', '的', '确实', '在理']\n",
      "pkuseg: ['他说', '的', '确实', '在理']\n",
      "\n",
      "input : 谢霆锋和张柏芝离婚了\n",
      "jieba : ['谢霆锋', '和', '张柏芝', '离婚', '了']\n",
      "pkuseg: ['谢霆锋', '和', '张柏芝', '离婚', '了']\n",
      "\n",
      "input : 结婚的和尚未结婚的\n",
      "jieba : ['结婚', '的', '和', '尚未', '结婚', '的']\n",
      "pkuseg: ['结婚', '的', '和', '尚未', '结婚', '的']\n",
      "\n",
      "input : 提高产品质量\n",
      "jieba : ['提高', '产品质量']\n",
      "pkuseg: ['提高', '产品', '质量']\n",
      "\n",
      "input : 中外科学名著\n",
      "jieba : ['中外', '科学', '名著']\n",
      "pkuseg: ['中外', '科学', '名著']\n",
      "\n",
      "input : 北京大学生前来应聘\n",
      "jieba : ['北京', '大学生', '前来', '应聘']\n",
      "pkuseg: ['北京', '大学生', '前来', '应聘']\n",
      "\n",
      "input : 为人民服务\n",
      "jieba : ['为', '人民', '服务']\n",
      "pkuseg: ['为', '人民', '服务']\n",
      "\n",
      "input : 独立自主和平等互利的原则\n",
      "jieba : ['独立自主', '和', '平等互利', '的', '原则']\n",
      "pkuseg: ['独立', '自主', '和', '平等', '互利', '的', '原则']\n",
      "\n",
      "input : 为人民办公益\n",
      "jieba : ['为', '人民', '办', '公益']\n",
      "pkuseg: ['为', '人民', '办', '公益']\n",
      "\n",
      "input : 这事的确定不下来\n",
      "jieba : ['这事', '的', '确定', '不', '下来']\n",
      "pkuseg: ['这事', '的确', '定', '不', '下来']\n",
      "\n",
      "input : 这扇门把手\n",
      "jieba : ['这扇', '门把手']\n",
      "pkuseg: ['这', '扇', '门', '把手']\n",
      "\n",
      "input : 把手抬起来\n",
      "jieba : ['把手', '抬起', '来']\n",
      "pkuseg: ['把手', '抬', '起来']\n",
      "\n",
      "input : 学生会宣传部\n",
      "jieba : ['学生会', '宣传部']\n",
      "pkuseg: ['学生会', '宣传部']\n",
      "\n",
      "input : 学生会主动完成作业\n",
      "jieba : ['学生会', '主动', '完成', '作业']\n",
      "pkuseg: ['学生会', '主动', '完成', '作业']\n",
      "\n",
      "input : 学生会游戏\n",
      "jieba : ['学生会', '游戏']\n",
      "pkuseg: ['学生会', '游戏']\n",
      "\n",
      "input : 研究生活水平\n",
      "jieba : ['研究', '生活', '水平']\n",
      "pkuseg: ['研究', '生活', '水平']\n",
      "\n",
      "input : 中国有企业\n",
      "jieba : ['中国', '有', '企业']\n",
      "pkuseg: ['中国', '有', '企业']\n",
      "\n",
      "input : 我爱美国手球\n",
      "jieba : ['我', '爱', '美国', '手球']\n",
      "pkuseg: ['我爱', '美国', '手球']\n",
      "\n",
      "input : 中国喜欢狗\n",
      "jieba : ['中国', '喜欢', '狗']\n",
      "pkuseg: ['中国', '喜欢', '狗']\n",
      "\n",
      "input : 中国热爱狗\n",
      "jieba : ['中国', '热爱', '狗']\n",
      "pkuseg: ['中国', '热爱', '狗']\n",
      "\n",
      "input : 王军虎去广州了\n",
      "jieba : ['王军', '虎', '去', '广州', '了']\n",
      "pkuseg: ['王军虎', '去', '广州', '了']\n",
      "\n",
      "input : 王军虎头虎脑的\n",
      "jieba : ['王军', '虎头虎脑', '的']\n",
      "pkuseg: ['王军', '虎头虎脑', '的']\n",
      "\n",
      "input : 将军任命了一名中将\n",
      "jieba : ['将军', '任命', '了', '一名', '中将']\n",
      "pkuseg: ['将军', '任命', '了', '一', '名', '中将']\n",
      "\n",
      "input : 产量三年中将增长两倍\n",
      "jieba : ['产量', '三年', '中将', '增长', '两倍']\n",
      "pkuseg: ['产量', '三年', '中将', '增长', '两', '倍']\n",
      "\n",
      "input : 丰田太省了\n",
      "jieba : ['丰田', '太省', '了']\n",
      "pkuseg: ['丰田', '太', '省', '了']\n",
      "\n",
      "input : 我们中出了一个叛徒\n",
      "jieba : ['我们', '中出', '了', '一个', '叛徒']\n",
      "pkuseg: ['我们', '中', '出', '了', '一个', '叛徒']\n",
      "\n"
     ]
    }
   ],
   "source": [
    "compare_many(hard_examples, s=my_seg)"
   ]
  },
  {
   "cell_type": "markdown",
   "metadata": {},
   "source": [
    "找了好久，终于找到了这个，现在终于找到了，开心！\n",
    "\n",
    "2019年1113日《人工智能与自然语言》课程，孙栩主讲词向量，任宣丞同学专门讲解了这个pkuseg。\n",
    "20191115同学分享了course的内容，很开心\n",
    "\n",
    "周启红于北大理科教学楼，2019年1115"
   ]
  },
  {
   "cell_type": "code",
   "execution_count": null,
   "metadata": {},
   "outputs": [],
   "source": []
  }
 ],
 "metadata": {
  "kernelspec": {
   "display_name": "Python 3",
   "language": "python",
   "name": "python3"
  },
  "language_info": {
   "codemirror_mode": {
    "name": "ipython",
    "version": 3
   },
   "file_extension": ".py",
   "mimetype": "text/x-python",
   "name": "python",
   "nbconvert_exporter": "python",
   "pygments_lexer": "ipython3",
   "version": "3.7.3"
  }
 },
 "nbformat": 4,
 "nbformat_minor": 2
}
